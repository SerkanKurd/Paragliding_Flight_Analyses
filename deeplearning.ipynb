{
 "cells": [
  {
   "cell_type": "code",
   "execution_count": 11,
   "id": "a12211fc",
   "metadata": {},
   "outputs": [
    {
     "name": "stdout",
     "output_type": "stream",
     "text": [
      "<class 'pandas.core.frame.DataFrame'>\n",
      "RangeIndex: 3477 entries, 0 to 3476\n",
      "Data columns (total 16 columns):\n",
      " #   Column               Non-Null Count  Dtype         \n",
      "---  ------               --------------  -----         \n",
      " 0   date                 3477 non-null   datetime64[ns]\n",
      " 1   latitude             3477 non-null   float64       \n",
      " 2   longitude            3477 non-null   float64       \n",
      " 3   gps_altitude_m       3477 non-null   int64         \n",
      " 4   pressure_altitude_m  3477 non-null   int64         \n",
      " 5   elapsed_time         3477 non-null   float64       \n",
      " 6   climb_rate_m/s       3477 non-null   float64       \n",
      " 7   speed_km/s           3477 non-null   float64       \n",
      " 8   bearing              3477 non-null   int64         \n",
      " 9   glide_ratio          3477 non-null   float64       \n",
      " 10  temp                 3477 non-null   float64       \n",
      " 11  pressure             3477 non-null   float64       \n",
      " 12  humidity             3477 non-null   float64       \n",
      " 13  dew_point            3477 non-null   float64       \n",
      " 14  wind_speed           3477 non-null   float64       \n",
      " 15  wind_deg             3477 non-null   float64       \n",
      "dtypes: datetime64[ns](1), float64(12), int64(3)\n",
      "memory usage: 434.8 KB\n"
     ]
    },
    {
     "data": {
      "application/vnd.microsoft.datawrangler.viewer.v0+json": {
       "columns": [
        {
         "name": "index",
         "rawType": "int64",
         "type": "integer"
        },
        {
         "name": "date",
         "rawType": "datetime64[ns]",
         "type": "datetime"
        },
        {
         "name": "latitude",
         "rawType": "float64",
         "type": "float"
        },
        {
         "name": "longitude",
         "rawType": "float64",
         "type": "float"
        },
        {
         "name": "gps_altitude_m",
         "rawType": "int64",
         "type": "integer"
        },
        {
         "name": "pressure_altitude_m",
         "rawType": "int64",
         "type": "integer"
        },
        {
         "name": "elapsed_time",
         "rawType": "float64",
         "type": "float"
        },
        {
         "name": "climb_rate_m/s",
         "rawType": "float64",
         "type": "float"
        },
        {
         "name": "speed_km/s",
         "rawType": "float64",
         "type": "float"
        },
        {
         "name": "bearing",
         "rawType": "int64",
         "type": "integer"
        },
        {
         "name": "glide_ratio",
         "rawType": "float64",
         "type": "float"
        },
        {
         "name": "temp",
         "rawType": "float64",
         "type": "float"
        },
        {
         "name": "pressure",
         "rawType": "float64",
         "type": "float"
        },
        {
         "name": "humidity",
         "rawType": "float64",
         "type": "float"
        },
        {
         "name": "dew_point",
         "rawType": "float64",
         "type": "float"
        },
        {
         "name": "wind_speed",
         "rawType": "float64",
         "type": "float"
        },
        {
         "name": "wind_deg",
         "rawType": "float64",
         "type": "float"
        }
       ],
       "conversionMethod": "pd.DataFrame",
       "ref": "8edeeecb-2bd0-476a-8142-876329822799",
       "rows": [
        [
         "0",
         "2013-10-26 08:47:10",
         "36.53866666666666",
         "29.16873333333333",
         "1635",
         "1695",
         "10.0",
         "0.0",
         "0.0",
         "242",
         "0.0",
         "13.48",
         "1018.0",
         "31.0",
         "-2.92",
         "1.0",
         "290.0"
        ],
        [
         "1",
         "2013-10-26 08:47:20",
         "36.5384",
         "29.167916666666667",
         "1625",
         "1684",
         "20.0",
         "-1.0",
         "28.400413309043643",
         "247",
         "7.889003696956567",
         "13.48",
         "1018.0",
         "31.0",
         "-2.92",
         "1.0",
         "290.0"
        ],
        [
         "2",
         "2013-10-26 08:47:30",
         "36.538266666666665",
         "29.16695",
         "1617",
         "1676",
         "30.0",
         "-0.8",
         "31.61427550955676",
         "260",
         "10.977178996373874",
         "13.48",
         "1018.0",
         "31.0",
         "-2.92",
         "1.0",
         "290.0"
        ],
        [
         "3",
         "2013-10-26 08:47:40",
         "36.53868333333333",
         "29.1661",
         "1618",
         "1676",
         "40.0",
         "0.1",
         "32.060870006639085",
         "301",
         "89.05797224066413",
         "13.48",
         "1018.0",
         "31.0",
         "-2.92",
         "1.0",
         "290.0"
        ],
        [
         "4",
         "2013-10-26 08:47:50",
         "36.53928333333333",
         "29.16563333333333",
         "1627",
         "1686",
         "50.0",
         "0.9",
         "28.299158660370388",
         "327",
         "8.734308228509379",
         "13.48",
         "1018.0",
         "31.0",
         "-2.92",
         "1.0",
         "290.0"
        ]
       ],
       "shape": {
        "columns": 16,
        "rows": 5
       }
      },
      "text/html": [
       "<div>\n",
       "<style scoped>\n",
       "    .dataframe tbody tr th:only-of-type {\n",
       "        vertical-align: middle;\n",
       "    }\n",
       "\n",
       "    .dataframe tbody tr th {\n",
       "        vertical-align: top;\n",
       "    }\n",
       "\n",
       "    .dataframe thead th {\n",
       "        text-align: right;\n",
       "    }\n",
       "</style>\n",
       "<table border=\"1\" class=\"dataframe\">\n",
       "  <thead>\n",
       "    <tr style=\"text-align: right;\">\n",
       "      <th></th>\n",
       "      <th>date</th>\n",
       "      <th>latitude</th>\n",
       "      <th>longitude</th>\n",
       "      <th>gps_altitude_m</th>\n",
       "      <th>pressure_altitude_m</th>\n",
       "      <th>elapsed_time</th>\n",
       "      <th>climb_rate_m/s</th>\n",
       "      <th>speed_km/s</th>\n",
       "      <th>bearing</th>\n",
       "      <th>glide_ratio</th>\n",
       "      <th>temp</th>\n",
       "      <th>pressure</th>\n",
       "      <th>humidity</th>\n",
       "      <th>dew_point</th>\n",
       "      <th>wind_speed</th>\n",
       "      <th>wind_deg</th>\n",
       "    </tr>\n",
       "  </thead>\n",
       "  <tbody>\n",
       "    <tr>\n",
       "      <th>0</th>\n",
       "      <td>2013-10-26 08:47:10</td>\n",
       "      <td>36.538667</td>\n",
       "      <td>29.168733</td>\n",
       "      <td>1635</td>\n",
       "      <td>1695</td>\n",
       "      <td>10.0</td>\n",
       "      <td>0.0</td>\n",
       "      <td>0.000000</td>\n",
       "      <td>242</td>\n",
       "      <td>0.000000</td>\n",
       "      <td>13.48</td>\n",
       "      <td>1018.0</td>\n",
       "      <td>31.0</td>\n",
       "      <td>-2.92</td>\n",
       "      <td>1.0</td>\n",
       "      <td>290.0</td>\n",
       "    </tr>\n",
       "    <tr>\n",
       "      <th>1</th>\n",
       "      <td>2013-10-26 08:47:20</td>\n",
       "      <td>36.538400</td>\n",
       "      <td>29.167917</td>\n",
       "      <td>1625</td>\n",
       "      <td>1684</td>\n",
       "      <td>20.0</td>\n",
       "      <td>-1.0</td>\n",
       "      <td>28.400413</td>\n",
       "      <td>247</td>\n",
       "      <td>7.889004</td>\n",
       "      <td>13.48</td>\n",
       "      <td>1018.0</td>\n",
       "      <td>31.0</td>\n",
       "      <td>-2.92</td>\n",
       "      <td>1.0</td>\n",
       "      <td>290.0</td>\n",
       "    </tr>\n",
       "    <tr>\n",
       "      <th>2</th>\n",
       "      <td>2013-10-26 08:47:30</td>\n",
       "      <td>36.538267</td>\n",
       "      <td>29.166950</td>\n",
       "      <td>1617</td>\n",
       "      <td>1676</td>\n",
       "      <td>30.0</td>\n",
       "      <td>-0.8</td>\n",
       "      <td>31.614276</td>\n",
       "      <td>260</td>\n",
       "      <td>10.977179</td>\n",
       "      <td>13.48</td>\n",
       "      <td>1018.0</td>\n",
       "      <td>31.0</td>\n",
       "      <td>-2.92</td>\n",
       "      <td>1.0</td>\n",
       "      <td>290.0</td>\n",
       "    </tr>\n",
       "    <tr>\n",
       "      <th>3</th>\n",
       "      <td>2013-10-26 08:47:40</td>\n",
       "      <td>36.538683</td>\n",
       "      <td>29.166100</td>\n",
       "      <td>1618</td>\n",
       "      <td>1676</td>\n",
       "      <td>40.0</td>\n",
       "      <td>0.1</td>\n",
       "      <td>32.060870</td>\n",
       "      <td>301</td>\n",
       "      <td>89.057972</td>\n",
       "      <td>13.48</td>\n",
       "      <td>1018.0</td>\n",
       "      <td>31.0</td>\n",
       "      <td>-2.92</td>\n",
       "      <td>1.0</td>\n",
       "      <td>290.0</td>\n",
       "    </tr>\n",
       "    <tr>\n",
       "      <th>4</th>\n",
       "      <td>2013-10-26 08:47:50</td>\n",
       "      <td>36.539283</td>\n",
       "      <td>29.165633</td>\n",
       "      <td>1627</td>\n",
       "      <td>1686</td>\n",
       "      <td>50.0</td>\n",
       "      <td>0.9</td>\n",
       "      <td>28.299159</td>\n",
       "      <td>327</td>\n",
       "      <td>8.734308</td>\n",
       "      <td>13.48</td>\n",
       "      <td>1018.0</td>\n",
       "      <td>31.0</td>\n",
       "      <td>-2.92</td>\n",
       "      <td>1.0</td>\n",
       "      <td>290.0</td>\n",
       "    </tr>\n",
       "  </tbody>\n",
       "</table>\n",
       "</div>"
      ],
      "text/plain": [
       "                 date   latitude  longitude  gps_altitude_m  \\\n",
       "0 2013-10-26 08:47:10  36.538667  29.168733            1635   \n",
       "1 2013-10-26 08:47:20  36.538400  29.167917            1625   \n",
       "2 2013-10-26 08:47:30  36.538267  29.166950            1617   \n",
       "3 2013-10-26 08:47:40  36.538683  29.166100            1618   \n",
       "4 2013-10-26 08:47:50  36.539283  29.165633            1627   \n",
       "\n",
       "   pressure_altitude_m  elapsed_time  climb_rate_m/s  speed_km/s  bearing  \\\n",
       "0                 1695          10.0             0.0    0.000000      242   \n",
       "1                 1684          20.0            -1.0   28.400413      247   \n",
       "2                 1676          30.0            -0.8   31.614276      260   \n",
       "3                 1676          40.0             0.1   32.060870      301   \n",
       "4                 1686          50.0             0.9   28.299159      327   \n",
       "\n",
       "   glide_ratio   temp  pressure  humidity  dew_point  wind_speed  wind_deg  \n",
       "0     0.000000  13.48    1018.0      31.0      -2.92         1.0     290.0  \n",
       "1     7.889004  13.48    1018.0      31.0      -2.92         1.0     290.0  \n",
       "2    10.977179  13.48    1018.0      31.0      -2.92         1.0     290.0  \n",
       "3    89.057972  13.48    1018.0      31.0      -2.92         1.0     290.0  \n",
       "4     8.734308  13.48    1018.0      31.0      -2.92         1.0     290.0  "
      ]
     },
     "execution_count": 11,
     "metadata": {},
     "output_type": "execute_result"
    }
   ],
   "source": [
    "import numpy as np\n",
    "import pandas as pd\n",
    "import matplotlib.pyplot as plt\n",
    "from tensorflow.keras.models import Sequential\n",
    "from tensorflow.keras.layers import Dense, LSTM, Dropout\n",
    "from sklearn.model_selection import train_test_split\n",
    "\n",
    "import pandas as pd\n",
    "data = pd.read_csv(\"data\\\\flight_data_processed.csv\")\n",
    "\n",
    "data[\"date\"] = pd.to_datetime(data[\"date\"])\n",
    "data.info()\n",
    "data.head()"
   ]
  },
  {
   "cell_type": "code",
   "execution_count": 12,
   "id": "d7744265",
   "metadata": {},
   "outputs": [
    {
     "name": "stderr",
     "output_type": "stream",
     "text": [
      "e:\\Wolf\\Belgeler\\Projelerim\\Paragliding_Flight_Analyses\\.venv\\lib\\site-packages\\keras\\src\\layers\\core\\dense.py:87: UserWarning: Do not pass an `input_shape`/`input_dim` argument to a layer. When using Sequential models, prefer using an `Input(shape)` object as the first layer in the model instead.\n",
      "  super().__init__(activity_regularizer=activity_regularizer, **kwargs)\n"
     ]
    }
   ],
   "source": [
    "# Prepare features\n",
    "features = data.drop(['date'], axis=1)  # adjust columns as needed\n",
    "features = (features - features.mean()) / features.std()  # normalize\n",
    "\n",
    "# Split data\n",
    "X_train, X_test = train_test_split(features, test_size=0.2, shuffle=False)  # keep time order\n",
    "\n",
    "# Adjust model\n",
    "model = Sequential([\n",
    "    Dense(64, activation='relu', input_shape=(features.shape[1],)),\n",
    "    Dropout(0.3),  # reduced dropout\n",
    "    Dense(32, activation='relu'),\n",
    "    Dense(1)\n",
    "])\n"
   ]
  }
 ],
 "metadata": {
  "kernelspec": {
   "display_name": ".venv",
   "language": "python",
   "name": "python3"
  },
  "language_info": {
   "codemirror_mode": {
    "name": "ipython",
    "version": 3
   },
   "file_extension": ".py",
   "mimetype": "text/x-python",
   "name": "python",
   "nbconvert_exporter": "python",
   "pygments_lexer": "ipython3",
   "version": "3.10.11"
  }
 },
 "nbformat": 4,
 "nbformat_minor": 5
}
