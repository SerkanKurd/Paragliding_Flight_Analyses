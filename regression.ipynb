{
  "cells": [
    {
      "cell_type": "code",
      "execution_count": 25,
      "metadata": {
        "id": "1rRo8oNqZ-Rj"
      },
      "outputs": [],
      "source": [
        "import matplotlib.pyplot as plt\n",
        "import numpy as np\n",
        "import pandas as pd\n",
        "import seaborn as sns\n",
        "import os\n",
        "import tensorflow as tf\n",
        "from tensorflow import keras\n",
        "from tensorflow.keras import layers\n",
        "\n",
        "# Make NumPy printouts easier to read.\n",
        "np.set_printoptions(precision=3, suppress=True)"
      ]
    },
    {
      "cell_type": "code",
      "execution_count": 26,
      "metadata": {
        "id": "CiX2FI4gZtTt"
      },
      "outputs": [
        {
          "name": "stderr",
          "output_type": "stream",
          "text": [
            "/var/folders/ss/5qhyykzn7ws047pz5bmmgw1r0000gn/T/ipykernel_4795/2147613681.py:1: DtypeWarning: Columns (2) have mixed types. Specify dtype option on import or set low_memory=False.\n",
            "  raw_dataset = pd.read_csv(os.path.join(\"data\", \"flight_data_processed.csv\"))\n"
          ]
        },
        {
          "data": {
            "application/vnd.microsoft.datawrangler.viewer.v0+json": {
              "columns": [
                {
                  "name": "index",
                  "rawType": "int64",
                  "type": "integer"
                },
                {
                  "name": "gps_altitude_m",
                  "rawType": "int64",
                  "type": "integer"
                },
                {
                  "name": "speed_km/s",
                  "rawType": "float64",
                  "type": "float"
                },
                {
                  "name": "climb_m",
                  "rawType": "float64",
                  "type": "float"
                },
                {
                  "name": "climb_m(delta)",
                  "rawType": "float64",
                  "type": "float"
                },
                {
                  "name": "climb_rate_m/s",
                  "rawType": "float64",
                  "type": "float"
                },
                {
                  "name": "bearing",
                  "rawType": "int64",
                  "type": "integer"
                },
                {
                  "name": "delta_bearing",
                  "rawType": "float64",
                  "type": "float"
                },
                {
                  "name": "glide_ratio",
                  "rawType": "float64",
                  "type": "float"
                },
                {
                  "name": "elapsed_time",
                  "rawType": "float64",
                  "type": "float"
                },
                {
                  "name": "temp",
                  "rawType": "float64",
                  "type": "float"
                },
                {
                  "name": "pressure",
                  "rawType": "float64",
                  "type": "float"
                },
                {
                  "name": "humidity",
                  "rawType": "float64",
                  "type": "float"
                },
                {
                  "name": "dew_point",
                  "rawType": "float64",
                  "type": "float"
                },
                {
                  "name": "wind_speed",
                  "rawType": "float64",
                  "type": "float"
                },
                {
                  "name": "wind_deg",
                  "rawType": "float64",
                  "type": "float"
                },
                {
                  "name": "zone",
                  "rawType": "bool",
                  "type": "boolean"
                }
              ],
              "conversionMethod": "pd.DataFrame",
              "ref": "79e4af2d-1348-4408-bb60-f2ed2a423202",
              "rows": [
                [
                  "0",
                  "1115",
                  "12.21861451095671",
                  "0.0",
                  "-3.0",
                  "0.0",
                  "303",
                  "67.0",
                  "0.0",
                  "0.0",
                  "26.69",
                  "1010.0",
                  "37.0",
                  "10.81",
                  "3.38",
                  "306.0",
                  "False"
                ],
                [
                  "1",
                  "1115",
                  "25.606487559868736",
                  "0.0",
                  "-3.0",
                  "0.0",
                  "270",
                  "33.0",
                  "0.0",
                  "1.0",
                  "26.69",
                  "1010.0",
                  "37.0",
                  "10.81",
                  "3.38",
                  "306.0",
                  "False"
                ],
                [
                  "2",
                  "1115",
                  "20.48519004964192",
                  "0.0",
                  "-3.0",
                  "0.0",
                  "270",
                  "0.0",
                  "0.0",
                  "2.0",
                  "26.69",
                  "1010.0",
                  "37.0",
                  "10.81",
                  "3.38",
                  "306.0",
                  "False"
                ],
                [
                  "3",
                  "1116",
                  "25.606487562052077",
                  "1.0",
                  "-2.0",
                  "1.0",
                  "270",
                  "0.0",
                  "7.112913211681133",
                  "3.0",
                  "26.69",
                  "1010.0",
                  "37.0",
                  "10.81",
                  "3.38",
                  "306.0",
                  "True"
                ],
                [
                  "4",
                  "1117",
                  "21.541278319144215",
                  "1.0",
                  "-1.0",
                  "1.0",
                  "288",
                  "18.0",
                  "5.983688421984504",
                  "4.0",
                  "26.69",
                  "1010.0",
                  "37.0",
                  "10.81",
                  "3.38",
                  "306.0",
                  "True"
                ]
              ],
              "shape": {
                "columns": 16,
                "rows": 5
              }
            },
            "text/html": [
              "<div>\n",
              "<style scoped>\n",
              "    .dataframe tbody tr th:only-of-type {\n",
              "        vertical-align: middle;\n",
              "    }\n",
              "\n",
              "    .dataframe tbody tr th {\n",
              "        vertical-align: top;\n",
              "    }\n",
              "\n",
              "    .dataframe thead th {\n",
              "        text-align: right;\n",
              "    }\n",
              "</style>\n",
              "<table border=\"1\" class=\"dataframe\">\n",
              "  <thead>\n",
              "    <tr style=\"text-align: right;\">\n",
              "      <th></th>\n",
              "      <th>gps_altitude_m</th>\n",
              "      <th>speed_km/s</th>\n",
              "      <th>climb_m</th>\n",
              "      <th>climb_m(delta)</th>\n",
              "      <th>climb_rate_m/s</th>\n",
              "      <th>bearing</th>\n",
              "      <th>delta_bearing</th>\n",
              "      <th>glide_ratio</th>\n",
              "      <th>elapsed_time</th>\n",
              "      <th>temp</th>\n",
              "      <th>pressure</th>\n",
              "      <th>humidity</th>\n",
              "      <th>dew_point</th>\n",
              "      <th>wind_speed</th>\n",
              "      <th>wind_deg</th>\n",
              "      <th>zone</th>\n",
              "    </tr>\n",
              "  </thead>\n",
              "  <tbody>\n",
              "    <tr>\n",
              "      <th>0</th>\n",
              "      <td>1115</td>\n",
              "      <td>12.218615</td>\n",
              "      <td>0.0</td>\n",
              "      <td>-3.0</td>\n",
              "      <td>0.0</td>\n",
              "      <td>303</td>\n",
              "      <td>67.0</td>\n",
              "      <td>0.000000</td>\n",
              "      <td>0.0</td>\n",
              "      <td>26.69</td>\n",
              "      <td>1010.0</td>\n",
              "      <td>37.0</td>\n",
              "      <td>10.81</td>\n",
              "      <td>3.38</td>\n",
              "      <td>306.0</td>\n",
              "      <td>False</td>\n",
              "    </tr>\n",
              "    <tr>\n",
              "      <th>1</th>\n",
              "      <td>1115</td>\n",
              "      <td>25.606488</td>\n",
              "      <td>0.0</td>\n",
              "      <td>-3.0</td>\n",
              "      <td>0.0</td>\n",
              "      <td>270</td>\n",
              "      <td>33.0</td>\n",
              "      <td>0.000000</td>\n",
              "      <td>1.0</td>\n",
              "      <td>26.69</td>\n",
              "      <td>1010.0</td>\n",
              "      <td>37.0</td>\n",
              "      <td>10.81</td>\n",
              "      <td>3.38</td>\n",
              "      <td>306.0</td>\n",
              "      <td>False</td>\n",
              "    </tr>\n",
              "    <tr>\n",
              "      <th>2</th>\n",
              "      <td>1115</td>\n",
              "      <td>20.485190</td>\n",
              "      <td>0.0</td>\n",
              "      <td>-3.0</td>\n",
              "      <td>0.0</td>\n",
              "      <td>270</td>\n",
              "      <td>0.0</td>\n",
              "      <td>0.000000</td>\n",
              "      <td>2.0</td>\n",
              "      <td>26.69</td>\n",
              "      <td>1010.0</td>\n",
              "      <td>37.0</td>\n",
              "      <td>10.81</td>\n",
              "      <td>3.38</td>\n",
              "      <td>306.0</td>\n",
              "      <td>False</td>\n",
              "    </tr>\n",
              "    <tr>\n",
              "      <th>3</th>\n",
              "      <td>1116</td>\n",
              "      <td>25.606488</td>\n",
              "      <td>1.0</td>\n",
              "      <td>-2.0</td>\n",
              "      <td>1.0</td>\n",
              "      <td>270</td>\n",
              "      <td>0.0</td>\n",
              "      <td>7.112913</td>\n",
              "      <td>3.0</td>\n",
              "      <td>26.69</td>\n",
              "      <td>1010.0</td>\n",
              "      <td>37.0</td>\n",
              "      <td>10.81</td>\n",
              "      <td>3.38</td>\n",
              "      <td>306.0</td>\n",
              "      <td>True</td>\n",
              "    </tr>\n",
              "    <tr>\n",
              "      <th>4</th>\n",
              "      <td>1117</td>\n",
              "      <td>21.541278</td>\n",
              "      <td>1.0</td>\n",
              "      <td>-1.0</td>\n",
              "      <td>1.0</td>\n",
              "      <td>288</td>\n",
              "      <td>18.0</td>\n",
              "      <td>5.983688</td>\n",
              "      <td>4.0</td>\n",
              "      <td>26.69</td>\n",
              "      <td>1010.0</td>\n",
              "      <td>37.0</td>\n",
              "      <td>10.81</td>\n",
              "      <td>3.38</td>\n",
              "      <td>306.0</td>\n",
              "      <td>True</td>\n",
              "    </tr>\n",
              "  </tbody>\n",
              "</table>\n",
              "</div>"
            ],
            "text/plain": [
              "   gps_altitude_m  speed_km/s  climb_m  climb_m(delta)  climb_rate_m/s  \\\n",
              "0            1115   12.218615      0.0            -3.0             0.0   \n",
              "1            1115   25.606488      0.0            -3.0             0.0   \n",
              "2            1115   20.485190      0.0            -3.0             0.0   \n",
              "3            1116   25.606488      1.0            -2.0             1.0   \n",
              "4            1117   21.541278      1.0            -1.0             1.0   \n",
              "\n",
              "   bearing  delta_bearing  glide_ratio  elapsed_time   temp  pressure  \\\n",
              "0      303           67.0     0.000000           0.0  26.69    1010.0   \n",
              "1      270           33.0     0.000000           1.0  26.69    1010.0   \n",
              "2      270            0.0     0.000000           2.0  26.69    1010.0   \n",
              "3      270            0.0     7.112913           3.0  26.69    1010.0   \n",
              "4      288           18.0     5.983688           4.0  26.69    1010.0   \n",
              "\n",
              "   humidity  dew_point  wind_speed  wind_deg   zone  \n",
              "0      37.0      10.81        3.38     306.0  False  \n",
              "1      37.0      10.81        3.38     306.0  False  \n",
              "2      37.0      10.81        3.38     306.0  False  \n",
              "3      37.0      10.81        3.38     306.0   True  \n",
              "4      37.0      10.81        3.38     306.0   True  "
            ]
          },
          "execution_count": 26,
          "metadata": {},
          "output_type": "execute_result"
        }
      ],
      "source": [
        "raw_dataset = pd.read_csv(os.path.join(\"data\", \"flight_data_processed.csv\"))\n",
        "raw_dataset[\"zone\"] = raw_dataset[\"zone\"].apply(lambda x: True if x == \"thermal\" else False)\n",
        "raw_dataset = raw_dataset[[\"gps_altitude_m\",\"speed_km/s\",\"climb_m\",\"climb_m(delta)\",\"climb_rate_m/s\",\"bearing\",\"delta_bearing\",\"glide_ratio\",\"elapsed_time\",\"temp\",\"pressure\",\"humidity\",\"dew_point\",\"wind_speed\",\"wind_deg\", \"zone\"]]\n",
        "dataset = raw_dataset.copy()\n",
        "dataset.head()"
      ]
    },
    {
      "cell_type": "code",
      "execution_count": 27,
      "metadata": {},
      "outputs": [
        {
          "data": {
            "application/vnd.microsoft.datawrangler.viewer.v0+json": {
              "columns": [
                {
                  "name": "index",
                  "rawType": "object",
                  "type": "string"
                },
                {
                  "name": "gps_altitude_m",
                  "rawType": "float64",
                  "type": "float"
                },
                {
                  "name": "speed_km/s",
                  "rawType": "float64",
                  "type": "float"
                },
                {
                  "name": "climb_m",
                  "rawType": "float64",
                  "type": "float"
                },
                {
                  "name": "climb_m(delta)",
                  "rawType": "float64",
                  "type": "float"
                },
                {
                  "name": "climb_rate_m/s",
                  "rawType": "float64",
                  "type": "float"
                },
                {
                  "name": "bearing",
                  "rawType": "float64",
                  "type": "float"
                },
                {
                  "name": "delta_bearing",
                  "rawType": "float64",
                  "type": "float"
                },
                {
                  "name": "glide_ratio",
                  "rawType": "float64",
                  "type": "float"
                },
                {
                  "name": "elapsed_time",
                  "rawType": "float64",
                  "type": "float"
                },
                {
                  "name": "temp",
                  "rawType": "float64",
                  "type": "float"
                },
                {
                  "name": "pressure",
                  "rawType": "float64",
                  "type": "float"
                },
                {
                  "name": "humidity",
                  "rawType": "float64",
                  "type": "float"
                },
                {
                  "name": "dew_point",
                  "rawType": "float64",
                  "type": "float"
                },
                {
                  "name": "wind_speed",
                  "rawType": "float64",
                  "type": "float"
                },
                {
                  "name": "wind_deg",
                  "rawType": "float64",
                  "type": "float"
                }
              ],
              "conversionMethod": "pd.DataFrame",
              "ref": "360d9723-5ec4-4a94-8041-8fbf8fba4426",
              "rows": [
                [
                  "count",
                  "173943.0",
                  "173943.0",
                  "173943.0",
                  "173943.0",
                  "173943.0",
                  "173943.0",
                  "173943.0",
                  "173943.0",
                  "173943.0",
                  "173943.0",
                  "173943.0",
                  "173943.0",
                  "173943.0",
                  "173943.0",
                  "173943.0"
                ],
                [
                  "mean",
                  "2549.013676894155",
                  "52.049776418373476",
                  "-0.03196449411588854",
                  "-0.6323393295504849",
                  "-0.026192057168152788",
                  "128.2085050849991",
                  "11.336541280764388",
                  "8.33618603638765",
                  "16822.956221290882",
                  "31.048488182910496",
                  "1006.8380101527512",
                  "30.089994998361533",
                  "10.966365131106167",
                  "3.1381361135544408",
                  "229.89833451188034"
                ],
                [
                  "std",
                  "621.275795311113",
                  "25.169579346923598",
                  "2.5875993248615257",
                  "44.47690842804046",
                  "1.8695620895358702",
                  "93.14881143853908",
                  "17.17282314829052",
                  "8.480289074653891",
                  "9743.969271854663",
                  "2.9458939246069926",
                  "2.0863638846571675",
                  "7.4428543958363615",
                  "2.804663012135232",
                  "1.2620213167453063",
                  "100.91188070674082"
                ],
                [
                  "min",
                  "376.0",
                  "0.0",
                  "-30.0",
                  "-383.0",
                  "-11.0",
                  "0.0",
                  "0.0",
                  "0.0",
                  "0.0",
                  "24.16",
                  "1003.0",
                  "14.0",
                  "3.19",
                  "0.5",
                  "0.0"
                ],
                [
                  "25%",
                  "2160.0",
                  "41.29635167420542",
                  "-1.0",
                  "-26.0",
                  "-1.0",
                  "47.0",
                  "2.0",
                  "3.082996831477349",
                  "8427.0",
                  "28.92",
                  "1005.0",
                  "23.0",
                  "9.7",
                  "2.02",
                  "202.0"
                ],
                [
                  "50%",
                  "2551.0",
                  "53.539496693919475",
                  "0.0",
                  "-1.0",
                  "0.0",
                  "122.0",
                  "6.0",
                  "7.3685953838497396",
                  "16791.0",
                  "30.61",
                  "1007.0",
                  "33.0",
                  "11.25",
                  "3.37",
                  "234.0"
                ],
                [
                  "75%",
                  "2937.0",
                  "63.60598432631312",
                  "1.0",
                  "23.0",
                  "1.0",
                  "184.0",
                  "14.0",
                  "12.795062417485088",
                  "25154.0",
                  "33.81",
                  "1008.0",
                  "36.0",
                  "13.01",
                  "4.22",
                  "316.0"
                ],
                [
                  "max",
                  "4403.0",
                  "4788.987450454807",
                  "44.0",
                  "1222.0",
                  "44.0",
                  "358.0",
                  "180.0",
                  "1306.481639545324",
                  "36656.0",
                  "37.13",
                  "1015.0",
                  "42.0",
                  "17.5",
                  "5.51",
                  "358.0"
                ]
              ],
              "shape": {
                "columns": 15,
                "rows": 8
              }
            },
            "text/html": [
              "<div>\n",
              "<style scoped>\n",
              "    .dataframe tbody tr th:only-of-type {\n",
              "        vertical-align: middle;\n",
              "    }\n",
              "\n",
              "    .dataframe tbody tr th {\n",
              "        vertical-align: top;\n",
              "    }\n",
              "\n",
              "    .dataframe thead th {\n",
              "        text-align: right;\n",
              "    }\n",
              "</style>\n",
              "<table border=\"1\" class=\"dataframe\">\n",
              "  <thead>\n",
              "    <tr style=\"text-align: right;\">\n",
              "      <th></th>\n",
              "      <th>gps_altitude_m</th>\n",
              "      <th>speed_km/s</th>\n",
              "      <th>climb_m</th>\n",
              "      <th>climb_m(delta)</th>\n",
              "      <th>climb_rate_m/s</th>\n",
              "      <th>bearing</th>\n",
              "      <th>delta_bearing</th>\n",
              "      <th>glide_ratio</th>\n",
              "      <th>elapsed_time</th>\n",
              "      <th>temp</th>\n",
              "      <th>pressure</th>\n",
              "      <th>humidity</th>\n",
              "      <th>dew_point</th>\n",
              "      <th>wind_speed</th>\n",
              "      <th>wind_deg</th>\n",
              "    </tr>\n",
              "  </thead>\n",
              "  <tbody>\n",
              "    <tr>\n",
              "      <th>count</th>\n",
              "      <td>173943.000000</td>\n",
              "      <td>173943.000000</td>\n",
              "      <td>173943.000000</td>\n",
              "      <td>173943.000000</td>\n",
              "      <td>173943.000000</td>\n",
              "      <td>173943.000000</td>\n",
              "      <td>173943.000000</td>\n",
              "      <td>173943.000000</td>\n",
              "      <td>173943.000000</td>\n",
              "      <td>173943.000000</td>\n",
              "      <td>173943.000000</td>\n",
              "      <td>173943.000000</td>\n",
              "      <td>173943.000000</td>\n",
              "      <td>173943.000000</td>\n",
              "      <td>173943.000000</td>\n",
              "    </tr>\n",
              "    <tr>\n",
              "      <th>mean</th>\n",
              "      <td>2549.013677</td>\n",
              "      <td>52.049776</td>\n",
              "      <td>-0.031964</td>\n",
              "      <td>-0.632339</td>\n",
              "      <td>-0.026192</td>\n",
              "      <td>128.208505</td>\n",
              "      <td>11.336541</td>\n",
              "      <td>8.336186</td>\n",
              "      <td>16822.956221</td>\n",
              "      <td>31.048488</td>\n",
              "      <td>1006.838010</td>\n",
              "      <td>30.089995</td>\n",
              "      <td>10.966365</td>\n",
              "      <td>3.138136</td>\n",
              "      <td>229.898335</td>\n",
              "    </tr>\n",
              "    <tr>\n",
              "      <th>std</th>\n",
              "      <td>621.275795</td>\n",
              "      <td>25.169579</td>\n",
              "      <td>2.587599</td>\n",
              "      <td>44.476908</td>\n",
              "      <td>1.869562</td>\n",
              "      <td>93.148811</td>\n",
              "      <td>17.172823</td>\n",
              "      <td>8.480289</td>\n",
              "      <td>9743.969272</td>\n",
              "      <td>2.945894</td>\n",
              "      <td>2.086364</td>\n",
              "      <td>7.442854</td>\n",
              "      <td>2.804663</td>\n",
              "      <td>1.262021</td>\n",
              "      <td>100.911881</td>\n",
              "    </tr>\n",
              "    <tr>\n",
              "      <th>min</th>\n",
              "      <td>376.000000</td>\n",
              "      <td>0.000000</td>\n",
              "      <td>-30.000000</td>\n",
              "      <td>-383.000000</td>\n",
              "      <td>-11.000000</td>\n",
              "      <td>0.000000</td>\n",
              "      <td>0.000000</td>\n",
              "      <td>0.000000</td>\n",
              "      <td>0.000000</td>\n",
              "      <td>24.160000</td>\n",
              "      <td>1003.000000</td>\n",
              "      <td>14.000000</td>\n",
              "      <td>3.190000</td>\n",
              "      <td>0.500000</td>\n",
              "      <td>0.000000</td>\n",
              "    </tr>\n",
              "    <tr>\n",
              "      <th>25%</th>\n",
              "      <td>2160.000000</td>\n",
              "      <td>41.296352</td>\n",
              "      <td>-1.000000</td>\n",
              "      <td>-26.000000</td>\n",
              "      <td>-1.000000</td>\n",
              "      <td>47.000000</td>\n",
              "      <td>2.000000</td>\n",
              "      <td>3.082997</td>\n",
              "      <td>8427.000000</td>\n",
              "      <td>28.920000</td>\n",
              "      <td>1005.000000</td>\n",
              "      <td>23.000000</td>\n",
              "      <td>9.700000</td>\n",
              "      <td>2.020000</td>\n",
              "      <td>202.000000</td>\n",
              "    </tr>\n",
              "    <tr>\n",
              "      <th>50%</th>\n",
              "      <td>2551.000000</td>\n",
              "      <td>53.539497</td>\n",
              "      <td>0.000000</td>\n",
              "      <td>-1.000000</td>\n",
              "      <td>0.000000</td>\n",
              "      <td>122.000000</td>\n",
              "      <td>6.000000</td>\n",
              "      <td>7.368595</td>\n",
              "      <td>16791.000000</td>\n",
              "      <td>30.610000</td>\n",
              "      <td>1007.000000</td>\n",
              "      <td>33.000000</td>\n",
              "      <td>11.250000</td>\n",
              "      <td>3.370000</td>\n",
              "      <td>234.000000</td>\n",
              "    </tr>\n",
              "    <tr>\n",
              "      <th>75%</th>\n",
              "      <td>2937.000000</td>\n",
              "      <td>63.605984</td>\n",
              "      <td>1.000000</td>\n",
              "      <td>23.000000</td>\n",
              "      <td>1.000000</td>\n",
              "      <td>184.000000</td>\n",
              "      <td>14.000000</td>\n",
              "      <td>12.795062</td>\n",
              "      <td>25154.000000</td>\n",
              "      <td>33.810000</td>\n",
              "      <td>1008.000000</td>\n",
              "      <td>36.000000</td>\n",
              "      <td>13.010000</td>\n",
              "      <td>4.220000</td>\n",
              "      <td>316.000000</td>\n",
              "    </tr>\n",
              "    <tr>\n",
              "      <th>max</th>\n",
              "      <td>4403.000000</td>\n",
              "      <td>4788.987450</td>\n",
              "      <td>44.000000</td>\n",
              "      <td>1222.000000</td>\n",
              "      <td>44.000000</td>\n",
              "      <td>358.000000</td>\n",
              "      <td>180.000000</td>\n",
              "      <td>1306.481640</td>\n",
              "      <td>36656.000000</td>\n",
              "      <td>37.130000</td>\n",
              "      <td>1015.000000</td>\n",
              "      <td>42.000000</td>\n",
              "      <td>17.500000</td>\n",
              "      <td>5.510000</td>\n",
              "      <td>358.000000</td>\n",
              "    </tr>\n",
              "  </tbody>\n",
              "</table>\n",
              "</div>"
            ],
            "text/plain": [
              "       gps_altitude_m     speed_km/s        climb_m  climb_m(delta)  \\\n",
              "count   173943.000000  173943.000000  173943.000000   173943.000000   \n",
              "mean      2549.013677      52.049776      -0.031964       -0.632339   \n",
              "std        621.275795      25.169579       2.587599       44.476908   \n",
              "min        376.000000       0.000000     -30.000000     -383.000000   \n",
              "25%       2160.000000      41.296352      -1.000000      -26.000000   \n",
              "50%       2551.000000      53.539497       0.000000       -1.000000   \n",
              "75%       2937.000000      63.605984       1.000000       23.000000   \n",
              "max       4403.000000    4788.987450      44.000000     1222.000000   \n",
              "\n",
              "       climb_rate_m/s        bearing  delta_bearing    glide_ratio  \\\n",
              "count   173943.000000  173943.000000  173943.000000  173943.000000   \n",
              "mean        -0.026192     128.208505      11.336541       8.336186   \n",
              "std          1.869562      93.148811      17.172823       8.480289   \n",
              "min        -11.000000       0.000000       0.000000       0.000000   \n",
              "25%         -1.000000      47.000000       2.000000       3.082997   \n",
              "50%          0.000000     122.000000       6.000000       7.368595   \n",
              "75%          1.000000     184.000000      14.000000      12.795062   \n",
              "max         44.000000     358.000000     180.000000    1306.481640   \n",
              "\n",
              "        elapsed_time           temp       pressure       humidity  \\\n",
              "count  173943.000000  173943.000000  173943.000000  173943.000000   \n",
              "mean    16822.956221      31.048488    1006.838010      30.089995   \n",
              "std      9743.969272       2.945894       2.086364       7.442854   \n",
              "min         0.000000      24.160000    1003.000000      14.000000   \n",
              "25%      8427.000000      28.920000    1005.000000      23.000000   \n",
              "50%     16791.000000      30.610000    1007.000000      33.000000   \n",
              "75%     25154.000000      33.810000    1008.000000      36.000000   \n",
              "max     36656.000000      37.130000    1015.000000      42.000000   \n",
              "\n",
              "           dew_point     wind_speed       wind_deg  \n",
              "count  173943.000000  173943.000000  173943.000000  \n",
              "mean       10.966365       3.138136     229.898335  \n",
              "std         2.804663       1.262021     100.911881  \n",
              "min         3.190000       0.500000       0.000000  \n",
              "25%         9.700000       2.020000     202.000000  \n",
              "50%        11.250000       3.370000     234.000000  \n",
              "75%        13.010000       4.220000     316.000000  \n",
              "max        17.500000       5.510000     358.000000  "
            ]
          },
          "execution_count": 27,
          "metadata": {},
          "output_type": "execute_result"
        }
      ],
      "source": [
        "dataset.describe()"
      ]
    },
    {
      "cell_type": "code",
      "execution_count": 28,
      "metadata": {
        "id": "qn-IGhUE7_1H"
      },
      "outputs": [
        {
          "data": {
            "text/plain": [
              "<seaborn.axisgrid.PairGrid at 0x16b3f45d0>"
            ]
          },
          "execution_count": 28,
          "metadata": {},
          "output_type": "execute_result"
        },
        {
          "data": {
            "image/png": "[encoded data removed]",
            "text/plain": [
              "<Figure size 750x750 with 9 Axes>"
            ]
          },
          "metadata": {},
          "output_type": "display_data"
        }
      ],
      "source": [
        "train_dataset = dataset.sample(frac=0.8, random_state=0)\n",
        "test_dataset = dataset.drop(train_dataset.index)\n",
        "\n",
        "sns.pairplot(train_dataset[[\"climb_rate_m/s\", \"climb_m(delta)\", \"speed_km/s\"]], diag_kind=\"zone\")"
      ]
    },
    {
      "cell_type": "markdown",
      "metadata": {
        "id": "gavKO_6DWRMP"
      },
      "source": [
        "Let's also check the overall statistics. Note how each feature covers a very different range:"
      ]
    },
    {
      "cell_type": "code",
      "execution_count": 29,
      "metadata": {
        "id": "yi2FzC3T21jR"
      },
      "outputs": [
        {
          "data": {
            "application/vnd.microsoft.datawrangler.viewer.v0+json": {
              "columns": [
                {
                  "name": "index",
                  "rawType": "object",
                  "type": "string"
                },
                {
                  "name": "count",
                  "rawType": "float64",
                  "type": "float"
                },
                {
                  "name": "mean",
                  "rawType": "float64",
                  "type": "float"
                },
                {
                  "name": "std",
                  "rawType": "float64",
                  "type": "float"
                },
                {
                  "name": "min",
                  "rawType": "float64",
                  "type": "float"
                },
                {
                  "name": "25%",
                  "rawType": "float64",
                  "type": "float"
                },
                {
                  "name": "50%",
                  "rawType": "float64",
                  "type": "float"
                },
                {
                  "name": "75%",
                  "rawType": "float64",
                  "type": "float"
                },
                {
                  "name": "max",
                  "rawType": "float64",
                  "type": "float"
                }
              ],
              "conversionMethod": "pd.DataFrame",
              "ref": "aae15ed8-5e63-44b7-b3c2-7eeb5a10b78c",
              "rows": [
                [
                  "gps_altitude_m",
                  "139154.0",
                  "2548.6267804015697",
                  "621.3423187660209",
                  "376.0",
                  "2160.0",
                  "2551.0",
                  "2937.0",
                  "4403.0"
                ],
                [
                  "speed_km/s",
                  "139154.0",
                  "51.973147241065575",
                  "21.246771942818068",
                  "0.0",
                  "41.28923288872659",
                  "53.539357443398856",
                  "63.60010021891816",
                  "4361.850992433781"
                ],
                [
                  "climb_m",
                  "139154.0",
                  "-0.034271382784540866",
                  "2.5805675056120547",
                  "-30.0",
                  "-1.0",
                  "0.0",
                  "1.0",
                  "44.0"
                ],
                [
                  "climb_m(delta)",
                  "139154.0",
                  "-0.6388677292783534",
                  "44.53442753523867",
                  "-383.0",
                  "-26.0",
                  "-1.0",
                  "23.0",
                  "1222.0"
                ],
                [
                  "climb_rate_m/s",
                  "139154.0",
                  "-0.02541044796549489",
                  "1.8703109446384159",
                  "-11.0",
                  "-1.0",
                  "0.0",
                  "1.0",
                  "44.0"
                ],
                [
                  "bearing",
                  "139154.0",
                  "128.16585940756283",
                  "93.07750890526243",
                  "0.0",
                  "47.0",
                  "122.0",
                  "184.0",
                  "358.0"
                ],
                [
                  "delta_bearing",
                  "139154.0",
                  "11.323892953131063",
                  "17.113173673428626",
                  "0.0",
                  "2.0",
                  "6.0",
                  "14.0",
                  "180.0"
                ],
                [
                  "glide_ratio",
                  "139154.0",
                  "8.313780613669161",
                  "7.821969614596364",
                  "0.0",
                  "3.0829972959724734",
                  "7.35345517864131",
                  "12.76241893182829",
                  "807.7501837840337"
                ],
                [
                  "elapsed_time",
                  "139154.0",
                  "16836.620923581067",
                  "9751.289314680995",
                  "0.0",
                  "8417.0",
                  "16821.5",
                  "25155.0",
                  "36656.0"
                ],
                [
                  "temp",
                  "139154.0",
                  "31.049845997959093",
                  "2.948625025744065",
                  "24.16",
                  "28.92",
                  "30.61",
                  "33.81",
                  "37.13"
                ],
                [
                  "pressure",
                  "139154.0",
                  "1006.8361743104762",
                  "2.0843085932994585",
                  "1003.0",
                  "1005.0",
                  "1007.0",
                  "1008.0",
                  "1015.0"
                ],
                [
                  "humidity",
                  "139154.0",
                  "30.077762766431437",
                  "7.450817049433881",
                  "14.0",
                  "23.0",
                  "33.0",
                  "36.0",
                  "42.0"
                ],
                [
                  "dew_point",
                  "139154.0",
                  "10.959937407476607",
                  "2.809570640046362",
                  "3.19",
                  "9.67",
                  "11.25",
                  "13.01",
                  "17.5"
                ],
                [
                  "wind_speed",
                  "139154.0",
                  "3.138944909955876",
                  "1.2610418481028136",
                  "0.5",
                  "2.02",
                  "3.37",
                  "4.22",
                  "5.51"
                ],
                [
                  "wind_deg",
                  "139154.0",
                  "229.9271095333228",
                  "100.88044079562852",
                  "0.0",
                  "202.0",
                  "234.0",
                  "316.0",
                  "358.0"
                ]
              ],
              "shape": {
                "columns": 8,
                "rows": 15
              }
            },
            "text/html": [
              "<div>\n",
              "<style scoped>\n",
              "    .dataframe tbody tr th:only-of-type {\n",
              "        vertical-align: middle;\n",
              "    }\n",
              "\n",
              "    .dataframe tbody tr th {\n",
              "        vertical-align: top;\n",
              "    }\n",
              "\n",
              "    .dataframe thead th {\n",
              "        text-align: right;\n",
              "    }\n",
              "</style>\n",
              "<table border=\"1\" class=\"dataframe\">\n",
              "  <thead>\n",
              "    <tr style=\"text-align: right;\">\n",
              "      <th></th>\n",
              "      <th>count</th>\n",
              "      <th>mean</th>\n",
              "      <th>std</th>\n",
              "      <th>min</th>\n",
              "      <th>25%</th>\n",
              "      <th>50%</th>\n",
              "      <th>75%</th>\n",
              "      <th>max</th>\n",
              "    </tr>\n",
              "  </thead>\n",
              "  <tbody>\n",
              "    <tr>\n",
              "      <th>gps_altitude_m</th>\n",
              "      <td>139154.0</td>\n",
              "      <td>2548.626780</td>\n",
              "      <td>621.342319</td>\n",
              "      <td>376.00</td>\n",
              "      <td>2160.000000</td>\n",
              "      <td>2551.000000</td>\n",
              "      <td>2937.000000</td>\n",
              "      <td>4403.000000</td>\n",
              "    </tr>\n",
              "    <tr>\n",
              "      <th>speed_km/s</th>\n",
              "      <td>139154.0</td>\n",
              "      <td>51.973147</td>\n",
              "      <td>21.246772</td>\n",
              "      <td>0.00</td>\n",
              "      <td>41.289233</td>\n",
              "      <td>53.539357</td>\n",
              "      <td>63.600100</td>\n",
              "      <td>4361.850992</td>\n",
              "    </tr>\n",
              "    <tr>\n",
              "      <th>climb_m</th>\n",
              "      <td>139154.0</td>\n",
              "      <td>-0.034271</td>\n",
              "      <td>2.580568</td>\n",
              "      <td>-30.00</td>\n",
              "      <td>-1.000000</td>\n",
              "      <td>0.000000</td>\n",
              "      <td>1.000000</td>\n",
              "      <td>44.000000</td>\n",
              "    </tr>\n",
              "    <tr>\n",
              "      <th>climb_m(delta)</th>\n",
              "      <td>139154.0</td>\n",
              "      <td>-0.638868</td>\n",
              "      <td>44.534428</td>\n",
              "      <td>-383.00</td>\n",
              "      <td>-26.000000</td>\n",
              "      <td>-1.000000</td>\n",
              "      <td>23.000000</td>\n",
              "      <td>1222.000000</td>\n",
              "    </tr>\n",
              "    <tr>\n",
              "      <th>climb_rate_m/s</th>\n",
              "      <td>139154.0</td>\n",
              "      <td>-0.025410</td>\n",
              "      <td>1.870311</td>\n",
              "      <td>-11.00</td>\n",
              "      <td>-1.000000</td>\n",
              "      <td>0.000000</td>\n",
              "      <td>1.000000</td>\n",
              "      <td>44.000000</td>\n",
              "    </tr>\n",
              "    <tr>\n",
              "      <th>bearing</th>\n",
              "      <td>139154.0</td>\n",
              "      <td>128.165859</td>\n",
              "      <td>93.077509</td>\n",
              "      <td>0.00</td>\n",
              "      <td>47.000000</td>\n",
              "      <td>122.000000</td>\n",
              "      <td>184.000000</td>\n",
              "      <td>358.000000</td>\n",
              "    </tr>\n",
              "    <tr>\n",
              "      <th>delta_bearing</th>\n",
              "      <td>139154.0</td>\n",
              "      <td>11.323893</td>\n",
              "      <td>17.113174</td>\n",
              "      <td>0.00</td>\n",
              "      <td>2.000000</td>\n",
              "      <td>6.000000</td>\n",
              "      <td>14.000000</td>\n",
              "      <td>180.000000</td>\n",
              "    </tr>\n",
              "    <tr>\n",
              "      <th>glide_ratio</th>\n",
              "      <td>139154.0</td>\n",
              "      <td>8.313781</td>\n",
              "      <td>7.821970</td>\n",
              "      <td>0.00</td>\n",
              "      <td>3.082997</td>\n",
              "      <td>7.353455</td>\n",
              "      <td>12.762419</td>\n",
              "      <td>807.750184</td>\n",
              "    </tr>\n",
              "    <tr>\n",
              "      <th>elapsed_time</th>\n",
              "      <td>139154.0</td>\n",
              "      <td>16836.620924</td>\n",
              "      <td>9751.289315</td>\n",
              "      <td>0.00</td>\n",
              "      <td>8417.000000</td>\n",
              "      <td>16821.500000</td>\n",
              "      <td>25155.000000</td>\n",
              "      <td>36656.000000</td>\n",
              "    </tr>\n",
              "    <tr>\n",
              "      <th>temp</th>\n",
              "      <td>139154.0</td>\n",
              "      <td>31.049846</td>\n",
              "      <td>2.948625</td>\n",
              "      <td>24.16</td>\n",
              "      <td>28.920000</td>\n",
              "      <td>30.610000</td>\n",
              "      <td>33.810000</td>\n",
              "      <td>37.130000</td>\n",
              "    </tr>\n",
              "    <tr>\n",
              "      <th>pressure</th>\n",
              "      <td>139154.0</td>\n",
              "      <td>1006.836174</td>\n",
              "      <td>2.084309</td>\n",
              "      <td>1003.00</td>\n",
              "      <td>1005.000000</td>\n",
              "      <td>1007.000000</td>\n",
              "      <td>1008.000000</td>\n",
              "      <td>1015.000000</td>\n",
              "    </tr>\n",
              "    <tr>\n",
              "      <th>humidity</th>\n",
              "      <td>139154.0</td>\n",
              "      <td>30.077763</td>\n",
              "      <td>7.450817</td>\n",
              "      <td>14.00</td>\n",
              "      <td>23.000000</td>\n",
              "      <td>33.000000</td>\n",
              "      <td>36.000000</td>\n",
              "      <td>42.000000</td>\n",
              "    </tr>\n",
              "    <tr>\n",
              "      <th>dew_point</th>\n",
              "      <td>139154.0</td>\n",
              "      <td>10.959937</td>\n",
              "      <td>2.809571</td>\n",
              "      <td>3.19</td>\n",
              "      <td>9.670000</td>\n",
              "      <td>11.250000</td>\n",
              "      <td>13.010000</td>\n",
              "      <td>17.500000</td>\n",
              "    </tr>\n",
              "    <tr>\n",
              "      <th>wind_speed</th>\n",
              "      <td>139154.0</td>\n",
              "      <td>3.138945</td>\n",
              "      <td>1.261042</td>\n",
              "      <td>0.50</td>\n",
              "      <td>2.020000</td>\n",
              "      <td>3.370000</td>\n",
              "      <td>4.220000</td>\n",
              "      <td>5.510000</td>\n",
              "    </tr>\n",
              "    <tr>\n",
              "      <th>wind_deg</th>\n",
              "      <td>139154.0</td>\n",
              "      <td>229.927110</td>\n",
              "      <td>100.880441</td>\n",
              "      <td>0.00</td>\n",
              "      <td>202.000000</td>\n",
              "      <td>234.000000</td>\n",
              "      <td>316.000000</td>\n",
              "      <td>358.000000</td>\n",
              "    </tr>\n",
              "  </tbody>\n",
              "</table>\n",
              "</div>"
            ],
            "text/plain": [
              "                   count          mean          std      min          25%  \\\n",
              "gps_altitude_m  139154.0   2548.626780   621.342319   376.00  2160.000000   \n",
              "speed_km/s      139154.0     51.973147    21.246772     0.00    41.289233   \n",
              "climb_m         139154.0     -0.034271     2.580568   -30.00    -1.000000   \n",
              "climb_m(delta)  139154.0     -0.638868    44.534428  -383.00   -26.000000   \n",
              "climb_rate_m/s  139154.0     -0.025410     1.870311   -11.00    -1.000000   \n",
              "bearing         139154.0    128.165859    93.077509     0.00    47.000000   \n",
              "delta_bearing   139154.0     11.323893    17.113174     0.00     2.000000   \n",
              "glide_ratio     139154.0      8.313781     7.821970     0.00     3.082997   \n",
              "elapsed_time    139154.0  16836.620924  9751.289315     0.00  8417.000000   \n",
              "temp            139154.0     31.049846     2.948625    24.16    28.920000   \n",
              "pressure        139154.0   1006.836174     2.084309  1003.00  1005.000000   \n",
              "humidity        139154.0     30.077763     7.450817    14.00    23.000000   \n",
              "dew_point       139154.0     10.959937     2.809571     3.19     9.670000   \n",
              "wind_speed      139154.0      3.138945     1.261042     0.50     2.020000   \n",
              "wind_deg        139154.0    229.927110   100.880441     0.00   202.000000   \n",
              "\n",
              "                         50%           75%           max  \n",
              "gps_altitude_m   2551.000000   2937.000000   4403.000000  \n",
              "speed_km/s         53.539357     63.600100   4361.850992  \n",
              "climb_m             0.000000      1.000000     44.000000  \n",
              "climb_m(delta)     -1.000000     23.000000   1222.000000  \n",
              "climb_rate_m/s      0.000000      1.000000     44.000000  \n",
              "bearing           122.000000    184.000000    358.000000  \n",
              "delta_bearing       6.000000     14.000000    180.000000  \n",
              "glide_ratio         7.353455     12.762419    807.750184  \n",
              "elapsed_time    16821.500000  25155.000000  36656.000000  \n",
              "temp               30.610000     33.810000     37.130000  \n",
              "pressure         1007.000000   1008.000000   1015.000000  \n",
              "humidity           33.000000     36.000000     42.000000  \n",
              "dew_point          11.250000     13.010000     17.500000  \n",
              "wind_speed          3.370000      4.220000      5.510000  \n",
              "wind_deg          234.000000    316.000000    358.000000  "
            ]
          },
          "execution_count": 29,
          "metadata": {},
          "output_type": "execute_result"
        }
      ],
      "source": [
        "train_dataset.describe().transpose()"
      ]
    },
    {
      "cell_type": "code",
      "execution_count": 30,
      "metadata": {
        "id": "t2sluJdCW7jN"
      },
      "outputs": [
        {
          "data": {
            "application/vnd.microsoft.datawrangler.viewer.v0+json": {
              "columns": [
                {
                  "name": "index",
                  "rawType": "object",
                  "type": "string"
                },
                {
                  "name": "mean",
                  "rawType": "float64",
                  "type": "float"
                },
                {
                  "name": "std",
                  "rawType": "float64",
                  "type": "float"
                }
              ],
              "conversionMethod": "pd.DataFrame",
              "ref": "9d9e8206-332f-49c9-8c90-1ddd843df392",
              "rows": [
                [
                  "gps_altitude_m",
                  "2548.6267804015697",
                  "621.3423187660209"
                ],
                [
                  "speed_km/s",
                  "51.973147241065575",
                  "21.246771942818068"
                ],
                [
                  "climb_m",
                  "-0.034271382784540866",
                  "2.5805675056120547"
                ],
                [
                  "climb_m(delta)",
                  "-0.6388677292783534",
                  "44.53442753523867"
                ],
                [
                  "climb_rate_m/s",
                  "-0.02541044796549489",
                  "1.8703109446384159"
                ],
                [
                  "bearing",
                  "128.16585940756283",
                  "93.07750890526243"
                ],
                [
                  "delta_bearing",
                  "11.323892953131063",
                  "17.113173673428626"
                ],
                [
                  "glide_ratio",
                  "8.313780613669161",
                  "7.821969614596364"
                ],
                [
                  "elapsed_time",
                  "16836.620923581067",
                  "9751.289314680995"
                ],
                [
                  "temp",
                  "31.049845997959093",
                  "2.948625025744065"
                ],
                [
                  "pressure",
                  "1006.8361743104762",
                  "2.0843085932994585"
                ],
                [
                  "humidity",
                  "30.077762766431437",
                  "7.450817049433881"
                ],
                [
                  "dew_point",
                  "10.959937407476607",
                  "2.809570640046362"
                ],
                [
                  "wind_speed",
                  "3.138944909955876",
                  "1.2610418481028136"
                ],
                [
                  "wind_deg",
                  "229.9271095333228",
                  "100.88044079562852"
                ]
              ],
              "shape": {
                "columns": 2,
                "rows": 15
              }
            },
            "text/html": [
              "<div>\n",
              "<style scoped>\n",
              "    .dataframe tbody tr th:only-of-type {\n",
              "        vertical-align: middle;\n",
              "    }\n",
              "\n",
              "    .dataframe tbody tr th {\n",
              "        vertical-align: top;\n",
              "    }\n",
              "\n",
              "    .dataframe thead th {\n",
              "        text-align: right;\n",
              "    }\n",
              "</style>\n",
              "<table border=\"1\" class=\"dataframe\">\n",
              "  <thead>\n",
              "    <tr style=\"text-align: right;\">\n",
              "      <th></th>\n",
              "      <th>mean</th>\n",
              "      <th>std</th>\n",
              "    </tr>\n",
              "  </thead>\n",
              "  <tbody>\n",
              "    <tr>\n",
              "      <th>gps_altitude_m</th>\n",
              "      <td>2548.626780</td>\n",
              "      <td>621.342319</td>\n",
              "    </tr>\n",
              "    <tr>\n",
              "      <th>speed_km/s</th>\n",
              "      <td>51.973147</td>\n",
              "      <td>21.246772</td>\n",
              "    </tr>\n",
              "    <tr>\n",
              "      <th>climb_m</th>\n",
              "      <td>-0.034271</td>\n",
              "      <td>2.580568</td>\n",
              "    </tr>\n",
              "    <tr>\n",
              "      <th>climb_m(delta)</th>\n",
              "      <td>-0.638868</td>\n",
              "      <td>44.534428</td>\n",
              "    </tr>\n",
              "    <tr>\n",
              "      <th>climb_rate_m/s</th>\n",
              "      <td>-0.025410</td>\n",
              "      <td>1.870311</td>\n",
              "    </tr>\n",
              "    <tr>\n",
              "      <th>bearing</th>\n",
              "      <td>128.165859</td>\n",
              "      <td>93.077509</td>\n",
              "    </tr>\n",
              "    <tr>\n",
              "      <th>delta_bearing</th>\n",
              "      <td>11.323893</td>\n",
              "      <td>17.113174</td>\n",
              "    </tr>\n",
              "    <tr>\n",
              "      <th>glide_ratio</th>\n",
              "      <td>8.313781</td>\n",
              "      <td>7.821970</td>\n",
              "    </tr>\n",
              "    <tr>\n",
              "      <th>elapsed_time</th>\n",
              "      <td>16836.620924</td>\n",
              "      <td>9751.289315</td>\n",
              "    </tr>\n",
              "    <tr>\n",
              "      <th>temp</th>\n",
              "      <td>31.049846</td>\n",
              "      <td>2.948625</td>\n",
              "    </tr>\n",
              "    <tr>\n",
              "      <th>pressure</th>\n",
              "      <td>1006.836174</td>\n",
              "      <td>2.084309</td>\n",
              "    </tr>\n",
              "    <tr>\n",
              "      <th>humidity</th>\n",
              "      <td>30.077763</td>\n",
              "      <td>7.450817</td>\n",
              "    </tr>\n",
              "    <tr>\n",
              "      <th>dew_point</th>\n",
              "      <td>10.959937</td>\n",
              "      <td>2.809571</td>\n",
              "    </tr>\n",
              "    <tr>\n",
              "      <th>wind_speed</th>\n",
              "      <td>3.138945</td>\n",
              "      <td>1.261042</td>\n",
              "    </tr>\n",
              "    <tr>\n",
              "      <th>wind_deg</th>\n",
              "      <td>229.927110</td>\n",
              "      <td>100.880441</td>\n",
              "    </tr>\n",
              "  </tbody>\n",
              "</table>\n",
              "</div>"
            ],
            "text/plain": [
              "                        mean          std\n",
              "gps_altitude_m   2548.626780   621.342319\n",
              "speed_km/s         51.973147    21.246772\n",
              "climb_m            -0.034271     2.580568\n",
              "climb_m(delta)     -0.638868    44.534428\n",
              "climb_rate_m/s     -0.025410     1.870311\n",
              "bearing           128.165859    93.077509\n",
              "delta_bearing      11.323893    17.113174\n",
              "glide_ratio         8.313781     7.821970\n",
              "elapsed_time    16836.620924  9751.289315\n",
              "temp               31.049846     2.948625\n",
              "pressure         1006.836174     2.084309\n",
              "humidity           30.077763     7.450817\n",
              "dew_point          10.959937     2.809571\n",
              "wind_speed          3.138945     1.261042\n",
              "wind_deg          229.927110   100.880441"
            ]
          },
          "execution_count": 30,
          "metadata": {},
          "output_type": "execute_result"
        }
      ],
      "source": [
        "train_features = train_dataset.copy()\n",
        "test_features = test_dataset.copy()\n",
        "\n",
        "train_labels = train_features.pop(\"zone\")\n",
        "test_labels = test_features.pop(\"zone\")\n",
        "\n",
        "train_dataset.describe().transpose()[['mean', 'std']]"
      ]
    },
    {
      "cell_type": "code",
      "execution_count": 31,
      "metadata": {
        "id": "JlC5ooJrgjQF"
      },
      "outputs": [
        {
          "name": "stdout",
          "output_type": "stream",
          "text": [
            "[[ 2548.627    51.973    -0.034    -0.639    -0.025   128.166    11.324\n",
            "      8.314 16836.621    31.05   1006.836    30.078    10.96      3.139\n",
            "    229.927]]\n"
          ]
        }
      ],
      "source": [
        "normalizer = tf.keras.layers.Normalization(axis=-1)\n",
        "normalizer.adapt(np.array(train_features))\n",
        "print(normalizer.mean.numpy())"
      ]
    },
    {
      "cell_type": "code",
      "execution_count": 32,
      "metadata": {
        "id": "2l7zFL_XWIRu"
      },
      "outputs": [
        {
          "name": "stdout",
          "output_type": "stream",
          "text": [
            "First example: [[ 2300.      77.76    -3.     -41.      -3.     160.       0.       7.2\n",
            "  12410.      29.88  1008.      41.      15.21     3.5    340.  ]]\n",
            "\n",
            "Normalized: [[-0.4   1.21 -1.15 -0.91 -1.59  0.34 -0.66 -0.14 -0.45 -0.4   0.56  1.47\n",
            "   1.51  0.29  1.09]]\n"
          ]
        }
      ],
      "source": [
        "first = np.array(train_features[:1])\n",
        "\n",
        "with np.printoptions(precision=2, suppress=True):\n",
        "  print('First example:', first)\n",
        "  print()\n",
        "  print('Normalized:', normalizer(first).numpy())"
      ]
    },
    {
      "cell_type": "code",
      "execution_count": 33,
      "metadata": {
        "id": "1gJAy0fKs1TS"
      },
      "outputs": [
        {
          "name": "stderr",
          "output_type": "stream",
          "text": [
            "/Users/serkan/Documents/Paragliding_Flight_Analyses/.venv/lib/python3.11/site-packages/keras/src/layers/preprocessing/tf_data_layer.py:19: UserWarning: Do not pass an `input_shape`/`input_dim` argument to a layer. When using Sequential models, prefer using an `Input(shape)` object as the first layer in the model instead.\n",
            "  super().__init__(**kwargs)\n"
          ]
        },
        {
          "data": {
            "text/html": [
              "<pre style=\"white-space:pre;overflow-x:auto;line-height:normal;font-family:Menlo,'DejaVu Sans Mono',consolas,'Courier New',monospace\"><span style=\"font-weight: bold\">Model: \"sequential_2\"</span>\n",
              "</pre>\n"
            ],
            "text/plain": [
              "\u001b[1mModel: \"sequential_2\"\u001b[0m\n"
            ]
          },
          "metadata": {},
          "output_type": "display_data"
        },
        {
          "data": {
            "text/html": [
              "<pre style=\"white-space:pre;overflow-x:auto;line-height:normal;font-family:Menlo,'DejaVu Sans Mono',consolas,'Courier New',monospace\">┏━━━━━━━━━━━━━━━━━━━━━━━━━━━━━━━━━┳━━━━━━━━━━━━━━━━━━━━━━━━┳━━━━━━━━━━━━━━━┓\n",
              "┃<span style=\"font-weight: bold\"> Layer (type)                    </span>┃<span style=\"font-weight: bold\"> Output Shape           </span>┃<span style=\"font-weight: bold\">       Param # </span>┃\n",
              "┡━━━━━━━━━━━━━━━━━━━━━━━━━━━━━━━━━╇━━━━━━━━━━━━━━━━━━━━━━━━╇━━━━━━━━━━━━━━━┩\n",
              "│ normalization_3 (<span style=\"color: #0087ff; text-decoration-color: #0087ff\">Normalization</span>) │ (<span style=\"color: #00d7ff; text-decoration-color: #00d7ff\">None</span>, <span style=\"color: #00af00; text-decoration-color: #00af00\">1</span>)              │             <span style=\"color: #00af00; text-decoration-color: #00af00\">3</span> │\n",
              "├─────────────────────────────────┼────────────────────────┼───────────────┤\n",
              "│ dense_2 (<span style=\"color: #0087ff; text-decoration-color: #0087ff\">Dense</span>)                 │ (<span style=\"color: #00d7ff; text-decoration-color: #00d7ff\">None</span>, <span style=\"color: #00af00; text-decoration-color: #00af00\">1</span>)              │             <span style=\"color: #00af00; text-decoration-color: #00af00\">2</span> │\n",
              "└─────────────────────────────────┴────────────────────────┴───────────────┘\n",
              "</pre>\n"
            ],
            "text/plain": [
              "┏━━━━━━━━━━━━━━━━━━━━━━━━━━━━━━━━━┳━━━━━━━━━━━━━━━━━━━━━━━━┳━━━━━━━━━━━━━━━┓\n",
              "┃\u001b[1m \u001b[0m\u001b[1mLayer (type)                   \u001b[0m\u001b[1m \u001b[0m┃\u001b[1m \u001b[0m\u001b[1mOutput Shape          \u001b[0m\u001b[1m \u001b[0m┃\u001b[1m \u001b[0m\u001b[1m      Param #\u001b[0m\u001b[1m \u001b[0m┃\n",
              "┡━━━━━━━━━━━━━━━━━━━━━━━━━━━━━━━━━╇━━━━━━━━━━━━━━━━━━━━━━━━╇━━━━━━━━━━━━━━━┩\n",
              "│ normalization_3 (\u001b[38;5;33mNormalization\u001b[0m) │ (\u001b[38;5;45mNone\u001b[0m, \u001b[38;5;34m1\u001b[0m)              │             \u001b[38;5;34m3\u001b[0m │\n",
              "├─────────────────────────────────┼────────────────────────┼───────────────┤\n",
              "│ dense_2 (\u001b[38;5;33mDense\u001b[0m)                 │ (\u001b[38;5;45mNone\u001b[0m, \u001b[38;5;34m1\u001b[0m)              │             \u001b[38;5;34m2\u001b[0m │\n",
              "└─────────────────────────────────┴────────────────────────┴───────────────┘\n"
            ]
          },
          "metadata": {},
          "output_type": "display_data"
        },
        {
          "data": {
            "text/html": [
              "<pre style=\"white-space:pre;overflow-x:auto;line-height:normal;font-family:Menlo,'DejaVu Sans Mono',consolas,'Courier New',monospace\"><span style=\"font-weight: bold\"> Total params: </span><span style=\"color: #00af00; text-decoration-color: #00af00\">5</span> (24.00 B)\n",
              "</pre>\n"
            ],
            "text/plain": [
              "\u001b[1m Total params: \u001b[0m\u001b[38;5;34m5\u001b[0m (24.00 B)\n"
            ]
          },
          "metadata": {},
          "output_type": "display_data"
        },
        {
          "data": {
            "text/html": [
              "<pre style=\"white-space:pre;overflow-x:auto;line-height:normal;font-family:Menlo,'DejaVu Sans Mono',consolas,'Courier New',monospace\"><span style=\"font-weight: bold\"> Trainable params: </span><span style=\"color: #00af00; text-decoration-color: #00af00\">2</span> (8.00 B)\n",
              "</pre>\n"
            ],
            "text/plain": [
              "\u001b[1m Trainable params: \u001b[0m\u001b[38;5;34m2\u001b[0m (8.00 B)\n"
            ]
          },
          "metadata": {},
          "output_type": "display_data"
        },
        {
          "data": {
            "text/html": [
              "<pre style=\"white-space:pre;overflow-x:auto;line-height:normal;font-family:Menlo,'DejaVu Sans Mono',consolas,'Courier New',monospace\"><span style=\"font-weight: bold\"> Non-trainable params: </span><span style=\"color: #00af00; text-decoration-color: #00af00\">3</span> (16.00 B)\n",
              "</pre>\n"
            ],
            "text/plain": [
              "\u001b[1m Non-trainable params: \u001b[0m\u001b[38;5;34m3\u001b[0m (16.00 B)\n"
            ]
          },
          "metadata": {},
          "output_type": "display_data"
        }
      ],
      "source": [
        "vario = np.array(train_features[\"climb_rate_m/s\"])\n",
        "\n",
        "vario_normalizer = layers.Normalization(input_shape=[1,], axis=None)\n",
        "vario_normalizer.adapt(vario)\n",
        "vario_model = tf.keras.Sequential([\n",
        "    vario_normalizer,\n",
        "    layers.Dense(units=1)\n",
        "])\n",
        "\n",
        "vario_model.summary()"
      ]
    },
    {
      "cell_type": "code",
      "execution_count": 34,
      "metadata": {
        "id": "UfV1HS6bns-s"
      },
      "outputs": [
        {
          "name": "stdout",
          "output_type": "stream",
          "text": [
            "WARNING:tensorflow:5 out of the last 11 calls to <function TensorFlowTrainer.make_predict_function.<locals>.one_step_on_data_distributed at 0x3042aab60> triggered tf.function retracing. Tracing is expensive and the excessive number of tracings could be due to (1) creating @tf.function repeatedly in a loop, (2) passing tensors with different shapes, (3) passing Python objects instead of tensors. For (1), please define your @tf.function outside of the loop. For (2), @tf.function has reduce_retracing=True option that can avoid unnecessary retracing. For (3), please refer to https://www.tensorflow.org/guide/function#controlling_retracing and https://www.tensorflow.org/api_docs/python/tf/function for  more details.\n",
            "\u001b[1m1/1\u001b[0m \u001b[32m━━━━━━━━━━━━━━━━━━━━\u001b[0m\u001b[37m\u001b[0m \u001b[1m0s\u001b[0m 21ms/step\n"
          ]
        },
        {
          "data": {
            "text/plain": [
              "array([[-1.438],\n",
              "       [-0.471],\n",
              "       [ 1.947],\n",
              "       [ 2.914],\n",
              "       [-1.438],\n",
              "       [ 0.012],\n",
              "       [-0.955],\n",
              "       [-0.955],\n",
              "       [ 0.979],\n",
              "       [-1.438]], dtype=float32)"
            ]
          },
          "execution_count": 34,
          "metadata": {},
          "output_type": "execute_result"
        }
      ],
      "source": [
        "vario_model.predict(vario[:10])"
      ]
    },
    {
      "cell_type": "code",
      "execution_count": 35,
      "metadata": {
        "id": "JxA_3lpOm-SK"
      },
      "outputs": [],
      "source": [
        "vario_model.compile(\n",
        "    optimizer=tf.keras.optimizers.Adam(learning_rate=0.1),\n",
        "    loss='mean_absolute_error')"
      ]
    },
    {
      "cell_type": "code",
      "execution_count": 36,
      "metadata": {
        "id": "-iSrNy59nRAp"
      },
      "outputs": [
        {
          "name": "stdout",
          "output_type": "stream",
          "text": [
            "CPU times: user 14.8 s, sys: 2.41 s, total: 17.2 s\n",
            "Wall time: 12 s\n"
          ]
        },
        {
          "data": {
            "application/vnd.microsoft.datawrangler.viewer.v0+json": {
              "columns": [
                {
                  "name": "index",
                  "rawType": "int64",
                  "type": "integer"
                },
                {
                  "name": "loss",
                  "rawType": "float64",
                  "type": "float"
                },
                {
                  "name": "val_loss",
                  "rawType": "float64",
                  "type": "float"
                },
                {
                  "name": "epoch",
                  "rawType": "int64",
                  "type": "integer"
                }
              ],
              "conversionMethod": "pd.DataFrame",
              "ref": "f11d5298-729d-4d29-be35-bca47e864303",
              "rows": [
                [
                  "5",
                  "0.28731948137283325",
                  "0.292466938495636",
                  "5"
                ],
                [
                  "6",
                  "0.28762704133987427",
                  "0.2859104573726654",
                  "6"
                ],
                [
                  "7",
                  "0.28726884722709656",
                  "0.28006118535995483",
                  "7"
                ],
                [
                  "8",
                  "0.2865014374256134",
                  "0.2864084243774414",
                  "8"
                ],
                [
                  "9",
                  "0.2872852683067322",
                  "0.28254109621047974",
                  "9"
                ]
              ],
              "shape": {
                "columns": 3,
                "rows": 5
              }
            },
            "text/html": [
              "<div>\n",
              "<style scoped>\n",
              "    .dataframe tbody tr th:only-of-type {\n",
              "        vertical-align: middle;\n",
              "    }\n",
              "\n",
              "    .dataframe tbody tr th {\n",
              "        vertical-align: top;\n",
              "    }\n",
              "\n",
              "    .dataframe thead th {\n",
              "        text-align: right;\n",
              "    }\n",
              "</style>\n",
              "<table border=\"1\" class=\"dataframe\">\n",
              "  <thead>\n",
              "    <tr style=\"text-align: right;\">\n",
              "      <th></th>\n",
              "      <th>loss</th>\n",
              "      <th>val_loss</th>\n",
              "      <th>epoch</th>\n",
              "    </tr>\n",
              "  </thead>\n",
              "  <tbody>\n",
              "    <tr>\n",
              "      <th>5</th>\n",
              "      <td>0.287319</td>\n",
              "      <td>0.292467</td>\n",
              "      <td>5</td>\n",
              "    </tr>\n",
              "    <tr>\n",
              "      <th>6</th>\n",
              "      <td>0.287627</td>\n",
              "      <td>0.285910</td>\n",
              "      <td>6</td>\n",
              "    </tr>\n",
              "    <tr>\n",
              "      <th>7</th>\n",
              "      <td>0.287269</td>\n",
              "      <td>0.280061</td>\n",
              "      <td>7</td>\n",
              "    </tr>\n",
              "    <tr>\n",
              "      <th>8</th>\n",
              "      <td>0.286501</td>\n",
              "      <td>0.286408</td>\n",
              "      <td>8</td>\n",
              "    </tr>\n",
              "    <tr>\n",
              "      <th>9</th>\n",
              "      <td>0.287285</td>\n",
              "      <td>0.282541</td>\n",
              "      <td>9</td>\n",
              "    </tr>\n",
              "  </tbody>\n",
              "</table>\n",
              "</div>"
            ],
            "text/plain": [
              "       loss  val_loss  epoch\n",
              "5  0.287319  0.292467      5\n",
              "6  0.287627  0.285910      6\n",
              "7  0.287269  0.280061      7\n",
              "8  0.286501  0.286408      8\n",
              "9  0.287285  0.282541      9"
            ]
          },
          "execution_count": 36,
          "metadata": {},
          "output_type": "execute_result"
        }
      ],
      "source": [
        "%%time\n",
        "history = vario_model.fit(\n",
        "    train_features[\"climb_rate_m/s\"],\n",
        "    train_labels,\n",
        "    epochs=10,\n",
        "    # Suppress logging.\n",
        "    verbose=0,\n",
        "    # Calculate validation results on 20% of the training data.\n",
        "    validation_split = 0.2)\n",
        "\n",
        "hist = pd.DataFrame(history.history)\n",
        "hist['epoch'] = history.epoch\n",
        "hist.tail()"
      ]
    },
    {
      "cell_type": "code",
      "execution_count": 37,
      "metadata": {
        "id": "9E54UoZunqhc"
      },
      "outputs": [
        {
          "data": {
            "image/png": "[encoded data removed]",
            "text/plain": [
              "<Figure size 640x480 with 1 Axes>"
            ]
          },
          "metadata": {},
          "output_type": "display_data"
        }
      ],
      "source": [
        "def plot_loss(history):\n",
        "  plt.plot(history.history['loss'], label='loss')\n",
        "  plt.plot(history.history['val_loss'], label='val_loss')\n",
        "  plt.ylim([0, 10])\n",
        "  plt.xlabel('Epoch')\n",
        "  plt.ylabel('Error [MPG]')\n",
        "  plt.legend()\n",
        "  plt.grid(True)\n",
        "  \n",
        "plot_loss(history)"
      ]
    },
    {
      "cell_type": "markdown",
      "metadata": {
        "id": "CMNrt8X2ebXd"
      },
      "source": [
        "Collect the results on the test set for later:"
      ]
    },
    {
      "cell_type": "code",
      "execution_count": 38,
      "metadata": {
        "id": "kDZ8EvNYrDtx"
      },
      "outputs": [],
      "source": [
        "test_results = {}\n",
        "\n",
        "test_results['vario_model'] = vario_model.evaluate(\n",
        "    test_features['climb_rate_m/s'],\n",
        "    test_labels, verbose=0)"
      ]
    },
    {
      "cell_type": "code",
      "execution_count": 39,
      "metadata": {
        "id": "xDS2JEtOn9Jn"
      },
      "outputs": [
        {
          "name": "stdout",
          "output_type": "stream",
          "text": [
            "WARNING:tensorflow:5 out of the last 11 calls to <function TensorFlowTrainer.make_predict_function.<locals>.one_step_on_data_distributed at 0x307fcc360> triggered tf.function retracing. Tracing is expensive and the excessive number of tracings could be due to (1) creating @tf.function repeatedly in a loop, (2) passing tensors with different shapes, (3) passing Python objects instead of tensors. For (1), please define your @tf.function outside of the loop. For (2), @tf.function has reduce_retracing=True option that can avoid unnecessary retracing. For (3), please refer to https://www.tensorflow.org/guide/function#controlling_retracing and https://www.tensorflow.org/api_docs/python/tf/function for  more details.\n",
            "\u001b[1m8/8\u001b[0m \u001b[32m━━━━━━━━━━━━━━━━━━━━\u001b[0m\u001b[37m\u001b[0m \u001b[1m0s\u001b[0m 3ms/step \n"
          ]
        }
      ],
      "source": [
        "x = tf.linspace(0.0, 250, 251)\n",
        "y = vario_model.predict(x)"
      ]
    },
    {
      "cell_type": "code",
      "execution_count": 40,
      "metadata": {
        "id": "rttFCTU8czsI"
      },
      "outputs": [
        {
          "data": {
            "image/png": "[encoded data removed]",
            "text/plain": [
              "<Figure size 640x480 with 1 Axes>"
            ]
          },
          "metadata": {},
          "output_type": "display_data"
        }
      ],
      "source": [
        "def plot_vario(x, y):\n",
        "  plt.scatter(train_features['climb_rate_m/s'], train_labels, label='Data')\n",
        "  plt.plot(x, y, color='k', label='Predictions')\n",
        "  plt.xlabel('Horsepower')\n",
        "  plt.ylabel('MPG')\n",
        "  plt.legend()\n",
        "\n",
        "plot_vario(x, y)"
      ]
    },
    {
      "cell_type": "code",
      "execution_count": 41,
      "metadata": {
        "id": "ssnVcKg7oMe6"
      },
      "outputs": [],
      "source": [
        "linear_model = tf.keras.Sequential([\n",
        "    normalizer,\n",
        "    layers.Dense(units=1)\n",
        "])"
      ]
    },
    {
      "cell_type": "code",
      "execution_count": 42,
      "metadata": {
        "id": "DynfJV18WiuT"
      },
      "outputs": [
        {
          "name": "stdout",
          "output_type": "stream",
          "text": [
            "\u001b[1m1/1\u001b[0m \u001b[32m━━━━━━━━━━━━━━━━━━━━\u001b[0m\u001b[37m\u001b[0m \u001b[1m0s\u001b[0m 55ms/step\n"
          ]
        },
        {
          "data": {
            "text/plain": [
              "array([[ 0.041],\n",
              "       [ 1.447],\n",
              "       [-1.101],\n",
              "       [-0.254],\n",
              "       [-0.017],\n",
              "       [-0.307],\n",
              "       [ 0.002],\n",
              "       [ 1.097],\n",
              "       [ 0.032],\n",
              "       [-1.001]], dtype=float32)"
            ]
          },
          "execution_count": 42,
          "metadata": {},
          "output_type": "execute_result"
        }
      ],
      "source": [
        "linear_model.predict(train_features[:10])"
      ]
    },
    {
      "cell_type": "code",
      "execution_count": 43,
      "metadata": {
        "id": "DwJ4Fq0RXBQf"
      },
      "outputs": [
        {
          "data": {
            "text/plain": [
              "<Variable path=sequential_3/dense_3/kernel, shape=(15, 1), dtype=float32, value=[[ 0.221]\n",
              " [-0.591]\n",
              " [-0.342]\n",
              " [-0.4  ]\n",
              " [ 0.593]\n",
              " [-0.264]\n",
              " [-0.503]\n",
              " [ 0.414]\n",
              " [-0.239]\n",
              " [ 0.11 ]\n",
              " [-0.137]\n",
              " [ 0.489]\n",
              " [-0.101]\n",
              " [-0.212]\n",
              " [ 0.329]]>"
            ]
          },
          "execution_count": 43,
          "metadata": {},
          "output_type": "execute_result"
        }
      ],
      "source": [
        "linear_model.layers[1].kernel"
      ]
    },
    {
      "cell_type": "code",
      "execution_count": 44,
      "metadata": {
        "id": "A0Sv_Ybr0szp"
      },
      "outputs": [],
      "source": [
        "linear_model.compile(\n",
        "    optimizer=tf.keras.optimizers.Adam(learning_rate=0.1),\n",
        "    loss='mean_absolute_error')"
      ]
    },
    {
      "cell_type": "code",
      "execution_count": 45,
      "metadata": {
        "id": "EZoOYORvoTSe"
      },
      "outputs": [
        {
          "name": "stdout",
          "output_type": "stream",
          "text": [
            "CPU times: user 15.2 s, sys: 2.44 s, total: 17.6 s\n",
            "Wall time: 12.3 s\n"
          ]
        }
      ],
      "source": [
        "%%time\n",
        "history = linear_model.fit(\n",
        "    train_features,\n",
        "    train_labels,\n",
        "    epochs=10,\n",
        "    # Suppress logging.\n",
        "    verbose=0,\n",
        "    # Calculate validation results on 20% of the training data.\n",
        "    validation_split = 0.2)"
      ]
    },
    {
      "cell_type": "code",
      "execution_count": 46,
      "metadata": {
        "id": "4sWO3W0koYgu"
      },
      "outputs": [
        {
          "data": {
            "image/png": "[encoded data removed]",
            "text/plain": [
              "<Figure size 640x480 with 1 Axes>"
            ]
          },
          "metadata": {},
          "output_type": "display_data"
        }
      ],
      "source": [
        "plot_loss(history)"
      ]
    },
    {
      "cell_type": "code",
      "execution_count": 47,
      "metadata": {
        "id": "jNC3D1DGsGgK"
      },
      "outputs": [],
      "source": [
        "test_results['linear_model'] = linear_model.evaluate(\n",
        "    test_features, test_labels, verbose=0)"
      ]
    },
    {
      "cell_type": "code",
      "execution_count": 48,
      "metadata": {
        "id": "c26juK7ZG8j-"
      },
      "outputs": [],
      "source": [
        "def build_and_compile_model(norm):\n",
        "  model = keras.Sequential([\n",
        "      norm,\n",
        "      layers.Dense(64, activation='relu'),\n",
        "      layers.Dense(64, activation='relu'),\n",
        "      layers.Dense(1)\n",
        "  ])\n",
        "\n",
        "  model.compile(loss='mean_absolute_error',\n",
        "                optimizer=tf.keras.optimizers.Adam(0.001))\n",
        "  return model"
      ]
    },
    {
      "cell_type": "code",
      "execution_count": 49,
      "metadata": {
        "id": "cGbPb-PHGbhs"
      },
      "outputs": [],
      "source": [
        "dnn_vario_model = build_and_compile_model(vario_normalizer)"
      ]
    },
    {
      "cell_type": "code",
      "execution_count": 50,
      "metadata": {
        "id": "ReAD0n6MsFK-"
      },
      "outputs": [
        {
          "data": {
            "text/html": [
              "<pre style=\"white-space:pre;overflow-x:auto;line-height:normal;font-family:Menlo,'DejaVu Sans Mono',consolas,'Courier New',monospace\"><span style=\"font-weight: bold\">Model: \"sequential_4\"</span>\n",
              "</pre>\n"
            ],
            "text/plain": [
              "\u001b[1mModel: \"sequential_4\"\u001b[0m\n"
            ]
          },
          "metadata": {},
          "output_type": "display_data"
        },
        {
          "data": {
            "text/html": [
              "<pre style=\"white-space:pre;overflow-x:auto;line-height:normal;font-family:Menlo,'DejaVu Sans Mono',consolas,'Courier New',monospace\">┏━━━━━━━━━━━━━━━━━━━━━━━━━━━━━━━━━┳━━━━━━━━━━━━━━━━━━━━━━━━┳━━━━━━━━━━━━━━━┓\n",
              "┃<span style=\"font-weight: bold\"> Layer (type)                    </span>┃<span style=\"font-weight: bold\"> Output Shape           </span>┃<span style=\"font-weight: bold\">       Param # </span>┃\n",
              "┡━━━━━━━━━━━━━━━━━━━━━━━━━━━━━━━━━╇━━━━━━━━━━━━━━━━━━━━━━━━╇━━━━━━━━━━━━━━━┩\n",
              "│ normalization_3 (<span style=\"color: #0087ff; text-decoration-color: #0087ff\">Normalization</span>) │ (<span style=\"color: #00d7ff; text-decoration-color: #00d7ff\">None</span>, <span style=\"color: #00af00; text-decoration-color: #00af00\">1</span>)              │             <span style=\"color: #00af00; text-decoration-color: #00af00\">3</span> │\n",
              "├─────────────────────────────────┼────────────────────────┼───────────────┤\n",
              "│ dense_4 (<span style=\"color: #0087ff; text-decoration-color: #0087ff\">Dense</span>)                 │ (<span style=\"color: #00d7ff; text-decoration-color: #00d7ff\">None</span>, <span style=\"color: #00af00; text-decoration-color: #00af00\">64</span>)             │           <span style=\"color: #00af00; text-decoration-color: #00af00\">128</span> │\n",
              "├─────────────────────────────────┼────────────────────────┼───────────────┤\n",
              "│ dense_5 (<span style=\"color: #0087ff; text-decoration-color: #0087ff\">Dense</span>)                 │ (<span style=\"color: #00d7ff; text-decoration-color: #00d7ff\">None</span>, <span style=\"color: #00af00; text-decoration-color: #00af00\">64</span>)             │         <span style=\"color: #00af00; text-decoration-color: #00af00\">4,160</span> │\n",
              "├─────────────────────────────────┼────────────────────────┼───────────────┤\n",
              "│ dense_6 (<span style=\"color: #0087ff; text-decoration-color: #0087ff\">Dense</span>)                 │ (<span style=\"color: #00d7ff; text-decoration-color: #00d7ff\">None</span>, <span style=\"color: #00af00; text-decoration-color: #00af00\">1</span>)              │            <span style=\"color: #00af00; text-decoration-color: #00af00\">65</span> │\n",
              "└─────────────────────────────────┴────────────────────────┴───────────────┘\n",
              "</pre>\n"
            ],
            "text/plain": [
              "┏━━━━━━━━━━━━━━━━━━━━━━━━━━━━━━━━━┳━━━━━━━━━━━━━━━━━━━━━━━━┳━━━━━━━━━━━━━━━┓\n",
              "┃\u001b[1m \u001b[0m\u001b[1mLayer (type)                   \u001b[0m\u001b[1m \u001b[0m┃\u001b[1m \u001b[0m\u001b[1mOutput Shape          \u001b[0m\u001b[1m \u001b[0m┃\u001b[1m \u001b[0m\u001b[1m      Param #\u001b[0m\u001b[1m \u001b[0m┃\n",
              "┡━━━━━━━━━━━━━━━━━━━━━━━━━━━━━━━━━╇━━━━━━━━━━━━━━━━━━━━━━━━╇━━━━━━━━━━━━━━━┩\n",
              "│ normalization_3 (\u001b[38;5;33mNormalization\u001b[0m) │ (\u001b[38;5;45mNone\u001b[0m, \u001b[38;5;34m1\u001b[0m)              │             \u001b[38;5;34m3\u001b[0m │\n",
              "├─────────────────────────────────┼────────────────────────┼───────────────┤\n",
              "│ dense_4 (\u001b[38;5;33mDense\u001b[0m)                 │ (\u001b[38;5;45mNone\u001b[0m, \u001b[38;5;34m64\u001b[0m)             │           \u001b[38;5;34m128\u001b[0m │\n",
              "├─────────────────────────────────┼────────────────────────┼───────────────┤\n",
              "│ dense_5 (\u001b[38;5;33mDense\u001b[0m)                 │ (\u001b[38;5;45mNone\u001b[0m, \u001b[38;5;34m64\u001b[0m)             │         \u001b[38;5;34m4,160\u001b[0m │\n",
              "├─────────────────────────────────┼────────────────────────┼───────────────┤\n",
              "│ dense_6 (\u001b[38;5;33mDense\u001b[0m)                 │ (\u001b[38;5;45mNone\u001b[0m, \u001b[38;5;34m1\u001b[0m)              │            \u001b[38;5;34m65\u001b[0m │\n",
              "└─────────────────────────────────┴────────────────────────┴───────────────┘\n"
            ]
          },
          "metadata": {},
          "output_type": "display_data"
        },
        {
          "data": {
            "text/html": [
              "<pre style=\"white-space:pre;overflow-x:auto;line-height:normal;font-family:Menlo,'DejaVu Sans Mono',consolas,'Courier New',monospace\"><span style=\"font-weight: bold\"> Total params: </span><span style=\"color: #00af00; text-decoration-color: #00af00\">4,356</span> (17.02 KB)\n",
              "</pre>\n"
            ],
            "text/plain": [
              "\u001b[1m Total params: \u001b[0m\u001b[38;5;34m4,356\u001b[0m (17.02 KB)\n"
            ]
          },
          "metadata": {},
          "output_type": "display_data"
        },
        {
          "data": {
            "text/html": [
              "<pre style=\"white-space:pre;overflow-x:auto;line-height:normal;font-family:Menlo,'DejaVu Sans Mono',consolas,'Courier New',monospace\"><span style=\"font-weight: bold\"> Trainable params: </span><span style=\"color: #00af00; text-decoration-color: #00af00\">4,353</span> (17.00 KB)\n",
              "</pre>\n"
            ],
            "text/plain": [
              "\u001b[1m Trainable params: \u001b[0m\u001b[38;5;34m4,353\u001b[0m (17.00 KB)\n"
            ]
          },
          "metadata": {},
          "output_type": "display_data"
        },
        {
          "data": {
            "text/html": [
              "<pre style=\"white-space:pre;overflow-x:auto;line-height:normal;font-family:Menlo,'DejaVu Sans Mono',consolas,'Courier New',monospace\"><span style=\"font-weight: bold\"> Non-trainable params: </span><span style=\"color: #00af00; text-decoration-color: #00af00\">3</span> (16.00 B)\n",
              "</pre>\n"
            ],
            "text/plain": [
              "\u001b[1m Non-trainable params: \u001b[0m\u001b[38;5;34m3\u001b[0m (16.00 B)\n"
            ]
          },
          "metadata": {},
          "output_type": "display_data"
        }
      ],
      "source": [
        "dnn_vario_model.summary()"
      ]
    },
    {
      "cell_type": "markdown",
      "metadata": {
        "id": "0-qWCsh6DlyH"
      },
      "source": [
        "Train the model with Keras `Model.fit`:"
      ]
    },
    {
      "cell_type": "code",
      "execution_count": 52,
      "metadata": {
        "id": "sD7qHCmNIOY0"
      },
      "outputs": [
        {
          "name": "stdout",
          "output_type": "stream",
          "text": [
            "CPU times: user 17.2 s, sys: 2.32 s, total: 19.5 s\n",
            "Wall time: 13.8 s\n"
          ]
        }
      ],
      "source": [
        "%%time\n",
        "history = dnn_vario_model.fit(\n",
        "    train_features['climb_rate_m/s'],\n",
        "    train_labels,\n",
        "    validation_split=0.2,\n",
        "    verbose=0, epochs=10)"
      ]
    },
    {
      "cell_type": "markdown",
      "metadata": {
        "id": "dArGGxHxcKjN"
      },
      "source": [
        "This model does slightly better than the linear single-input `horsepower_model`:"
      ]
    },
    {
      "cell_type": "code",
      "execution_count": 53,
      "metadata": {
        "id": "NcF6UWjdCU8T"
      },
      "outputs": [
        {
          "data": {
            "image/png": "[encoded data removed]",
            "text/plain": [
              "<Figure size 640x480 with 1 Axes>"
            ]
          },
          "metadata": {},
          "output_type": "display_data"
        }
      ],
      "source": [
        "plot_loss(history)"
      ]
    },
    {
      "cell_type": "markdown",
      "metadata": {
        "id": "TG1snlpR2QCK"
      },
      "source": [
        "If you plot the predictions as a function of `'Horsepower'`, you should notice how this model takes advantage of the nonlinearity provided by the hidden layers:"
      ]
    },
    {
      "cell_type": "code",
      "execution_count": 54,
      "metadata": {
        "id": "hPF53Rem14NS"
      },
      "outputs": [
        {
          "name": "stdout",
          "output_type": "stream",
          "text": [
            "\u001b[1m8/8\u001b[0m \u001b[32m━━━━━━━━━━━━━━━━━━━━\u001b[0m\u001b[37m\u001b[0m \u001b[1m0s\u001b[0m 3ms/step \n"
          ]
        }
      ],
      "source": [
        "x = tf.linspace(0.0, 250, 251)\n",
        "y = dnn_vario_model.predict(x)"
      ]
    },
    {
      "cell_type": "code",
      "execution_count": 55,
      "metadata": {
        "id": "rsf9rD8I17Wq"
      },
      "outputs": [
        {
          "data": {
            "image/png": "[encoded data removed]",
            "text/plain": [
              "<Figure size 640x480 with 1 Axes>"
            ]
          },
          "metadata": {},
          "output_type": "display_data"
        }
      ],
      "source": [
        "plot_vario(x, y)"
      ]
    },
    {
      "cell_type": "markdown",
      "metadata": {
        "id": "WxCJKIUpe4io"
      },
      "source": [
        "Collect the results on the test set for later:"
      ]
    },
    {
      "cell_type": "code",
      "execution_count": 57,
      "metadata": {
        "id": "bJjM0dU52XtN"
      },
      "outputs": [],
      "source": [
        "test_results['dnn_vario_model'] = dnn_vario_model.evaluate(\n",
        "    test_features['climb_rate_m/s'], test_labels,\n",
        "    verbose=0)"
      ]
    },
    {
      "cell_type": "code",
      "execution_count": 58,
      "metadata": {
        "id": "c0mhscXh2k36"
      },
      "outputs": [
        {
          "data": {
            "text/html": [
              "<pre style=\"white-space:pre;overflow-x:auto;line-height:normal;font-family:Menlo,'DejaVu Sans Mono',consolas,'Courier New',monospace\"><span style=\"font-weight: bold\">Model: \"sequential_5\"</span>\n",
              "</pre>\n"
            ],
            "text/plain": [
              "\u001b[1mModel: \"sequential_5\"\u001b[0m\n"
            ]
          },
          "metadata": {},
          "output_type": "display_data"
        },
        {
          "data": {
            "text/html": [
              "<pre style=\"white-space:pre;overflow-x:auto;line-height:normal;font-family:Menlo,'DejaVu Sans Mono',consolas,'Courier New',monospace\">┏━━━━━━━━━━━━━━━━━━━━━━━━━━━━━━━━━┳━━━━━━━━━━━━━━━━━━━━━━━━┳━━━━━━━━━━━━━━━┓\n",
              "┃<span style=\"font-weight: bold\"> Layer (type)                    </span>┃<span style=\"font-weight: bold\"> Output Shape           </span>┃<span style=\"font-weight: bold\">       Param # </span>┃\n",
              "┡━━━━━━━━━━━━━━━━━━━━━━━━━━━━━━━━━╇━━━━━━━━━━━━━━━━━━━━━━━━╇━━━━━━━━━━━━━━━┩\n",
              "│ normalization_2 (<span style=\"color: #0087ff; text-decoration-color: #0087ff\">Normalization</span>) │ (<span style=\"color: #00af00; text-decoration-color: #00af00\">10</span>, <span style=\"color: #00af00; text-decoration-color: #00af00\">15</span>)               │            <span style=\"color: #00af00; text-decoration-color: #00af00\">31</span> │\n",
              "├─────────────────────────────────┼────────────────────────┼───────────────┤\n",
              "│ dense_7 (<span style=\"color: #0087ff; text-decoration-color: #0087ff\">Dense</span>)                 │ ?                      │   <span style=\"color: #00af00; text-decoration-color: #00af00\">0</span> (unbuilt) │\n",
              "├─────────────────────────────────┼────────────────────────┼───────────────┤\n",
              "│ dense_8 (<span style=\"color: #0087ff; text-decoration-color: #0087ff\">Dense</span>)                 │ ?                      │   <span style=\"color: #00af00; text-decoration-color: #00af00\">0</span> (unbuilt) │\n",
              "├─────────────────────────────────┼────────────────────────┼───────────────┤\n",
              "│ dense_9 (<span style=\"color: #0087ff; text-decoration-color: #0087ff\">Dense</span>)                 │ ?                      │   <span style=\"color: #00af00; text-decoration-color: #00af00\">0</span> (unbuilt) │\n",
              "└─────────────────────────────────┴────────────────────────┴───────────────┘\n",
              "</pre>\n"
            ],
            "text/plain": [
              "┏━━━━━━━━━━━━━━━━━━━━━━━━━━━━━━━━━┳━━━━━━━━━━━━━━━━━━━━━━━━┳━━━━━━━━━━━━━━━┓\n",
              "┃\u001b[1m \u001b[0m\u001b[1mLayer (type)                   \u001b[0m\u001b[1m \u001b[0m┃\u001b[1m \u001b[0m\u001b[1mOutput Shape          \u001b[0m\u001b[1m \u001b[0m┃\u001b[1m \u001b[0m\u001b[1m      Param #\u001b[0m\u001b[1m \u001b[0m┃\n",
              "┡━━━━━━━━━━━━━━━━━━━━━━━━━━━━━━━━━╇━━━━━━━━━━━━━━━━━━━━━━━━╇━━━━━━━━━━━━━━━┩\n",
              "│ normalization_2 (\u001b[38;5;33mNormalization\u001b[0m) │ (\u001b[38;5;34m10\u001b[0m, \u001b[38;5;34m15\u001b[0m)               │            \u001b[38;5;34m31\u001b[0m │\n",
              "├─────────────────────────────────┼────────────────────────┼───────────────┤\n",
              "│ dense_7 (\u001b[38;5;33mDense\u001b[0m)                 │ ?                      │   \u001b[38;5;34m0\u001b[0m (unbuilt) │\n",
              "├─────────────────────────────────┼────────────────────────┼───────────────┤\n",
              "│ dense_8 (\u001b[38;5;33mDense\u001b[0m)                 │ ?                      │   \u001b[38;5;34m0\u001b[0m (unbuilt) │\n",
              "├─────────────────────────────────┼────────────────────────┼───────────────┤\n",
              "│ dense_9 (\u001b[38;5;33mDense\u001b[0m)                 │ ?                      │   \u001b[38;5;34m0\u001b[0m (unbuilt) │\n",
              "└─────────────────────────────────┴────────────────────────┴───────────────┘\n"
            ]
          },
          "metadata": {},
          "output_type": "display_data"
        },
        {
          "data": {
            "text/html": [
              "<pre style=\"white-space:pre;overflow-x:auto;line-height:normal;font-family:Menlo,'DejaVu Sans Mono',consolas,'Courier New',monospace\"><span style=\"font-weight: bold\"> Total params: </span><span style=\"color: #00af00; text-decoration-color: #00af00\">31</span> (128.00 B)\n",
              "</pre>\n"
            ],
            "text/plain": [
              "\u001b[1m Total params: \u001b[0m\u001b[38;5;34m31\u001b[0m (128.00 B)\n"
            ]
          },
          "metadata": {},
          "output_type": "display_data"
        },
        {
          "data": {
            "text/html": [
              "<pre style=\"white-space:pre;overflow-x:auto;line-height:normal;font-family:Menlo,'DejaVu Sans Mono',consolas,'Courier New',monospace\"><span style=\"font-weight: bold\"> Trainable params: </span><span style=\"color: #00af00; text-decoration-color: #00af00\">0</span> (0.00 B)\n",
              "</pre>\n"
            ],
            "text/plain": [
              "\u001b[1m Trainable params: \u001b[0m\u001b[38;5;34m0\u001b[0m (0.00 B)\n"
            ]
          },
          "metadata": {},
          "output_type": "display_data"
        },
        {
          "data": {
            "text/html": [
              "<pre style=\"white-space:pre;overflow-x:auto;line-height:normal;font-family:Menlo,'DejaVu Sans Mono',consolas,'Courier New',monospace\"><span style=\"font-weight: bold\"> Non-trainable params: </span><span style=\"color: #00af00; text-decoration-color: #00af00\">31</span> (128.00 B)\n",
              "</pre>\n"
            ],
            "text/plain": [
              "\u001b[1m Non-trainable params: \u001b[0m\u001b[38;5;34m31\u001b[0m (128.00 B)\n"
            ]
          },
          "metadata": {},
          "output_type": "display_data"
        }
      ],
      "source": [
        "dnn_model = build_and_compile_model(normalizer)\n",
        "dnn_model.summary()"
      ]
    },
    {
      "cell_type": "code",
      "execution_count": 59,
      "metadata": {
        "id": "CXDENACl2tuW"
      },
      "outputs": [
        {
          "name": "stdout",
          "output_type": "stream",
          "text": [
            "CPU times: user 17.6 s, sys: 2.38 s, total: 20 s\n",
            "Wall time: 14.4 s\n"
          ]
        }
      ],
      "source": [
        "%%time\n",
        "history = dnn_model.fit(\n",
        "    train_features,\n",
        "    train_labels,\n",
        "    validation_split=0.2,\n",
        "    verbose=0, epochs=10)"
      ]
    },
    {
      "cell_type": "code",
      "execution_count": 60,
      "metadata": {
        "id": "-9Dbj0fX23RQ"
      },
      "outputs": [
        {
          "data": {
            "image/png": "[encoded data removed]",
            "text/plain": [
              "<Figure size 640x480 with 1 Axes>"
            ]
          },
          "metadata": {},
          "output_type": "display_data"
        }
      ],
      "source": [
        "plot_loss(history)"
      ]
    },
    {
      "cell_type": "code",
      "execution_count": 61,
      "metadata": {
        "id": "-bZIa96W3c7K"
      },
      "outputs": [],
      "source": [
        "test_results['dnn_model'] = dnn_model.evaluate(test_features, test_labels, verbose=0)"
      ]
    },
    {
      "cell_type": "code",
      "execution_count": 62,
      "metadata": {
        "id": "e5_ooufM5iH2"
      },
      "outputs": [
        {
          "data": {
            "application/vnd.microsoft.datawrangler.viewer.v0+json": {
              "columns": [
                {
                  "name": "index",
                  "rawType": "object",
                  "type": "string"
                },
                {
                  "name": "Mean absolute error [MPG]",
                  "rawType": "float64",
                  "type": "float"
                }
              ],
              "conversionMethod": "pd.DataFrame",
              "ref": "229b627d-5bf8-440c-9f43-9e2a7b5b476d",
              "rows": [
                [
                  "vario_model",
                  "0.28404390811920166"
                ],
                [
                  "linear_model",
                  "0.32700130343437195"
                ],
                [
                  "dnn_vario_model",
                  "0.13452650606632233"
                ],
                [
                  "dnn_model",
                  "0.002509101526811719"
                ]
              ],
              "shape": {
                "columns": 1,
                "rows": 4
              }
            },
            "text/html": [
              "<div>\n",
              "<style scoped>\n",
              "    .dataframe tbody tr th:only-of-type {\n",
              "        vertical-align: middle;\n",
              "    }\n",
              "\n",
              "    .dataframe tbody tr th {\n",
              "        vertical-align: top;\n",
              "    }\n",
              "\n",
              "    .dataframe thead th {\n",
              "        text-align: right;\n",
              "    }\n",
              "</style>\n",
              "<table border=\"1\" class=\"dataframe\">\n",
              "  <thead>\n",
              "    <tr style=\"text-align: right;\">\n",
              "      <th></th>\n",
              "      <th>Mean absolute error [MPG]</th>\n",
              "    </tr>\n",
              "  </thead>\n",
              "  <tbody>\n",
              "    <tr>\n",
              "      <th>vario_model</th>\n",
              "      <td>0.284044</td>\n",
              "    </tr>\n",
              "    <tr>\n",
              "      <th>linear_model</th>\n",
              "      <td>0.327001</td>\n",
              "    </tr>\n",
              "    <tr>\n",
              "      <th>dnn_vario_model</th>\n",
              "      <td>0.134527</td>\n",
              "    </tr>\n",
              "    <tr>\n",
              "      <th>dnn_model</th>\n",
              "      <td>0.002509</td>\n",
              "    </tr>\n",
              "  </tbody>\n",
              "</table>\n",
              "</div>"
            ],
            "text/plain": [
              "                 Mean absolute error [MPG]\n",
              "vario_model                       0.284044\n",
              "linear_model                      0.327001\n",
              "dnn_vario_model                   0.134527\n",
              "dnn_model                         0.002509"
            ]
          },
          "execution_count": 62,
          "metadata": {},
          "output_type": "execute_result"
        }
      ],
      "source": [
        "pd.DataFrame(test_results, index=['Mean absolute error [MPG]']).T"
      ]
    },
    {
      "cell_type": "code",
      "execution_count": 63,
      "metadata": {
        "id": "Xe7RXH3N3CWU"
      },
      "outputs": [
        {
          "name": "stdout",
          "output_type": "stream",
          "text": [
            "\u001b[1m1088/1088\u001b[0m \u001b[32m━━━━━━━━━━━━━━━━━━━━\u001b[0m\u001b[37m\u001b[0m \u001b[1m0s\u001b[0m 224us/step\n"
          ]
        },
        {
          "data": {
            "image/png": "[encoded data removed]",
            "text/plain": [
              "<Figure size 640x480 with 1 Axes>"
            ]
          },
          "metadata": {},
          "output_type": "display_data"
        }
      ],
      "source": [
        "test_predictions = dnn_model.predict(test_features).flatten()\n",
        "\n",
        "a = plt.axes(aspect='equal')\n",
        "plt.scatter(test_labels, test_predictions)\n",
        "plt.xlabel('True Values [MPG]')\n",
        "plt.ylabel('Predictions [MPG]')\n",
        "lims = [0, 50]\n",
        "plt.xlim(lims)\n",
        "plt.ylim(lims)\n",
        "_ = plt.plot(lims, lims)\n"
      ]
    },
    {
      "cell_type": "markdown",
      "metadata": {
        "id": "19wyogbOSU5t"
      },
      "source": [
        "It appears that the model predicts reasonably well.\n",
        "\n",
        "Now, check the error distribution:"
      ]
    },
    {
      "cell_type": "code",
      "execution_count": 64,
      "metadata": {
        "id": "f-OHX4DiXd8x"
      },
      "outputs": [
        {
          "data": {
            "image/png": "[encoded data removed]",
            "text/plain": [
              "<Figure size 640x480 with 1 Axes>"
            ]
          },
          "metadata": {},
          "output_type": "display_data"
        }
      ],
      "source": [
        "error = test_predictions - test_labels\n",
        "plt.hist(error, bins=25)\n",
        "plt.xlabel('Prediction Error [MPG]')\n",
        "_ = plt.ylabel('Count')"
      ]
    },
    {
      "cell_type": "markdown",
      "metadata": {
        "id": "KSyaHUfDT-mZ"
      },
      "source": [
        "If you're happy with the model, save it for later use with `Model.save`:"
      ]
    },
    {
      "cell_type": "code",
      "execution_count": 65,
      "metadata": {
        "id": "4-WwLlmfT-mb"
      },
      "outputs": [],
      "source": [
        "dnn_model.save('dnn_model.keras')"
      ]
    },
    {
      "cell_type": "code",
      "execution_count": 66,
      "metadata": {
        "id": "dyyyj2zVT-mf"
      },
      "outputs": [],
      "source": [
        "reloaded = tf.keras.models.load_model('dnn_model.keras')\n",
        "\n",
        "test_results['reloaded'] = reloaded.evaluate(\n",
        "    test_features, test_labels, verbose=0)"
      ]
    },
    {
      "cell_type": "code",
      "execution_count": 67,
      "metadata": {
        "id": "f_GchJ2tg-2o"
      },
      "outputs": [
        {
          "data": {
            "application/vnd.microsoft.datawrangler.viewer.v0+json": {
              "columns": [
                {
                  "name": "index",
                  "rawType": "object",
                  "type": "string"
                },
                {
                  "name": "Mean absolute error [MPG]",
                  "rawType": "float64",
                  "type": "float"
                }
              ],
              "conversionMethod": "pd.DataFrame",
              "ref": "e8f114f9-eec1-4e14-b1ed-a370ffa2b109",
              "rows": [
                [
                  "vario_model",
                  "0.28404390811920166"
                ],
                [
                  "linear_model",
                  "0.32700130343437195"
                ],
                [
                  "dnn_vario_model",
                  "0.13452650606632233"
                ],
                [
                  "dnn_model",
                  "0.002509101526811719"
                ],
                [
                  "reloaded",
                  "0.002509101526811719"
                ]
              ],
              "shape": {
                "columns": 1,
                "rows": 5
              }
            },
            "text/html": [
              "<div>\n",
              "<style scoped>\n",
              "    .dataframe tbody tr th:only-of-type {\n",
              "        vertical-align: middle;\n",
              "    }\n",
              "\n",
              "    .dataframe tbody tr th {\n",
              "        vertical-align: top;\n",
              "    }\n",
              "\n",
              "    .dataframe thead th {\n",
              "        text-align: right;\n",
              "    }\n",
              "</style>\n",
              "<table border=\"1\" class=\"dataframe\">\n",
              "  <thead>\n",
              "    <tr style=\"text-align: right;\">\n",
              "      <th></th>\n",
              "      <th>Mean absolute error [MPG]</th>\n",
              "    </tr>\n",
              "  </thead>\n",
              "  <tbody>\n",
              "    <tr>\n",
              "      <th>vario_model</th>\n",
              "      <td>0.284044</td>\n",
              "    </tr>\n",
              "    <tr>\n",
              "      <th>linear_model</th>\n",
              "      <td>0.327001</td>\n",
              "    </tr>\n",
              "    <tr>\n",
              "      <th>dnn_vario_model</th>\n",
              "      <td>0.134527</td>\n",
              "    </tr>\n",
              "    <tr>\n",
              "      <th>dnn_model</th>\n",
              "      <td>0.002509</td>\n",
              "    </tr>\n",
              "    <tr>\n",
              "      <th>reloaded</th>\n",
              "      <td>0.002509</td>\n",
              "    </tr>\n",
              "  </tbody>\n",
              "</table>\n",
              "</div>"
            ],
            "text/plain": [
              "                 Mean absolute error [MPG]\n",
              "vario_model                       0.284044\n",
              "linear_model                      0.327001\n",
              "dnn_vario_model                   0.134527\n",
              "dnn_model                         0.002509\n",
              "reloaded                          0.002509"
            ]
          },
          "execution_count": 67,
          "metadata": {},
          "output_type": "execute_result"
        }
      ],
      "source": [
        "pd.DataFrame(test_results, index=['Mean absolute error [MPG]']).T"
      ]
    }
  ],
  "metadata": {
    "colab": {
      "collapsed_sections": [],
      "name": "regression.ipynb",
      "toc_visible": true
    },
    "kernelspec": {
      "display_name": ".venv",
      "language": "python",
      "name": "python3"
    },
    "language_info": {
      "codemirror_mode": {
        "name": "ipython",
        "version": 3
      },
      "file_extension": ".py",
      "mimetype": "text/x-python",
      "name": "python",
      "nbconvert_exporter": "python",
      "pygments_lexer": "ipython3",
      "version": "3.11.12"
    }
  },
  "nbformat": 4,
  "nbformat_minor": 0
}
