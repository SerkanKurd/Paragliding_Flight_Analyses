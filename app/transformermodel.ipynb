{
 "cells": [
  {
   "cell_type": "code",
   "execution_count": 11,
   "id": "9453d7ce",
   "metadata": {},
   "outputs": [],
   "source": [
    "import pandas as pd\n",
    "import numpy as np\n",
    "import os\n",
    "from sklearn.preprocessing import StandardScaler\n",
    "import tensorflow as tf\n",
    "from tensorflow.keras import layers, Model\n",
    "from tensorflow.keras.callbacks import EarlyStopping, ModelCheckpoint\n",
    "import pickle\n",
    "import matplotlib.pyplot as plt\n",
    "import utils.db_connection as db"
   ]
  },
  {
   "cell_type": "code",
   "execution_count": 12,
   "id": "556d1306",
   "metadata": {},
   "outputs": [
    {
     "data": {
      "application/vnd.microsoft.datawrangler.viewer.v0+json": {
       "columns": [
        {
         "name": "index",
         "rawType": "int64",
         "type": "integer"
        },
        {
         "name": "latitude",
         "rawType": "float64",
         "type": "float"
        },
        {
         "name": "longitude",
         "rawType": "float64",
         "type": "float"
        },
        {
         "name": "datetime",
         "rawType": "object",
         "type": "string"
        },
        {
         "name": "gps_altitude_m",
         "rawType": "int64",
         "type": "integer"
        },
        {
         "name": "distance_m",
         "rawType": "float64",
         "type": "float"
        },
        {
         "name": "speed_km/s",
         "rawType": "float64",
         "type": "float"
        },
        {
         "name": "climb_m",
         "rawType": "float64",
         "type": "float"
        },
        {
         "name": "climb_m(delta)",
         "rawType": "float64",
         "type": "float"
        },
        {
         "name": "climb_rate_m/s",
         "rawType": "float64",
         "type": "float"
        },
        {
         "name": "glide_ratio",
         "rawType": "float64",
         "type": "float"
        },
        {
         "name": "bearing",
         "rawType": "int64",
         "type": "integer"
        },
        {
         "name": "delta_bearing",
         "rawType": "float64",
         "type": "float"
        },
        {
         "name": "elapsed_time",
         "rawType": "float64",
         "type": "float"
        },
        {
         "name": "delta_time",
         "rawType": "float64",
         "type": "float"
        },
        {
         "name": "temp",
         "rawType": "float64",
         "type": "float"
        },
        {
         "name": "pressure",
         "rawType": "float64",
         "type": "float"
        },
        {
         "name": "humidity",
         "rawType": "float64",
         "type": "float"
        },
        {
         "name": "dew_point",
         "rawType": "float64",
         "type": "float"
        },
        {
         "name": "wind_speed",
         "rawType": "float64",
         "type": "float"
        },
        {
         "name": "wind_deg",
         "rawType": "float64",
         "type": "float"
        }
       ],
       "ref": "e3ad70c5-183d-4b73-8b9a-4121595e4176",
       "rows": [
        [
         "0",
         "36.980983333333334",
         "29.314416666666666",
         "2020-07-03 07:42:24",
         "2083",
         "7.545829531544728",
         "27.16498631356102",
         "-2.0",
         "0.0",
         "-2.0",
         "3.772914765772364",
         "11",
         "3.0",
         "17.0",
         "1.0",
         "25.62",
         "1008.0",
         "35.0",
         "9.04",
         "0.66",
         "75.0"
        ],
        [
         "1",
         "36.98105",
         "29.31445",
         "2020-07-03 07:42:25",
         "2082",
         "7.971536108980696",
         "28.697529992330505",
         "-3.0",
         "0.0",
         "-3.0",
         "2.657178702993565",
         "21",
         "10.0",
         "18.0",
         "1.0",
         "25.62",
         "1008.0",
         "35.0",
         "9.04",
         "0.66",
         "75.0"
        ],
        [
         "2",
         "36.98115",
         "29.3145",
         "2020-07-03 07:42:26",
         "2080",
         "11.957302499872858",
         "43.04628899954229",
         "-2.0",
         "0.0",
         "-2.0",
         "5.978651249936429",
         "21",
         "0.0",
         "19.0",
         "1.0",
         "25.62",
         "1008.0",
         "35.0",
         "9.04",
         "0.66",
         "75.0"
        ],
        [
         "3",
         "36.98121666666667",
         "29.314566666666668",
         "2020-07-03 07:42:27",
         "2079",
         "9.485179294835197",
         "34.146645461406706",
         "-1.0",
         "-14.0",
         "-1.0",
         "9.485179294835197",
         "38",
         "17.0",
         "20.0",
         "1.0",
         "25.62",
         "1008.0",
         "35.0",
         "9.04",
         "0.66",
         "75.0"
        ],
        [
         "4",
         "36.98128333333333",
         "29.314633333333333",
         "2020-07-03 07:42:28",
         "2078",
         "9.485176119646884",
         "34.146634030728784",
         "0.0",
         "-14.0",
         "0.0",
         "0.0",
         "38",
         "0.0",
         "21.0",
         "1.0",
         "25.62",
         "1008.0",
         "35.0",
         "9.04",
         "0.66",
         "75.0"
        ]
       ],
       "shape": {
        "columns": 20,
        "rows": 5
       }
      },
      "text/html": [
       "<div>\n",
       "<style scoped>\n",
       "    .dataframe tbody tr th:only-of-type {\n",
       "        vertical-align: middle;\n",
       "    }\n",
       "\n",
       "    .dataframe tbody tr th {\n",
       "        vertical-align: top;\n",
       "    }\n",
       "\n",
       "    .dataframe thead th {\n",
       "        text-align: right;\n",
       "    }\n",
       "</style>\n",
       "<table border=\"1\" class=\"dataframe\">\n",
       "  <thead>\n",
       "    <tr style=\"text-align: right;\">\n",
       "      <th></th>\n",
       "      <th>latitude</th>\n",
       "      <th>longitude</th>\n",
       "      <th>datetime</th>\n",
       "      <th>gps_altitude_m</th>\n",
       "      <th>distance_m</th>\n",
       "      <th>speed_km/s</th>\n",
       "      <th>climb_m</th>\n",
       "      <th>climb_m(delta)</th>\n",
       "      <th>climb_rate_m/s</th>\n",
       "      <th>glide_ratio</th>\n",
       "      <th>bearing</th>\n",
       "      <th>delta_bearing</th>\n",
       "      <th>elapsed_time</th>\n",
       "      <th>delta_time</th>\n",
       "      <th>temp</th>\n",
       "      <th>pressure</th>\n",
       "      <th>humidity</th>\n",
       "      <th>dew_point</th>\n",
       "      <th>wind_speed</th>\n",
       "      <th>wind_deg</th>\n",
       "    </tr>\n",
       "  </thead>\n",
       "  <tbody>\n",
       "    <tr>\n",
       "      <th>0</th>\n",
       "      <td>36.980983</td>\n",
       "      <td>29.314417</td>\n",
       "      <td>2020-07-03 07:42:24</td>\n",
       "      <td>2083</td>\n",
       "      <td>7.545830</td>\n",
       "      <td>27.164986</td>\n",
       "      <td>-2.0</td>\n",
       "      <td>0.0</td>\n",
       "      <td>-2.0</td>\n",
       "      <td>3.772915</td>\n",
       "      <td>11</td>\n",
       "      <td>3.0</td>\n",
       "      <td>17.0</td>\n",
       "      <td>1.0</td>\n",
       "      <td>25.62</td>\n",
       "      <td>1008.0</td>\n",
       "      <td>35.0</td>\n",
       "      <td>9.04</td>\n",
       "      <td>0.66</td>\n",
       "      <td>75.0</td>\n",
       "    </tr>\n",
       "    <tr>\n",
       "      <th>1</th>\n",
       "      <td>36.981050</td>\n",
       "      <td>29.314450</td>\n",
       "      <td>2020-07-03 07:42:25</td>\n",
       "      <td>2082</td>\n",
       "      <td>7.971536</td>\n",
       "      <td>28.697530</td>\n",
       "      <td>-3.0</td>\n",
       "      <td>0.0</td>\n",
       "      <td>-3.0</td>\n",
       "      <td>2.657179</td>\n",
       "      <td>21</td>\n",
       "      <td>10.0</td>\n",
       "      <td>18.0</td>\n",
       "      <td>1.0</td>\n",
       "      <td>25.62</td>\n",
       "      <td>1008.0</td>\n",
       "      <td>35.0</td>\n",
       "      <td>9.04</td>\n",
       "      <td>0.66</td>\n",
       "      <td>75.0</td>\n",
       "    </tr>\n",
       "    <tr>\n",
       "      <th>2</th>\n",
       "      <td>36.981150</td>\n",
       "      <td>29.314500</td>\n",
       "      <td>2020-07-03 07:42:26</td>\n",
       "      <td>2080</td>\n",
       "      <td>11.957302</td>\n",
       "      <td>43.046289</td>\n",
       "      <td>-2.0</td>\n",
       "      <td>0.0</td>\n",
       "      <td>-2.0</td>\n",
       "      <td>5.978651</td>\n",
       "      <td>21</td>\n",
       "      <td>0.0</td>\n",
       "      <td>19.0</td>\n",
       "      <td>1.0</td>\n",
       "      <td>25.62</td>\n",
       "      <td>1008.0</td>\n",
       "      <td>35.0</td>\n",
       "      <td>9.04</td>\n",
       "      <td>0.66</td>\n",
       "      <td>75.0</td>\n",
       "    </tr>\n",
       "    <tr>\n",
       "      <th>3</th>\n",
       "      <td>36.981217</td>\n",
       "      <td>29.314567</td>\n",
       "      <td>2020-07-03 07:42:27</td>\n",
       "      <td>2079</td>\n",
       "      <td>9.485179</td>\n",
       "      <td>34.146645</td>\n",
       "      <td>-1.0</td>\n",
       "      <td>-14.0</td>\n",
       "      <td>-1.0</td>\n",
       "      <td>9.485179</td>\n",
       "      <td>38</td>\n",
       "      <td>17.0</td>\n",
       "      <td>20.0</td>\n",
       "      <td>1.0</td>\n",
       "      <td>25.62</td>\n",
       "      <td>1008.0</td>\n",
       "      <td>35.0</td>\n",
       "      <td>9.04</td>\n",
       "      <td>0.66</td>\n",
       "      <td>75.0</td>\n",
       "    </tr>\n",
       "    <tr>\n",
       "      <th>4</th>\n",
       "      <td>36.981283</td>\n",
       "      <td>29.314633</td>\n",
       "      <td>2020-07-03 07:42:28</td>\n",
       "      <td>2078</td>\n",
       "      <td>9.485176</td>\n",
       "      <td>34.146634</td>\n",
       "      <td>0.0</td>\n",
       "      <td>-14.0</td>\n",
       "      <td>0.0</td>\n",
       "      <td>0.000000</td>\n",
       "      <td>38</td>\n",
       "      <td>0.0</td>\n",
       "      <td>21.0</td>\n",
       "      <td>1.0</td>\n",
       "      <td>25.62</td>\n",
       "      <td>1008.0</td>\n",
       "      <td>35.0</td>\n",
       "      <td>9.04</td>\n",
       "      <td>0.66</td>\n",
       "      <td>75.0</td>\n",
       "    </tr>\n",
       "  </tbody>\n",
       "</table>\n",
       "</div>"
      ],
      "text/plain": [
       "    latitude  longitude             datetime  gps_altitude_m  distance_m  \\\n",
       "0  36.980983  29.314417  2020-07-03 07:42:24            2083    7.545830   \n",
       "1  36.981050  29.314450  2020-07-03 07:42:25            2082    7.971536   \n",
       "2  36.981150  29.314500  2020-07-03 07:42:26            2080   11.957302   \n",
       "3  36.981217  29.314567  2020-07-03 07:42:27            2079    9.485179   \n",
       "4  36.981283  29.314633  2020-07-03 07:42:28            2078    9.485176   \n",
       "\n",
       "   speed_km/s  climb_m  climb_m(delta)  climb_rate_m/s  glide_ratio  bearing  \\\n",
       "0   27.164986     -2.0             0.0            -2.0     3.772915       11   \n",
       "1   28.697530     -3.0             0.0            -3.0     2.657179       21   \n",
       "2   43.046289     -2.0             0.0            -2.0     5.978651       21   \n",
       "3   34.146645     -1.0           -14.0            -1.0     9.485179       38   \n",
       "4   34.146634      0.0           -14.0             0.0     0.000000       38   \n",
       "\n",
       "   delta_bearing  elapsed_time  delta_time   temp  pressure  humidity  \\\n",
       "0            3.0          17.0         1.0  25.62    1008.0      35.0   \n",
       "1           10.0          18.0         1.0  25.62    1008.0      35.0   \n",
       "2            0.0          19.0         1.0  25.62    1008.0      35.0   \n",
       "3           17.0          20.0         1.0  25.62    1008.0      35.0   \n",
       "4            0.0          21.0         1.0  25.62    1008.0      35.0   \n",
       "\n",
       "   dew_point  wind_speed  wind_deg  \n",
       "0       9.04        0.66      75.0  \n",
       "1       9.04        0.66      75.0  \n",
       "2       9.04        0.66      75.0  \n",
       "3       9.04        0.66      75.0  \n",
       "4       9.04        0.66      75.0  "
      ]
     },
     "execution_count": 12,
     "metadata": {},
     "output_type": "execute_result"
    }
   ],
   "source": [
    "model_path = os.path.join('models', 'transformer_tunned_model.keras')\n",
    "\n",
    "# ---------- 1. Data Loading & Preprocessing ----------\n",
    "# Ensure working directory contains 'flights_cleaned.csv'\n",
    "df =  db.read_db(\"flights_cleaned\")\n",
    "df.head()"
   ]
  },
  {
   "cell_type": "code",
   "execution_count": 13,
   "id": "bd4ac84d",
   "metadata": {},
   "outputs": [],
   "source": [
    "# Separate features and target\n",
    "target_col = 'climb_rate_m/s'\n",
    "feature_cols = [\n",
    "    'gps_altitude_m', 'distance_m', 'speed_km/s',\n",
    "    'glide_ratio', 'bearing', 'delta_bearing',\n",
    "    'temp', 'pressure', 'humidity', 'dew_point',\n",
    "    'wind_speed', 'wind_deg'\n",
    "]\n",
    "X = df[feature_cols].values.astype(np.float32)\n",
    "y = df[target_col].values.astype(np.float32)\n",
    "\n",
    "# Train-test split\n",
    "split_frac = 0.8\n",
    "split_idx = int(len(X) * split_frac)\n",
    "X_train, X_test = X[:split_idx], X[split_idx:]\n",
    "y_train, y_test = y[:split_idx], y[split_idx:]\n",
    "\n",
    "# Feature scaling\n",
    "scaler = StandardScaler()\n",
    "X_train = scaler.fit_transform(X_train)\n",
    "X_test  = scaler.transform(X_test)\n",
    "\n",
    "# Save scaler\n",
    "os.makedirs('models', exist_ok=True)\n",
    "with open('models/scaler.pkl', 'wb') as f:\n",
    "    pickle.dump(scaler, f)\n"
   ]
  },
  {
   "cell_type": "code",
   "execution_count": 14,
   "id": "a1dc1f3d",
   "metadata": {},
   "outputs": [],
   "source": [
    "\n",
    "# ---------- 2. Create sliding-window datasets ----------\n",
    "T = 10  # sequence length\n",
    "batch_size = 32\n",
    "train_ds = tf.keras.preprocessing.timeseries_dataset_from_array(\n",
    "    X_train, y_train,\n",
    "    sequence_length=T,\n",
    "    sequence_stride=1,\n",
    "    batch_size=batch_size,\n",
    "    shuffle=False\n",
    ")\n",
    "test_ds = tf.keras.preprocessing.timeseries_dataset_from_array(\n",
    "    X_test, y_test,\n",
    "    sequence_length=T,\n",
    "    sequence_stride=1,\n",
    "    batch_size=batch_size,\n",
    "    shuffle=False\n",
    ")\n"
   ]
  },
  {
   "cell_type": "code",
   "execution_count": 15,
   "id": "5d51a5a0",
   "metadata": {},
   "outputs": [],
   "source": [
    "\n",
    "# ---------- 3. Positional Encoding ----------\n",
    "def get_positional_encoding(seq_len, d_model):\n",
    "    pos = np.arange(seq_len)[:, None]\n",
    "    i   = np.arange(d_model)[None, :]\n",
    "    angle_rates = 1 / np.power(10000, (2 * (i//2)) / d_model)\n",
    "    angle_rads = pos * angle_rates\n",
    "    sines = np.sin(angle_rads[:, 0::2])\n",
    "    cosines = np.cos(angle_rads[:, 1::2])\n",
    "    return tf.cast(np.concatenate([sines, cosines], axis=-1), tf.float32)\n"
   ]
  },
  {
   "cell_type": "code",
   "execution_count": 16,
   "id": "eb5f0feb",
   "metadata": {},
   "outputs": [
    {
     "data": {
      "text/html": [
       "<pre style=\"white-space:pre;overflow-x:auto;line-height:normal;font-family:Menlo,'DejaVu Sans Mono',consolas,'Courier New',monospace\"><span style=\"font-weight: bold\">Model: \"Transformer\"</span>\n",
       "</pre>\n"
      ],
      "text/plain": [
       "\u001b[1mModel: \"Transformer\"\u001b[0m\n"
      ]
     },
     "metadata": {},
     "output_type": "display_data"
    },
    {
     "data": {
      "text/html": [
       "<pre style=\"white-space:pre;overflow-x:auto;line-height:normal;font-family:Menlo,'DejaVu Sans Mono',consolas,'Courier New',monospace\">┏━━━━━━━━━━━━━━━━━━━━━┳━━━━━━━━━━━━━━━━━━━┳━━━━━━━━━━━━┳━━━━━━━━━━━━━━━━━━━┓\n",
       "┃<span style=\"font-weight: bold\"> Layer (type)        </span>┃<span style=\"font-weight: bold\"> Output Shape      </span>┃<span style=\"font-weight: bold\">    Param # </span>┃<span style=\"font-weight: bold\"> Connected to      </span>┃\n",
       "┡━━━━━━━━━━━━━━━━━━━━━╇━━━━━━━━━━━━━━━━━━━╇━━━━━━━━━━━━╇━━━━━━━━━━━━━━━━━━━┩\n",
       "│ input_layer         │ (<span style=\"color: #00d7ff; text-decoration-color: #00d7ff\">None</span>, <span style=\"color: #00af00; text-decoration-color: #00af00\">10</span>, <span style=\"color: #00af00; text-decoration-color: #00af00\">12</span>)    │          <span style=\"color: #00af00; text-decoration-color: #00af00\">0</span> │ -                 │\n",
       "│ (<span style=\"color: #0087ff; text-decoration-color: #0087ff\">InputLayer</span>)        │                   │            │                   │\n",
       "├─────────────────────┼───────────────────┼────────────┼───────────────────┤\n",
       "│ dense (<span style=\"color: #0087ff; text-decoration-color: #0087ff\">Dense</span>)       │ (<span style=\"color: #00d7ff; text-decoration-color: #00d7ff\">None</span>, <span style=\"color: #00af00; text-decoration-color: #00af00\">10</span>, <span style=\"color: #00af00; text-decoration-color: #00af00\">64</span>)    │        <span style=\"color: #00af00; text-decoration-color: #00af00\">832</span> │ input_layer[<span style=\"color: #00af00; text-decoration-color: #00af00\">0</span>][<span style=\"color: #00af00; text-decoration-color: #00af00\">0</span>] │\n",
       "├─────────────────────┼───────────────────┼────────────┼───────────────────┤\n",
       "│ add (<span style=\"color: #0087ff; text-decoration-color: #0087ff\">Add</span>)           │ (<span style=\"color: #00d7ff; text-decoration-color: #00d7ff\">None</span>, <span style=\"color: #00af00; text-decoration-color: #00af00\">10</span>, <span style=\"color: #00af00; text-decoration-color: #00af00\">64</span>)    │          <span style=\"color: #00af00; text-decoration-color: #00af00\">0</span> │ dense[<span style=\"color: #00af00; text-decoration-color: #00af00\">0</span>][<span style=\"color: #00af00; text-decoration-color: #00af00\">0</span>]       │\n",
       "├─────────────────────┼───────────────────┼────────────┼───────────────────┤\n",
       "│ multi_head_attenti… │ (<span style=\"color: #00d7ff; text-decoration-color: #00d7ff\">None</span>, <span style=\"color: #00af00; text-decoration-color: #00af00\">10</span>, <span style=\"color: #00af00; text-decoration-color: #00af00\">64</span>)    │     <span style=\"color: #00af00; text-decoration-color: #00af00\">66,368</span> │ add[<span style=\"color: #00af00; text-decoration-color: #00af00\">0</span>][<span style=\"color: #00af00; text-decoration-color: #00af00\">0</span>],        │\n",
       "│ (<span style=\"color: #0087ff; text-decoration-color: #0087ff\">MultiHeadAttentio…</span> │                   │            │ add[<span style=\"color: #00af00; text-decoration-color: #00af00\">0</span>][<span style=\"color: #00af00; text-decoration-color: #00af00\">0</span>]         │\n",
       "├─────────────────────┼───────────────────┼────────────┼───────────────────┤\n",
       "│ add_1 (<span style=\"color: #0087ff; text-decoration-color: #0087ff\">Add</span>)         │ (<span style=\"color: #00d7ff; text-decoration-color: #00d7ff\">None</span>, <span style=\"color: #00af00; text-decoration-color: #00af00\">10</span>, <span style=\"color: #00af00; text-decoration-color: #00af00\">64</span>)    │          <span style=\"color: #00af00; text-decoration-color: #00af00\">0</span> │ add[<span style=\"color: #00af00; text-decoration-color: #00af00\">0</span>][<span style=\"color: #00af00; text-decoration-color: #00af00\">0</span>],        │\n",
       "│                     │                   │            │ multi_head_atten… │\n",
       "├─────────────────────┼───────────────────┼────────────┼───────────────────┤\n",
       "│ layer_normalization │ (<span style=\"color: #00d7ff; text-decoration-color: #00d7ff\">None</span>, <span style=\"color: #00af00; text-decoration-color: #00af00\">10</span>, <span style=\"color: #00af00; text-decoration-color: #00af00\">64</span>)    │        <span style=\"color: #00af00; text-decoration-color: #00af00\">128</span> │ add_1[<span style=\"color: #00af00; text-decoration-color: #00af00\">0</span>][<span style=\"color: #00af00; text-decoration-color: #00af00\">0</span>]       │\n",
       "│ (<span style=\"color: #0087ff; text-decoration-color: #0087ff\">LayerNormalizatio…</span> │                   │            │                   │\n",
       "├─────────────────────┼───────────────────┼────────────┼───────────────────┤\n",
       "│ sequential          │ (<span style=\"color: #00d7ff; text-decoration-color: #00d7ff\">None</span>, <span style=\"color: #00af00; text-decoration-color: #00af00\">10</span>, <span style=\"color: #00af00; text-decoration-color: #00af00\">64</span>)    │     <span style=\"color: #00af00; text-decoration-color: #00af00\">16,576</span> │ layer_normalizat… │\n",
       "│ (<span style=\"color: #0087ff; text-decoration-color: #0087ff\">Sequential</span>)        │                   │            │                   │\n",
       "├─────────────────────┼───────────────────┼────────────┼───────────────────┤\n",
       "│ add_2 (<span style=\"color: #0087ff; text-decoration-color: #0087ff\">Add</span>)         │ (<span style=\"color: #00d7ff; text-decoration-color: #00d7ff\">None</span>, <span style=\"color: #00af00; text-decoration-color: #00af00\">10</span>, <span style=\"color: #00af00; text-decoration-color: #00af00\">64</span>)    │          <span style=\"color: #00af00; text-decoration-color: #00af00\">0</span> │ layer_normalizat… │\n",
       "│                     │                   │            │ sequential[<span style=\"color: #00af00; text-decoration-color: #00af00\">0</span>][<span style=\"color: #00af00; text-decoration-color: #00af00\">0</span>]  │\n",
       "├─────────────────────┼───────────────────┼────────────┼───────────────────┤\n",
       "│ layer_normalizatio… │ (<span style=\"color: #00d7ff; text-decoration-color: #00d7ff\">None</span>, <span style=\"color: #00af00; text-decoration-color: #00af00\">10</span>, <span style=\"color: #00af00; text-decoration-color: #00af00\">64</span>)    │        <span style=\"color: #00af00; text-decoration-color: #00af00\">128</span> │ add_2[<span style=\"color: #00af00; text-decoration-color: #00af00\">0</span>][<span style=\"color: #00af00; text-decoration-color: #00af00\">0</span>]       │\n",
       "│ (<span style=\"color: #0087ff; text-decoration-color: #0087ff\">LayerNormalizatio…</span> │                   │            │                   │\n",
       "├─────────────────────┼───────────────────┼────────────┼───────────────────┤\n",
       "│ global_average_poo… │ (<span style=\"color: #00d7ff; text-decoration-color: #00d7ff\">None</span>, <span style=\"color: #00af00; text-decoration-color: #00af00\">64</span>)        │          <span style=\"color: #00af00; text-decoration-color: #00af00\">0</span> │ layer_normalizat… │\n",
       "│ (<span style=\"color: #0087ff; text-decoration-color: #0087ff\">GlobalAveragePool…</span> │                   │            │                   │\n",
       "├─────────────────────┼───────────────────┼────────────┼───────────────────┤\n",
       "│ dense_3 (<span style=\"color: #0087ff; text-decoration-color: #0087ff\">Dense</span>)     │ (<span style=\"color: #00d7ff; text-decoration-color: #00d7ff\">None</span>, <span style=\"color: #00af00; text-decoration-color: #00af00\">1</span>)         │         <span style=\"color: #00af00; text-decoration-color: #00af00\">65</span> │ global_average_p… │\n",
       "└─────────────────────┴───────────────────┴────────────┴───────────────────┘\n",
       "</pre>\n"
      ],
      "text/plain": [
       "┏━━━━━━━━━━━━━━━━━━━━━┳━━━━━━━━━━━━━━━━━━━┳━━━━━━━━━━━━┳━━━━━━━━━━━━━━━━━━━┓\n",
       "┃\u001b[1m \u001b[0m\u001b[1mLayer (type)       \u001b[0m\u001b[1m \u001b[0m┃\u001b[1m \u001b[0m\u001b[1mOutput Shape     \u001b[0m\u001b[1m \u001b[0m┃\u001b[1m \u001b[0m\u001b[1m   Param #\u001b[0m\u001b[1m \u001b[0m┃\u001b[1m \u001b[0m\u001b[1mConnected to     \u001b[0m\u001b[1m \u001b[0m┃\n",
       "┡━━━━━━━━━━━━━━━━━━━━━╇━━━━━━━━━━━━━━━━━━━╇━━━━━━━━━━━━╇━━━━━━━━━━━━━━━━━━━┩\n",
       "│ input_layer         │ (\u001b[38;5;45mNone\u001b[0m, \u001b[38;5;34m10\u001b[0m, \u001b[38;5;34m12\u001b[0m)    │          \u001b[38;5;34m0\u001b[0m │ -                 │\n",
       "│ (\u001b[38;5;33mInputLayer\u001b[0m)        │                   │            │                   │\n",
       "├─────────────────────┼───────────────────┼────────────┼───────────────────┤\n",
       "│ dense (\u001b[38;5;33mDense\u001b[0m)       │ (\u001b[38;5;45mNone\u001b[0m, \u001b[38;5;34m10\u001b[0m, \u001b[38;5;34m64\u001b[0m)    │        \u001b[38;5;34m832\u001b[0m │ input_layer[\u001b[38;5;34m0\u001b[0m][\u001b[38;5;34m0\u001b[0m] │\n",
       "├─────────────────────┼───────────────────┼────────────┼───────────────────┤\n",
       "│ add (\u001b[38;5;33mAdd\u001b[0m)           │ (\u001b[38;5;45mNone\u001b[0m, \u001b[38;5;34m10\u001b[0m, \u001b[38;5;34m64\u001b[0m)    │          \u001b[38;5;34m0\u001b[0m │ dense[\u001b[38;5;34m0\u001b[0m][\u001b[38;5;34m0\u001b[0m]       │\n",
       "├─────────────────────┼───────────────────┼────────────┼───────────────────┤\n",
       "│ multi_head_attenti… │ (\u001b[38;5;45mNone\u001b[0m, \u001b[38;5;34m10\u001b[0m, \u001b[38;5;34m64\u001b[0m)    │     \u001b[38;5;34m66,368\u001b[0m │ add[\u001b[38;5;34m0\u001b[0m][\u001b[38;5;34m0\u001b[0m],        │\n",
       "│ (\u001b[38;5;33mMultiHeadAttentio…\u001b[0m │                   │            │ add[\u001b[38;5;34m0\u001b[0m][\u001b[38;5;34m0\u001b[0m]         │\n",
       "├─────────────────────┼───────────────────┼────────────┼───────────────────┤\n",
       "│ add_1 (\u001b[38;5;33mAdd\u001b[0m)         │ (\u001b[38;5;45mNone\u001b[0m, \u001b[38;5;34m10\u001b[0m, \u001b[38;5;34m64\u001b[0m)    │          \u001b[38;5;34m0\u001b[0m │ add[\u001b[38;5;34m0\u001b[0m][\u001b[38;5;34m0\u001b[0m],        │\n",
       "│                     │                   │            │ multi_head_atten… │\n",
       "├─────────────────────┼───────────────────┼────────────┼───────────────────┤\n",
       "│ layer_normalization │ (\u001b[38;5;45mNone\u001b[0m, \u001b[38;5;34m10\u001b[0m, \u001b[38;5;34m64\u001b[0m)    │        \u001b[38;5;34m128\u001b[0m │ add_1[\u001b[38;5;34m0\u001b[0m][\u001b[38;5;34m0\u001b[0m]       │\n",
       "│ (\u001b[38;5;33mLayerNormalizatio…\u001b[0m │                   │            │                   │\n",
       "├─────────────────────┼───────────────────┼────────────┼───────────────────┤\n",
       "│ sequential          │ (\u001b[38;5;45mNone\u001b[0m, \u001b[38;5;34m10\u001b[0m, \u001b[38;5;34m64\u001b[0m)    │     \u001b[38;5;34m16,576\u001b[0m │ layer_normalizat… │\n",
       "│ (\u001b[38;5;33mSequential\u001b[0m)        │                   │            │                   │\n",
       "├─────────────────────┼───────────────────┼────────────┼───────────────────┤\n",
       "│ add_2 (\u001b[38;5;33mAdd\u001b[0m)         │ (\u001b[38;5;45mNone\u001b[0m, \u001b[38;5;34m10\u001b[0m, \u001b[38;5;34m64\u001b[0m)    │          \u001b[38;5;34m0\u001b[0m │ layer_normalizat… │\n",
       "│                     │                   │            │ sequential[\u001b[38;5;34m0\u001b[0m][\u001b[38;5;34m0\u001b[0m]  │\n",
       "├─────────────────────┼───────────────────┼────────────┼───────────────────┤\n",
       "│ layer_normalizatio… │ (\u001b[38;5;45mNone\u001b[0m, \u001b[38;5;34m10\u001b[0m, \u001b[38;5;34m64\u001b[0m)    │        \u001b[38;5;34m128\u001b[0m │ add_2[\u001b[38;5;34m0\u001b[0m][\u001b[38;5;34m0\u001b[0m]       │\n",
       "│ (\u001b[38;5;33mLayerNormalizatio…\u001b[0m │                   │            │                   │\n",
       "├─────────────────────┼───────────────────┼────────────┼───────────────────┤\n",
       "│ global_average_poo… │ (\u001b[38;5;45mNone\u001b[0m, \u001b[38;5;34m64\u001b[0m)        │          \u001b[38;5;34m0\u001b[0m │ layer_normalizat… │\n",
       "│ (\u001b[38;5;33mGlobalAveragePool…\u001b[0m │                   │            │                   │\n",
       "├─────────────────────┼───────────────────┼────────────┼───────────────────┤\n",
       "│ dense_3 (\u001b[38;5;33mDense\u001b[0m)     │ (\u001b[38;5;45mNone\u001b[0m, \u001b[38;5;34m1\u001b[0m)         │         \u001b[38;5;34m65\u001b[0m │ global_average_p… │\n",
       "└─────────────────────┴───────────────────┴────────────┴───────────────────┘\n"
      ]
     },
     "metadata": {},
     "output_type": "display_data"
    },
    {
     "data": {
      "text/html": [
       "<pre style=\"white-space:pre;overflow-x:auto;line-height:normal;font-family:Menlo,'DejaVu Sans Mono',consolas,'Courier New',monospace\"><span style=\"font-weight: bold\"> Total params: </span><span style=\"color: #00af00; text-decoration-color: #00af00\">84,097</span> (328.50 KB)\n",
       "</pre>\n"
      ],
      "text/plain": [
       "\u001b[1m Total params: \u001b[0m\u001b[38;5;34m84,097\u001b[0m (328.50 KB)\n"
      ]
     },
     "metadata": {},
     "output_type": "display_data"
    },
    {
     "data": {
      "text/html": [
       "<pre style=\"white-space:pre;overflow-x:auto;line-height:normal;font-family:Menlo,'DejaVu Sans Mono',consolas,'Courier New',monospace\"><span style=\"font-weight: bold\"> Trainable params: </span><span style=\"color: #00af00; text-decoration-color: #00af00\">84,097</span> (328.50 KB)\n",
       "</pre>\n"
      ],
      "text/plain": [
       "\u001b[1m Trainable params: \u001b[0m\u001b[38;5;34m84,097\u001b[0m (328.50 KB)\n"
      ]
     },
     "metadata": {},
     "output_type": "display_data"
    },
    {
     "data": {
      "text/html": [
       "<pre style=\"white-space:pre;overflow-x:auto;line-height:normal;font-family:Menlo,'DejaVu Sans Mono',consolas,'Courier New',monospace\"><span style=\"font-weight: bold\"> Non-trainable params: </span><span style=\"color: #00af00; text-decoration-color: #00af00\">0</span> (0.00 B)\n",
       "</pre>\n"
      ],
      "text/plain": [
       "\u001b[1m Non-trainable params: \u001b[0m\u001b[38;5;34m0\u001b[0m (0.00 B)\n"
      ]
     },
     "metadata": {},
     "output_type": "display_data"
    }
   ],
   "source": [
    "\n",
    "# ---------- 4. Build Transformer Model ----------\n",
    "seq_len = T\n",
    "n_feats = X.shape[1]\n",
    "d_model = 64\n",
    "num_heads = 4\n",
    "\n",
    "def build_transformer(seq_len, n_feats, d_model, num_heads):\n",
    "    inp = layers.Input(shape=(seq_len, n_feats))\n",
    "    x = layers.Dense(d_model)(inp)\n",
    "    pos_enc = get_positional_encoding(seq_len, d_model)\n",
    "    x = x + pos_enc\n",
    "    # Encoder block\n",
    "    attn = layers.MultiHeadAttention(num_heads=num_heads, key_dim=d_model)(x, x)\n",
    "    x = layers.LayerNormalization(epsilon=1e-6)(x + attn)\n",
    "    ffn = tf.keras.Sequential([\n",
    "        layers.Dense(d_model*2, activation='relu'),\n",
    "        layers.Dense(d_model)\n",
    "    ])\n",
    "    x = layers.LayerNormalization(epsilon=1e-6)(x + ffn(x))\n",
    "    x = layers.GlobalAveragePooling1D()(x)\n",
    "    out = layers.Dense(1)(x)\n",
    "    return Model(inp, out, name='Transformer')\n",
    "\n",
    "model = build_transformer(seq_len, n_feats, d_model, num_heads)\n",
    "model.compile(optimizer='adam', loss='mse', metrics=['mae'])\n",
    "model.summary()\n"
   ]
  },
  {
   "cell_type": "code",
   "execution_count": 17,
   "id": "68996a9a",
   "metadata": {},
   "outputs": [
    {
     "name": "stdout",
     "output_type": "stream",
     "text": [
      "Epoch 1/15\n",
      "\u001b[1m37923/37923\u001b[0m \u001b[32m━━━━━━━━━━━━━━━━━━━━\u001b[0m\u001b[37m\u001b[0m \u001b[1m370s\u001b[0m 10ms/step - loss: 2.1752 - mae: 1.0429 - val_loss: 2.5356 - val_mae: 0.9279\n",
      "Epoch 2/15\n",
      "\u001b[1m37923/37923\u001b[0m \u001b[32m━━━━━━━━━━━━━━━━━━━━\u001b[0m\u001b[37m\u001b[0m \u001b[1m365s\u001b[0m 10ms/step - loss: 1.4699 - mae: 0.7501 - val_loss: 2.0884 - val_mae: 0.8194\n",
      "Epoch 3/15\n",
      "\u001b[1m37923/37923\u001b[0m \u001b[32m━━━━━━━━━━━━━━━━━━━━\u001b[0m\u001b[37m\u001b[0m \u001b[1m382s\u001b[0m 10ms/step - loss: 1.3748 - mae: 0.7018 - val_loss: 2.0913 - val_mae: 0.8300\n",
      "Epoch 4/15\n",
      "\u001b[1m37923/37923\u001b[0m \u001b[32m━━━━━━━━━━━━━━━━━━━━\u001b[0m\u001b[37m\u001b[0m \u001b[1m380s\u001b[0m 10ms/step - loss: 1.1907 - mae: 0.6443 - val_loss: 0.8116 - val_mae: 0.5167\n",
      "Epoch 5/15\n",
      "\u001b[1m37923/37923\u001b[0m \u001b[32m━━━━━━━━━━━━━━━━━━━━\u001b[0m\u001b[37m\u001b[0m \u001b[1m390s\u001b[0m 10ms/step - loss: 0.6957 - mae: 0.4531 - val_loss: 0.7343 - val_mae: 0.4377\n",
      "Epoch 6/15\n",
      "\u001b[1m37923/37923\u001b[0m \u001b[32m━━━━━━━━━━━━━━━━━━━━\u001b[0m\u001b[37m\u001b[0m \u001b[1m320s\u001b[0m 8ms/step - loss: 0.5941 - mae: 0.3866 - val_loss: 0.7291 - val_mae: 0.4708\n",
      "Epoch 7/15\n",
      "\u001b[1m37923/37923\u001b[0m \u001b[32m━━━━━━━━━━━━━━━━━━━━\u001b[0m\u001b[37m\u001b[0m \u001b[1m325s\u001b[0m 9ms/step - loss: 0.5267 - mae: 0.3581 - val_loss: 0.6442 - val_mae: 0.3895\n",
      "Epoch 8/15\n",
      "\u001b[1m37923/37923\u001b[0m \u001b[32m━━━━━━━━━━━━━━━━━━━━\u001b[0m\u001b[37m\u001b[0m \u001b[1m324s\u001b[0m 9ms/step - loss: 0.4857 - mae: 0.3378 - val_loss: 0.5927 - val_mae: 0.3590\n",
      "Epoch 9/15\n",
      "\u001b[1m37923/37923\u001b[0m \u001b[32m━━━━━━━━━━━━━━━━━━━━\u001b[0m\u001b[37m\u001b[0m \u001b[1m335s\u001b[0m 9ms/step - loss: 0.4730 - mae: 0.3336 - val_loss: 0.7058 - val_mae: 0.4143\n",
      "Epoch 10/15\n",
      "\u001b[1m37923/37923\u001b[0m \u001b[32m━━━━━━━━━━━━━━━━━━━━\u001b[0m\u001b[37m\u001b[0m \u001b[1m334s\u001b[0m 9ms/step - loss: 0.4598 - mae: 0.3233 - val_loss: 0.6118 - val_mae: 0.3764\n",
      "Epoch 11/15\n",
      "\u001b[1m37923/37923\u001b[0m \u001b[32m━━━━━━━━━━━━━━━━━━━━\u001b[0m\u001b[37m\u001b[0m \u001b[1m341s\u001b[0m 9ms/step - loss: 0.4545 - mae: 0.3209 - val_loss: 0.6520 - val_mae: 0.4306\n"
     ]
    }
   ],
   "source": [
    "# ---------- 5. Train ----------\n",
    "callbacks = [\n",
    "    EarlyStopping(monitor='val_mae', patience=3, restore_best_weights=True),\n",
    "    ModelCheckpoint(\n",
    "        filepath=model_path,\n",
    "        monitor='val_mae',\n",
    "        save_best_only=True\n",
    "    )\n",
    "]\n",
    "\n",
    "history = model.fit(\n",
    "    train_ds,\n",
    "    validation_data=test_ds,\n",
    "    epochs=15,\n",
    "    callbacks=callbacks\n",
    ")\n"
   ]
  },
  {
   "cell_type": "code",
   "execution_count": 20,
   "id": "39037a4d",
   "metadata": {},
   "outputs": [
    {
     "name": "stdout",
     "output_type": "stream",
     "text": [
      "Model saved to models\\transformer_tunned_model.keras\n",
      "\u001b[1m9481/9481\u001b[0m \u001b[32m━━━━━━━━━━━━━━━━━━━━\u001b[0m\u001b[37m\u001b[0m \u001b[1m26s\u001b[0m 3ms/step\n",
      "Test MAE: 0.3590, RMSE: 0.7699\n"
     ]
    }
   ],
   "source": [
    "\n",
    "# ---------- 6. Save Model ----------\n",
    "model.save(model_path)\n",
    "print(f'Model saved to {model_path}')\n",
    "\n",
    "# ---------- 7. Evaluate & Plot Errors ----------\n",
    "y_pred = model.predict(test_ds).flatten()\n",
    "y_true = np.concatenate([y for _, y in test_ds], axis=0)\n",
    "\n",
    "mae = np.mean(np.abs(y_true - y_pred))\n",
    "rmse = np.sqrt(np.mean((y_true - y_pred)**2))\n",
    "print(f'Test MAE: {mae:.4f}, RMSE: {rmse:.4f}')\n"
   ]
  },
  {
   "cell_type": "code",
   "execution_count": 21,
   "id": "eee5dedd",
   "metadata": {},
   "outputs": [
    {
     "data": {
      "image/png": "[encoded data removed]",
      "text/plain": [
       "<Figure size 640x480 with 1 Axes>"
      ]
     },
     "metadata": {},
     "output_type": "display_data"
    }
   ],
   "source": [
    "# Error histogram\n",
    "errors = y_true - y_pred\n",
    "plt.figure()\n",
    "plt.hist(errors, bins=1000)\n",
    "plt.title('Transformer Prediction Errors')\n",
    "plt.xlabel('Error (m/s)')\n",
    "plt.ylabel('Count')\n",
    "plt.show()"
   ]
  }
 ],
 "metadata": {
  "kernelspec": {
   "display_name": ".venv",
   "language": "python",
   "name": "python3"
  },
  "language_info": {
   "codemirror_mode": {
    "name": "ipython",
    "version": 3
   },
   "file_extension": ".py",
   "mimetype": "text/x-python",
   "name": "python",
   "nbconvert_exporter": "python",
   "pygments_lexer": "ipython3",
   "version": "3.11.9"
  }
 },
 "nbformat": 4,
 "nbformat_minor": 5
}
