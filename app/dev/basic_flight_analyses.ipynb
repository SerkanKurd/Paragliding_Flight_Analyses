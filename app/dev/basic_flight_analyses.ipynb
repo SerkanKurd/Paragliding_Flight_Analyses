{
 "cells": [
  {
   "cell_type": "code",
   "execution_count": 1,
   "metadata": {},
   "outputs": [],
   "source": [
    "import pandas as pd\n",
    "import matplotlib.pyplot as plt\n",
    "from geopy.distance import geodesic\n",
    "import math\n",
    "from itertools import combinations\n",
    "import OLCdistance as olc"
   ]
  },
  {
   "cell_type": "code",
   "execution_count": null,
   "metadata": {},
   "outputs": [],
   "source": [
    "def distances_calc(points):\n",
    "    def haversine(lat1, lon1, lat2, lon2):\n",
    "        R = 6371.0  # Earth's radius in kilometers\n",
    "        # Convert degrees to radians\n",
    "        phi1, phi2 = math.radians(lat1), math.radians(lat2)\n",
    "        delta_phi = math.radians(lat2 - lat1)\n",
    "        delta_lambda = math.radians(lon2 - lon1)\n",
    "\n",
    "        # Haversine formula\n",
    "        a = math.sin(delta_phi / 2.0)**2 + math.cos(phi1) * \\\n",
    "            math.cos(phi2) * math.sin(delta_lambda / 2.0)**2\n",
    "        c = 2 * math.atan2(math.sqrt(a), math.sqrt(1 - a))\n",
    "        return R * c\n",
    "\n",
    "    distances = {}\n",
    "    for i in range(len(points)):\n",
    "        for j in range(i+1, len(points)):\n",
    "            distances[(points[i], points[j])] = haversine(\n",
    "                *points[i], *points[j])\n",
    "    return distances\n",
    "\n",
    "\n",
    "def fai_olc_distance(points):\n",
    "    distances = distances_calc(points)\n",
    "    max_triangle_distance = 0\n",
    "    best_triangle_points = None\n",
    "    num_points = len(points)\n",
    "    combinations_list = list(combinations(range(num_points), 3))\n",
    "    for i, j, k in combinations_list:\n",
    "        d1 = distances[(points[i], points[j])]\n",
    "        d2 = distances[(points[j], points[k])]\n",
    "        d3 = distances[(points[i], points[k])]\n",
    "        total_distance = d1 + d2 + d3\n",
    "        shortest_leg = min(d1, d2, d3)\n",
    "\n",
    "        if shortest_leg >= 0.28 * total_distance:\n",
    "            if total_distance > max_triangle_distance:\n",
    "                max_triangle_distance = total_distance\n",
    "                best_triangle_points = (points[i], points[j], points[k])\n",
    "\n",
    "    best_distance = max(distances.values())\n",
    "\n",
    "    return (max_triangle_distance,\n",
    "            best_triangle_points,\n",
    "            best_distance,\n",
    "            distances)"
   ]
  },
  {
   "cell_type": "code",
   "execution_count": null,
   "metadata": {},
   "outputs": [],
   "source": [
    "\n",
    "df.head()\n"
   ]
  },
  {
   "cell_type": "code",
   "execution_count": null,
   "metadata": {},
   "outputs": [],
   "source": [
    "for i in range(1, len(df)-1):\n",
    "    if i % 10 > 0:\n",
    "        df = df.drop([i])\n",
    "\n",
    "flight_loginterval = int(df[\"time\"].iloc[1][-2:]) - int(df[\"time\"].iloc[0][-2:])\n",
    "\n",
    "def calculate_distance(row):\n",
    "    if row[\"previus_coordinate\"] is None:\n",
    "        return 0\n",
    "    return geodesic(row[\"coordinate\"], row[\"previus_coordinate\"]).meters\n",
    "\n",
    "\n",
    "prev_total_distance = 0\n",
    "def caluculate_total_distance(row):\n",
    "    global prev_total_distance\n",
    "    prev_total_distance += row[\"distance_m\"]\n",
    "    return prev_total_distance\n",
    "\n",
    "df[\"previus_coordinate\"] = df[\"coordinate\"].shift(1)\n",
    "df[\"distance_m\"] = df.apply(calculate_distance, axis=1)\n",
    "df[\"total_distance_m\"] = df.apply(lambda row: caluculate_total_distance(row), axis=1)\n",
    "df[\"climb_m\"] = df[\"gps_altitude_m\"].diff()\n",
    "df[\"climb_rate_m/s\"] = df[\"climb_m\"] / flight_loginterval\n",
    "df[\"speed_km/s\"] = (df[\"distance_m\"]/1000) / (flight_loginterval/3600)\n",
    "df[\"distance_from_start_m\"] = df.apply(lambda row: geodesic(df[\"coordinate\"].iloc[0], row[\"coordinate\"]).meters, axis=1)\n",
    "df.head()"
   ]
  },
  {
   "cell_type": "code",
   "execution_count": null,
   "metadata": {},
   "outputs": [],
   "source": [
    "plt.figure(figsize=(10, 5))\n",
    "plt.plot(df['time'], df['gps_altitude_m'])\n",
    "plt.xlabel('Time')\n",
    "plt.ylabel('Altitude (m)')\n",
    "plt.title('Flight Altitude over Time')\n",
    "plt.grid(True)\n",
    "plt.show()"
   ]
  },
  {
   "cell_type": "code",
   "execution_count": null,
   "metadata": {},
   "outputs": [],
   "source": [
    "time_difference = str(pd.to_datetime(\n",
    "    df['time'].iloc[-1]) - pd.to_datetime(df['time'].iloc[0]))\n",
    "sonuc = (\n",
    "    f\"Toplam mesafe: {df['total_distance_m'].iloc[-1]/1000:.1f} km.\\n\"\n",
    "    f\"Maksimum yükseklik: {df['gps_altitude_m'].max()} m.\\n\"\n",
    "    f\"Maksimum tırmanma hızı: {df['climb_rate_m/s'].max()} m/s.\\n\"\n",
    "    f\"Maksimum iniş hızı: {df['climb_rate_m/s'].min()} m/s.\\n\"\n",
    "    f\"Maksimum Uzaklık: {df['distance_from_start_m'].max()/1000:.1f} km.\\n\"\n",
    "    f\"Ortalama hız: {df['speed_km/s'].mean():.1f} km/s.\\n\"\n",
    "    f\"Maksimum hız: {df['speed_km/s'].max():.1f} km/s.\\n\"\n",
    "    f\"Toplam süre: {time_difference.split()[2]}\\n\"\n",
    "    f\"Maksimum İrtifa: {df['pressure_altitude_m'].max()} m.\\n\"\n",
    "    f\"Minimum İrtifa: {df['pressure_altitude_m'].min()} m.\\n\"\n",
    "    f\"Kalkış İrtifası: {df['pressure_altitude_m'].iloc[0]} m.\\n\"\n",
    "    f\"Uçuşu Kayıt Aralığı (log interval): {flight_loginterval} sn.\\n\"\n",
    ")\n",
    "\n",
    "df.to_csv(\"flight_data.csv\", index=False)\n",
    "print(sonuc)"
   ]
  },
  {
   "cell_type": "code",
   "execution_count": null,
   "metadata": {},
   "outputs": [],
   "source": [
    "coordinates = df[\"coordinate\"].tolist()\n",
    "triangle_distance, triangle_points, best_distance, distances = olc.fai_olc_distance(coordinates)\n",
    "print(f\"Maximum FAI OLC Triangle Distance: {triangle_distance:.2f} km.\")\n",
    "print(f\"Triangle Points: {triangle_points}\")\n",
    "print(f\"Best Distance : {best_distance:.2f} km.\")\n",
    "\n",
    "map = fm.Map(location=coordinates[0], zoom_start=13)\n",
    "for coord in coordinates:\n",
    "    fm.CircleMarker(location=coord, radius=1, color='blue',\n",
    "                    fill=True, fill_color='blue', popup=\"Point\").add_to(map)\n",
    "for point in triangle_points:\n",
    "    fm.Marker(location=point, popup=\"Triangle Point\").add_to(map)\n",
    "\n",
    "map.save(\"map.html\")"
   ]
  }
 ],
 "metadata": {
  "kernelspec": {
   "display_name": ".venv",
   "language": "python",
   "name": "python3"
  },
  "language_info": {
   "codemirror_mode": {
    "name": "ipython",
    "version": 3
   },
   "file_extension": ".py",
   "mimetype": "text/x-python",
   "name": "python",
   "nbconvert_exporter": "python",
   "pygments_lexer": "ipython3",
   "version": "3.11.9"
  }
 },
 "nbformat": 4,
 "nbformat_minor": 2
}
