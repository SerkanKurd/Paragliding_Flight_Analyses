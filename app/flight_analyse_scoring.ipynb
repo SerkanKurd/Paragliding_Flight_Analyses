{
 "cells": [
  {
   "cell_type": "code",
   "execution_count": 286,
   "id": "e707fece",
   "metadata": {},
   "outputs": [],
   "source": [
    "import pandas as pd\n",
    "import numpy as np\n",
    "import pickle\n",
    "import tensorflow as tf\n",
    "from sklearn.metrics.pairwise import cosine_similarity\n",
    "import os\n",
    "import prepare_flightlog as fl\n"
   ]
  },
  {
   "cell_type": "code",
   "execution_count": 287,
   "id": "958c7b7b",
   "metadata": {},
   "outputs": [
    {
     "name": "stdout",
     "output_type": "stream",
     "text": [
      "['2025-05-10-XCT-YCA-01.igc', '2025-05-10-XCT-FBA-02.igc', '2025-05-10-XNA-170300-01.igc']\n"
     ]
    }
   ],
   "source": [
    "base_dir = os.path.dirname(os.getcwd())\n",
    "flightlogs_dir = os.path.join(base_dir, \"data\", \"flightlogs\")\n",
    "files = [f for f in os.listdir(flightlogs_dir)\n",
    "         if f.endswith(\".igc\") or f.endswith(\".IGC\")]\n",
    "print(files)"
   ]
  },
  {
   "cell_type": "code",
   "execution_count": 288,
   "id": "c83d9513",
   "metadata": {},
   "outputs": [
    {
     "name": "stdout",
     "output_type": "stream",
     "text": [
      "Reading /Users/serkan/Documents/Projeler/Paragliding_Flight_Analyses/data/flightlogs/2025-05-10-XCT-FBA-02.igc\n"
     ]
    },
    {
     "data": {
      "application/vnd.microsoft.datawrangler.viewer.v0+json": {
       "columns": [
        {
         "name": "index",
         "rawType": "int64",
         "type": "integer"
        },
        {
         "name": "filename",
         "rawType": "object",
         "type": "string"
        },
        {
         "name": "datetime",
         "rawType": "datetime64[ns]",
         "type": "datetime"
        },
        {
         "name": "pilot",
         "rawType": "object",
         "type": "string"
        },
        {
         "name": "latitude",
         "rawType": "float64",
         "type": "float"
        },
        {
         "name": "longitude",
         "rawType": "float64",
         "type": "float"
        },
        {
         "name": "gps_altitude_m",
         "rawType": "int64",
         "type": "integer"
        },
        {
         "name": "pressure_altitude_m",
         "rawType": "int64",
         "type": "integer"
        },
        {
         "name": "previous_latitude",
         "rawType": "float64",
         "type": "float"
        },
        {
         "name": "previous_longitude",
         "rawType": "float64",
         "type": "float"
        },
        {
         "name": "distance_from_takeoff_m",
         "rawType": "float64",
         "type": "float"
        },
        {
         "name": "distance_m",
         "rawType": "float64",
         "type": "float"
        },
        {
         "name": "speed_km/s",
         "rawType": "float64",
         "type": "float"
        },
        {
         "name": "climb_m",
         "rawType": "float64",
         "type": "float"
        },
        {
         "name": "climb_m(delta)",
         "rawType": "float64",
         "type": "float"
        },
        {
         "name": "climb_rate_m/s",
         "rawType": "float64",
         "type": "float"
        },
        {
         "name": "glide_ratio",
         "rawType": "float64",
         "type": "float"
        },
        {
         "name": "bearing",
         "rawType": "int64",
         "type": "integer"
        },
        {
         "name": "delta_bearing",
         "rawType": "float64",
         "type": "float"
        },
        {
         "name": "elapsed_time",
         "rawType": "float64",
         "type": "float"
        },
        {
         "name": "delta_time",
         "rawType": "float64",
         "type": "float"
        },
        {
         "name": "temp",
         "rawType": "float64",
         "type": "float"
        },
        {
         "name": "pressure",
         "rawType": "float64",
         "type": "float"
        },
        {
         "name": "humidity",
         "rawType": "float64",
         "type": "float"
        },
        {
         "name": "dew_point",
         "rawType": "float64",
         "type": "float"
        },
        {
         "name": "wind_speed",
         "rawType": "float64",
         "type": "float"
        },
        {
         "name": "wind_deg",
         "rawType": "float64",
         "type": "float"
        }
       ],
       "conversionMethod": "pd.DataFrame",
       "ref": "e8fdd72e-7979-49fb-9a1b-35e6cb5ea753",
       "rows": [
        [
         "0",
         "/Users/serkan/Documents/Projeler/Paragliding_Flight_Analyses/data/flightlogs/2025-05-10-XCT-FBA-02.igc",
         "2025-05-10 11:34:59",
         "Ferkan Bayram",
         "37.32645",
         "37.177933333333335",
         "1087",
         "1106",
         "37.326433333333334",
         "37.178016666666664",
         "29.543230474442883",
         "7.613912626446343",
         "27.410085455206836",
         "-1.0",
         "-4.0",
         "-1.0",
         "7.613912626446343",
         "284",
         "14.0",
         "23.0",
         "1.0",
         "27.81",
         "1012.0",
         "22.0",
         "4.17",
         "1.59",
         "282.0"
        ],
        [
         "1",
         "/Users/serkan/Documents/Projeler/Paragliding_Flight_Analyses/data/flightlogs/2025-05-10-XCT-FBA-02.igc",
         "2025-05-10 11:35:00",
         "Ferkan Bayram",
         "37.326483333333336",
         "37.17785",
         "1087",
         "1107",
         "37.32645",
         "37.177933333333335",
         "37.11386869103505",
         "8.260516158914392",
         "29.73785817209181",
         "1.0",
         "-2.0",
         "1.0",
         "8.260516158914392",
         "296",
         "12.0",
         "24.0",
         "1.0",
         "27.81",
         "1012.0",
         "22.0",
         "4.17",
         "1.59",
         "282.0"
        ],
        [
         "2",
         "/Users/serkan/Documents/Projeler/Paragliding_Flight_Analyses/data/flightlogs/2025-05-10-XCT-FBA-02.igc",
         "2025-05-10 11:35:01",
         "Ferkan Bayram",
         "37.3265",
         "37.17776666666666",
         "1087",
         "1107",
         "37.326483333333336",
         "37.17785",
         "44.66091963810959",
         "7.613907882912114",
         "27.41006837848361",
         "0.0",
         "-1.0",
         "0.0",
         "0.0",
         "284",
         "12.0",
         "25.0",
         "1.0",
         "27.81",
         "1012.0",
         "22.0",
         "4.17",
         "1.59",
         "282.0"
        ],
        [
         "3",
         "/Users/serkan/Documents/Projeler/Paragliding_Flight_Analyses/data/flightlogs/2025-05-10-XCT-FBA-02.igc",
         "2025-05-10 11:35:02",
         "Ferkan Bayram",
         "37.3265",
         "37.177683333333334",
         "1089",
         "1107",
         "37.3265",
         "37.17776666666666",
         "51.99758914919036",
         "7.385802724420548",
         "26.588889807913972",
         "0.0",
         "-1.0",
         "0.0",
         "0.0",
         "270",
         "14.0",
         "26.0",
         "1.0",
         "27.81",
         "1012.0",
         "22.0",
         "4.17",
         "1.59",
         "282.0"
        ],
        [
         "4",
         "/Users/serkan/Documents/Projeler/Paragliding_Flight_Analyses/data/flightlogs/2025-05-10-XCT-FBA-02.igc",
         "2025-05-10 11:35:03",
         "Ferkan Bayram",
         "37.3265",
         "37.177616666666665",
         "1090",
         "1107",
         "37.3265",
         "37.177683333333334",
         "57.87592482951237",
         "5.9086421800403075",
         "21.271111848145107",
         "0.0",
         "0.0",
         "0.0",
         "0.0",
         "270",
         "0.0",
         "27.0",
         "1.0",
         "27.81",
         "1012.0",
         "22.0",
         "4.17",
         "1.59",
         "282.0"
        ]
       ],
       "shape": {
        "columns": 26,
        "rows": 5
       }
      },
      "text/html": [
       "<div>\n",
       "<style scoped>\n",
       "    .dataframe tbody tr th:only-of-type {\n",
       "        vertical-align: middle;\n",
       "    }\n",
       "\n",
       "    .dataframe tbody tr th {\n",
       "        vertical-align: top;\n",
       "    }\n",
       "\n",
       "    .dataframe thead th {\n",
       "        text-align: right;\n",
       "    }\n",
       "</style>\n",
       "<table border=\"1\" class=\"dataframe\">\n",
       "  <thead>\n",
       "    <tr style=\"text-align: right;\">\n",
       "      <th></th>\n",
       "      <th>filename</th>\n",
       "      <th>datetime</th>\n",
       "      <th>pilot</th>\n",
       "      <th>latitude</th>\n",
       "      <th>longitude</th>\n",
       "      <th>gps_altitude_m</th>\n",
       "      <th>pressure_altitude_m</th>\n",
       "      <th>previous_latitude</th>\n",
       "      <th>previous_longitude</th>\n",
       "      <th>distance_from_takeoff_m</th>\n",
       "      <th>...</th>\n",
       "      <th>bearing</th>\n",
       "      <th>delta_bearing</th>\n",
       "      <th>elapsed_time</th>\n",
       "      <th>delta_time</th>\n",
       "      <th>temp</th>\n",
       "      <th>pressure</th>\n",
       "      <th>humidity</th>\n",
       "      <th>dew_point</th>\n",
       "      <th>wind_speed</th>\n",
       "      <th>wind_deg</th>\n",
       "    </tr>\n",
       "  </thead>\n",
       "  <tbody>\n",
       "    <tr>\n",
       "      <th>0</th>\n",
       "      <td>/Users/serkan/Documents/Projeler/Paragliding_F...</td>\n",
       "      <td>2025-05-10 11:34:59</td>\n",
       "      <td>Ferkan Bayram</td>\n",
       "      <td>37.326450</td>\n",
       "      <td>37.177933</td>\n",
       "      <td>1087</td>\n",
       "      <td>1106</td>\n",
       "      <td>37.326433</td>\n",
       "      <td>37.178017</td>\n",
       "      <td>29.543230</td>\n",
       "      <td>...</td>\n",
       "      <td>284</td>\n",
       "      <td>14.0</td>\n",
       "      <td>23.0</td>\n",
       "      <td>1.0</td>\n",
       "      <td>27.81</td>\n",
       "      <td>1012.0</td>\n",
       "      <td>22.0</td>\n",
       "      <td>4.17</td>\n",
       "      <td>1.59</td>\n",
       "      <td>282.0</td>\n",
       "    </tr>\n",
       "    <tr>\n",
       "      <th>1</th>\n",
       "      <td>/Users/serkan/Documents/Projeler/Paragliding_F...</td>\n",
       "      <td>2025-05-10 11:35:00</td>\n",
       "      <td>Ferkan Bayram</td>\n",
       "      <td>37.326483</td>\n",
       "      <td>37.177850</td>\n",
       "      <td>1087</td>\n",
       "      <td>1107</td>\n",
       "      <td>37.326450</td>\n",
       "      <td>37.177933</td>\n",
       "      <td>37.113869</td>\n",
       "      <td>...</td>\n",
       "      <td>296</td>\n",
       "      <td>12.0</td>\n",
       "      <td>24.0</td>\n",
       "      <td>1.0</td>\n",
       "      <td>27.81</td>\n",
       "      <td>1012.0</td>\n",
       "      <td>22.0</td>\n",
       "      <td>4.17</td>\n",
       "      <td>1.59</td>\n",
       "      <td>282.0</td>\n",
       "    </tr>\n",
       "    <tr>\n",
       "      <th>2</th>\n",
       "      <td>/Users/serkan/Documents/Projeler/Paragliding_F...</td>\n",
       "      <td>2025-05-10 11:35:01</td>\n",
       "      <td>Ferkan Bayram</td>\n",
       "      <td>37.326500</td>\n",
       "      <td>37.177767</td>\n",
       "      <td>1087</td>\n",
       "      <td>1107</td>\n",
       "      <td>37.326483</td>\n",
       "      <td>37.177850</td>\n",
       "      <td>44.660920</td>\n",
       "      <td>...</td>\n",
       "      <td>284</td>\n",
       "      <td>12.0</td>\n",
       "      <td>25.0</td>\n",
       "      <td>1.0</td>\n",
       "      <td>27.81</td>\n",
       "      <td>1012.0</td>\n",
       "      <td>22.0</td>\n",
       "      <td>4.17</td>\n",
       "      <td>1.59</td>\n",
       "      <td>282.0</td>\n",
       "    </tr>\n",
       "    <tr>\n",
       "      <th>3</th>\n",
       "      <td>/Users/serkan/Documents/Projeler/Paragliding_F...</td>\n",
       "      <td>2025-05-10 11:35:02</td>\n",
       "      <td>Ferkan Bayram</td>\n",
       "      <td>37.326500</td>\n",
       "      <td>37.177683</td>\n",
       "      <td>1089</td>\n",
       "      <td>1107</td>\n",
       "      <td>37.326500</td>\n",
       "      <td>37.177767</td>\n",
       "      <td>51.997589</td>\n",
       "      <td>...</td>\n",
       "      <td>270</td>\n",
       "      <td>14.0</td>\n",
       "      <td>26.0</td>\n",
       "      <td>1.0</td>\n",
       "      <td>27.81</td>\n",
       "      <td>1012.0</td>\n",
       "      <td>22.0</td>\n",
       "      <td>4.17</td>\n",
       "      <td>1.59</td>\n",
       "      <td>282.0</td>\n",
       "    </tr>\n",
       "    <tr>\n",
       "      <th>4</th>\n",
       "      <td>/Users/serkan/Documents/Projeler/Paragliding_F...</td>\n",
       "      <td>2025-05-10 11:35:03</td>\n",
       "      <td>Ferkan Bayram</td>\n",
       "      <td>37.326500</td>\n",
       "      <td>37.177617</td>\n",
       "      <td>1090</td>\n",
       "      <td>1107</td>\n",
       "      <td>37.326500</td>\n",
       "      <td>37.177683</td>\n",
       "      <td>57.875925</td>\n",
       "      <td>...</td>\n",
       "      <td>270</td>\n",
       "      <td>0.0</td>\n",
       "      <td>27.0</td>\n",
       "      <td>1.0</td>\n",
       "      <td>27.81</td>\n",
       "      <td>1012.0</td>\n",
       "      <td>22.0</td>\n",
       "      <td>4.17</td>\n",
       "      <td>1.59</td>\n",
       "      <td>282.0</td>\n",
       "    </tr>\n",
       "  </tbody>\n",
       "</table>\n",
       "<p>5 rows × 26 columns</p>\n",
       "</div>"
      ],
      "text/plain": [
       "                                            filename            datetime  \\\n",
       "0  /Users/serkan/Documents/Projeler/Paragliding_F... 2025-05-10 11:34:59   \n",
       "1  /Users/serkan/Documents/Projeler/Paragliding_F... 2025-05-10 11:35:00   \n",
       "2  /Users/serkan/Documents/Projeler/Paragliding_F... 2025-05-10 11:35:01   \n",
       "3  /Users/serkan/Documents/Projeler/Paragliding_F... 2025-05-10 11:35:02   \n",
       "4  /Users/serkan/Documents/Projeler/Paragliding_F... 2025-05-10 11:35:03   \n",
       "\n",
       "           pilot   latitude  longitude  gps_altitude_m  pressure_altitude_m  \\\n",
       "0  Ferkan Bayram  37.326450  37.177933            1087                 1106   \n",
       "1  Ferkan Bayram  37.326483  37.177850            1087                 1107   \n",
       "2  Ferkan Bayram  37.326500  37.177767            1087                 1107   \n",
       "3  Ferkan Bayram  37.326500  37.177683            1089                 1107   \n",
       "4  Ferkan Bayram  37.326500  37.177617            1090                 1107   \n",
       "\n",
       "   previous_latitude  previous_longitude  distance_from_takeoff_m  ...  \\\n",
       "0          37.326433           37.178017                29.543230  ...   \n",
       "1          37.326450           37.177933                37.113869  ...   \n",
       "2          37.326483           37.177850                44.660920  ...   \n",
       "3          37.326500           37.177767                51.997589  ...   \n",
       "4          37.326500           37.177683                57.875925  ...   \n",
       "\n",
       "   bearing  delta_bearing  elapsed_time  delta_time   temp  pressure  \\\n",
       "0      284           14.0          23.0         1.0  27.81    1012.0   \n",
       "1      296           12.0          24.0         1.0  27.81    1012.0   \n",
       "2      284           12.0          25.0         1.0  27.81    1012.0   \n",
       "3      270           14.0          26.0         1.0  27.81    1012.0   \n",
       "4      270            0.0          27.0         1.0  27.81    1012.0   \n",
       "\n",
       "   humidity  dew_point  wind_speed  wind_deg  \n",
       "0      22.0       4.17        1.59     282.0  \n",
       "1      22.0       4.17        1.59     282.0  \n",
       "2      22.0       4.17        1.59     282.0  \n",
       "3      22.0       4.17        1.59     282.0  \n",
       "4      22.0       4.17        1.59     282.0  \n",
       "\n",
       "[5 rows x 26 columns]"
      ]
     },
     "execution_count": 288,
     "metadata": {},
     "output_type": "execute_result"
    }
   ],
   "source": [
    "file_no = 1\n",
    "file_path = os.path.join(flightlogs_dir, files[file_no])\n",
    "print(f\"Reading {file_path}\")\n",
    "df = fl.prepare_data(file_path)\n",
    "df.head()"
   ]
  },
  {
   "cell_type": "code",
   "execution_count": 289,
   "id": "f00fa7be",
   "metadata": {},
   "outputs": [
    {
     "name": "stdout",
     "output_type": "stream",
     "text": [
      "7908.0\n"
     ]
    }
   ],
   "source": [
    "print(df[\"elapsed_time\"].iloc[-1])"
   ]
  },
  {
   "cell_type": "code",
   "execution_count": 290,
   "id": "191bbbb3",
   "metadata": {},
   "outputs": [
    {
     "data": {
      "application/vnd.microsoft.datawrangler.viewer.v0+json": {
       "columns": [
        {
         "name": "index",
         "rawType": "object",
         "type": "string"
        },
        {
         "name": "latitude",
         "rawType": "float64",
         "type": "float"
        },
        {
         "name": "longitude",
         "rawType": "float64",
         "type": "float"
        },
        {
         "name": "gps_altitude_m",
         "rawType": "float64",
         "type": "float"
        },
        {
         "name": "distance_m",
         "rawType": "float64",
         "type": "float"
        },
        {
         "name": "speed_km/s",
         "rawType": "float64",
         "type": "float"
        },
        {
         "name": "climb_m",
         "rawType": "float64",
         "type": "float"
        },
        {
         "name": "climb_m(delta)",
         "rawType": "float64",
         "type": "float"
        },
        {
         "name": "climb_rate_m/s",
         "rawType": "float64",
         "type": "float"
        },
        {
         "name": "glide_ratio",
         "rawType": "float64",
         "type": "float"
        },
        {
         "name": "bearing",
         "rawType": "float64",
         "type": "float"
        },
        {
         "name": "delta_bearing",
         "rawType": "float64",
         "type": "float"
        },
        {
         "name": "elapsed_time",
         "rawType": "float64",
         "type": "float"
        },
        {
         "name": "delta_time",
         "rawType": "float64",
         "type": "float"
        },
        {
         "name": "temp",
         "rawType": "float64",
         "type": "float"
        },
        {
         "name": "pressure",
         "rawType": "float64",
         "type": "float"
        },
        {
         "name": "humidity",
         "rawType": "float64",
         "type": "float"
        },
        {
         "name": "dew_point",
         "rawType": "float64",
         "type": "float"
        },
        {
         "name": "wind_speed",
         "rawType": "float64",
         "type": "float"
        },
        {
         "name": "wind_deg",
         "rawType": "float64",
         "type": "float"
        }
       ],
       "conversionMethod": "pd.DataFrame",
       "ref": "d70c2a93-a258-4a22-ae19-f5e4f3f06ff7",
       "rows": [
        [
         "count",
         "7830.0",
         "7830.0",
         "7830.0",
         "7830.0",
         "7830.0",
         "7830.0",
         "7830.0",
         "7830.0",
         "7830.0",
         "7830.0",
         "7830.0",
         "7830.0",
         "7830.0",
         "7830.0",
         "7830.0",
         "7830.0",
         "7830.0",
         "7830.0",
         "7830.0"
        ],
        [
         "mean",
         "37.32553454022988",
         "37.453661302682",
         "1795.562835249042",
         "10.571645343877357",
         "38.05792323795849",
         "-0.06385696040868455",
         "-1.4424010217113665",
         "-0.06385696040868455",
         "5.540226675783822",
         "123.62349936143039",
         "8.334738186462324",
         "3965.2422733077906",
         "1.0",
         "30.242989782886333",
         "1010.8379310344827",
         "20.080459770114942",
         "4.842809706257983",
         "1.6218939974457216",
         "267.0765006385696"
        ],
        [
         "std",
         "0.06623679967209146",
         "0.17598192004586471",
         "589.0710624715331",
         "3.4247417670731597",
         "12.329070361463375",
         "1.9299943553675558",
         "35.1778713342383",
         "1.9299943553675558",
         "4.534655076748947",
         "90.55448194623762",
         "8.705097741240037",
         "2282.6118907374057",
         "0.0",
         "1.3037134690758623",
         "0.7206012237984093",
         "1.1786033821471429",
         "0.3680676232078032",
         "0.5761183055211458",
         "21.33644739036901"
        ],
        [
         "min",
         "37.235683333333334",
         "37.176833333333335",
         "546.0",
         "1.4751513563964762",
         "5.3105448830273145",
         "-5.0",
         "-94.0",
         "-5.0",
         "0.0",
         "0.0",
         "0.0",
         "23.0",
         "1.0",
         "27.81",
         "1010.0",
         "19.0",
         "4.17",
         "0.62",
         "222.0"
        ],
        [
         "25%",
         "37.26736666666667",
         "37.2977",
         "1289.0",
         "7.966952271166535",
         "28.681028176199526",
         "-1.0",
         "-27.0",
         "-1.0",
         "2.341474964023074",
         "52.0",
         "2.0",
         "1981.25",
         "1.0",
         "29.37",
         "1010.0",
         "19.0",
         "4.79",
         "1.18",
         "243.0"
        ],
        [
         "50%",
         "37.307925",
         "37.426033333333336",
         "1765.5",
         "10.989995741608169",
         "39.563984669789406",
         "0.0",
         "-8.0",
         "0.0",
         "4.7355490996093685",
         "89.0",
         "7.0",
         "3968.5",
         "1.0",
         "30.61",
         "1011.0",
         "20.0",
         "4.92",
         "1.59",
         "275.0"
        ],
        [
         "75%",
         "37.395579166666664",
         "37.627375",
         "2258.0",
         "13.277465852724035",
         "47.79887706980652",
         "1.0",
         "29.0",
         "1.0",
         "7.966986433451382",
         "180.0",
         "11.0",
         "5950.75",
         "1.0",
         "31.59",
         "1011.0",
         "21.0",
         "5.18",
         "1.91",
         "282.0"
        ],
        [
         "max",
         "37.43728333333333",
         "37.71841666666667",
         "3121.0",
         "20.596521202506565",
         "74.14747632902365",
         "5.0",
         "92.0",
         "5.0",
         "18.936535253808174",
         "352.0",
         "91.0",
         "7908.0",
         "1.0",
         "31.7",
         "1012.0",
         "22.0",
         "5.71",
         "2.38",
         "298.0"
        ]
       ],
       "shape": {
        "columns": 19,
        "rows": 8
       }
      },
      "text/html": [
       "<div>\n",
       "<style scoped>\n",
       "    .dataframe tbody tr th:only-of-type {\n",
       "        vertical-align: middle;\n",
       "    }\n",
       "\n",
       "    .dataframe tbody tr th {\n",
       "        vertical-align: top;\n",
       "    }\n",
       "\n",
       "    .dataframe thead th {\n",
       "        text-align: right;\n",
       "    }\n",
       "</style>\n",
       "<table border=\"1\" class=\"dataframe\">\n",
       "  <thead>\n",
       "    <tr style=\"text-align: right;\">\n",
       "      <th></th>\n",
       "      <th>latitude</th>\n",
       "      <th>longitude</th>\n",
       "      <th>gps_altitude_m</th>\n",
       "      <th>distance_m</th>\n",
       "      <th>speed_km/s</th>\n",
       "      <th>climb_m</th>\n",
       "      <th>climb_m(delta)</th>\n",
       "      <th>climb_rate_m/s</th>\n",
       "      <th>glide_ratio</th>\n",
       "      <th>bearing</th>\n",
       "      <th>delta_bearing</th>\n",
       "      <th>elapsed_time</th>\n",
       "      <th>delta_time</th>\n",
       "      <th>temp</th>\n",
       "      <th>pressure</th>\n",
       "      <th>humidity</th>\n",
       "      <th>dew_point</th>\n",
       "      <th>wind_speed</th>\n",
       "      <th>wind_deg</th>\n",
       "    </tr>\n",
       "  </thead>\n",
       "  <tbody>\n",
       "    <tr>\n",
       "      <th>count</th>\n",
       "      <td>7830.000000</td>\n",
       "      <td>7830.000000</td>\n",
       "      <td>7830.000000</td>\n",
       "      <td>7830.000000</td>\n",
       "      <td>7830.000000</td>\n",
       "      <td>7830.000000</td>\n",
       "      <td>7830.000000</td>\n",
       "      <td>7830.000000</td>\n",
       "      <td>7830.000000</td>\n",
       "      <td>7830.000000</td>\n",
       "      <td>7830.000000</td>\n",
       "      <td>7830.000000</td>\n",
       "      <td>7830.0</td>\n",
       "      <td>7830.000000</td>\n",
       "      <td>7830.000000</td>\n",
       "      <td>7830.000000</td>\n",
       "      <td>7830.000000</td>\n",
       "      <td>7830.000000</td>\n",
       "      <td>7830.000000</td>\n",
       "    </tr>\n",
       "    <tr>\n",
       "      <th>mean</th>\n",
       "      <td>37.325535</td>\n",
       "      <td>37.453661</td>\n",
       "      <td>1795.562835</td>\n",
       "      <td>10.571645</td>\n",
       "      <td>38.057923</td>\n",
       "      <td>-0.063857</td>\n",
       "      <td>-1.442401</td>\n",
       "      <td>-0.063857</td>\n",
       "      <td>5.540227</td>\n",
       "      <td>123.623499</td>\n",
       "      <td>8.334738</td>\n",
       "      <td>3965.242273</td>\n",
       "      <td>1.0</td>\n",
       "      <td>30.242990</td>\n",
       "      <td>1010.837931</td>\n",
       "      <td>20.080460</td>\n",
       "      <td>4.842810</td>\n",
       "      <td>1.621894</td>\n",
       "      <td>267.076501</td>\n",
       "    </tr>\n",
       "    <tr>\n",
       "      <th>std</th>\n",
       "      <td>0.066237</td>\n",
       "      <td>0.175982</td>\n",
       "      <td>589.071062</td>\n",
       "      <td>3.424742</td>\n",
       "      <td>12.329070</td>\n",
       "      <td>1.929994</td>\n",
       "      <td>35.177871</td>\n",
       "      <td>1.929994</td>\n",
       "      <td>4.534655</td>\n",
       "      <td>90.554482</td>\n",
       "      <td>8.705098</td>\n",
       "      <td>2282.611891</td>\n",
       "      <td>0.0</td>\n",
       "      <td>1.303713</td>\n",
       "      <td>0.720601</td>\n",
       "      <td>1.178603</td>\n",
       "      <td>0.368068</td>\n",
       "      <td>0.576118</td>\n",
       "      <td>21.336447</td>\n",
       "    </tr>\n",
       "    <tr>\n",
       "      <th>min</th>\n",
       "      <td>37.235683</td>\n",
       "      <td>37.176833</td>\n",
       "      <td>546.000000</td>\n",
       "      <td>1.475151</td>\n",
       "      <td>5.310545</td>\n",
       "      <td>-5.000000</td>\n",
       "      <td>-94.000000</td>\n",
       "      <td>-5.000000</td>\n",
       "      <td>0.000000</td>\n",
       "      <td>0.000000</td>\n",
       "      <td>0.000000</td>\n",
       "      <td>23.000000</td>\n",
       "      <td>1.0</td>\n",
       "      <td>27.810000</td>\n",
       "      <td>1010.000000</td>\n",
       "      <td>19.000000</td>\n",
       "      <td>4.170000</td>\n",
       "      <td>0.620000</td>\n",
       "      <td>222.000000</td>\n",
       "    </tr>\n",
       "    <tr>\n",
       "      <th>25%</th>\n",
       "      <td>37.267367</td>\n",
       "      <td>37.297700</td>\n",
       "      <td>1289.000000</td>\n",
       "      <td>7.966952</td>\n",
       "      <td>28.681028</td>\n",
       "      <td>-1.000000</td>\n",
       "      <td>-27.000000</td>\n",
       "      <td>-1.000000</td>\n",
       "      <td>2.341475</td>\n",
       "      <td>52.000000</td>\n",
       "      <td>2.000000</td>\n",
       "      <td>1981.250000</td>\n",
       "      <td>1.0</td>\n",
       "      <td>29.370000</td>\n",
       "      <td>1010.000000</td>\n",
       "      <td>19.000000</td>\n",
       "      <td>4.790000</td>\n",
       "      <td>1.180000</td>\n",
       "      <td>243.000000</td>\n",
       "    </tr>\n",
       "    <tr>\n",
       "      <th>50%</th>\n",
       "      <td>37.307925</td>\n",
       "      <td>37.426033</td>\n",
       "      <td>1765.500000</td>\n",
       "      <td>10.989996</td>\n",
       "      <td>39.563985</td>\n",
       "      <td>0.000000</td>\n",
       "      <td>-8.000000</td>\n",
       "      <td>0.000000</td>\n",
       "      <td>4.735549</td>\n",
       "      <td>89.000000</td>\n",
       "      <td>7.000000</td>\n",
       "      <td>3968.500000</td>\n",
       "      <td>1.0</td>\n",
       "      <td>30.610000</td>\n",
       "      <td>1011.000000</td>\n",
       "      <td>20.000000</td>\n",
       "      <td>4.920000</td>\n",
       "      <td>1.590000</td>\n",
       "      <td>275.000000</td>\n",
       "    </tr>\n",
       "    <tr>\n",
       "      <th>75%</th>\n",
       "      <td>37.395579</td>\n",
       "      <td>37.627375</td>\n",
       "      <td>2258.000000</td>\n",
       "      <td>13.277466</td>\n",
       "      <td>47.798877</td>\n",
       "      <td>1.000000</td>\n",
       "      <td>29.000000</td>\n",
       "      <td>1.000000</td>\n",
       "      <td>7.966986</td>\n",
       "      <td>180.000000</td>\n",
       "      <td>11.000000</td>\n",
       "      <td>5950.750000</td>\n",
       "      <td>1.0</td>\n",
       "      <td>31.590000</td>\n",
       "      <td>1011.000000</td>\n",
       "      <td>21.000000</td>\n",
       "      <td>5.180000</td>\n",
       "      <td>1.910000</td>\n",
       "      <td>282.000000</td>\n",
       "    </tr>\n",
       "    <tr>\n",
       "      <th>max</th>\n",
       "      <td>37.437283</td>\n",
       "      <td>37.718417</td>\n",
       "      <td>3121.000000</td>\n",
       "      <td>20.596521</td>\n",
       "      <td>74.147476</td>\n",
       "      <td>5.000000</td>\n",
       "      <td>92.000000</td>\n",
       "      <td>5.000000</td>\n",
       "      <td>18.936535</td>\n",
       "      <td>352.000000</td>\n",
       "      <td>91.000000</td>\n",
       "      <td>7908.000000</td>\n",
       "      <td>1.0</td>\n",
       "      <td>31.700000</td>\n",
       "      <td>1012.000000</td>\n",
       "      <td>22.000000</td>\n",
       "      <td>5.710000</td>\n",
       "      <td>2.380000</td>\n",
       "      <td>298.000000</td>\n",
       "    </tr>\n",
       "  </tbody>\n",
       "</table>\n",
       "</div>"
      ],
      "text/plain": [
       "          latitude    longitude  gps_altitude_m   distance_m   speed_km/s  \\\n",
       "count  7830.000000  7830.000000     7830.000000  7830.000000  7830.000000   \n",
       "mean     37.325535    37.453661     1795.562835    10.571645    38.057923   \n",
       "std       0.066237     0.175982      589.071062     3.424742    12.329070   \n",
       "min      37.235683    37.176833      546.000000     1.475151     5.310545   \n",
       "25%      37.267367    37.297700     1289.000000     7.966952    28.681028   \n",
       "50%      37.307925    37.426033     1765.500000    10.989996    39.563985   \n",
       "75%      37.395579    37.627375     2258.000000    13.277466    47.798877   \n",
       "max      37.437283    37.718417     3121.000000    20.596521    74.147476   \n",
       "\n",
       "           climb_m  climb_m(delta)  climb_rate_m/s  glide_ratio      bearing  \\\n",
       "count  7830.000000     7830.000000     7830.000000  7830.000000  7830.000000   \n",
       "mean     -0.063857       -1.442401       -0.063857     5.540227   123.623499   \n",
       "std       1.929994       35.177871        1.929994     4.534655    90.554482   \n",
       "min      -5.000000      -94.000000       -5.000000     0.000000     0.000000   \n",
       "25%      -1.000000      -27.000000       -1.000000     2.341475    52.000000   \n",
       "50%       0.000000       -8.000000        0.000000     4.735549    89.000000   \n",
       "75%       1.000000       29.000000        1.000000     7.966986   180.000000   \n",
       "max       5.000000       92.000000        5.000000    18.936535   352.000000   \n",
       "\n",
       "       delta_bearing  elapsed_time  delta_time         temp     pressure  \\\n",
       "count    7830.000000   7830.000000      7830.0  7830.000000  7830.000000   \n",
       "mean        8.334738   3965.242273         1.0    30.242990  1010.837931   \n",
       "std         8.705098   2282.611891         0.0     1.303713     0.720601   \n",
       "min         0.000000     23.000000         1.0    27.810000  1010.000000   \n",
       "25%         2.000000   1981.250000         1.0    29.370000  1010.000000   \n",
       "50%         7.000000   3968.500000         1.0    30.610000  1011.000000   \n",
       "75%        11.000000   5950.750000         1.0    31.590000  1011.000000   \n",
       "max        91.000000   7908.000000         1.0    31.700000  1012.000000   \n",
       "\n",
       "          humidity    dew_point   wind_speed     wind_deg  \n",
       "count  7830.000000  7830.000000  7830.000000  7830.000000  \n",
       "mean     20.080460     4.842810     1.621894   267.076501  \n",
       "std       1.178603     0.368068     0.576118    21.336447  \n",
       "min      19.000000     4.170000     0.620000   222.000000  \n",
       "25%      19.000000     4.790000     1.180000   243.000000  \n",
       "50%      20.000000     4.920000     1.590000   275.000000  \n",
       "75%      21.000000     5.180000     1.910000   282.000000  \n",
       "max      22.000000     5.710000     2.380000   298.000000  "
      ]
     },
     "execution_count": 290,
     "metadata": {},
     "output_type": "execute_result"
    }
   ],
   "source": [
    "def calc_zscore(df) -> pd.Series:\n",
    "    mean = df.mean()\n",
    "    std = df.std()\n",
    "    result = (df - mean) / std\n",
    "    result = np.where(abs(result) > 3, True, False)\n",
    "    return result\n",
    "\n",
    "\n",
    "df = df[['latitude', 'longitude',\n",
    "         'gps_altitude_m', 'distance_m', 'speed_km/s',\n",
    "         'climb_m', 'climb_m(delta)', 'climb_rate_m/s',\n",
    "         'glide_ratio', 'bearing', 'delta_bearing',\n",
    "         'elapsed_time', 'delta_time', 'temp',\n",
    "         'pressure', 'humidity', 'dew_point',\n",
    "         'wind_speed', 'wind_deg']]\n",
    "df = df[df['gps_altitude_m'] > 0]\n",
    "\n",
    "df_cleaned = df.copy()\n",
    "zsore_columns = ['gps_altitude_m', 'distance_m', 'speed_km/s',\n",
    "                 'climb_m', 'climb_m(delta)', 'climb_rate_m/s',\n",
    "                 'glide_ratio', 'delta_time']\n",
    "\n",
    "for col in zsore_columns:\n",
    "    df_cleaned[col + \"_zscore\"] = calc_zscore(df_cleaned[col].copy())\n",
    "    df_cleaned = df_cleaned[df_cleaned[col + \"_zscore\"] == False]\n",
    "    df_cleaned.drop(columns=[col + \"_zscore\"], inplace=True)\n",
    "\n",
    "df = df_cleaned\n",
    "df.describe()"
   ]
  },
  {
   "cell_type": "code",
   "execution_count": 291,
   "id": "3a9ccde6",
   "metadata": {},
   "outputs": [
    {
     "name": "stdout",
     "output_type": "stream",
     "text": [
      "Loaded Transformer model from 'models/transformer_tunned_model.keras'\n"
     ]
    }
   ],
   "source": [
    "# --- 1. Load saved scaler and Transformer model ---\n",
    "scaler_path = os.path.join('models', 'scaler.pkl')\n",
    "model_path  = os.path.join('models', 'transformer_tunned_model.keras')\n",
    "\n",
    "with open(scaler_path, 'rb') as f:\n",
    "    scaler = pickle.load(f)\n",
    "\n",
    "model = tf.keras.models.load_model(model_path)\n",
    "print(f\"Loaded Transformer model from '{model_path}'\")\n",
    "\n",
    "\n",
    "# Define feature columns (everything except the target)\n",
    "feature_cols = [c for c in df.columns if c != 'climb_rate_m/s']\n"
   ]
  },
  {
   "cell_type": "code",
   "execution_count": 292,
   "id": "e4fce76f",
   "metadata": {},
   "outputs": [],
   "source": [
    "# --- 3. Scale features ---\n",
    "X_new = df[feature_cols].values.astype(np.float32)\n",
    "X_new_scaled = scaler.transform(X_new)\n",
    "\n",
    "# --- 4. Create sliding‐window dataset for inference ---\n",
    "T = 10        # same window length as training\n",
    "batch_size = 32\n",
    "\n",
    "predict_ds = tf.keras.preprocessing.timeseries_dataset_from_array(\n",
    "    data=X_new_scaled,\n",
    "    targets=None,\n",
    "    sequence_length=T,\n",
    "    sequence_stride=1,\n",
    "    shuffle=False,\n",
    "    batch_size=batch_size\n",
    ")"
   ]
  },
  {
   "cell_type": "code",
   "execution_count": 293,
   "id": "099698dd",
   "metadata": {},
   "outputs": [
    {
     "name": "stdout",
     "output_type": "stream",
     "text": [
      "\u001b[1m245/245\u001b[0m \u001b[32m━━━━━━━━━━━━━━━━━━━━\u001b[0m\u001b[37m\u001b[0m \u001b[1m1s\u001b[0m 2ms/step\n",
      "\u001b[1m245/245\u001b[0m \u001b[32m━━━━━━━━━━━━━━━━━━━━\u001b[0m\u001b[37m\u001b[0m \u001b[1m0s\u001b[0m 2ms/step\n"
     ]
    }
   ],
   "source": [
    "# --- 5. Run predictions ---\n",
    "preds = model.predict(predict_ds).flatten()\n",
    "\n",
    "# --- 6. Align predictions with original data indices or timestamps ---\n",
    "# If your DataFrame has a timestamp column, you can use that instead.\n",
    "# number of windows = N – T + 1\n",
    "preds = model.predict(predict_ds).flatten()\n",
    "# Align preds to df_new by taking index[T-1:]\n",
    "indices = df.index[T-1:]\n",
    "# Just in case, truncate to the same length:\n",
    "indices = indices[: len(preds)]\n",
    "\n",
    "indices = df.index[T-1 : T-1 + len(preds)]\n",
    "df.loc[indices, 'predicted_climb_rate_m/s'] = preds"
   ]
  },
  {
   "cell_type": "code",
   "execution_count": 294,
   "id": "dd2b3d05",
   "metadata": {},
   "outputs": [
    {
     "data": {
      "application/vnd.microsoft.datawrangler.viewer.v0+json": {
       "columns": [
        {
         "name": "index",
         "rawType": "int64",
         "type": "integer"
        },
        {
         "name": "latitude",
         "rawType": "float64",
         "type": "float"
        },
        {
         "name": "longitude",
         "rawType": "float64",
         "type": "float"
        },
        {
         "name": "gps_altitude_m",
         "rawType": "int64",
         "type": "integer"
        },
        {
         "name": "distance_m",
         "rawType": "float64",
         "type": "float"
        },
        {
         "name": "speed_km/s",
         "rawType": "float64",
         "type": "float"
        },
        {
         "name": "climb_m",
         "rawType": "float64",
         "type": "float"
        },
        {
         "name": "climb_m(delta)",
         "rawType": "float64",
         "type": "float"
        },
        {
         "name": "climb_rate_m/s",
         "rawType": "float64",
         "type": "float"
        },
        {
         "name": "glide_ratio",
         "rawType": "float64",
         "type": "float"
        },
        {
         "name": "bearing",
         "rawType": "int64",
         "type": "integer"
        },
        {
         "name": "delta_bearing",
         "rawType": "float64",
         "type": "float"
        },
        {
         "name": "elapsed_time",
         "rawType": "float64",
         "type": "float"
        },
        {
         "name": "delta_time",
         "rawType": "float64",
         "type": "float"
        },
        {
         "name": "temp",
         "rawType": "float64",
         "type": "float"
        },
        {
         "name": "pressure",
         "rawType": "float64",
         "type": "float"
        },
        {
         "name": "humidity",
         "rawType": "float64",
         "type": "float"
        },
        {
         "name": "dew_point",
         "rawType": "float64",
         "type": "float"
        },
        {
         "name": "wind_speed",
         "rawType": "float64",
         "type": "float"
        },
        {
         "name": "wind_deg",
         "rawType": "float64",
         "type": "float"
        },
        {
         "name": "predicted_climb_rate_m/s",
         "rawType": "float32",
         "type": "float"
        }
       ],
       "conversionMethod": "pd.DataFrame",
       "ref": "af3b47cc-8ef9-46df-a716-8871e862cbf0",
       "rows": [
        [
         "15",
         "37.32585",
         "37.17725",
         "1081",
         "11.484864054916192",
         "41.34551059769829",
         "1.0",
         "-7.0",
         "1.0",
         "11.484864054916192",
         "194",
         "5.0",
         "38.0",
         "1.0",
         "27.81",
         "1012.0",
         "22.0",
         "4.17",
         "1.59",
         "282.0",
         "1.1503106"
        ],
        [
         "19",
         "37.32556666666667",
         "37.1772",
         "1085",
         "7.3989169755619795",
         "26.636101112023127",
         "1.0",
         "-7.0",
         "1.0",
         "7.3989169755619795",
         "180",
         "11.0",
         "42.0",
         "1.0",
         "27.81",
         "1012.0",
         "22.0",
         "4.17",
         "1.59",
         "282.0",
         "1.0980805"
        ],
        [
         "21",
         "37.325466666666664",
         "37.17718333333333",
         "1086",
         "3.6994584148275838",
         "13.318050293379303",
         "1.0",
         "-6.0",
         "1.0",
         "3.6994584148275838",
         "180",
         "11.0",
         "44.0",
         "1.0",
         "27.81",
         "1012.0",
         "22.0",
         "4.17",
         "1.59",
         "282.0",
         "1.1707045"
        ],
        [
         "22",
         "37.32541666666667",
         "37.177166666666665",
         "1089",
         "5.742433918803144",
         "20.672762107691316",
         "1.0",
         "-5.0",
         "1.0",
         "5.742433918803144",
         "194",
         "14.0",
         "45.0",
         "1.0",
         "27.81",
         "1012.0",
         "22.0",
         "4.17",
         "1.59",
         "282.0",
         "1.1693349"
        ],
        [
         "23",
         "37.32536666666667",
         "37.17718333333333",
         "1090",
         "5.742434125171255",
         "20.672762850616518",
         "2.0",
         "-3.0",
         "2.0",
         "2.8712170625856275",
         "165",
         "29.0",
         "46.0",
         "1.0",
         "27.81",
         "1012.0",
         "22.0",
         "4.17",
         "1.59",
         "282.0",
         "1.1694434"
        ]
       ],
       "shape": {
        "columns": 20,
        "rows": 5
       }
      },
      "text/html": [
       "<div>\n",
       "<style scoped>\n",
       "    .dataframe tbody tr th:only-of-type {\n",
       "        vertical-align: middle;\n",
       "    }\n",
       "\n",
       "    .dataframe tbody tr th {\n",
       "        vertical-align: top;\n",
       "    }\n",
       "\n",
       "    .dataframe thead th {\n",
       "        text-align: right;\n",
       "    }\n",
       "</style>\n",
       "<table border=\"1\" class=\"dataframe\">\n",
       "  <thead>\n",
       "    <tr style=\"text-align: right;\">\n",
       "      <th></th>\n",
       "      <th>latitude</th>\n",
       "      <th>longitude</th>\n",
       "      <th>gps_altitude_m</th>\n",
       "      <th>distance_m</th>\n",
       "      <th>speed_km/s</th>\n",
       "      <th>climb_m</th>\n",
       "      <th>climb_m(delta)</th>\n",
       "      <th>climb_rate_m/s</th>\n",
       "      <th>glide_ratio</th>\n",
       "      <th>bearing</th>\n",
       "      <th>delta_bearing</th>\n",
       "      <th>elapsed_time</th>\n",
       "      <th>delta_time</th>\n",
       "      <th>temp</th>\n",
       "      <th>pressure</th>\n",
       "      <th>humidity</th>\n",
       "      <th>dew_point</th>\n",
       "      <th>wind_speed</th>\n",
       "      <th>wind_deg</th>\n",
       "      <th>predicted_climb_rate_m/s</th>\n",
       "    </tr>\n",
       "  </thead>\n",
       "  <tbody>\n",
       "    <tr>\n",
       "      <th>15</th>\n",
       "      <td>37.325850</td>\n",
       "      <td>37.177250</td>\n",
       "      <td>1081</td>\n",
       "      <td>11.484864</td>\n",
       "      <td>41.345511</td>\n",
       "      <td>1.0</td>\n",
       "      <td>-7.0</td>\n",
       "      <td>1.0</td>\n",
       "      <td>11.484864</td>\n",
       "      <td>194</td>\n",
       "      <td>5.0</td>\n",
       "      <td>38.0</td>\n",
       "      <td>1.0</td>\n",
       "      <td>27.81</td>\n",
       "      <td>1012.0</td>\n",
       "      <td>22.0</td>\n",
       "      <td>4.17</td>\n",
       "      <td>1.59</td>\n",
       "      <td>282.0</td>\n",
       "      <td>1.150311</td>\n",
       "    </tr>\n",
       "    <tr>\n",
       "      <th>19</th>\n",
       "      <td>37.325567</td>\n",
       "      <td>37.177200</td>\n",
       "      <td>1085</td>\n",
       "      <td>7.398917</td>\n",
       "      <td>26.636101</td>\n",
       "      <td>1.0</td>\n",
       "      <td>-7.0</td>\n",
       "      <td>1.0</td>\n",
       "      <td>7.398917</td>\n",
       "      <td>180</td>\n",
       "      <td>11.0</td>\n",
       "      <td>42.0</td>\n",
       "      <td>1.0</td>\n",
       "      <td>27.81</td>\n",
       "      <td>1012.0</td>\n",
       "      <td>22.0</td>\n",
       "      <td>4.17</td>\n",
       "      <td>1.59</td>\n",
       "      <td>282.0</td>\n",
       "      <td>1.098081</td>\n",
       "    </tr>\n",
       "    <tr>\n",
       "      <th>21</th>\n",
       "      <td>37.325467</td>\n",
       "      <td>37.177183</td>\n",
       "      <td>1086</td>\n",
       "      <td>3.699458</td>\n",
       "      <td>13.318050</td>\n",
       "      <td>1.0</td>\n",
       "      <td>-6.0</td>\n",
       "      <td>1.0</td>\n",
       "      <td>3.699458</td>\n",
       "      <td>180</td>\n",
       "      <td>11.0</td>\n",
       "      <td>44.0</td>\n",
       "      <td>1.0</td>\n",
       "      <td>27.81</td>\n",
       "      <td>1012.0</td>\n",
       "      <td>22.0</td>\n",
       "      <td>4.17</td>\n",
       "      <td>1.59</td>\n",
       "      <td>282.0</td>\n",
       "      <td>1.170704</td>\n",
       "    </tr>\n",
       "    <tr>\n",
       "      <th>22</th>\n",
       "      <td>37.325417</td>\n",
       "      <td>37.177167</td>\n",
       "      <td>1089</td>\n",
       "      <td>5.742434</td>\n",
       "      <td>20.672762</td>\n",
       "      <td>1.0</td>\n",
       "      <td>-5.0</td>\n",
       "      <td>1.0</td>\n",
       "      <td>5.742434</td>\n",
       "      <td>194</td>\n",
       "      <td>14.0</td>\n",
       "      <td>45.0</td>\n",
       "      <td>1.0</td>\n",
       "      <td>27.81</td>\n",
       "      <td>1012.0</td>\n",
       "      <td>22.0</td>\n",
       "      <td>4.17</td>\n",
       "      <td>1.59</td>\n",
       "      <td>282.0</td>\n",
       "      <td>1.169335</td>\n",
       "    </tr>\n",
       "    <tr>\n",
       "      <th>23</th>\n",
       "      <td>37.325367</td>\n",
       "      <td>37.177183</td>\n",
       "      <td>1090</td>\n",
       "      <td>5.742434</td>\n",
       "      <td>20.672763</td>\n",
       "      <td>2.0</td>\n",
       "      <td>-3.0</td>\n",
       "      <td>2.0</td>\n",
       "      <td>2.871217</td>\n",
       "      <td>165</td>\n",
       "      <td>29.0</td>\n",
       "      <td>46.0</td>\n",
       "      <td>1.0</td>\n",
       "      <td>27.81</td>\n",
       "      <td>1012.0</td>\n",
       "      <td>22.0</td>\n",
       "      <td>4.17</td>\n",
       "      <td>1.59</td>\n",
       "      <td>282.0</td>\n",
       "      <td>1.169443</td>\n",
       "    </tr>\n",
       "  </tbody>\n",
       "</table>\n",
       "</div>"
      ],
      "text/plain": [
       "     latitude  longitude  gps_altitude_m  distance_m  speed_km/s  climb_m  \\\n",
       "15  37.325850  37.177250            1081   11.484864   41.345511      1.0   \n",
       "19  37.325567  37.177200            1085    7.398917   26.636101      1.0   \n",
       "21  37.325467  37.177183            1086    3.699458   13.318050      1.0   \n",
       "22  37.325417  37.177167            1089    5.742434   20.672762      1.0   \n",
       "23  37.325367  37.177183            1090    5.742434   20.672763      2.0   \n",
       "\n",
       "    climb_m(delta)  climb_rate_m/s  glide_ratio  bearing  delta_bearing  \\\n",
       "15            -7.0             1.0    11.484864      194            5.0   \n",
       "19            -7.0             1.0     7.398917      180           11.0   \n",
       "21            -6.0             1.0     3.699458      180           11.0   \n",
       "22            -5.0             1.0     5.742434      194           14.0   \n",
       "23            -3.0             2.0     2.871217      165           29.0   \n",
       "\n",
       "    elapsed_time  delta_time   temp  pressure  humidity  dew_point  \\\n",
       "15          38.0         1.0  27.81    1012.0      22.0       4.17   \n",
       "19          42.0         1.0  27.81    1012.0      22.0       4.17   \n",
       "21          44.0         1.0  27.81    1012.0      22.0       4.17   \n",
       "22          45.0         1.0  27.81    1012.0      22.0       4.17   \n",
       "23          46.0         1.0  27.81    1012.0      22.0       4.17   \n",
       "\n",
       "    wind_speed  wind_deg  predicted_climb_rate_m/s  \n",
       "15        1.59     282.0                  1.150311  \n",
       "19        1.59     282.0                  1.098081  \n",
       "21        1.59     282.0                  1.170704  \n",
       "22        1.59     282.0                  1.169335  \n",
       "23        1.59     282.0                  1.169443  "
      ]
     },
     "execution_count": 294,
     "metadata": {},
     "output_type": "execute_result"
    }
   ],
   "source": [
    "df = df[df['predicted_climb_rate_m/s'].notna()]\n",
    "df = df[df['climb_rate_m/s'] > 0]\n",
    "df.head()"
   ]
  },
  {
   "cell_type": "code",
   "execution_count": 295,
   "id": "02dd5bbd",
   "metadata": {},
   "outputs": [
    {
     "name": "stdout",
     "output_type": "stream",
     "text": [
      "Pearson similarity: 70.09%\n"
     ]
    }
   ],
   "source": [
    "y_true = df['climb_rate_m/s'].values\n",
    "y_pred = df['predicted_climb_rate_m/s'].values\n",
    "\n",
    "# 2) Pearson korelasyon (−1…1 → map 0…1)\n",
    "pearson_r = np.corrcoef(y_true, y_pred)[0,1]\n",
    "pearson_sim = (pearson_r + 1) / 2\n",
    "pearson_percent = pearson_sim * 100\n",
    "print(f\"Pearson similarity: {pearson_percent:.2f}%\")"
   ]
  },
  {
   "cell_type": "code",
   "execution_count": 296,
   "id": "6e1b63d2",
   "metadata": {},
   "outputs": [
    {
     "name": "stdout",
     "output_type": "stream",
     "text": [
      "Centered Cosine: 40.17%\n"
     ]
    }
   ],
   "source": [
    "# Orijinal y_true, y_pred\n",
    "y_true_centered = y_true - np.mean(y_true)\n",
    "y_pred_centered = y_pred - np.mean(y_pred)\n",
    "\n",
    "# Normalize\n",
    "y_true_n = y_true_centered / np.linalg.norm(y_true_centered)\n",
    "y_pred_n = y_pred_centered / np.linalg.norm(y_pred_centered)\n",
    "\n",
    "cos_sim2 = cosine_similarity(\n",
    "    y_true_n.reshape(1,-1),\n",
    "    y_pred_n.reshape(1,-1)\n",
    ")[0,0]\n",
    "print(f\"Centered Cosine: {cos_sim2*100:.2f}%\")"
   ]
  },
  {
   "cell_type": "code",
   "execution_count": 297,
   "id": "e8bc57e4",
   "metadata": {},
   "outputs": [
    {
     "name": "stdout",
     "output_type": "stream",
     "text": [
      "Bu uçuş için performans skoru: 87.43/100\n"
     ]
    }
   ],
   "source": [
    "# 1) Gerçek ve tahmin verilerini oku\n",
    "y_true = df['climb_rate_m/s'].values\n",
    "y_pred = df['predicted_climb_rate_m/s'].values\n",
    "\n",
    "# 2) Parametreler\n",
    "E_max = 3.0    # 2 m/s üzerindeki hataları sıfır kabul et\n",
    "\n",
    "# 3) Zaman adımı puanları\n",
    "errors = y_true - y_pred\n",
    "score_t = np.clip(1 - (errors / E_max), 0, 1) * 100\n",
    "\n",
    "# Her adım en fazla 100 olmalı\n",
    "flight_score = score_t.mean()\n",
    "\n",
    "print(f\"Bu uçuş için performans skoru: {flight_score:.2f}/100\")"
   ]
  },
  {
   "cell_type": "code",
   "execution_count": 298,
   "id": "65aae17a",
   "metadata": {},
   "outputs": [
    {
     "name": "stdout",
     "output_type": "stream",
     "text": [
      "85.7510358503021\n"
     ]
    },
    {
     "data": {
      "application/vnd.microsoft.datawrangler.viewer.v0+json": {
       "columns": [
        {
         "name": "index",
         "rawType": "int64",
         "type": "integer"
        },
        {
         "name": "climb_rate_m/s",
         "rawType": "float64",
         "type": "float"
        },
        {
         "name": "predicted_climb_rate_m/s",
         "rawType": "float32",
         "type": "float"
        },
        {
         "name": "score",
         "rawType": "float64",
         "type": "float"
        }
       ],
       "conversionMethod": "pd.DataFrame",
       "ref": "7aab4efc-be1d-47a2-9b0d-7f70ef877bd2",
       "rows": [
        [
         "15",
         "1.0",
         "1.1503106",
         "94.98964548110962"
        ],
        [
         "19",
         "1.0",
         "1.0980805",
         "96.73064947128296"
        ],
        [
         "21",
         "1.0",
         "1.1707045",
         "94.30985053380331"
        ],
        [
         "22",
         "1.0",
         "1.1693349",
         "94.35550371805826"
        ],
        [
         "23",
         "2.0",
         "1.1694434",
         "100.0"
        ],
        [
         "24",
         "1.0",
         "1.4095603",
         "86.34798924128214"
        ],
        [
         "25",
         "2.0",
         "1.1692038",
         "100.0"
        ],
        [
         "26",
         "1.0",
         "1.2382355",
         "92.05881754557291"
        ],
        [
         "27",
         "2.0",
         "1.2382346",
         "100.0"
        ],
        [
         "28",
         "1.0",
         "1.4041256",
         "86.52914762496948"
        ],
        [
         "29",
         "1.0",
         "1.2377127",
         "92.07624197006226"
        ],
        [
         "30",
         "2.0",
         "1.398406",
         "100.0"
        ],
        [
         "31",
         "1.0",
         "1.4013139",
         "86.6228699684143"
        ],
        [
         "32",
         "1.0",
         "2.0078568",
         "66.40477180480957"
        ],
        [
         "34",
         "1.0",
         "2.0073",
         "66.42333666483562"
        ],
        [
         "36",
         "2.0",
         "2.0078266",
         "99.73911444346109"
        ],
        [
         "43",
         "1.0",
         "1.4032522",
         "86.55825853347778"
        ],
        [
         "44",
         "2.0",
         "1.2378441",
         "100.0"
        ],
        [
         "45",
         "2.0",
         "2.008644",
         "99.71186319986978"
        ],
        [
         "46",
         "3.0",
         "1.2766474",
         "100.0"
        ],
        [
         "47",
         "1.0",
         "1.1935221",
         "93.54926347732544"
        ],
        [
         "48",
         "2.0",
         "1.2627143",
         "100.0"
        ],
        [
         "49",
         "1.0",
         "1.2631742",
         "91.2275274594625"
        ],
        [
         "50",
         "2.0",
         "1.1738955",
         "100.0"
        ],
        [
         "51",
         "1.0",
         "1.2684938",
         "91.05020761489868"
        ],
        [
         "52",
         "2.0",
         "1.4111203",
         "100.0"
        ],
        [
         "53",
         "2.0",
         "2.0077558",
         "99.7414747873942"
        ],
        [
         "54",
         "1.0",
         "2.0078266",
         "66.40578111012776"
        ],
        [
         "55",
         "2.0",
         "3.0450695",
         "65.16435146331787"
        ],
        [
         "56",
         "1.0",
         "1.4074414",
         "86.41862074534097"
        ],
        [
         "57",
         "2.0",
         "2.0076392",
         "99.74536101023355"
        ],
        [
         "59",
         "1.0",
         "2.0076313",
         "66.41228993733723"
        ],
        [
         "60",
         "1.0",
         "1.4094576",
         "86.35141452153525"
        ],
        [
         "61",
         "1.0",
         "2.0079758",
         "66.40080610911052"
        ],
        [
         "64",
         "1.0",
         "2.0089293",
         "66.36902491251628"
        ],
        [
         "66",
         "2.0",
         "2.0087032",
         "99.70989227294922"
        ],
        [
         "67",
         "2.0",
         "1.2292438",
         "100.0"
        ],
        [
         "68",
         "1.0",
         "1.401008",
         "86.63306633631387"
        ],
        [
         "69",
         "1.0",
         "1.3995694",
         "86.68102025985718"
        ],
        [
         "70",
         "2.0",
         "1.3982838",
         "100.0"
        ],
        [
         "71",
         "1.0",
         "1.2185556",
         "92.7148143450419"
        ],
        [
         "72",
         "2.0",
         "1.2244666",
         "100.0"
        ],
        [
         "73",
         "1.0",
         "1.3987718",
         "86.70760790506998"
        ],
        [
         "74",
         "1.0",
         "1.224026",
         "92.53246784210205"
        ],
        [
         "75",
         "2.0",
         "2.00864",
         "99.71199830373129"
        ],
        [
         "76",
         "1.0",
         "2.0082843",
         "66.39052232106526"
        ],
        [
         "77",
         "1.0",
         "1.4005609",
         "86.64797147115073"
        ],
        [
         "78",
         "2.0",
         "1.4012561",
         "100.0"
        ],
        [
         "79",
         "1.0",
         "2.0083284",
         "66.38905207316081"
        ],
        [
         "80",
         "2.0",
         "1.4048804",
         "100.0"
        ]
       ],
       "shape": {
        "columns": 3,
        "rows": 2728
       }
      },
      "text/html": [
       "<div>\n",
       "<style scoped>\n",
       "    .dataframe tbody tr th:only-of-type {\n",
       "        vertical-align: middle;\n",
       "    }\n",
       "\n",
       "    .dataframe tbody tr th {\n",
       "        vertical-align: top;\n",
       "    }\n",
       "\n",
       "    .dataframe thead th {\n",
       "        text-align: right;\n",
       "    }\n",
       "</style>\n",
       "<table border=\"1\" class=\"dataframe\">\n",
       "  <thead>\n",
       "    <tr style=\"text-align: right;\">\n",
       "      <th></th>\n",
       "      <th>climb_rate_m/s</th>\n",
       "      <th>predicted_climb_rate_m/s</th>\n",
       "      <th>score</th>\n",
       "    </tr>\n",
       "  </thead>\n",
       "  <tbody>\n",
       "    <tr>\n",
       "      <th>15</th>\n",
       "      <td>1.0</td>\n",
       "      <td>1.150311</td>\n",
       "      <td>94.989645</td>\n",
       "    </tr>\n",
       "    <tr>\n",
       "      <th>19</th>\n",
       "      <td>1.0</td>\n",
       "      <td>1.098081</td>\n",
       "      <td>96.730649</td>\n",
       "    </tr>\n",
       "    <tr>\n",
       "      <th>21</th>\n",
       "      <td>1.0</td>\n",
       "      <td>1.170704</td>\n",
       "      <td>94.309851</td>\n",
       "    </tr>\n",
       "    <tr>\n",
       "      <th>22</th>\n",
       "      <td>1.0</td>\n",
       "      <td>1.169335</td>\n",
       "      <td>94.355504</td>\n",
       "    </tr>\n",
       "    <tr>\n",
       "      <th>23</th>\n",
       "      <td>2.0</td>\n",
       "      <td>1.169443</td>\n",
       "      <td>100.000000</td>\n",
       "    </tr>\n",
       "    <tr>\n",
       "      <th>...</th>\n",
       "      <td>...</td>\n",
       "      <td>...</td>\n",
       "      <td>...</td>\n",
       "    </tr>\n",
       "    <tr>\n",
       "      <th>6637</th>\n",
       "      <td>1.0</td>\n",
       "      <td>1.245903</td>\n",
       "      <td>91.803241</td>\n",
       "    </tr>\n",
       "    <tr>\n",
       "      <th>6642</th>\n",
       "      <td>1.0</td>\n",
       "      <td>1.158161</td>\n",
       "      <td>94.727961</td>\n",
       "    </tr>\n",
       "    <tr>\n",
       "      <th>6666</th>\n",
       "      <td>1.0</td>\n",
       "      <td>1.252213</td>\n",
       "      <td>91.592908</td>\n",
       "    </tr>\n",
       "    <tr>\n",
       "      <th>6704</th>\n",
       "      <td>1.0</td>\n",
       "      <td>1.159656</td>\n",
       "      <td>94.678140</td>\n",
       "    </tr>\n",
       "    <tr>\n",
       "      <th>6791</th>\n",
       "      <td>1.0</td>\n",
       "      <td>1.194470</td>\n",
       "      <td>93.517673</td>\n",
       "    </tr>\n",
       "  </tbody>\n",
       "</table>\n",
       "<p>2728 rows × 3 columns</p>\n",
       "</div>"
      ],
      "text/plain": [
       "      climb_rate_m/s  predicted_climb_rate_m/s       score\n",
       "15               1.0                  1.150311   94.989645\n",
       "19               1.0                  1.098081   96.730649\n",
       "21               1.0                  1.170704   94.309851\n",
       "22               1.0                  1.169335   94.355504\n",
       "23               2.0                  1.169443  100.000000\n",
       "...              ...                       ...         ...\n",
       "6637             1.0                  1.245903   91.803241\n",
       "6642             1.0                  1.158161   94.727961\n",
       "6666             1.0                  1.252213   91.592908\n",
       "6704             1.0                  1.159656   94.678140\n",
       "6791             1.0                  1.194470   93.517673\n",
       "\n",
       "[2728 rows x 3 columns]"
      ]
     },
     "execution_count": 298,
     "metadata": {},
     "output_type": "execute_result"
    }
   ],
   "source": [
    "def calc_score(row):\n",
    "    error =  row['predicted_climb_rate_m/s'] - row['climb_rate_m/s']\n",
    "    return (1-(np.clip(error, 0, E_max)/E_max))*100\n",
    "\n",
    "\n",
    "df[\"score\"] = df.apply(calc_score, axis=1)\n",
    "print(df[\"score\"].mean())\n",
    "\n",
    "\n",
    "\n",
    "df[[\"climb_rate_m/s\", \"predicted_climb_rate_m/s\", \"score\"]]"
   ]
  }
 ],
 "metadata": {
  "kernelspec": {
   "display_name": ".venv",
   "language": "python",
   "name": "python3"
  },
  "language_info": {
   "codemirror_mode": {
    "name": "ipython",
    "version": 3
   },
   "file_extension": ".py",
   "mimetype": "text/x-python",
   "name": "python",
   "nbconvert_exporter": "python",
   "pygments_lexer": "ipython3",
   "version": "3.11.3"
  }
 },
 "nbformat": 4,
 "nbformat_minor": 5
}
