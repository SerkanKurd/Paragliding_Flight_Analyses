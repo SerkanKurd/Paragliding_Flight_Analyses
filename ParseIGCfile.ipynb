{
 "cells": [
  {
   "cell_type": "code",
   "execution_count": 1,
   "metadata": {},
   "outputs": [],
   "source": [
    "import pandas as pd\n",
    "import numpy as np\n",
    "from geopy.distance import geodesic\n"
   ]
  },
  {
   "cell_type": "code",
   "execution_count": 2,
   "metadata": {},
   "outputs": [],
   "source": [
    "def parse_trackpoint(line):\n",
    "    # Extract components from the line\n",
    "    time_utc = line[1:7]  # HHMMSS\n",
    "    latitude_raw = line[7:15]  # DDMMmmmN\n",
    "    longitude_raw = line[15:24]  # DDDMMmmmE\n",
    "    gps_altitude = int(line[25:30])  # GGGG\n",
    "    pressure_altitude = int(line[30:35])  # LLLL\n",
    "\n",
    "    # Convert UTC time\n",
    "    hours = int(time_utc[:2])\n",
    "    minutes = int(time_utc[2:4])\n",
    "    seconds = int(time_utc[4:6])\n",
    "\n",
    "    # Convert latitude to decimal degrees\n",
    "    latitude_deg = int(latitude_raw[:2])\n",
    "    latitude_min = float(latitude_raw[2:7]) / 1000\n",
    "    latitude = latitude_deg + latitude_min / 60\n",
    "    if latitude_raw[7] == 'S':\n",
    "        latitude *= -1\n",
    "\n",
    "    # Convert longitude to decimal degrees\n",
    "    longitude_deg = int(longitude_raw[:3])\n",
    "    longitude_min = float(longitude_raw[3:8]) / 1000\n",
    "    longitude = longitude_deg + longitude_min / 60\n",
    "    if longitude_raw[8] == 'W':\n",
    "        longitude *= -1\n",
    "\n",
    "    return {\n",
    "        \"time\": f\"{hours:02}:{minutes:02}:{seconds:02}\",\n",
    "        \"latitude\": latitude,\n",
    "        \"longitude\": longitude,\n",
    "        \"gps_altitude_m\": gps_altitude,\n",
    "        \"pressure_altitude_m\": pressure_altitude,\n",
    "    }\n"
   ]
  },
  {
   "cell_type": "code",
   "execution_count": 3,
   "metadata": {},
   "outputs": [
    {
     "data": {
      "application/vnd.microsoft.datawrangler.viewer.v0+json": {
       "columns": [
        {
         "name": "index",
         "rawType": "int64",
         "type": "integer"
        },
        {
         "name": "time",
         "rawType": "object",
         "type": "string"
        },
        {
         "name": "latitude",
         "rawType": "float64",
         "type": "float"
        },
        {
         "name": "longitude",
         "rawType": "float64",
         "type": "float"
        },
        {
         "name": "gps_altitude_m",
         "rawType": "int64",
         "type": "integer"
        },
        {
         "name": "pressure_altitude_m",
         "rawType": "int64",
         "type": "integer"
        }
       ],
       "conversionMethod": "pd.DataFrame",
       "ref": "c1c64a6b-f510-4614-bc88-74cf76674a00",
       "rows": [
        [
         "0",
         "09:11:21",
         "40.03145",
         "32.32855",
         "1142",
         "1147"
        ],
        [
         "1",
         "09:11:22",
         "40.03145",
         "32.32855",
         "1142",
         "1147"
        ],
        [
         "2",
         "09:11:23",
         "40.03145",
         "32.32855",
         "1142",
         "1147"
        ],
        [
         "3",
         "09:11:24",
         "40.03145",
         "32.32855",
         "1142",
         "1147"
        ],
        [
         "4",
         "09:11:25",
         "40.03143333333333",
         "32.32855",
         "1142",
         "1147"
        ]
       ],
       "shape": {
        "columns": 5,
        "rows": 5
       }
      },
      "text/html": [
       "<div>\n",
       "<style scoped>\n",
       "    .dataframe tbody tr th:only-of-type {\n",
       "        vertical-align: middle;\n",
       "    }\n",
       "\n",
       "    .dataframe tbody tr th {\n",
       "        vertical-align: top;\n",
       "    }\n",
       "\n",
       "    .dataframe thead th {\n",
       "        text-align: right;\n",
       "    }\n",
       "</style>\n",
       "<table border=\"1\" class=\"dataframe\">\n",
       "  <thead>\n",
       "    <tr style=\"text-align: right;\">\n",
       "      <th></th>\n",
       "      <th>time</th>\n",
       "      <th>latitude</th>\n",
       "      <th>longitude</th>\n",
       "      <th>gps_altitude_m</th>\n",
       "      <th>pressure_altitude_m</th>\n",
       "    </tr>\n",
       "  </thead>\n",
       "  <tbody>\n",
       "    <tr>\n",
       "      <th>0</th>\n",
       "      <td>09:11:21</td>\n",
       "      <td>40.031450</td>\n",
       "      <td>32.32855</td>\n",
       "      <td>1142</td>\n",
       "      <td>1147</td>\n",
       "    </tr>\n",
       "    <tr>\n",
       "      <th>1</th>\n",
       "      <td>09:11:22</td>\n",
       "      <td>40.031450</td>\n",
       "      <td>32.32855</td>\n",
       "      <td>1142</td>\n",
       "      <td>1147</td>\n",
       "    </tr>\n",
       "    <tr>\n",
       "      <th>2</th>\n",
       "      <td>09:11:23</td>\n",
       "      <td>40.031450</td>\n",
       "      <td>32.32855</td>\n",
       "      <td>1142</td>\n",
       "      <td>1147</td>\n",
       "    </tr>\n",
       "    <tr>\n",
       "      <th>3</th>\n",
       "      <td>09:11:24</td>\n",
       "      <td>40.031450</td>\n",
       "      <td>32.32855</td>\n",
       "      <td>1142</td>\n",
       "      <td>1147</td>\n",
       "    </tr>\n",
       "    <tr>\n",
       "      <th>4</th>\n",
       "      <td>09:11:25</td>\n",
       "      <td>40.031433</td>\n",
       "      <td>32.32855</td>\n",
       "      <td>1142</td>\n",
       "      <td>1147</td>\n",
       "    </tr>\n",
       "  </tbody>\n",
       "</table>\n",
       "</div>"
      ],
      "text/plain": [
       "       time   latitude  longitude  gps_altitude_m  pressure_altitude_m\n",
       "0  09:11:21  40.031450   32.32855            1142                 1147\n",
       "1  09:11:22  40.031450   32.32855            1142                 1147\n",
       "2  09:11:23  40.031450   32.32855            1142                 1147\n",
       "3  09:11:24  40.031450   32.32855            1142                 1147\n",
       "4  09:11:25  40.031433   32.32855            1142                 1147"
      ]
     },
     "execution_count": 3,
     "metadata": {},
     "output_type": "execute_result"
    }
   ],
   "source": [
    "file_name = \"data/2024-08-03 09_11_21.igc\"\n",
    "\n",
    "with open(file_name, 'r') as file:\n",
    "    lines = file.readlines()\n",
    "\n",
    "flight_data = [line for line in lines if line.startswith('B')]\n",
    "df = pd.DataFrame([parse_trackpoint(line) for line in flight_data])\n",
    "del lines, flight_data\n",
    "df.head()"
   ]
  },
  {
   "cell_type": "code",
   "execution_count": 4,
   "metadata": {},
   "outputs": [],
   "source": [
    "for i in range(1, len(df)-1):\n",
    "    if i % 10 > 0:\n",
    "        df = df.drop([i])\n",
    "\n",
    "flight_loginterval = int(df[\"time\"].iloc[1][-2:]) - \\\n",
    "    int(df[\"time\"].iloc[0][-2:])\n",
    "\n",
    "\n",
    "def calculate_distance(row):\n",
    "    return geodesic((row[\"previous_latitude\"], row[\"previous_longitude\"]), (row[\"latitude\"], row[\"longitude\"])).meters\n",
    "\n",
    "\n",
    "prev_total_distance = 0\n",
    "\n",
    "\n",
    "def caluculate_total_distance(row):\n",
    "    global prev_total_distance\n",
    "    prev_total_distance += row[\"distance_m\"]\n",
    "    return prev_total_distance"
   ]
  },
  {
   "cell_type": "code",
   "execution_count": 5,
   "metadata": {},
   "outputs": [
    {
     "name": "stderr",
     "output_type": "stream",
     "text": [
      "C:\\Users\\serka\\AppData\\Local\\Temp\\ipykernel_35880\\254540318.py:3: UserWarning: Could not infer format, so each element will be parsed individually, falling back to `dateutil`. To ensure parsing is consistent and as-expected, please specify a format.\n",
      "  df[\"time\"] = pd.to_datetime(df[\"time\"])\n"
     ]
    },
    {
     "data": {
      "application/vnd.microsoft.datawrangler.viewer.v0+json": {
       "columns": [
        {
         "name": "index",
         "rawType": "int64",
         "type": "integer"
        },
        {
         "name": "time",
         "rawType": "datetime64[ns]",
         "type": "datetime"
        },
        {
         "name": "latitude",
         "rawType": "float64",
         "type": "float"
        },
        {
         "name": "longitude",
         "rawType": "float64",
         "type": "float"
        },
        {
         "name": "gps_altitude_m",
         "rawType": "int64",
         "type": "integer"
        },
        {
         "name": "pressure_altitude_m",
         "rawType": "int64",
         "type": "integer"
        },
        {
         "name": "previous_latitude",
         "rawType": "float64",
         "type": "float"
        },
        {
         "name": "previous_longitude",
         "rawType": "float64",
         "type": "float"
        },
        {
         "name": "elapsed_time",
         "rawType": "float64",
         "type": "float"
        },
        {
         "name": "distance_m",
         "rawType": "float64",
         "type": "float"
        },
        {
         "name": "total_distance_m",
         "rawType": "float64",
         "type": "float"
        },
        {
         "name": "climb_m",
         "rawType": "float64",
         "type": "float"
        },
        {
         "name": "climb_rate_m/s",
         "rawType": "float64",
         "type": "float"
        },
        {
         "name": "speed_km/s",
         "rawType": "float64",
         "type": "float"
        },
        {
         "name": "distance_from_start_m",
         "rawType": "float64",
         "type": "float"
        }
       ],
       "conversionMethod": "pd.DataFrame",
       "ref": "0c5a0dff-e71b-48bb-b42f-8e80d68cdedc",
       "rows": [
        [
         "0",
         "2025-03-30 09:11:21",
         "40.03145",
         "32.32855",
         "1142",
         "1147",
         "0.0",
         "0.0",
         "0.0",
         "5512940.400749319",
         "5512940.400749319",
         null,
         null,
         "1984658.544269755",
         "5512940.400749319"
        ],
        [
         "10",
         "2025-03-30 09:11:31",
         "40.03145",
         "32.32855",
         "1142",
         "1149",
         "40.03145",
         "32.32855",
         "10.0",
         "0.0",
         "5512940.400749319",
         "0.0",
         "0.0",
         "0.0",
         "0.0"
        ],
        [
         "20",
         "2025-03-30 09:11:41",
         "40.03156666666667",
         "32.328266666666664",
         "1137",
         "1140",
         "40.03145",
         "32.32855",
         "20.0",
         "27.43474566470941",
         "5512967.835494984",
         "-5.0",
         "-0.5",
         "9.876508439295387",
         "0.0"
        ],
        [
         "30",
         "2025-03-30 09:11:51",
         "40.0319",
         "32.32776666666667",
         "1147",
         "1149",
         "40.03156666666667",
         "32.328266666666664",
         "30.0",
         "56.49078866170765",
         "5513024.326283646",
         "10.0",
         "1.0",
         "20.336683918214753",
         "27.43474566470941"
        ],
        [
         "40",
         "2025-03-30 09:12:01",
         "40.0327",
         "32.328383333333335",
         "1139",
         "1141",
         "40.0319",
         "32.32776666666667",
         "40.0",
         "103.25145941797942",
         "5513127.577743064",
         "-8.0",
         "-0.8",
         "37.17052539047259",
         "83.46838849183719"
        ]
       ],
       "shape": {
        "columns": 14,
        "rows": 5
       }
      },
      "text/html": [
       "<div>\n",
       "<style scoped>\n",
       "    .dataframe tbody tr th:only-of-type {\n",
       "        vertical-align: middle;\n",
       "    }\n",
       "\n",
       "    .dataframe tbody tr th {\n",
       "        vertical-align: top;\n",
       "    }\n",
       "\n",
       "    .dataframe thead th {\n",
       "        text-align: right;\n",
       "    }\n",
       "</style>\n",
       "<table border=\"1\" class=\"dataframe\">\n",
       "  <thead>\n",
       "    <tr style=\"text-align: right;\">\n",
       "      <th></th>\n",
       "      <th>time</th>\n",
       "      <th>latitude</th>\n",
       "      <th>longitude</th>\n",
       "      <th>gps_altitude_m</th>\n",
       "      <th>pressure_altitude_m</th>\n",
       "      <th>previous_latitude</th>\n",
       "      <th>previous_longitude</th>\n",
       "      <th>elapsed_time</th>\n",
       "      <th>distance_m</th>\n",
       "      <th>total_distance_m</th>\n",
       "      <th>climb_m</th>\n",
       "      <th>climb_rate_m/s</th>\n",
       "      <th>speed_km/s</th>\n",
       "      <th>distance_from_start_m</th>\n",
       "    </tr>\n",
       "  </thead>\n",
       "  <tbody>\n",
       "    <tr>\n",
       "      <th>0</th>\n",
       "      <td>2025-03-30 09:11:21</td>\n",
       "      <td>40.031450</td>\n",
       "      <td>32.328550</td>\n",
       "      <td>1142</td>\n",
       "      <td>1147</td>\n",
       "      <td>0.000000</td>\n",
       "      <td>0.000000</td>\n",
       "      <td>0.0</td>\n",
       "      <td>5.512940e+06</td>\n",
       "      <td>5.512940e+06</td>\n",
       "      <td>NaN</td>\n",
       "      <td>NaN</td>\n",
       "      <td>1.984659e+06</td>\n",
       "      <td>5.512940e+06</td>\n",
       "    </tr>\n",
       "    <tr>\n",
       "      <th>10</th>\n",
       "      <td>2025-03-30 09:11:31</td>\n",
       "      <td>40.031450</td>\n",
       "      <td>32.328550</td>\n",
       "      <td>1142</td>\n",
       "      <td>1149</td>\n",
       "      <td>40.031450</td>\n",
       "      <td>32.328550</td>\n",
       "      <td>10.0</td>\n",
       "      <td>0.000000e+00</td>\n",
       "      <td>5.512940e+06</td>\n",
       "      <td>0.0</td>\n",
       "      <td>0.0</td>\n",
       "      <td>0.000000e+00</td>\n",
       "      <td>0.000000e+00</td>\n",
       "    </tr>\n",
       "    <tr>\n",
       "      <th>20</th>\n",
       "      <td>2025-03-30 09:11:41</td>\n",
       "      <td>40.031567</td>\n",
       "      <td>32.328267</td>\n",
       "      <td>1137</td>\n",
       "      <td>1140</td>\n",
       "      <td>40.031450</td>\n",
       "      <td>32.328550</td>\n",
       "      <td>20.0</td>\n",
       "      <td>2.743475e+01</td>\n",
       "      <td>5.512968e+06</td>\n",
       "      <td>-5.0</td>\n",
       "      <td>-0.5</td>\n",
       "      <td>9.876508e+00</td>\n",
       "      <td>0.000000e+00</td>\n",
       "    </tr>\n",
       "    <tr>\n",
       "      <th>30</th>\n",
       "      <td>2025-03-30 09:11:51</td>\n",
       "      <td>40.031900</td>\n",
       "      <td>32.327767</td>\n",
       "      <td>1147</td>\n",
       "      <td>1149</td>\n",
       "      <td>40.031567</td>\n",
       "      <td>32.328267</td>\n",
       "      <td>30.0</td>\n",
       "      <td>5.649079e+01</td>\n",
       "      <td>5.513024e+06</td>\n",
       "      <td>10.0</td>\n",
       "      <td>1.0</td>\n",
       "      <td>2.033668e+01</td>\n",
       "      <td>2.743475e+01</td>\n",
       "    </tr>\n",
       "    <tr>\n",
       "      <th>40</th>\n",
       "      <td>2025-03-30 09:12:01</td>\n",
       "      <td>40.032700</td>\n",
       "      <td>32.328383</td>\n",
       "      <td>1139</td>\n",
       "      <td>1141</td>\n",
       "      <td>40.031900</td>\n",
       "      <td>32.327767</td>\n",
       "      <td>40.0</td>\n",
       "      <td>1.032515e+02</td>\n",
       "      <td>5.513128e+06</td>\n",
       "      <td>-8.0</td>\n",
       "      <td>-0.8</td>\n",
       "      <td>3.717053e+01</td>\n",
       "      <td>8.346839e+01</td>\n",
       "    </tr>\n",
       "  </tbody>\n",
       "</table>\n",
       "</div>"
      ],
      "text/plain": [
       "                  time   latitude  longitude  gps_altitude_m  \\\n",
       "0  2025-03-30 09:11:21  40.031450  32.328550            1142   \n",
       "10 2025-03-30 09:11:31  40.031450  32.328550            1142   \n",
       "20 2025-03-30 09:11:41  40.031567  32.328267            1137   \n",
       "30 2025-03-30 09:11:51  40.031900  32.327767            1147   \n",
       "40 2025-03-30 09:12:01  40.032700  32.328383            1139   \n",
       "\n",
       "    pressure_altitude_m  previous_latitude  previous_longitude  elapsed_time  \\\n",
       "0                  1147           0.000000            0.000000           0.0   \n",
       "10                 1149          40.031450           32.328550          10.0   \n",
       "20                 1140          40.031450           32.328550          20.0   \n",
       "30                 1149          40.031567           32.328267          30.0   \n",
       "40                 1141          40.031900           32.327767          40.0   \n",
       "\n",
       "      distance_m  total_distance_m  climb_m  climb_rate_m/s    speed_km/s  \\\n",
       "0   5.512940e+06      5.512940e+06      NaN             NaN  1.984659e+06   \n",
       "10  0.000000e+00      5.512940e+06      0.0             0.0  0.000000e+00   \n",
       "20  2.743475e+01      5.512968e+06     -5.0            -0.5  9.876508e+00   \n",
       "30  5.649079e+01      5.513024e+06     10.0             1.0  2.033668e+01   \n",
       "40  1.032515e+02      5.513128e+06     -8.0            -0.8  3.717053e+01   \n",
       "\n",
       "    distance_from_start_m  \n",
       "0            5.512940e+06  \n",
       "10           0.000000e+00  \n",
       "20           0.000000e+00  \n",
       "30           2.743475e+01  \n",
       "40           8.346839e+01  "
      ]
     },
     "execution_count": 5,
     "metadata": {},
     "output_type": "execute_result"
    }
   ],
   "source": [
    "\n",
    "df[\"previous_latitude\"] = df[\"latitude\"].shift(1)\n",
    "df[\"previous_longitude\"] = df[\"longitude\"].shift(1)\n",
    "df[\"time\"] = pd.to_datetime(df[\"time\"])\n",
    "df[\"elapsed_time\"] = (df[\"time\"] - df[\"time\"].iloc[0]).dt.total_seconds()\n",
    "df.fillna(0, inplace=True)\n",
    "df[\"distance_m\"] = df.apply(calculate_distance, axis=1)\n",
    "df[\"total_distance_m\"] = df.apply(\n",
    "    lambda row: caluculate_total_distance(row), axis=1)\n",
    "df[\"climb_m\"] = df[\"gps_altitude_m\"].diff()\n",
    "df[\"climb_rate_m/s\"] = df[\"climb_m\"] / flight_loginterval\n",
    "df[\"speed_km/s\"] = (df[\"distance_m\"]/1000) / (flight_loginterval/3600)\n",
    "df[\"distance_from_start_m\"] = df.apply(lambda row: geodesic(\n",
    "    (df[\"latitude\"].iloc[0], df[\"longitude\"].iloc[0]), (row[\"previous_latitude\"], row[\"previous_longitude\"])).meters, axis=1)\n",
    "df.to_csv(\"flight_data.csv\", index=False)\n",
    "df.head()"
   ]
  }
 ],
 "metadata": {
  "kernelspec": {
   "display_name": ".venv",
   "language": "python",
   "name": "python3"
  },
  "language_info": {
   "codemirror_mode": {
    "name": "ipython",
    "version": 3
   },
   "file_extension": ".py",
   "mimetype": "text/x-python",
   "name": "python",
   "nbconvert_exporter": "python",
   "pygments_lexer": "ipython3",
   "version": "3.10.11"
  }
 },
 "nbformat": 4,
 "nbformat_minor": 2
}
