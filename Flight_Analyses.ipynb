{
 "cells": [
  {
   "cell_type": "code",
   "execution_count": 16,
   "metadata": {},
   "outputs": [],
   "source": [
    "import pandas as pd\n",
    "from geopy.distance import geodesic\n",
    "import OLCdistance as olc\n",
    "from sklearn.model_selection import train_test_split\n",
    "from sklearn.ensemble import RandomForestRegressor\n",
    "from sklearn.metrics import mean_absolute_error "
   ]
  },
  {
   "cell_type": "code",
   "execution_count": 17,
   "metadata": {},
   "outputs": [],
   "source": [
    "def parse_trackpoint(line):\n",
    "    # Extract components from the line\n",
    "    time_utc = line[1:7]  # HHMMSS\n",
    "    latitude_raw = line[7:15]  # DDMMmmmN\n",
    "    longitude_raw = line[15:24]  # DDDMMmmmE\n",
    "    gps_altitude = int(line[25:30])  # GGGG\n",
    "    pressure_altitude = int(line[30:35])  # LLLL\n",
    "\n",
    "    # Convert UTC time\n",
    "    hours = int(time_utc[:2])\n",
    "    minutes = int(time_utc[2:4])\n",
    "    seconds = int(time_utc[4:6])\n",
    "\n",
    "    # Convert latitude to decimal degrees\n",
    "    latitude_deg = int(latitude_raw[:2])\n",
    "    latitude_min = float(latitude_raw[2:7]) / 1000\n",
    "    latitude = latitude_deg + latitude_min / 60\n",
    "    if latitude_raw[7] == 'S':\n",
    "        latitude *= -1\n",
    "\n",
    "    # Convert longitude to decimal degrees\n",
    "    longitude_deg = int(longitude_raw[:3])\n",
    "    longitude_min = float(longitude_raw[3:8]) / 1000\n",
    "    longitude = longitude_deg + longitude_min / 60\n",
    "    if longitude_raw[8] == 'W':\n",
    "        longitude *= -1\n",
    "\n",
    "    return {\n",
    "        \"time\": f\"{hours:02}:{minutes:02}:{seconds:02}\",\n",
    "        \"coordinate\": (latitude, longitude),\n",
    "        \"gps_altitude_m\": gps_altitude,\n",
    "        \"pressure_altitude_m\": pressure_altitude,\n",
    "    }\n"
   ]
  },
  {
   "cell_type": "code",
   "execution_count": 18,
   "metadata": {},
   "outputs": [],
   "source": [
    "file_name = \"data/2024-08-03 09_11_21.igc\"\n",
    "\n",
    "with open(file_name, 'r') as file:\n",
    "    lines = file.readlines()\n",
    "\n",
    "flight_data = [line for line in lines if line.startswith('B')]\n",
    "df = pd.DataFrame([parse_trackpoint(line) for line in flight_data])\n",
    "del lines, flight_data\n",
    "df.head()\n",
    "\n",
    "for i in range(1, len(df)-1):\n",
    "    if i % 10 > 0:\n",
    "        df = df.drop([i])\n",
    "\n",
    "flight_loginterval = int(df[\"time\"].iloc[1][-2:]) - \\\n",
    "    int(df[\"time\"].iloc[0][-2:])\n",
    "\n",
    "\n",
    "def calculate_distance(row):\n",
    "    if row[\"previus_coordinate\"] is None:\n",
    "        return 0\n",
    "    return geodesic(row[\"coordinate\"], row[\"previus_coordinate\"]).meters\n",
    "\n",
    "\n",
    "prev_total_distance = 0\n",
    "\n",
    "\n",
    "def caluculate_total_distance(row):\n",
    "    global prev_total_distance\n",
    "    prev_total_distance += row[\"distance_m\"]\n",
    "    return prev_total_distance\n",
    "\n",
    "\n",
    "df[\"previus_coordinate\"] = df[\"coordinate\"].shift(1)\n",
    "df[\"distance_m\"] = df.apply(calculate_distance, axis=1)\n",
    "df[\"total_distance_m\"] = df.apply(\n",
    "    lambda row: caluculate_total_distance(row), axis=1)\n",
    "df[\"climb_m\"] = df[\"gps_altitude_m\"].diff()\n",
    "df[\"climb_rate_m/s\"] = df[\"climb_m\"] / flight_loginterval\n",
    "df[\"speed_km/s\"] = (df[\"distance_m\"]/1000) / (flight_loginterval/3600)\n",
    "df[\"distance_from_start_m\"] = df.apply(lambda row: geodesic(\n",
    "    df[\"coordinate\"].iloc[0], row[\"coordinate\"]).meters, axis=1)\n",
    "\n",
    "time_difference = str(pd.to_datetime(\n",
    "    df['time'].iloc[-1]) - pd.to_datetime(df['time'].iloc[0]))\n",
    "sonuc = (\n",
    "    f\"Toplam mesafe: {df['total_distance_m'].iloc[-1]/1000:.1f} km.\\n\"\n",
    "    f\"Maksimum yükseklik: {df['gps_altitude_m'].max()} m.\\n\"\n",
    "    f\"Maksimum tırmanma hızı: {df['climb_rate_m/s'].max()} m/s.\\n\"\n",
    "    f\"Maksimum iniş hızı: {df['climb_rate_m/s'].min()} m/s.\\n\"\n",
    "    f\"Maksimum Uzaklık: {df['distance_from_start_m'].max()/1000:.1f} km.\\n\"\n",
    "    f\"Ortalama hız: {df['speed_km/s'].mean():.1f} km/s.\\n\"\n",
    "    f\"Maksimum hız: {df['speed_km/s'].max():.1f} km/s.\\n\"\n",
    "    f\"Toplam süre: {time_difference.split()[2]}\\n\"\n",
    "    f\"Maksimum İrtifa: {df['pressure_altitude_m'].max()} m.\\n\"\n",
    "    f\"Minimum İrtifa: {df['pressure_altitude_m'].min()} m.\\n\"\n",
    "    f\"Kalkış İrtifası: {df['pressure_altitude_m'].iloc[0]} m.\\n\"\n",
    "    f\"Uçuşu Kayıt Aralığı (log interval): {flight_loginterval} sn.\\n\"\n",
    ")\n",
    "\n",
    "df.to_csv(\"flight_data.csv\", index=False)"
   ]
  },
  {
   "cell_type": "code",
   "execution_count": 19,
   "metadata": {},
   "outputs": [
    {
     "name": "stdout",
     "output_type": "stream",
     "text": [
      "Maximum FAI OLC Triangle Distance: 6.89 km.\n",
      "Triangle Points: ((40.0294, 32.32385), (40.02661666666667, 32.34645), (40.0481, 32.329))\n",
      "Best Distance : 2.97 km.\n"
     ]
    }
   ],
   "source": [
    "coordinates = df[\"coordinate\"].tolist()\n",
    "triangle_distance, triangle_points, best_distance, distances = olc.fai_olc_distance(coordinates)\n",
    "print(f\"Maximum FAI OLC Triangle Distance: {triangle_distance:.2f} km.\")\n",
    "print(f\"Triangle Points: {triangle_points}\")\n",
    "print(f\"Best Distance : {best_distance:.2f} km.\")\n"
   ]
  }
 ],
 "metadata": {
  "kernelspec": {
   "display_name": ".venv",
   "language": "python",
   "name": "python3"
  },
  "language_info": {
   "codemirror_mode": {
    "name": "ipython",
    "version": 3
   },
   "file_extension": ".py",
   "mimetype": "text/x-python",
   "name": "python",
   "nbconvert_exporter": "python",
   "pygments_lexer": "ipython3",
   "version": "3.13.1"
  }
 },
 "nbformat": 4,
 "nbformat_minor": 2
}
