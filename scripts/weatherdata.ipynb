{
 "cells": [
  {
   "cell_type": "code",
   "execution_count": 1,
   "id": "4d2d55ab",
   "metadata": {},
   "outputs": [],
   "source": [
    "import pandas as pd\n",
    "import os\n",
    "import db_connection as db"
   ]
  },
  {
   "cell_type": "code",
   "execution_count": 5,
   "id": "fc8639c3",
   "metadata": {},
   "outputs": [
    {
     "data": {
      "application/vnd.microsoft.datawrangler.viewer.v0+json": {
       "columns": [
        {
         "name": "index",
         "rawType": "int64",
         "type": "integer"
        },
        {
         "name": "lat",
         "rawType": "float64",
         "type": "float"
        },
        {
         "name": "lon",
         "rawType": "float64",
         "type": "float"
        },
        {
         "name": "datetime",
         "rawType": "object",
         "type": "string"
        },
        {
         "name": "dt",
         "rawType": "int64",
         "type": "integer"
        },
        {
         "name": "temp",
         "rawType": "float64",
         "type": "float"
        },
        {
         "name": "pressure",
         "rawType": "int64",
         "type": "integer"
        },
        {
         "name": "humidity",
         "rawType": "int64",
         "type": "integer"
        },
        {
         "name": "dew_point",
         "rawType": "float64",
         "type": "float"
        },
        {
         "name": "wind_speed",
         "rawType": "float64",
         "type": "float"
        },
        {
         "name": "wind_deg",
         "rawType": "int64",
         "type": "integer"
        }
       ],
       "conversionMethod": "pd.DataFrame",
       "ref": "7f3475eb-87cb-4d5d-88b5-72b913b5082e",
       "rows": [
        [
         "0",
         "40.0",
         "32.3",
         "2024-08-03 09:00:00+00:00",
         "1722675600",
         "30.71",
         "1005",
         "27",
         "9.58",
         "2.31",
         "260"
        ],
        [
         "1",
         "40.0",
         "32.3",
         "2024-08-03 10:00:00+00:00",
         "1722679200",
         "33.41",
         "1005",
         "20",
         "7.41",
         "3.29",
         "264"
        ],
        [
         "2",
         "36.5",
         "29.2",
         "2013-10-26 08:00:00+00:00",
         "1382774400",
         "16.75",
         "1018",
         "35",
         "1.22",
         "0.5",
         "280"
        ],
        [
         "3",
         "36.5",
         "29.2",
         "2013-10-26 09:00:00+00:00",
         "1382778000",
         "17.11",
         "1018",
         "31",
         "-0.12",
         "1.0",
         "290"
        ],
        [
         "4",
         "36.5",
         "29.1",
         "2013-10-26 09:00:00+00:00",
         "1382778000",
         "23.51",
         "1018",
         "31",
         "5.42",
         "1.0",
         "290"
        ]
       ],
       "shape": {
        "columns": 10,
        "rows": 5
       }
      },
      "text/html": [
       "<div>\n",
       "<style scoped>\n",
       "    .dataframe tbody tr th:only-of-type {\n",
       "        vertical-align: middle;\n",
       "    }\n",
       "\n",
       "    .dataframe tbody tr th {\n",
       "        vertical-align: top;\n",
       "    }\n",
       "\n",
       "    .dataframe thead th {\n",
       "        text-align: right;\n",
       "    }\n",
       "</style>\n",
       "<table border=\"1\" class=\"dataframe\">\n",
       "  <thead>\n",
       "    <tr style=\"text-align: right;\">\n",
       "      <th></th>\n",
       "      <th>lat</th>\n",
       "      <th>lon</th>\n",
       "      <th>datetime</th>\n",
       "      <th>dt</th>\n",
       "      <th>temp</th>\n",
       "      <th>pressure</th>\n",
       "      <th>humidity</th>\n",
       "      <th>dew_point</th>\n",
       "      <th>wind_speed</th>\n",
       "      <th>wind_deg</th>\n",
       "    </tr>\n",
       "  </thead>\n",
       "  <tbody>\n",
       "    <tr>\n",
       "      <th>0</th>\n",
       "      <td>40.0</td>\n",
       "      <td>32.3</td>\n",
       "      <td>2024-08-03 09:00:00+00:00</td>\n",
       "      <td>1722675600</td>\n",
       "      <td>30.71</td>\n",
       "      <td>1005</td>\n",
       "      <td>27</td>\n",
       "      <td>9.58</td>\n",
       "      <td>2.31</td>\n",
       "      <td>260</td>\n",
       "    </tr>\n",
       "    <tr>\n",
       "      <th>1</th>\n",
       "      <td>40.0</td>\n",
       "      <td>32.3</td>\n",
       "      <td>2024-08-03 10:00:00+00:00</td>\n",
       "      <td>1722679200</td>\n",
       "      <td>33.41</td>\n",
       "      <td>1005</td>\n",
       "      <td>20</td>\n",
       "      <td>7.41</td>\n",
       "      <td>3.29</td>\n",
       "      <td>264</td>\n",
       "    </tr>\n",
       "    <tr>\n",
       "      <th>2</th>\n",
       "      <td>36.5</td>\n",
       "      <td>29.2</td>\n",
       "      <td>2013-10-26 08:00:00+00:00</td>\n",
       "      <td>1382774400</td>\n",
       "      <td>16.75</td>\n",
       "      <td>1018</td>\n",
       "      <td>35</td>\n",
       "      <td>1.22</td>\n",
       "      <td>0.50</td>\n",
       "      <td>280</td>\n",
       "    </tr>\n",
       "    <tr>\n",
       "      <th>3</th>\n",
       "      <td>36.5</td>\n",
       "      <td>29.2</td>\n",
       "      <td>2013-10-26 09:00:00+00:00</td>\n",
       "      <td>1382778000</td>\n",
       "      <td>17.11</td>\n",
       "      <td>1018</td>\n",
       "      <td>31</td>\n",
       "      <td>-0.12</td>\n",
       "      <td>1.00</td>\n",
       "      <td>290</td>\n",
       "    </tr>\n",
       "    <tr>\n",
       "      <th>4</th>\n",
       "      <td>36.5</td>\n",
       "      <td>29.1</td>\n",
       "      <td>2013-10-26 09:00:00+00:00</td>\n",
       "      <td>1382778000</td>\n",
       "      <td>23.51</td>\n",
       "      <td>1018</td>\n",
       "      <td>31</td>\n",
       "      <td>5.42</td>\n",
       "      <td>1.00</td>\n",
       "      <td>290</td>\n",
       "    </tr>\n",
       "  </tbody>\n",
       "</table>\n",
       "</div>"
      ],
      "text/plain": [
       "    lat   lon                   datetime          dt   temp  pressure  \\\n",
       "0  40.0  32.3  2024-08-03 09:00:00+00:00  1722675600  30.71      1005   \n",
       "1  40.0  32.3  2024-08-03 10:00:00+00:00  1722679200  33.41      1005   \n",
       "2  36.5  29.2  2013-10-26 08:00:00+00:00  1382774400  16.75      1018   \n",
       "3  36.5  29.2  2013-10-26 09:00:00+00:00  1382778000  17.11      1018   \n",
       "4  36.5  29.1  2013-10-26 09:00:00+00:00  1382778000  23.51      1018   \n",
       "\n",
       "   humidity  dew_point  wind_speed  wind_deg  \n",
       "0        27       9.58        2.31       260  \n",
       "1        20       7.41        3.29       264  \n",
       "2        35       1.22        0.50       280  \n",
       "3        31      -0.12        1.00       290  \n",
       "4        31       5.42        1.00       290  "
      ]
     },
     "execution_count": 5,
     "metadata": {},
     "output_type": "execute_result"
    }
   ],
   "source": [
    "# df = db.read_csv('data.csv')\n",
    "df = db.read_db(\"weather_data\")\n",
    "df.head()"
   ]
  }
 ],
 "metadata": {
  "kernelspec": {
   "display_name": ".venv",
   "language": "python",
   "name": "python3"
  },
  "language_info": {
   "codemirror_mode": {
    "name": "ipython",
    "version": 3
   },
   "file_extension": ".py",
   "mimetype": "text/x-python",
   "name": "python",
   "nbconvert_exporter": "python",
   "pygments_lexer": "ipython3",
   "version": "3.11.9"
  }
 },
 "nbformat": 4,
 "nbformat_minor": 5
}
