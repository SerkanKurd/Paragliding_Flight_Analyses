{
 "cells": [
  {
   "cell_type": "code",
   "execution_count": 8,
   "id": "9453d7ce",
   "metadata": {},
   "outputs": [],
   "source": [
    "import pandas as pd\n",
    "import numpy as np\n",
    "import os\n",
    "from sklearn.preprocessing import StandardScaler\n",
    "import tensorflow as tf\n",
    "from tensorflow.keras import layers, Model\n",
    "from tensorflow.keras.callbacks import EarlyStopping, ModelCheckpoint\n",
    "import pickle\n",
    "import matplotlib.pyplot as plt\n",
    "import db_connection as db"
   ]
  },
  {
   "cell_type": "code",
   "execution_count": 9,
   "id": "556d1306",
   "metadata": {},
   "outputs": [
    {
     "data": {
      "application/vnd.microsoft.datawrangler.viewer.v0+json": {
       "columns": [
        {
         "name": "index",
         "rawType": "int64",
         "type": "integer"
        },
        {
         "name": "latitude",
         "rawType": "float64",
         "type": "float"
        },
        {
         "name": "longitude",
         "rawType": "float64",
         "type": "float"
        },
        {
         "name": "gps_altitude_m",
         "rawType": "int64",
         "type": "integer"
        },
        {
         "name": "distance_m",
         "rawType": "float64",
         "type": "float"
        },
        {
         "name": "speed_km/s",
         "rawType": "float64",
         "type": "float"
        },
        {
         "name": "climb_m",
         "rawType": "float64",
         "type": "float"
        },
        {
         "name": "climb_m(delta)",
         "rawType": "float64",
         "type": "float"
        },
        {
         "name": "climb_rate_m/s",
         "rawType": "float64",
         "type": "float"
        },
        {
         "name": "glide_ratio",
         "rawType": "float64",
         "type": "float"
        },
        {
         "name": "bearing",
         "rawType": "int64",
         "type": "integer"
        },
        {
         "name": "delta_bearing",
         "rawType": "float64",
         "type": "float"
        },
        {
         "name": "elapsed_time",
         "rawType": "float64",
         "type": "float"
        },
        {
         "name": "delta_time",
         "rawType": "float64",
         "type": "float"
        },
        {
         "name": "temp",
         "rawType": "float64",
         "type": "float"
        },
        {
         "name": "pressure",
         "rawType": "float64",
         "type": "float"
        },
        {
         "name": "humidity",
         "rawType": "float64",
         "type": "float"
        },
        {
         "name": "dew_point",
         "rawType": "float64",
         "type": "float"
        },
        {
         "name": "wind_speed",
         "rawType": "float64",
         "type": "float"
        },
        {
         "name": "wind_deg",
         "rawType": "float64",
         "type": "float"
        }
       ],
       "conversionMethod": "pd.DataFrame",
       "ref": "a920b2fa-6686-4e53-86de-128555465bd4",
       "rows": [
        [
         "0",
         "36.98093333333333",
         "29.315316666666668",
         "2077",
         "9.485189616677287",
         "34.146682620038234",
         "3.0",
         "-12.0",
         "3.0",
         "3.1617298722257625",
         "141",
         "6.0",
         "29.0",
         "1.0",
         "25.62",
         "1008.0",
         "35.0",
         "9.04",
         "0.66",
         "75.0"
        ],
        [
         "1",
         "36.98088333333333",
         "29.31535",
         "2077",
         "6.292671565828489",
         "22.653617636982563",
         "3.0",
         "-9.0",
         "3.0",
         "2.0975571886094966",
         "151",
         "10.0",
         "30.0",
         "1.0",
         "25.62",
         "1008.0",
         "35.0",
         "9.04",
         "0.66",
         "75.0"
        ],
        [
         "2",
         "36.98083333333334",
         "29.315383333333333",
         "2078",
         "6.292672439845701",
         "22.653620783444524",
         "4.0",
         "-5.0",
         "4.0",
         "1.5731681099614252",
         "151",
         "0.0",
         "31.0",
         "1.0",
         "25.62",
         "1008.0",
         "35.0",
         "9.04",
         "0.66",
         "75.0"
        ],
        [
         "3",
         "36.98076666666667",
         "29.315433333333335",
         "2080",
         "8.63453772495325",
         "31.0843358098317",
         "3.0",
         "-2.0",
         "3.0",
         "2.878179241651083",
         "149",
         "2.0",
         "32.0",
         "1.0",
         "25.62",
         "1008.0",
         "35.0",
         "9.04",
         "0.66",
         "75.0"
        ],
        [
         "4",
         "36.9807",
         "29.315483333333333",
         "2082",
         "8.634539654424916",
         "31.084342755929697",
         "2.0",
         "1.0",
         "2.0",
         "4.317269827212458",
         "149",
         "0.0",
         "33.0",
         "1.0",
         "25.62",
         "1008.0",
         "35.0",
         "9.04",
         "0.66",
         "75.0"
        ]
       ],
       "shape": {
        "columns": 19,
        "rows": 5
       }
      },
      "text/html": [
       "<div>\n",
       "<style scoped>\n",
       "    .dataframe tbody tr th:only-of-type {\n",
       "        vertical-align: middle;\n",
       "    }\n",
       "\n",
       "    .dataframe tbody tr th {\n",
       "        vertical-align: top;\n",
       "    }\n",
       "\n",
       "    .dataframe thead th {\n",
       "        text-align: right;\n",
       "    }\n",
       "</style>\n",
       "<table border=\"1\" class=\"dataframe\">\n",
       "  <thead>\n",
       "    <tr style=\"text-align: right;\">\n",
       "      <th></th>\n",
       "      <th>latitude</th>\n",
       "      <th>longitude</th>\n",
       "      <th>gps_altitude_m</th>\n",
       "      <th>distance_m</th>\n",
       "      <th>speed_km/s</th>\n",
       "      <th>climb_m</th>\n",
       "      <th>climb_m(delta)</th>\n",
       "      <th>climb_rate_m/s</th>\n",
       "      <th>glide_ratio</th>\n",
       "      <th>bearing</th>\n",
       "      <th>delta_bearing</th>\n",
       "      <th>elapsed_time</th>\n",
       "      <th>delta_time</th>\n",
       "      <th>temp</th>\n",
       "      <th>pressure</th>\n",
       "      <th>humidity</th>\n",
       "      <th>dew_point</th>\n",
       "      <th>wind_speed</th>\n",
       "      <th>wind_deg</th>\n",
       "    </tr>\n",
       "  </thead>\n",
       "  <tbody>\n",
       "    <tr>\n",
       "      <th>0</th>\n",
       "      <td>36.980933</td>\n",
       "      <td>29.315317</td>\n",
       "      <td>2077</td>\n",
       "      <td>9.485190</td>\n",
       "      <td>34.146683</td>\n",
       "      <td>3.0</td>\n",
       "      <td>-12.0</td>\n",
       "      <td>3.0</td>\n",
       "      <td>3.161730</td>\n",
       "      <td>141</td>\n",
       "      <td>6.0</td>\n",
       "      <td>29.0</td>\n",
       "      <td>1.0</td>\n",
       "      <td>25.62</td>\n",
       "      <td>1008.0</td>\n",
       "      <td>35.0</td>\n",
       "      <td>9.04</td>\n",
       "      <td>0.66</td>\n",
       "      <td>75.0</td>\n",
       "    </tr>\n",
       "    <tr>\n",
       "      <th>1</th>\n",
       "      <td>36.980883</td>\n",
       "      <td>29.315350</td>\n",
       "      <td>2077</td>\n",
       "      <td>6.292672</td>\n",
       "      <td>22.653618</td>\n",
       "      <td>3.0</td>\n",
       "      <td>-9.0</td>\n",
       "      <td>3.0</td>\n",
       "      <td>2.097557</td>\n",
       "      <td>151</td>\n",
       "      <td>10.0</td>\n",
       "      <td>30.0</td>\n",
       "      <td>1.0</td>\n",
       "      <td>25.62</td>\n",
       "      <td>1008.0</td>\n",
       "      <td>35.0</td>\n",
       "      <td>9.04</td>\n",
       "      <td>0.66</td>\n",
       "      <td>75.0</td>\n",
       "    </tr>\n",
       "    <tr>\n",
       "      <th>2</th>\n",
       "      <td>36.980833</td>\n",
       "      <td>29.315383</td>\n",
       "      <td>2078</td>\n",
       "      <td>6.292672</td>\n",
       "      <td>22.653621</td>\n",
       "      <td>4.0</td>\n",
       "      <td>-5.0</td>\n",
       "      <td>4.0</td>\n",
       "      <td>1.573168</td>\n",
       "      <td>151</td>\n",
       "      <td>0.0</td>\n",
       "      <td>31.0</td>\n",
       "      <td>1.0</td>\n",
       "      <td>25.62</td>\n",
       "      <td>1008.0</td>\n",
       "      <td>35.0</td>\n",
       "      <td>9.04</td>\n",
       "      <td>0.66</td>\n",
       "      <td>75.0</td>\n",
       "    </tr>\n",
       "    <tr>\n",
       "      <th>3</th>\n",
       "      <td>36.980767</td>\n",
       "      <td>29.315433</td>\n",
       "      <td>2080</td>\n",
       "      <td>8.634538</td>\n",
       "      <td>31.084336</td>\n",
       "      <td>3.0</td>\n",
       "      <td>-2.0</td>\n",
       "      <td>3.0</td>\n",
       "      <td>2.878179</td>\n",
       "      <td>149</td>\n",
       "      <td>2.0</td>\n",
       "      <td>32.0</td>\n",
       "      <td>1.0</td>\n",
       "      <td>25.62</td>\n",
       "      <td>1008.0</td>\n",
       "      <td>35.0</td>\n",
       "      <td>9.04</td>\n",
       "      <td>0.66</td>\n",
       "      <td>75.0</td>\n",
       "    </tr>\n",
       "    <tr>\n",
       "      <th>4</th>\n",
       "      <td>36.980700</td>\n",
       "      <td>29.315483</td>\n",
       "      <td>2082</td>\n",
       "      <td>8.634540</td>\n",
       "      <td>31.084343</td>\n",
       "      <td>2.0</td>\n",
       "      <td>1.0</td>\n",
       "      <td>2.0</td>\n",
       "      <td>4.317270</td>\n",
       "      <td>149</td>\n",
       "      <td>0.0</td>\n",
       "      <td>33.0</td>\n",
       "      <td>1.0</td>\n",
       "      <td>25.62</td>\n",
       "      <td>1008.0</td>\n",
       "      <td>35.0</td>\n",
       "      <td>9.04</td>\n",
       "      <td>0.66</td>\n",
       "      <td>75.0</td>\n",
       "    </tr>\n",
       "  </tbody>\n",
       "</table>\n",
       "</div>"
      ],
      "text/plain": [
       "    latitude  longitude  gps_altitude_m  distance_m  speed_km/s  climb_m  \\\n",
       "0  36.980933  29.315317            2077    9.485190   34.146683      3.0   \n",
       "1  36.980883  29.315350            2077    6.292672   22.653618      3.0   \n",
       "2  36.980833  29.315383            2078    6.292672   22.653621      4.0   \n",
       "3  36.980767  29.315433            2080    8.634538   31.084336      3.0   \n",
       "4  36.980700  29.315483            2082    8.634540   31.084343      2.0   \n",
       "\n",
       "   climb_m(delta)  climb_rate_m/s  glide_ratio  bearing  delta_bearing  \\\n",
       "0           -12.0             3.0     3.161730      141            6.0   \n",
       "1            -9.0             3.0     2.097557      151           10.0   \n",
       "2            -5.0             4.0     1.573168      151            0.0   \n",
       "3            -2.0             3.0     2.878179      149            2.0   \n",
       "4             1.0             2.0     4.317270      149            0.0   \n",
       "\n",
       "   elapsed_time  delta_time   temp  pressure  humidity  dew_point  wind_speed  \\\n",
       "0          29.0         1.0  25.62    1008.0      35.0       9.04        0.66   \n",
       "1          30.0         1.0  25.62    1008.0      35.0       9.04        0.66   \n",
       "2          31.0         1.0  25.62    1008.0      35.0       9.04        0.66   \n",
       "3          32.0         1.0  25.62    1008.0      35.0       9.04        0.66   \n",
       "4          33.0         1.0  25.62    1008.0      35.0       9.04        0.66   \n",
       "\n",
       "   wind_deg  \n",
       "0      75.0  \n",
       "1      75.0  \n",
       "2      75.0  \n",
       "3      75.0  \n",
       "4      75.0  "
      ]
     },
     "execution_count": 9,
     "metadata": {},
     "output_type": "execute_result"
    }
   ],
   "source": [
    "model_path = os.path.join('models', 'transformer_tunned_model.keras')\n",
    "\n",
    "# ---------- 1. Data Loading & Preprocessing ----------\n",
    "# Ensure working directory contains 'flights_cleaned.csv'\n",
    "df =  db.read_db(\"flights_cleaned\")\n",
    "df.head()"
   ]
  },
  {
   "cell_type": "code",
   "execution_count": 10,
   "id": "bd4ac84d",
   "metadata": {},
   "outputs": [],
   "source": [
    "# Separate features and target\n",
    "target_col = 'climb_rate_m/s'\n",
    "feature_cols = [c for c in df.columns if c != target_col]\n",
    "X = df[feature_cols].values.astype(np.float32)\n",
    "y = df[target_col].values.astype(np.float32)\n",
    "\n",
    "# Train-test split\n",
    "split_frac = 0.8\n",
    "split_idx = int(len(X) * split_frac)\n",
    "X_train, X_test = X[:split_idx], X[split_idx:]\n",
    "y_train, y_test = y[:split_idx], y[split_idx:]\n",
    "\n",
    "# Feature scaling\n",
    "scaler = StandardScaler()\n",
    "X_train = scaler.fit_transform(X_train)\n",
    "X_test  = scaler.transform(X_test)\n",
    "\n",
    "# Save scaler\n",
    "os.makedirs('models', exist_ok=True)\n",
    "with open('models/scaler.pkl', 'wb') as f:\n",
    "    pickle.dump(scaler, f)\n"
   ]
  },
  {
   "cell_type": "code",
   "execution_count": 11,
   "id": "a1dc1f3d",
   "metadata": {},
   "outputs": [],
   "source": [
    "\n",
    "# ---------- 2. Create sliding-window datasets ----------\n",
    "T = 10  # sequence length\n",
    "batch_size = 32\n",
    "train_ds = tf.keras.preprocessing.timeseries_dataset_from_array(\n",
    "    X_train, y_train,\n",
    "    sequence_length=T,\n",
    "    sequence_stride=1,\n",
    "    batch_size=batch_size,\n",
    "    shuffle=False\n",
    ")\n",
    "test_ds = tf.keras.preprocessing.timeseries_dataset_from_array(\n",
    "    X_test, y_test,\n",
    "    sequence_length=T,\n",
    "    sequence_stride=1,\n",
    "    batch_size=batch_size,\n",
    "    shuffle=False\n",
    ")\n"
   ]
  },
  {
   "cell_type": "code",
   "execution_count": 12,
   "id": "5d51a5a0",
   "metadata": {},
   "outputs": [],
   "source": [
    "\n",
    "# ---------- 3. Positional Encoding ----------\n",
    "def get_positional_encoding(seq_len, d_model):\n",
    "    pos = np.arange(seq_len)[:, None]\n",
    "    i   = np.arange(d_model)[None, :]\n",
    "    angle_rates = 1 / np.power(10000, (2 * (i//2)) / d_model)\n",
    "    angle_rads = pos * angle_rates\n",
    "    sines = np.sin(angle_rads[:, 0::2])\n",
    "    cosines = np.cos(angle_rads[:, 1::2])\n",
    "    return tf.cast(np.concatenate([sines, cosines], axis=-1), tf.float32)\n"
   ]
  },
  {
   "cell_type": "code",
   "execution_count": 13,
   "id": "eb5f0feb",
   "metadata": {},
   "outputs": [
    {
     "data": {
      "text/html": [
       "<pre style=\"white-space:pre;overflow-x:auto;line-height:normal;font-family:Menlo,'DejaVu Sans Mono',consolas,'Courier New',monospace\"><span style=\"font-weight: bold\">Model: \"Transformer\"</span>\n",
       "</pre>\n"
      ],
      "text/plain": [
       "\u001b[1mModel: \"Transformer\"\u001b[0m\n"
      ]
     },
     "metadata": {},
     "output_type": "display_data"
    },
    {
     "data": {
      "text/html": [
       "<pre style=\"white-space:pre;overflow-x:auto;line-height:normal;font-family:Menlo,'DejaVu Sans Mono',consolas,'Courier New',monospace\">┏━━━━━━━━━━━━━━━━━━━━━┳━━━━━━━━━━━━━━━━━━━┳━━━━━━━━━━━━┳━━━━━━━━━━━━━━━━━━━┓\n",
       "┃<span style=\"font-weight: bold\"> Layer (type)        </span>┃<span style=\"font-weight: bold\"> Output Shape      </span>┃<span style=\"font-weight: bold\">    Param # </span>┃<span style=\"font-weight: bold\"> Connected to      </span>┃\n",
       "┡━━━━━━━━━━━━━━━━━━━━━╇━━━━━━━━━━━━━━━━━━━╇━━━━━━━━━━━━╇━━━━━━━━━━━━━━━━━━━┩\n",
       "│ input_layer_2       │ (<span style=\"color: #00d7ff; text-decoration-color: #00d7ff\">None</span>, <span style=\"color: #00af00; text-decoration-color: #00af00\">10</span>, <span style=\"color: #00af00; text-decoration-color: #00af00\">18</span>)    │          <span style=\"color: #00af00; text-decoration-color: #00af00\">0</span> │ -                 │\n",
       "│ (<span style=\"color: #0087ff; text-decoration-color: #0087ff\">InputLayer</span>)        │                   │            │                   │\n",
       "├─────────────────────┼───────────────────┼────────────┼───────────────────┤\n",
       "│ dense_4 (<span style=\"color: #0087ff; text-decoration-color: #0087ff\">Dense</span>)     │ (<span style=\"color: #00d7ff; text-decoration-color: #00d7ff\">None</span>, <span style=\"color: #00af00; text-decoration-color: #00af00\">10</span>, <span style=\"color: #00af00; text-decoration-color: #00af00\">64</span>)    │      <span style=\"color: #00af00; text-decoration-color: #00af00\">1,216</span> │ input_layer_2[<span style=\"color: #00af00; text-decoration-color: #00af00\">0</span>]… │\n",
       "├─────────────────────┼───────────────────┼────────────┼───────────────────┤\n",
       "│ add_3 (<span style=\"color: #0087ff; text-decoration-color: #0087ff\">Add</span>)         │ (<span style=\"color: #00d7ff; text-decoration-color: #00d7ff\">None</span>, <span style=\"color: #00af00; text-decoration-color: #00af00\">10</span>, <span style=\"color: #00af00; text-decoration-color: #00af00\">64</span>)    │          <span style=\"color: #00af00; text-decoration-color: #00af00\">0</span> │ dense_4[<span style=\"color: #00af00; text-decoration-color: #00af00\">0</span>][<span style=\"color: #00af00; text-decoration-color: #00af00\">0</span>]     │\n",
       "├─────────────────────┼───────────────────┼────────────┼───────────────────┤\n",
       "│ multi_head_attenti… │ (<span style=\"color: #00d7ff; text-decoration-color: #00d7ff\">None</span>, <span style=\"color: #00af00; text-decoration-color: #00af00\">10</span>, <span style=\"color: #00af00; text-decoration-color: #00af00\">64</span>)    │     <span style=\"color: #00af00; text-decoration-color: #00af00\">66,368</span> │ add_3[<span style=\"color: #00af00; text-decoration-color: #00af00\">0</span>][<span style=\"color: #00af00; text-decoration-color: #00af00\">0</span>],      │\n",
       "│ (<span style=\"color: #0087ff; text-decoration-color: #0087ff\">MultiHeadAttentio…</span> │                   │            │ add_3[<span style=\"color: #00af00; text-decoration-color: #00af00\">0</span>][<span style=\"color: #00af00; text-decoration-color: #00af00\">0</span>]       │\n",
       "├─────────────────────┼───────────────────┼────────────┼───────────────────┤\n",
       "│ add_4 (<span style=\"color: #0087ff; text-decoration-color: #0087ff\">Add</span>)         │ (<span style=\"color: #00d7ff; text-decoration-color: #00d7ff\">None</span>, <span style=\"color: #00af00; text-decoration-color: #00af00\">10</span>, <span style=\"color: #00af00; text-decoration-color: #00af00\">64</span>)    │          <span style=\"color: #00af00; text-decoration-color: #00af00\">0</span> │ add_3[<span style=\"color: #00af00; text-decoration-color: #00af00\">0</span>][<span style=\"color: #00af00; text-decoration-color: #00af00\">0</span>],      │\n",
       "│                     │                   │            │ multi_head_atten… │\n",
       "├─────────────────────┼───────────────────┼────────────┼───────────────────┤\n",
       "│ layer_normalizatio… │ (<span style=\"color: #00d7ff; text-decoration-color: #00d7ff\">None</span>, <span style=\"color: #00af00; text-decoration-color: #00af00\">10</span>, <span style=\"color: #00af00; text-decoration-color: #00af00\">64</span>)    │        <span style=\"color: #00af00; text-decoration-color: #00af00\">128</span> │ add_4[<span style=\"color: #00af00; text-decoration-color: #00af00\">0</span>][<span style=\"color: #00af00; text-decoration-color: #00af00\">0</span>]       │\n",
       "│ (<span style=\"color: #0087ff; text-decoration-color: #0087ff\">LayerNormalizatio…</span> │                   │            │                   │\n",
       "├─────────────────────┼───────────────────┼────────────┼───────────────────┤\n",
       "│ sequential_1        │ (<span style=\"color: #00d7ff; text-decoration-color: #00d7ff\">None</span>, <span style=\"color: #00af00; text-decoration-color: #00af00\">10</span>, <span style=\"color: #00af00; text-decoration-color: #00af00\">64</span>)    │     <span style=\"color: #00af00; text-decoration-color: #00af00\">16,576</span> │ layer_normalizat… │\n",
       "│ (<span style=\"color: #0087ff; text-decoration-color: #0087ff\">Sequential</span>)        │                   │            │                   │\n",
       "├─────────────────────┼───────────────────┼────────────┼───────────────────┤\n",
       "│ add_5 (<span style=\"color: #0087ff; text-decoration-color: #0087ff\">Add</span>)         │ (<span style=\"color: #00d7ff; text-decoration-color: #00d7ff\">None</span>, <span style=\"color: #00af00; text-decoration-color: #00af00\">10</span>, <span style=\"color: #00af00; text-decoration-color: #00af00\">64</span>)    │          <span style=\"color: #00af00; text-decoration-color: #00af00\">0</span> │ layer_normalizat… │\n",
       "│                     │                   │            │ sequential_1[<span style=\"color: #00af00; text-decoration-color: #00af00\">0</span>][<span style=\"color: #00af00; text-decoration-color: #00af00\">…</span> │\n",
       "├─────────────────────┼───────────────────┼────────────┼───────────────────┤\n",
       "│ layer_normalizatio… │ (<span style=\"color: #00d7ff; text-decoration-color: #00d7ff\">None</span>, <span style=\"color: #00af00; text-decoration-color: #00af00\">10</span>, <span style=\"color: #00af00; text-decoration-color: #00af00\">64</span>)    │        <span style=\"color: #00af00; text-decoration-color: #00af00\">128</span> │ add_5[<span style=\"color: #00af00; text-decoration-color: #00af00\">0</span>][<span style=\"color: #00af00; text-decoration-color: #00af00\">0</span>]       │\n",
       "│ (<span style=\"color: #0087ff; text-decoration-color: #0087ff\">LayerNormalizatio…</span> │                   │            │                   │\n",
       "├─────────────────────┼───────────────────┼────────────┼───────────────────┤\n",
       "│ global_average_poo… │ (<span style=\"color: #00d7ff; text-decoration-color: #00d7ff\">None</span>, <span style=\"color: #00af00; text-decoration-color: #00af00\">64</span>)        │          <span style=\"color: #00af00; text-decoration-color: #00af00\">0</span> │ layer_normalizat… │\n",
       "│ (<span style=\"color: #0087ff; text-decoration-color: #0087ff\">GlobalAveragePool…</span> │                   │            │                   │\n",
       "├─────────────────────┼───────────────────┼────────────┼───────────────────┤\n",
       "│ dense_7 (<span style=\"color: #0087ff; text-decoration-color: #0087ff\">Dense</span>)     │ (<span style=\"color: #00d7ff; text-decoration-color: #00d7ff\">None</span>, <span style=\"color: #00af00; text-decoration-color: #00af00\">1</span>)         │         <span style=\"color: #00af00; text-decoration-color: #00af00\">65</span> │ global_average_p… │\n",
       "└─────────────────────┴───────────────────┴────────────┴───────────────────┘\n",
       "</pre>\n"
      ],
      "text/plain": [
       "┏━━━━━━━━━━━━━━━━━━━━━┳━━━━━━━━━━━━━━━━━━━┳━━━━━━━━━━━━┳━━━━━━━━━━━━━━━━━━━┓\n",
       "┃\u001b[1m \u001b[0m\u001b[1mLayer (type)       \u001b[0m\u001b[1m \u001b[0m┃\u001b[1m \u001b[0m\u001b[1mOutput Shape     \u001b[0m\u001b[1m \u001b[0m┃\u001b[1m \u001b[0m\u001b[1m   Param #\u001b[0m\u001b[1m \u001b[0m┃\u001b[1m \u001b[0m\u001b[1mConnected to     \u001b[0m\u001b[1m \u001b[0m┃\n",
       "┡━━━━━━━━━━━━━━━━━━━━━╇━━━━━━━━━━━━━━━━━━━╇━━━━━━━━━━━━╇━━━━━━━━━━━━━━━━━━━┩\n",
       "│ input_layer_2       │ (\u001b[38;5;45mNone\u001b[0m, \u001b[38;5;34m10\u001b[0m, \u001b[38;5;34m18\u001b[0m)    │          \u001b[38;5;34m0\u001b[0m │ -                 │\n",
       "│ (\u001b[38;5;33mInputLayer\u001b[0m)        │                   │            │                   │\n",
       "├─────────────────────┼───────────────────┼────────────┼───────────────────┤\n",
       "│ dense_4 (\u001b[38;5;33mDense\u001b[0m)     │ (\u001b[38;5;45mNone\u001b[0m, \u001b[38;5;34m10\u001b[0m, \u001b[38;5;34m64\u001b[0m)    │      \u001b[38;5;34m1,216\u001b[0m │ input_layer_2[\u001b[38;5;34m0\u001b[0m]… │\n",
       "├─────────────────────┼───────────────────┼────────────┼───────────────────┤\n",
       "│ add_3 (\u001b[38;5;33mAdd\u001b[0m)         │ (\u001b[38;5;45mNone\u001b[0m, \u001b[38;5;34m10\u001b[0m, \u001b[38;5;34m64\u001b[0m)    │          \u001b[38;5;34m0\u001b[0m │ dense_4[\u001b[38;5;34m0\u001b[0m][\u001b[38;5;34m0\u001b[0m]     │\n",
       "├─────────────────────┼───────────────────┼────────────┼───────────────────┤\n",
       "│ multi_head_attenti… │ (\u001b[38;5;45mNone\u001b[0m, \u001b[38;5;34m10\u001b[0m, \u001b[38;5;34m64\u001b[0m)    │     \u001b[38;5;34m66,368\u001b[0m │ add_3[\u001b[38;5;34m0\u001b[0m][\u001b[38;5;34m0\u001b[0m],      │\n",
       "│ (\u001b[38;5;33mMultiHeadAttentio…\u001b[0m │                   │            │ add_3[\u001b[38;5;34m0\u001b[0m][\u001b[38;5;34m0\u001b[0m]       │\n",
       "├─────────────────────┼───────────────────┼────────────┼───────────────────┤\n",
       "│ add_4 (\u001b[38;5;33mAdd\u001b[0m)         │ (\u001b[38;5;45mNone\u001b[0m, \u001b[38;5;34m10\u001b[0m, \u001b[38;5;34m64\u001b[0m)    │          \u001b[38;5;34m0\u001b[0m │ add_3[\u001b[38;5;34m0\u001b[0m][\u001b[38;5;34m0\u001b[0m],      │\n",
       "│                     │                   │            │ multi_head_atten… │\n",
       "├─────────────────────┼───────────────────┼────────────┼───────────────────┤\n",
       "│ layer_normalizatio… │ (\u001b[38;5;45mNone\u001b[0m, \u001b[38;5;34m10\u001b[0m, \u001b[38;5;34m64\u001b[0m)    │        \u001b[38;5;34m128\u001b[0m │ add_4[\u001b[38;5;34m0\u001b[0m][\u001b[38;5;34m0\u001b[0m]       │\n",
       "│ (\u001b[38;5;33mLayerNormalizatio…\u001b[0m │                   │            │                   │\n",
       "├─────────────────────┼───────────────────┼────────────┼───────────────────┤\n",
       "│ sequential_1        │ (\u001b[38;5;45mNone\u001b[0m, \u001b[38;5;34m10\u001b[0m, \u001b[38;5;34m64\u001b[0m)    │     \u001b[38;5;34m16,576\u001b[0m │ layer_normalizat… │\n",
       "│ (\u001b[38;5;33mSequential\u001b[0m)        │                   │            │                   │\n",
       "├─────────────────────┼───────────────────┼────────────┼───────────────────┤\n",
       "│ add_5 (\u001b[38;5;33mAdd\u001b[0m)         │ (\u001b[38;5;45mNone\u001b[0m, \u001b[38;5;34m10\u001b[0m, \u001b[38;5;34m64\u001b[0m)    │          \u001b[38;5;34m0\u001b[0m │ layer_normalizat… │\n",
       "│                     │                   │            │ sequential_1[\u001b[38;5;34m0\u001b[0m][\u001b[38;5;34m…\u001b[0m │\n",
       "├─────────────────────┼───────────────────┼────────────┼───────────────────┤\n",
       "│ layer_normalizatio… │ (\u001b[38;5;45mNone\u001b[0m, \u001b[38;5;34m10\u001b[0m, \u001b[38;5;34m64\u001b[0m)    │        \u001b[38;5;34m128\u001b[0m │ add_5[\u001b[38;5;34m0\u001b[0m][\u001b[38;5;34m0\u001b[0m]       │\n",
       "│ (\u001b[38;5;33mLayerNormalizatio…\u001b[0m │                   │            │                   │\n",
       "├─────────────────────┼───────────────────┼────────────┼───────────────────┤\n",
       "│ global_average_poo… │ (\u001b[38;5;45mNone\u001b[0m, \u001b[38;5;34m64\u001b[0m)        │          \u001b[38;5;34m0\u001b[0m │ layer_normalizat… │\n",
       "│ (\u001b[38;5;33mGlobalAveragePool…\u001b[0m │                   │            │                   │\n",
       "├─────────────────────┼───────────────────┼────────────┼───────────────────┤\n",
       "│ dense_7 (\u001b[38;5;33mDense\u001b[0m)     │ (\u001b[38;5;45mNone\u001b[0m, \u001b[38;5;34m1\u001b[0m)         │         \u001b[38;5;34m65\u001b[0m │ global_average_p… │\n",
       "└─────────────────────┴───────────────────┴────────────┴───────────────────┘\n"
      ]
     },
     "metadata": {},
     "output_type": "display_data"
    },
    {
     "data": {
      "text/html": [
       "<pre style=\"white-space:pre;overflow-x:auto;line-height:normal;font-family:Menlo,'DejaVu Sans Mono',consolas,'Courier New',monospace\"><span style=\"font-weight: bold\"> Total params: </span><span style=\"color: #00af00; text-decoration-color: #00af00\">84,481</span> (330.00 KB)\n",
       "</pre>\n"
      ],
      "text/plain": [
       "\u001b[1m Total params: \u001b[0m\u001b[38;5;34m84,481\u001b[0m (330.00 KB)\n"
      ]
     },
     "metadata": {},
     "output_type": "display_data"
    },
    {
     "data": {
      "text/html": [
       "<pre style=\"white-space:pre;overflow-x:auto;line-height:normal;font-family:Menlo,'DejaVu Sans Mono',consolas,'Courier New',monospace\"><span style=\"font-weight: bold\"> Trainable params: </span><span style=\"color: #00af00; text-decoration-color: #00af00\">84,481</span> (330.00 KB)\n",
       "</pre>\n"
      ],
      "text/plain": [
       "\u001b[1m Trainable params: \u001b[0m\u001b[38;5;34m84,481\u001b[0m (330.00 KB)\n"
      ]
     },
     "metadata": {},
     "output_type": "display_data"
    },
    {
     "data": {
      "text/html": [
       "<pre style=\"white-space:pre;overflow-x:auto;line-height:normal;font-family:Menlo,'DejaVu Sans Mono',consolas,'Courier New',monospace\"><span style=\"font-weight: bold\"> Non-trainable params: </span><span style=\"color: #00af00; text-decoration-color: #00af00\">0</span> (0.00 B)\n",
       "</pre>\n"
      ],
      "text/plain": [
       "\u001b[1m Non-trainable params: \u001b[0m\u001b[38;5;34m0\u001b[0m (0.00 B)\n"
      ]
     },
     "metadata": {},
     "output_type": "display_data"
    }
   ],
   "source": [
    "\n",
    "# ---------- 4. Build Transformer Model ----------\n",
    "seq_len = T\n",
    "n_feats = X.shape[1]\n",
    "d_model = 64\n",
    "num_heads = 4\n",
    "\n",
    "def build_transformer(seq_len, n_feats, d_model, num_heads):\n",
    "    inp = layers.Input(shape=(seq_len, n_feats))\n",
    "    x = layers.Dense(d_model)(inp)\n",
    "    pos_enc = get_positional_encoding(seq_len, d_model)\n",
    "    x = x + pos_enc\n",
    "    # Encoder block\n",
    "    attn = layers.MultiHeadAttention(num_heads=num_heads, key_dim=d_model)(x, x)\n",
    "    x = layers.LayerNormalization(epsilon=1e-6)(x + attn)\n",
    "    ffn = tf.keras.Sequential([\n",
    "        layers.Dense(d_model*2, activation='relu'),\n",
    "        layers.Dense(d_model)\n",
    "    ])\n",
    "    x = layers.LayerNormalization(epsilon=1e-6)(x + ffn(x))\n",
    "    x = layers.GlobalAveragePooling1D()(x)\n",
    "    out = layers.Dense(1)(x)\n",
    "    return Model(inp, out, name='Transformer')\n",
    "\n",
    "model = build_transformer(seq_len, n_feats, d_model, num_heads)\n",
    "model.compile(optimizer='adam', loss='mse', metrics=['mae'])\n",
    "model.summary()\n"
   ]
  },
  {
   "cell_type": "code",
   "execution_count": 14,
   "id": "68996a9a",
   "metadata": {},
   "outputs": [
    {
     "name": "stdout",
     "output_type": "stream",
     "text": [
      "Epoch 1/15\n",
      "\u001b[1m18824/18824\u001b[0m \u001b[32m━━━━━━━━━━━━━━━━━━━━\u001b[0m\u001b[37m\u001b[0m \u001b[1m154s\u001b[0m 8ms/step - loss: 0.0760 - mae: 0.1056 - val_loss: 0.0036 - val_mae: 0.0425\n",
      "Epoch 2/15\n",
      "\u001b[1m18824/18824\u001b[0m \u001b[32m━━━━━━━━━━━━━━━━━━━━\u001b[0m\u001b[37m\u001b[0m \u001b[1m169s\u001b[0m 9ms/step - loss: 0.0017 - mae: 0.0246 - val_loss: 0.0024 - val_mae: 0.0391\n",
      "Epoch 3/15\n",
      "\u001b[1m18824/18824\u001b[0m \u001b[32m━━━━━━━━━━━━━━━━━━━━\u001b[0m\u001b[37m\u001b[0m \u001b[1m171s\u001b[0m 9ms/step - loss: 8.1232e-04 - mae: 0.0160 - val_loss: 8.0218e-04 - val_mae: 0.0176\n",
      "Epoch 4/15\n",
      "\u001b[1m18824/18824\u001b[0m \u001b[32m━━━━━━━━━━━━━━━━━━━━\u001b[0m\u001b[37m\u001b[0m \u001b[1m148s\u001b[0m 8ms/step - loss: 0.0011 - mae: 0.0132 - val_loss: 4.5270e-04 - val_mae: 0.0169\n",
      "Epoch 5/15\n",
      "\u001b[1m18824/18824\u001b[0m \u001b[32m━━━━━━━━━━━━━━━━━━━━\u001b[0m\u001b[37m\u001b[0m \u001b[1m142s\u001b[0m 8ms/step - loss: 4.1138e-04 - mae: 0.0107 - val_loss: 5.5727e-04 - val_mae: 0.0157\n",
      "Epoch 6/15\n",
      "\u001b[1m18824/18824\u001b[0m \u001b[32m━━━━━━━━━━━━━━━━━━━━\u001b[0m\u001b[37m\u001b[0m \u001b[1m146s\u001b[0m 8ms/step - loss: 4.7168e-04 - mae: 0.0117 - val_loss: 4.9011e-04 - val_mae: 0.0115\n",
      "Epoch 7/15\n",
      "\u001b[1m18824/18824\u001b[0m \u001b[32m━━━━━━━━━━━━━━━━━━━━\u001b[0m\u001b[37m\u001b[0m \u001b[1m149s\u001b[0m 8ms/step - loss: 3.9100e-04 - mae: 0.0096 - val_loss: 7.0800e-04 - val_mae: 0.0201\n",
      "Epoch 8/15\n",
      "\u001b[1m18824/18824\u001b[0m \u001b[32m━━━━━━━━━━━━━━━━━━━━\u001b[0m\u001b[37m\u001b[0m \u001b[1m139s\u001b[0m 7ms/step - loss: 2.6829e-04 - mae: 0.0082 - val_loss: 4.3129e-04 - val_mae: 0.0121\n",
      "Epoch 9/15\n",
      "\u001b[1m18824/18824\u001b[0m \u001b[32m━━━━━━━━━━━━━━━━━━━━\u001b[0m\u001b[37m\u001b[0m \u001b[1m148s\u001b[0m 8ms/step - loss: 3.7074e-04 - mae: 0.0087 - val_loss: 3.4255e-04 - val_mae: 0.0119\n"
     ]
    }
   ],
   "source": [
    "# ---------- 5. Train ----------\n",
    "callbacks = [\n",
    "    EarlyStopping(monitor='val_mae', patience=3, restore_best_weights=True),\n",
    "    ModelCheckpoint(\n",
    "        filepath=model_path,\n",
    "        monitor='val_mae',\n",
    "        save_best_only=True\n",
    "    )\n",
    "]\n",
    "\n",
    "history = model.fit(\n",
    "    train_ds,\n",
    "    validation_data=test_ds,\n",
    "    epochs=15,\n",
    "    callbacks=callbacks\n",
    ")\n"
   ]
  },
  {
   "cell_type": "code",
   "execution_count": 2,
   "id": "39037a4d",
   "metadata": {},
   "outputs": [
    {
     "ename": "NameError",
     "evalue": "name 'model' is not defined",
     "output_type": "error",
     "traceback": [
      "\u001b[31m---------------------------------------------------------------------------\u001b[39m",
      "\u001b[31mNameError\u001b[39m                                 Traceback (most recent call last)",
      "\u001b[36mCell\u001b[39m\u001b[36m \u001b[39m\u001b[32mIn[2]\u001b[39m\u001b[32m, line 3\u001b[39m\n\u001b[32m      1\u001b[39m \u001b[38;5;66;03m# ---------- 6. Save Model ----------\u001b[39;00m\n\u001b[32m----> \u001b[39m\u001b[32m3\u001b[39m \u001b[43mmodel\u001b[49m.save(model_path)\n\u001b[32m      4\u001b[39m \u001b[38;5;28mprint\u001b[39m(\u001b[33mf\u001b[39m\u001b[33m'\u001b[39m\u001b[33mModel saved to \u001b[39m\u001b[38;5;132;01m{\u001b[39;00mmodel_path\u001b[38;5;132;01m}\u001b[39;00m\u001b[33m'\u001b[39m)\n\u001b[32m      6\u001b[39m \u001b[38;5;66;03m# ---------- 7. Evaluate & Plot Errors ----------\u001b[39;00m\n",
      "\u001b[31mNameError\u001b[39m: name 'model' is not defined"
     ]
    }
   ],
   "source": [
    "\n",
    "# ---------- 6. Save Model ----------\n",
    "model.save(model_path)\n",
    "print(f'Model saved to {model_path}')\n",
    "\n",
    "# ---------- 7. Evaluate & Plot Errors ----------\n",
    "y_pred = model.predict(test_ds).flatten()\n",
    "y_true = np.concatenate([y for _, y in test_ds], axis=0)\n",
    "\n",
    "mae = np.mean(np.abs(y_true - y_pred))\n",
    "rmse = np.sqrt(np.mean((y_true - y_pred)**2))\n",
    "print(f'Test MAE: {mae:.4f}, RMSE: {rmse:.4f}')\n",
    "\n",
    "# Error histogram\n",
    "errors = y_true - y_pred\n",
    "plt.figure()\n",
    "plt.hist(errors, bins=50)\n",
    "plt.title('Transformer Prediction Errors')\n",
    "plt.xlabel('Error (m/s)')\n",
    "plt.ylabel('Count')\n",
    "plt.show()"
   ]
  }
 ],
 "metadata": {
  "kernelspec": {
   "display_name": ".venv",
   "language": "python",
   "name": "python3"
  },
  "language_info": {
   "codemirror_mode": {
    "name": "ipython",
    "version": 3
   },
   "file_extension": ".py",
   "mimetype": "text/x-python",
   "name": "python",
   "nbconvert_exporter": "python",
   "pygments_lexer": "ipython3",
   "version": "3.11.3"
  }
 },
 "nbformat": 4,
 "nbformat_minor": 5
}
