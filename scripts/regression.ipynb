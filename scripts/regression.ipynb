{
  "cells": [
    {
      "cell_type": "code",
      "execution_count": 1,
      "metadata": {
        "id": "1rRo8oNqZ-Rj"
      },
      "outputs": [],
      "source": [
        "import matplotlib.pyplot as plt\n",
        "import numpy as np\n",
        "import pandas as pd\n",
        "import seaborn as sns\n",
        "import os\n",
        "import tensorflow as tf\n",
        "from tensorflow import keras\n",
        "from tensorflow.keras import layers\n",
        "import db_connection as db\n",
        "\n",
        "# load your cleaned flight log\n",
        "df = db.read_db(\"flights_cleaned\")\n",
        "# Make NumPy printouts easier to read.\n",
        "np.set_printoptions(precision=3, suppress=True)"
      ]
    },
    {
      "cell_type": "code",
      "execution_count": 2,
      "metadata": {
        "id": "CiX2FI4gZtTt"
      },
      "outputs": [
        {
          "data": {
            "application/vnd.microsoft.datawrangler.viewer.v0+json": {
              "columns": [
                {
                  "name": "index",
                  "rawType": "int64",
                  "type": "integer"
                },
                {
                  "name": "gps_altitude_m",
                  "rawType": "int64",
                  "type": "integer"
                },
                {
                  "name": "speed_km/s",
                  "rawType": "float64",
                  "type": "float"
                },
                {
                  "name": "climb_m",
                  "rawType": "float64",
                  "type": "float"
                },
                {
                  "name": "climb_m(delta)",
                  "rawType": "float64",
                  "type": "float"
                },
                {
                  "name": "climb_rate_m/s",
                  "rawType": "float64",
                  "type": "float"
                },
                {
                  "name": "bearing",
                  "rawType": "int64",
                  "type": "integer"
                },
                {
                  "name": "delta_bearing",
                  "rawType": "float64",
                  "type": "float"
                },
                {
                  "name": "glide_ratio",
                  "rawType": "float64",
                  "type": "float"
                },
                {
                  "name": "elapsed_time",
                  "rawType": "float64",
                  "type": "float"
                },
                {
                  "name": "temp",
                  "rawType": "float64",
                  "type": "float"
                },
                {
                  "name": "pressure",
                  "rawType": "float64",
                  "type": "float"
                },
                {
                  "name": "humidity",
                  "rawType": "float64",
                  "type": "float"
                },
                {
                  "name": "dew_point",
                  "rawType": "float64",
                  "type": "float"
                },
                {
                  "name": "wind_speed",
                  "rawType": "float64",
                  "type": "float"
                },
                {
                  "name": "wind_deg",
                  "rawType": "float64",
                  "type": "float"
                }
              ],
              "conversionMethod": "pd.DataFrame",
              "ref": "c68eb478-c425-4cc4-845d-bb15c935b454",
              "rows": [
                [
                  "0",
                  "2083",
                  "27.16498631356102",
                  "-2.0",
                  "0.0",
                  "-2.0",
                  "11",
                  "3.0",
                  "3.772914765772364",
                  "17.0",
                  "25.62",
                  "1008.0",
                  "35.0",
                  "9.04",
                  "0.66",
                  "75.0"
                ],
                [
                  "1",
                  "2082",
                  "28.697529992330505",
                  "-3.0",
                  "0.0",
                  "-3.0",
                  "21",
                  "10.0",
                  "2.657178702993565",
                  "18.0",
                  "25.62",
                  "1008.0",
                  "35.0",
                  "9.04",
                  "0.66",
                  "75.0"
                ],
                [
                  "2",
                  "2080",
                  "43.04628899954229",
                  "-2.0",
                  "0.0",
                  "-2.0",
                  "21",
                  "0.0",
                  "5.978651249936429",
                  "19.0",
                  "25.62",
                  "1008.0",
                  "35.0",
                  "9.04",
                  "0.66",
                  "75.0"
                ],
                [
                  "3",
                  "2079",
                  "34.146645461406706",
                  "-1.0",
                  "-14.0",
                  "-1.0",
                  "38",
                  "17.0",
                  "9.485179294835197",
                  "20.0",
                  "25.62",
                  "1008.0",
                  "35.0",
                  "9.04",
                  "0.66",
                  "75.0"
                ],
                [
                  "4",
                  "2078",
                  "34.146634030728784",
                  "0.0",
                  "-14.0",
                  "0.0",
                  "38",
                  "0.0",
                  "0.0",
                  "21.0",
                  "25.62",
                  "1008.0",
                  "35.0",
                  "9.04",
                  "0.66",
                  "75.0"
                ]
              ],
              "shape": {
                "columns": 15,
                "rows": 5
              }
            },
            "text/html": [
              "<div>\n",
              "<style scoped>\n",
              "    .dataframe tbody tr th:only-of-type {\n",
              "        vertical-align: middle;\n",
              "    }\n",
              "\n",
              "    .dataframe tbody tr th {\n",
              "        vertical-align: top;\n",
              "    }\n",
              "\n",
              "    .dataframe thead th {\n",
              "        text-align: right;\n",
              "    }\n",
              "</style>\n",
              "<table border=\"1\" class=\"dataframe\">\n",
              "  <thead>\n",
              "    <tr style=\"text-align: right;\">\n",
              "      <th></th>\n",
              "      <th>gps_altitude_m</th>\n",
              "      <th>speed_km/s</th>\n",
              "      <th>climb_m</th>\n",
              "      <th>climb_m(delta)</th>\n",
              "      <th>climb_rate_m/s</th>\n",
              "      <th>bearing</th>\n",
              "      <th>delta_bearing</th>\n",
              "      <th>glide_ratio</th>\n",
              "      <th>elapsed_time</th>\n",
              "      <th>temp</th>\n",
              "      <th>pressure</th>\n",
              "      <th>humidity</th>\n",
              "      <th>dew_point</th>\n",
              "      <th>wind_speed</th>\n",
              "      <th>wind_deg</th>\n",
              "    </tr>\n",
              "  </thead>\n",
              "  <tbody>\n",
              "    <tr>\n",
              "      <th>0</th>\n",
              "      <td>2083</td>\n",
              "      <td>27.164986</td>\n",
              "      <td>-2.0</td>\n",
              "      <td>0.0</td>\n",
              "      <td>-2.0</td>\n",
              "      <td>11</td>\n",
              "      <td>3.0</td>\n",
              "      <td>3.772915</td>\n",
              "      <td>17.0</td>\n",
              "      <td>25.62</td>\n",
              "      <td>1008.0</td>\n",
              "      <td>35.0</td>\n",
              "      <td>9.04</td>\n",
              "      <td>0.66</td>\n",
              "      <td>75.0</td>\n",
              "    </tr>\n",
              "    <tr>\n",
              "      <th>1</th>\n",
              "      <td>2082</td>\n",
              "      <td>28.697530</td>\n",
              "      <td>-3.0</td>\n",
              "      <td>0.0</td>\n",
              "      <td>-3.0</td>\n",
              "      <td>21</td>\n",
              "      <td>10.0</td>\n",
              "      <td>2.657179</td>\n",
              "      <td>18.0</td>\n",
              "      <td>25.62</td>\n",
              "      <td>1008.0</td>\n",
              "      <td>35.0</td>\n",
              "      <td>9.04</td>\n",
              "      <td>0.66</td>\n",
              "      <td>75.0</td>\n",
              "    </tr>\n",
              "    <tr>\n",
              "      <th>2</th>\n",
              "      <td>2080</td>\n",
              "      <td>43.046289</td>\n",
              "      <td>-2.0</td>\n",
              "      <td>0.0</td>\n",
              "      <td>-2.0</td>\n",
              "      <td>21</td>\n",
              "      <td>0.0</td>\n",
              "      <td>5.978651</td>\n",
              "      <td>19.0</td>\n",
              "      <td>25.62</td>\n",
              "      <td>1008.0</td>\n",
              "      <td>35.0</td>\n",
              "      <td>9.04</td>\n",
              "      <td>0.66</td>\n",
              "      <td>75.0</td>\n",
              "    </tr>\n",
              "    <tr>\n",
              "      <th>3</th>\n",
              "      <td>2079</td>\n",
              "      <td>34.146645</td>\n",
              "      <td>-1.0</td>\n",
              "      <td>-14.0</td>\n",
              "      <td>-1.0</td>\n",
              "      <td>38</td>\n",
              "      <td>17.0</td>\n",
              "      <td>9.485179</td>\n",
              "      <td>20.0</td>\n",
              "      <td>25.62</td>\n",
              "      <td>1008.0</td>\n",
              "      <td>35.0</td>\n",
              "      <td>9.04</td>\n",
              "      <td>0.66</td>\n",
              "      <td>75.0</td>\n",
              "    </tr>\n",
              "    <tr>\n",
              "      <th>4</th>\n",
              "      <td>2078</td>\n",
              "      <td>34.146634</td>\n",
              "      <td>0.0</td>\n",
              "      <td>-14.0</td>\n",
              "      <td>0.0</td>\n",
              "      <td>38</td>\n",
              "      <td>0.0</td>\n",
              "      <td>0.000000</td>\n",
              "      <td>21.0</td>\n",
              "      <td>25.62</td>\n",
              "      <td>1008.0</td>\n",
              "      <td>35.0</td>\n",
              "      <td>9.04</td>\n",
              "      <td>0.66</td>\n",
              "      <td>75.0</td>\n",
              "    </tr>\n",
              "  </tbody>\n",
              "</table>\n",
              "</div>"
            ],
            "text/plain": [
              "   gps_altitude_m  speed_km/s  climb_m  climb_m(delta)  climb_rate_m/s  \\\n",
              "0            2083   27.164986     -2.0             0.0            -2.0   \n",
              "1            2082   28.697530     -3.0             0.0            -3.0   \n",
              "2            2080   43.046289     -2.0             0.0            -2.0   \n",
              "3            2079   34.146645     -1.0           -14.0            -1.0   \n",
              "4            2078   34.146634      0.0           -14.0             0.0   \n",
              "\n",
              "   bearing  delta_bearing  glide_ratio  elapsed_time   temp  pressure  \\\n",
              "0       11            3.0     3.772915          17.0  25.62    1008.0   \n",
              "1       21           10.0     2.657179          18.0  25.62    1008.0   \n",
              "2       21            0.0     5.978651          19.0  25.62    1008.0   \n",
              "3       38           17.0     9.485179          20.0  25.62    1008.0   \n",
              "4       38            0.0     0.000000          21.0  25.62    1008.0   \n",
              "\n",
              "   humidity  dew_point  wind_speed  wind_deg  \n",
              "0      35.0       9.04        0.66      75.0  \n",
              "1      35.0       9.04        0.66      75.0  \n",
              "2      35.0       9.04        0.66      75.0  \n",
              "3      35.0       9.04        0.66      75.0  \n",
              "4      35.0       9.04        0.66      75.0  "
            ]
          },
          "execution_count": 2,
          "metadata": {},
          "output_type": "execute_result"
        }
      ],
      "source": [
        "raw_dataset = df[[\"gps_altitude_m\",\"speed_km/s\",\"climb_m\",\"climb_m(delta)\",\"climb_rate_m/s\",\"bearing\",\"delta_bearing\",\"glide_ratio\",\"elapsed_time\",\"temp\",\"pressure\",\"humidity\",\"dew_point\",\"wind_speed\",\"wind_deg\"]]\n",
        "dataset = raw_dataset.copy()\n",
        "dataset.head()"
      ]
    },
    {
      "cell_type": "code",
      "execution_count": 3,
      "metadata": {},
      "outputs": [
        {
          "data": {
            "application/vnd.microsoft.datawrangler.viewer.v0+json": {
              "columns": [
                {
                  "name": "index",
                  "rawType": "object",
                  "type": "string"
                },
                {
                  "name": "gps_altitude_m",
                  "rawType": "float64",
                  "type": "float"
                },
                {
                  "name": "speed_km/s",
                  "rawType": "float64",
                  "type": "float"
                },
                {
                  "name": "climb_m",
                  "rawType": "float64",
                  "type": "float"
                },
                {
                  "name": "climb_m(delta)",
                  "rawType": "float64",
                  "type": "float"
                },
                {
                  "name": "climb_rate_m/s",
                  "rawType": "float64",
                  "type": "float"
                },
                {
                  "name": "bearing",
                  "rawType": "float64",
                  "type": "float"
                },
                {
                  "name": "delta_bearing",
                  "rawType": "float64",
                  "type": "float"
                },
                {
                  "name": "glide_ratio",
                  "rawType": "float64",
                  "type": "float"
                },
                {
                  "name": "elapsed_time",
                  "rawType": "float64",
                  "type": "float"
                },
                {
                  "name": "temp",
                  "rawType": "float64",
                  "type": "float"
                },
                {
                  "name": "pressure",
                  "rawType": "float64",
                  "type": "float"
                },
                {
                  "name": "humidity",
                  "rawType": "float64",
                  "type": "float"
                },
                {
                  "name": "dew_point",
                  "rawType": "float64",
                  "type": "float"
                },
                {
                  "name": "wind_speed",
                  "rawType": "float64",
                  "type": "float"
                },
                {
                  "name": "wind_deg",
                  "rawType": "float64",
                  "type": "float"
                }
              ],
              "conversionMethod": "pd.DataFrame",
              "ref": "28a6c225-5851-4523-b230-3324338a55c7",
              "rows": [
                [
                  "count",
                  "1552164.0",
                  "1552164.0",
                  "1552164.0",
                  "1552164.0",
                  "1552164.0",
                  "1552164.0",
                  "1552164.0",
                  "1552164.0",
                  "1552164.0",
                  "1552164.0",
                  "1552164.0",
                  "1552164.0",
                  "1552164.0",
                  "1552164.0",
                  "1552164.0"
                ],
                [
                  "mean",
                  "2517.768252581557",
                  "49.90280028716581",
                  "0.020115142472058364",
                  "0.5513045013284679",
                  "0.019759832079599835",
                  "145.00121185647907",
                  "9.961752752930748",
                  "7.455871147893782",
                  "13586.687045956483",
                  "30.935906624557727",
                  "1007.3251911524814",
                  "26.92118745184143",
                  "9.116711371994198",
                  "3.26490656270858",
                  "230.01008463023237"
                ],
                [
                  "std",
                  "662.4664867088707",
                  "15.91652836142424",
                  "2.137012374754573",
                  "36.423950029572254",
                  "2.085180896722647",
                  "90.39138043882006",
                  "13.120441025115914",
                  "5.867015960910077",
                  "8037.768007731736",
                  "3.49427616208654",
                  "2.3779655991407362",
                  "7.386355484051016",
                  "3.039939046240419",
                  "1.3764619865365368",
                  "114.09687468434467"
                ],
                [
                  "min",
                  "16.0",
                  "2.560541555165561",
                  "-13.0",
                  "-165.0",
                  "-6.5",
                  "0.0",
                  "0.0",
                  "0.0",
                  "1.0",
                  "19.6",
                  "1001.0",
                  "9.0",
                  "-2.23",
                  "0.0",
                  "0.0"
                ],
                [
                  "25%",
                  "2059.0",
                  "39.526676678936454",
                  "-1.0",
                  "-27.0",
                  "-1.0",
                  "69.0",
                  "2.0",
                  "3.0294443220747915",
                  "6706.0",
                  "28.63",
                  "1006.0",
                  "22.0",
                  "7.0",
                  "2.3",
                  "190.0"
                ],
                [
                  "50%",
                  "2520.0",
                  "51.15990140382019",
                  "0.0",
                  "1.0",
                  "0.0",
                  "147.0",
                  "6.0",
                  "6.436344408654898",
                  "13403.0",
                  "30.61",
                  "1007.0",
                  "27.0",
                  "9.31",
                  "3.27",
                  "263.0"
                ],
                [
                  "75%",
                  "2967.0",
                  "61.5653845307171",
                  "1.0",
                  "27.0",
                  "1.0",
                  "200.0",
                  "13.0",
                  "11.417836716081586",
                  "20080.0",
                  "33.14",
                  "1009.0",
                  "32.0",
                  "11.24",
                  "4.18",
                  "329.0"
                ],
                [
                  "max",
                  "8500.0",
                  "99.49969436953835",
                  "13.0",
                  "165.0",
                  "6.5",
                  "357.0",
                  "180.0",
                  "28.69482166472344",
                  "36461.0",
                  "41.11",
                  "1015.0",
                  "58.0",
                  "22.25",
                  "8.7",
                  "360.0"
                ]
              ],
              "shape": {
                "columns": 15,
                "rows": 8
              }
            },
            "text/html": [
              "<div>\n",
              "<style scoped>\n",
              "    .dataframe tbody tr th:only-of-type {\n",
              "        vertical-align: middle;\n",
              "    }\n",
              "\n",
              "    .dataframe tbody tr th {\n",
              "        vertical-align: top;\n",
              "    }\n",
              "\n",
              "    .dataframe thead th {\n",
              "        text-align: right;\n",
              "    }\n",
              "</style>\n",
              "<table border=\"1\" class=\"dataframe\">\n",
              "  <thead>\n",
              "    <tr style=\"text-align: right;\">\n",
              "      <th></th>\n",
              "      <th>gps_altitude_m</th>\n",
              "      <th>speed_km/s</th>\n",
              "      <th>climb_m</th>\n",
              "      <th>climb_m(delta)</th>\n",
              "      <th>climb_rate_m/s</th>\n",
              "      <th>bearing</th>\n",
              "      <th>delta_bearing</th>\n",
              "      <th>glide_ratio</th>\n",
              "      <th>elapsed_time</th>\n",
              "      <th>temp</th>\n",
              "      <th>pressure</th>\n",
              "      <th>humidity</th>\n",
              "      <th>dew_point</th>\n",
              "      <th>wind_speed</th>\n",
              "      <th>wind_deg</th>\n",
              "    </tr>\n",
              "  </thead>\n",
              "  <tbody>\n",
              "    <tr>\n",
              "      <th>count</th>\n",
              "      <td>1.552164e+06</td>\n",
              "      <td>1.552164e+06</td>\n",
              "      <td>1.552164e+06</td>\n",
              "      <td>1.552164e+06</td>\n",
              "      <td>1.552164e+06</td>\n",
              "      <td>1.552164e+06</td>\n",
              "      <td>1.552164e+06</td>\n",
              "      <td>1.552164e+06</td>\n",
              "      <td>1.552164e+06</td>\n",
              "      <td>1.552164e+06</td>\n",
              "      <td>1.552164e+06</td>\n",
              "      <td>1.552164e+06</td>\n",
              "      <td>1.552164e+06</td>\n",
              "      <td>1.552164e+06</td>\n",
              "      <td>1.552164e+06</td>\n",
              "    </tr>\n",
              "    <tr>\n",
              "      <th>mean</th>\n",
              "      <td>2.517768e+03</td>\n",
              "      <td>4.990280e+01</td>\n",
              "      <td>2.011514e-02</td>\n",
              "      <td>5.513045e-01</td>\n",
              "      <td>1.975983e-02</td>\n",
              "      <td>1.450012e+02</td>\n",
              "      <td>9.961753e+00</td>\n",
              "      <td>7.455871e+00</td>\n",
              "      <td>1.358669e+04</td>\n",
              "      <td>3.093591e+01</td>\n",
              "      <td>1.007325e+03</td>\n",
              "      <td>2.692119e+01</td>\n",
              "      <td>9.116711e+00</td>\n",
              "      <td>3.264907e+00</td>\n",
              "      <td>2.300101e+02</td>\n",
              "    </tr>\n",
              "    <tr>\n",
              "      <th>std</th>\n",
              "      <td>6.624665e+02</td>\n",
              "      <td>1.591653e+01</td>\n",
              "      <td>2.137012e+00</td>\n",
              "      <td>3.642395e+01</td>\n",
              "      <td>2.085181e+00</td>\n",
              "      <td>9.039138e+01</td>\n",
              "      <td>1.312044e+01</td>\n",
              "      <td>5.867016e+00</td>\n",
              "      <td>8.037768e+03</td>\n",
              "      <td>3.494276e+00</td>\n",
              "      <td>2.377966e+00</td>\n",
              "      <td>7.386355e+00</td>\n",
              "      <td>3.039939e+00</td>\n",
              "      <td>1.376462e+00</td>\n",
              "      <td>1.140969e+02</td>\n",
              "    </tr>\n",
              "    <tr>\n",
              "      <th>min</th>\n",
              "      <td>1.600000e+01</td>\n",
              "      <td>2.560542e+00</td>\n",
              "      <td>-1.300000e+01</td>\n",
              "      <td>-1.650000e+02</td>\n",
              "      <td>-6.500000e+00</td>\n",
              "      <td>0.000000e+00</td>\n",
              "      <td>0.000000e+00</td>\n",
              "      <td>0.000000e+00</td>\n",
              "      <td>1.000000e+00</td>\n",
              "      <td>1.960000e+01</td>\n",
              "      <td>1.001000e+03</td>\n",
              "      <td>9.000000e+00</td>\n",
              "      <td>-2.230000e+00</td>\n",
              "      <td>0.000000e+00</td>\n",
              "      <td>0.000000e+00</td>\n",
              "    </tr>\n",
              "    <tr>\n",
              "      <th>25%</th>\n",
              "      <td>2.059000e+03</td>\n",
              "      <td>3.952668e+01</td>\n",
              "      <td>-1.000000e+00</td>\n",
              "      <td>-2.700000e+01</td>\n",
              "      <td>-1.000000e+00</td>\n",
              "      <td>6.900000e+01</td>\n",
              "      <td>2.000000e+00</td>\n",
              "      <td>3.029444e+00</td>\n",
              "      <td>6.706000e+03</td>\n",
              "      <td>2.863000e+01</td>\n",
              "      <td>1.006000e+03</td>\n",
              "      <td>2.200000e+01</td>\n",
              "      <td>7.000000e+00</td>\n",
              "      <td>2.300000e+00</td>\n",
              "      <td>1.900000e+02</td>\n",
              "    </tr>\n",
              "    <tr>\n",
              "      <th>50%</th>\n",
              "      <td>2.520000e+03</td>\n",
              "      <td>5.115990e+01</td>\n",
              "      <td>0.000000e+00</td>\n",
              "      <td>1.000000e+00</td>\n",
              "      <td>0.000000e+00</td>\n",
              "      <td>1.470000e+02</td>\n",
              "      <td>6.000000e+00</td>\n",
              "      <td>6.436344e+00</td>\n",
              "      <td>1.340300e+04</td>\n",
              "      <td>3.061000e+01</td>\n",
              "      <td>1.007000e+03</td>\n",
              "      <td>2.700000e+01</td>\n",
              "      <td>9.310000e+00</td>\n",
              "      <td>3.270000e+00</td>\n",
              "      <td>2.630000e+02</td>\n",
              "    </tr>\n",
              "    <tr>\n",
              "      <th>75%</th>\n",
              "      <td>2.967000e+03</td>\n",
              "      <td>6.156538e+01</td>\n",
              "      <td>1.000000e+00</td>\n",
              "      <td>2.700000e+01</td>\n",
              "      <td>1.000000e+00</td>\n",
              "      <td>2.000000e+02</td>\n",
              "      <td>1.300000e+01</td>\n",
              "      <td>1.141784e+01</td>\n",
              "      <td>2.008000e+04</td>\n",
              "      <td>3.314000e+01</td>\n",
              "      <td>1.009000e+03</td>\n",
              "      <td>3.200000e+01</td>\n",
              "      <td>1.124000e+01</td>\n",
              "      <td>4.180000e+00</td>\n",
              "      <td>3.290000e+02</td>\n",
              "    </tr>\n",
              "    <tr>\n",
              "      <th>max</th>\n",
              "      <td>8.500000e+03</td>\n",
              "      <td>9.949969e+01</td>\n",
              "      <td>1.300000e+01</td>\n",
              "      <td>1.650000e+02</td>\n",
              "      <td>6.500000e+00</td>\n",
              "      <td>3.570000e+02</td>\n",
              "      <td>1.800000e+02</td>\n",
              "      <td>2.869482e+01</td>\n",
              "      <td>3.646100e+04</td>\n",
              "      <td>4.111000e+01</td>\n",
              "      <td>1.015000e+03</td>\n",
              "      <td>5.800000e+01</td>\n",
              "      <td>2.225000e+01</td>\n",
              "      <td>8.700000e+00</td>\n",
              "      <td>3.600000e+02</td>\n",
              "    </tr>\n",
              "  </tbody>\n",
              "</table>\n",
              "</div>"
            ],
            "text/plain": [
              "       gps_altitude_m    speed_km/s       climb_m  climb_m(delta)  \\\n",
              "count    1.552164e+06  1.552164e+06  1.552164e+06    1.552164e+06   \n",
              "mean     2.517768e+03  4.990280e+01  2.011514e-02    5.513045e-01   \n",
              "std      6.624665e+02  1.591653e+01  2.137012e+00    3.642395e+01   \n",
              "min      1.600000e+01  2.560542e+00 -1.300000e+01   -1.650000e+02   \n",
              "25%      2.059000e+03  3.952668e+01 -1.000000e+00   -2.700000e+01   \n",
              "50%      2.520000e+03  5.115990e+01  0.000000e+00    1.000000e+00   \n",
              "75%      2.967000e+03  6.156538e+01  1.000000e+00    2.700000e+01   \n",
              "max      8.500000e+03  9.949969e+01  1.300000e+01    1.650000e+02   \n",
              "\n",
              "       climb_rate_m/s       bearing  delta_bearing   glide_ratio  \\\n",
              "count    1.552164e+06  1.552164e+06   1.552164e+06  1.552164e+06   \n",
              "mean     1.975983e-02  1.450012e+02   9.961753e+00  7.455871e+00   \n",
              "std      2.085181e+00  9.039138e+01   1.312044e+01  5.867016e+00   \n",
              "min     -6.500000e+00  0.000000e+00   0.000000e+00  0.000000e+00   \n",
              "25%     -1.000000e+00  6.900000e+01   2.000000e+00  3.029444e+00   \n",
              "50%      0.000000e+00  1.470000e+02   6.000000e+00  6.436344e+00   \n",
              "75%      1.000000e+00  2.000000e+02   1.300000e+01  1.141784e+01   \n",
              "max      6.500000e+00  3.570000e+02   1.800000e+02  2.869482e+01   \n",
              "\n",
              "       elapsed_time          temp      pressure      humidity     dew_point  \\\n",
              "count  1.552164e+06  1.552164e+06  1.552164e+06  1.552164e+06  1.552164e+06   \n",
              "mean   1.358669e+04  3.093591e+01  1.007325e+03  2.692119e+01  9.116711e+00   \n",
              "std    8.037768e+03  3.494276e+00  2.377966e+00  7.386355e+00  3.039939e+00   \n",
              "min    1.000000e+00  1.960000e+01  1.001000e+03  9.000000e+00 -2.230000e+00   \n",
              "25%    6.706000e+03  2.863000e+01  1.006000e+03  2.200000e+01  7.000000e+00   \n",
              "50%    1.340300e+04  3.061000e+01  1.007000e+03  2.700000e+01  9.310000e+00   \n",
              "75%    2.008000e+04  3.314000e+01  1.009000e+03  3.200000e+01  1.124000e+01   \n",
              "max    3.646100e+04  4.111000e+01  1.015000e+03  5.800000e+01  2.225000e+01   \n",
              "\n",
              "         wind_speed      wind_deg  \n",
              "count  1.552164e+06  1.552164e+06  \n",
              "mean   3.264907e+00  2.300101e+02  \n",
              "std    1.376462e+00  1.140969e+02  \n",
              "min    0.000000e+00  0.000000e+00  \n",
              "25%    2.300000e+00  1.900000e+02  \n",
              "50%    3.270000e+00  2.630000e+02  \n",
              "75%    4.180000e+00  3.290000e+02  \n",
              "max    8.700000e+00  3.600000e+02  "
            ]
          },
          "execution_count": 3,
          "metadata": {},
          "output_type": "execute_result"
        }
      ],
      "source": [
        "dataset.describe()"
      ]
    },
    {
      "cell_type": "code",
      "execution_count": 4,
      "metadata": {
        "id": "qn-IGhUE7_1H"
      },
      "outputs": [
        {
          "data": {
            "text/plain": [
              "<seaborn.axisgrid.PairGrid at 0x1103acf50>"
            ]
          },
          "execution_count": 4,
          "metadata": {},
          "output_type": "execute_result"
        },
        {
          "data": {
            "image/png": "[encoded data removed]",
            "text/plain": [
              "<Figure size 750x750 with 9 Axes>"
            ]
          },
          "metadata": {},
          "output_type": "display_data"
        }
      ],
      "source": [
        "train_dataset = dataset.sample(frac=0.8, random_state=0)\n",
        "test_dataset = dataset.drop(train_dataset.index)\n",
        "\n",
        "sns.pairplot(train_dataset[[\"climb_rate_m/s\", \"climb_m(delta)\", \"speed_km/s\"]], diag_kind=\"zone\")"
      ]
    },
    {
      "cell_type": "markdown",
      "metadata": {
        "id": "gavKO_6DWRMP"
      },
      "source": [
        "Let's also check the overall statistics. Note how each feature covers a very different range:"
      ]
    },
    {
      "cell_type": "code",
      "execution_count": 5,
      "metadata": {
        "id": "yi2FzC3T21jR"
      },
      "outputs": [
        {
          "data": {
            "application/vnd.microsoft.datawrangler.viewer.v0+json": {
              "columns": [
                {
                  "name": "index",
                  "rawType": "object",
                  "type": "string"
                },
                {
                  "name": "count",
                  "rawType": "float64",
                  "type": "float"
                },
                {
                  "name": "mean",
                  "rawType": "float64",
                  "type": "float"
                },
                {
                  "name": "std",
                  "rawType": "float64",
                  "type": "float"
                },
                {
                  "name": "min",
                  "rawType": "float64",
                  "type": "float"
                },
                {
                  "name": "25%",
                  "rawType": "float64",
                  "type": "float"
                },
                {
                  "name": "50%",
                  "rawType": "float64",
                  "type": "float"
                },
                {
                  "name": "75%",
                  "rawType": "float64",
                  "type": "float"
                },
                {
                  "name": "max",
                  "rawType": "float64",
                  "type": "float"
                }
              ],
              "conversionMethod": "pd.DataFrame",
              "ref": "355015e6-94eb-480c-8787-bf068c90caee",
              "rows": [
                [
                  "gps_altitude_m",
                  "1241731.0",
                  "2517.323839865478",
                  "662.2274765600389",
                  "16.0",
                  "2058.0",
                  "2519.0",
                  "2966.0",
                  "8500.0"
                ],
                [
                  "speed_km/s",
                  "1241731.0",
                  "49.9099589174671",
                  "15.911542683519546",
                  "2.560541555165561",
                  "39.52666995298117",
                  "51.16591471208763",
                  "61.57104272794261",
                  "99.49969436953835"
                ],
                [
                  "climb_m",
                  "1241731.0",
                  "0.020289418561669152",
                  "2.137364148723166",
                  "-13.0",
                  "-1.0",
                  "0.0",
                  "1.0",
                  "13.0"
                ],
                [
                  "climb_m(delta)",
                  "1241731.0",
                  "0.5552853234718309",
                  "36.42267374873241",
                  "-165.0",
                  "-27.0",
                  "1.0",
                  "27.0",
                  "165.0"
                ],
                [
                  "climb_rate_m/s",
                  "1241731.0",
                  "0.019901653417688694",
                  "2.085613123928649",
                  "-6.5",
                  "-1.0",
                  "0.0",
                  "1.0",
                  "6.5"
                ],
                [
                  "bearing",
                  "1241731.0",
                  "144.97285321861176",
                  "90.39034355241884",
                  "0.0",
                  "69.0",
                  "147.0",
                  "200.0",
                  "357.0"
                ],
                [
                  "delta_bearing",
                  "1241731.0",
                  "9.953032500597956",
                  "13.094734263499578",
                  "0.0",
                  "2.0",
                  "6.0",
                  "13.0",
                  "180.0"
                ],
                [
                  "glide_ratio",
                  "1241731.0",
                  "7.4551595056056",
                  "5.867421030781382",
                  "0.0",
                  "3.026436176122153",
                  "6.436632360543381",
                  "11.40781411303794",
                  "28.69482166472344"
                ],
                [
                  "elapsed_time",
                  "1241731.0",
                  "13586.935183224065",
                  "8038.541703039045",
                  "1.0",
                  "6707.0",
                  "13405.0",
                  "20080.0",
                  "36461.0"
                ],
                [
                  "temp",
                  "1241731.0",
                  "30.936433543174793",
                  "3.4949491344431918",
                  "19.6",
                  "28.63",
                  "30.61",
                  "33.14",
                  "41.11"
                ],
                [
                  "pressure",
                  "1241731.0",
                  "1007.3254207231679",
                  "2.3776518780319216",
                  "1001.0",
                  "1006.0",
                  "1007.0",
                  "1009.0",
                  "1015.0"
                ],
                [
                  "humidity",
                  "1241731.0",
                  "26.922839970976",
                  "7.387376835452674",
                  "9.0",
                  "22.0",
                  "27.0",
                  "32.0",
                  "58.0"
                ],
                [
                  "dew_point",
                  "1241731.0",
                  "9.117913098730723",
                  "3.0409207048511027",
                  "-2.23",
                  "7.0",
                  "9.31",
                  "11.25",
                  "22.25"
                ],
                [
                  "wind_speed",
                  "1241731.0",
                  "3.2651437308080404",
                  "1.3762570032771486",
                  "0.0",
                  "2.3",
                  "3.27",
                  "4.18",
                  "8.7"
                ],
                [
                  "wind_deg",
                  "1241731.0",
                  "229.993215921967",
                  "114.09869473839582",
                  "0.0",
                  "190.0",
                  "263.0",
                  "329.0",
                  "360.0"
                ]
              ],
              "shape": {
                "columns": 8,
                "rows": 15
              }
            },
            "text/html": [
              "<div>\n",
              "<style scoped>\n",
              "    .dataframe tbody tr th:only-of-type {\n",
              "        vertical-align: middle;\n",
              "    }\n",
              "\n",
              "    .dataframe tbody tr th {\n",
              "        vertical-align: top;\n",
              "    }\n",
              "\n",
              "    .dataframe thead th {\n",
              "        text-align: right;\n",
              "    }\n",
              "</style>\n",
              "<table border=\"1\" class=\"dataframe\">\n",
              "  <thead>\n",
              "    <tr style=\"text-align: right;\">\n",
              "      <th></th>\n",
              "      <th>count</th>\n",
              "      <th>mean</th>\n",
              "      <th>std</th>\n",
              "      <th>min</th>\n",
              "      <th>25%</th>\n",
              "      <th>50%</th>\n",
              "      <th>75%</th>\n",
              "      <th>max</th>\n",
              "    </tr>\n",
              "  </thead>\n",
              "  <tbody>\n",
              "    <tr>\n",
              "      <th>gps_altitude_m</th>\n",
              "      <td>1241731.0</td>\n",
              "      <td>2517.323840</td>\n",
              "      <td>662.227477</td>\n",
              "      <td>16.000000</td>\n",
              "      <td>2058.000000</td>\n",
              "      <td>2519.000000</td>\n",
              "      <td>2966.000000</td>\n",
              "      <td>8500.000000</td>\n",
              "    </tr>\n",
              "    <tr>\n",
              "      <th>speed_km/s</th>\n",
              "      <td>1241731.0</td>\n",
              "      <td>49.909959</td>\n",
              "      <td>15.911543</td>\n",
              "      <td>2.560542</td>\n",
              "      <td>39.526670</td>\n",
              "      <td>51.165915</td>\n",
              "      <td>61.571043</td>\n",
              "      <td>99.499694</td>\n",
              "    </tr>\n",
              "    <tr>\n",
              "      <th>climb_m</th>\n",
              "      <td>1241731.0</td>\n",
              "      <td>0.020289</td>\n",
              "      <td>2.137364</td>\n",
              "      <td>-13.000000</td>\n",
              "      <td>-1.000000</td>\n",
              "      <td>0.000000</td>\n",
              "      <td>1.000000</td>\n",
              "      <td>13.000000</td>\n",
              "    </tr>\n",
              "    <tr>\n",
              "      <th>climb_m(delta)</th>\n",
              "      <td>1241731.0</td>\n",
              "      <td>0.555285</td>\n",
              "      <td>36.422674</td>\n",
              "      <td>-165.000000</td>\n",
              "      <td>-27.000000</td>\n",
              "      <td>1.000000</td>\n",
              "      <td>27.000000</td>\n",
              "      <td>165.000000</td>\n",
              "    </tr>\n",
              "    <tr>\n",
              "      <th>climb_rate_m/s</th>\n",
              "      <td>1241731.0</td>\n",
              "      <td>0.019902</td>\n",
              "      <td>2.085613</td>\n",
              "      <td>-6.500000</td>\n",
              "      <td>-1.000000</td>\n",
              "      <td>0.000000</td>\n",
              "      <td>1.000000</td>\n",
              "      <td>6.500000</td>\n",
              "    </tr>\n",
              "    <tr>\n",
              "      <th>bearing</th>\n",
              "      <td>1241731.0</td>\n",
              "      <td>144.972853</td>\n",
              "      <td>90.390344</td>\n",
              "      <td>0.000000</td>\n",
              "      <td>69.000000</td>\n",
              "      <td>147.000000</td>\n",
              "      <td>200.000000</td>\n",
              "      <td>357.000000</td>\n",
              "    </tr>\n",
              "    <tr>\n",
              "      <th>delta_bearing</th>\n",
              "      <td>1241731.0</td>\n",
              "      <td>9.953033</td>\n",
              "      <td>13.094734</td>\n",
              "      <td>0.000000</td>\n",
              "      <td>2.000000</td>\n",
              "      <td>6.000000</td>\n",
              "      <td>13.000000</td>\n",
              "      <td>180.000000</td>\n",
              "    </tr>\n",
              "    <tr>\n",
              "      <th>glide_ratio</th>\n",
              "      <td>1241731.0</td>\n",
              "      <td>7.455160</td>\n",
              "      <td>5.867421</td>\n",
              "      <td>0.000000</td>\n",
              "      <td>3.026436</td>\n",
              "      <td>6.436632</td>\n",
              "      <td>11.407814</td>\n",
              "      <td>28.694822</td>\n",
              "    </tr>\n",
              "    <tr>\n",
              "      <th>elapsed_time</th>\n",
              "      <td>1241731.0</td>\n",
              "      <td>13586.935183</td>\n",
              "      <td>8038.541703</td>\n",
              "      <td>1.000000</td>\n",
              "      <td>6707.000000</td>\n",
              "      <td>13405.000000</td>\n",
              "      <td>20080.000000</td>\n",
              "      <td>36461.000000</td>\n",
              "    </tr>\n",
              "    <tr>\n",
              "      <th>temp</th>\n",
              "      <td>1241731.0</td>\n",
              "      <td>30.936434</td>\n",
              "      <td>3.494949</td>\n",
              "      <td>19.600000</td>\n",
              "      <td>28.630000</td>\n",
              "      <td>30.610000</td>\n",
              "      <td>33.140000</td>\n",
              "      <td>41.110000</td>\n",
              "    </tr>\n",
              "    <tr>\n",
              "      <th>pressure</th>\n",
              "      <td>1241731.0</td>\n",
              "      <td>1007.325421</td>\n",
              "      <td>2.377652</td>\n",
              "      <td>1001.000000</td>\n",
              "      <td>1006.000000</td>\n",
              "      <td>1007.000000</td>\n",
              "      <td>1009.000000</td>\n",
              "      <td>1015.000000</td>\n",
              "    </tr>\n",
              "    <tr>\n",
              "      <th>humidity</th>\n",
              "      <td>1241731.0</td>\n",
              "      <td>26.922840</td>\n",
              "      <td>7.387377</td>\n",
              "      <td>9.000000</td>\n",
              "      <td>22.000000</td>\n",
              "      <td>27.000000</td>\n",
              "      <td>32.000000</td>\n",
              "      <td>58.000000</td>\n",
              "    </tr>\n",
              "    <tr>\n",
              "      <th>dew_point</th>\n",
              "      <td>1241731.0</td>\n",
              "      <td>9.117913</td>\n",
              "      <td>3.040921</td>\n",
              "      <td>-2.230000</td>\n",
              "      <td>7.000000</td>\n",
              "      <td>9.310000</td>\n",
              "      <td>11.250000</td>\n",
              "      <td>22.250000</td>\n",
              "    </tr>\n",
              "    <tr>\n",
              "      <th>wind_speed</th>\n",
              "      <td>1241731.0</td>\n",
              "      <td>3.265144</td>\n",
              "      <td>1.376257</td>\n",
              "      <td>0.000000</td>\n",
              "      <td>2.300000</td>\n",
              "      <td>3.270000</td>\n",
              "      <td>4.180000</td>\n",
              "      <td>8.700000</td>\n",
              "    </tr>\n",
              "    <tr>\n",
              "      <th>wind_deg</th>\n",
              "      <td>1241731.0</td>\n",
              "      <td>229.993216</td>\n",
              "      <td>114.098695</td>\n",
              "      <td>0.000000</td>\n",
              "      <td>190.000000</td>\n",
              "      <td>263.000000</td>\n",
              "      <td>329.000000</td>\n",
              "      <td>360.000000</td>\n",
              "    </tr>\n",
              "  </tbody>\n",
              "</table>\n",
              "</div>"
            ],
            "text/plain": [
              "                    count          mean          std          min  \\\n",
              "gps_altitude_m  1241731.0   2517.323840   662.227477    16.000000   \n",
              "speed_km/s      1241731.0     49.909959    15.911543     2.560542   \n",
              "climb_m         1241731.0      0.020289     2.137364   -13.000000   \n",
              "climb_m(delta)  1241731.0      0.555285    36.422674  -165.000000   \n",
              "climb_rate_m/s  1241731.0      0.019902     2.085613    -6.500000   \n",
              "bearing         1241731.0    144.972853    90.390344     0.000000   \n",
              "delta_bearing   1241731.0      9.953033    13.094734     0.000000   \n",
              "glide_ratio     1241731.0      7.455160     5.867421     0.000000   \n",
              "elapsed_time    1241731.0  13586.935183  8038.541703     1.000000   \n",
              "temp            1241731.0     30.936434     3.494949    19.600000   \n",
              "pressure        1241731.0   1007.325421     2.377652  1001.000000   \n",
              "humidity        1241731.0     26.922840     7.387377     9.000000   \n",
              "dew_point       1241731.0      9.117913     3.040921    -2.230000   \n",
              "wind_speed      1241731.0      3.265144     1.376257     0.000000   \n",
              "wind_deg        1241731.0    229.993216   114.098695     0.000000   \n",
              "\n",
              "                        25%           50%           75%           max  \n",
              "gps_altitude_m  2058.000000   2519.000000   2966.000000   8500.000000  \n",
              "speed_km/s        39.526670     51.165915     61.571043     99.499694  \n",
              "climb_m           -1.000000      0.000000      1.000000     13.000000  \n",
              "climb_m(delta)   -27.000000      1.000000     27.000000    165.000000  \n",
              "climb_rate_m/s    -1.000000      0.000000      1.000000      6.500000  \n",
              "bearing           69.000000    147.000000    200.000000    357.000000  \n",
              "delta_bearing      2.000000      6.000000     13.000000    180.000000  \n",
              "glide_ratio        3.026436      6.436632     11.407814     28.694822  \n",
              "elapsed_time    6707.000000  13405.000000  20080.000000  36461.000000  \n",
              "temp              28.630000     30.610000     33.140000     41.110000  \n",
              "pressure        1006.000000   1007.000000   1009.000000   1015.000000  \n",
              "humidity          22.000000     27.000000     32.000000     58.000000  \n",
              "dew_point          7.000000      9.310000     11.250000     22.250000  \n",
              "wind_speed         2.300000      3.270000      4.180000      8.700000  \n",
              "wind_deg         190.000000    263.000000    329.000000    360.000000  "
            ]
          },
          "execution_count": 5,
          "metadata": {},
          "output_type": "execute_result"
        }
      ],
      "source": [
        "train_dataset.describe().transpose()"
      ]
    },
    {
      "cell_type": "code",
      "execution_count": 15,
      "metadata": {
        "id": "t2sluJdCW7jN"
      },
      "outputs": [
        {
          "data": {
            "application/vnd.microsoft.datawrangler.viewer.v0+json": {
              "columns": [
                {
                  "name": "index",
                  "rawType": "object",
                  "type": "string"
                },
                {
                  "name": "mean",
                  "rawType": "float64",
                  "type": "float"
                },
                {
                  "name": "std",
                  "rawType": "float64",
                  "type": "float"
                }
              ],
              "conversionMethod": "pd.DataFrame",
              "ref": "34ae86a2-4948-4231-801f-3efd572fd3dd",
              "rows": [
                [
                  "gps_altitude_m",
                  "2517.323839865478",
                  "662.2274765600389"
                ],
                [
                  "speed_km/s",
                  "49.9099589174671",
                  "15.911542683519546"
                ],
                [
                  "climb_m",
                  "0.020289418561669152",
                  "2.137364148723166"
                ],
                [
                  "climb_m(delta)",
                  "0.5552853234718309",
                  "36.42267374873241"
                ],
                [
                  "climb_rate_m/s",
                  "0.019901653417688694",
                  "2.085613123928649"
                ],
                [
                  "bearing",
                  "144.97285321861176",
                  "90.39034355241884"
                ],
                [
                  "delta_bearing",
                  "9.953032500597956",
                  "13.094734263499578"
                ],
                [
                  "glide_ratio",
                  "7.4551595056056",
                  "5.867421030781382"
                ],
                [
                  "elapsed_time",
                  "13586.935183224065",
                  "8038.541703039045"
                ],
                [
                  "temp",
                  "30.936433543174793",
                  "3.4949491344431918"
                ],
                [
                  "pressure",
                  "1007.3254207231679",
                  "2.3776518780319216"
                ],
                [
                  "humidity",
                  "26.922839970976",
                  "7.387376835452674"
                ],
                [
                  "dew_point",
                  "9.117913098730723",
                  "3.0409207048511027"
                ],
                [
                  "wind_speed",
                  "3.2651437308080404",
                  "1.3762570032771486"
                ],
                [
                  "wind_deg",
                  "229.993215921967",
                  "114.09869473839582"
                ]
              ],
              "shape": {
                "columns": 2,
                "rows": 15
              }
            },
            "text/html": [
              "<div>\n",
              "<style scoped>\n",
              "    .dataframe tbody tr th:only-of-type {\n",
              "        vertical-align: middle;\n",
              "    }\n",
              "\n",
              "    .dataframe tbody tr th {\n",
              "        vertical-align: top;\n",
              "    }\n",
              "\n",
              "    .dataframe thead th {\n",
              "        text-align: right;\n",
              "    }\n",
              "</style>\n",
              "<table border=\"1\" class=\"dataframe\">\n",
              "  <thead>\n",
              "    <tr style=\"text-align: right;\">\n",
              "      <th></th>\n",
              "      <th>mean</th>\n",
              "      <th>std</th>\n",
              "    </tr>\n",
              "  </thead>\n",
              "  <tbody>\n",
              "    <tr>\n",
              "      <th>gps_altitude_m</th>\n",
              "      <td>2517.323840</td>\n",
              "      <td>662.227477</td>\n",
              "    </tr>\n",
              "    <tr>\n",
              "      <th>speed_km/s</th>\n",
              "      <td>49.909959</td>\n",
              "      <td>15.911543</td>\n",
              "    </tr>\n",
              "    <tr>\n",
              "      <th>climb_m</th>\n",
              "      <td>0.020289</td>\n",
              "      <td>2.137364</td>\n",
              "    </tr>\n",
              "    <tr>\n",
              "      <th>climb_m(delta)</th>\n",
              "      <td>0.555285</td>\n",
              "      <td>36.422674</td>\n",
              "    </tr>\n",
              "    <tr>\n",
              "      <th>climb_rate_m/s</th>\n",
              "      <td>0.019902</td>\n",
              "      <td>2.085613</td>\n",
              "    </tr>\n",
              "    <tr>\n",
              "      <th>bearing</th>\n",
              "      <td>144.972853</td>\n",
              "      <td>90.390344</td>\n",
              "    </tr>\n",
              "    <tr>\n",
              "      <th>delta_bearing</th>\n",
              "      <td>9.953033</td>\n",
              "      <td>13.094734</td>\n",
              "    </tr>\n",
              "    <tr>\n",
              "      <th>glide_ratio</th>\n",
              "      <td>7.455160</td>\n",
              "      <td>5.867421</td>\n",
              "    </tr>\n",
              "    <tr>\n",
              "      <th>elapsed_time</th>\n",
              "      <td>13586.935183</td>\n",
              "      <td>8038.541703</td>\n",
              "    </tr>\n",
              "    <tr>\n",
              "      <th>temp</th>\n",
              "      <td>30.936434</td>\n",
              "      <td>3.494949</td>\n",
              "    </tr>\n",
              "    <tr>\n",
              "      <th>pressure</th>\n",
              "      <td>1007.325421</td>\n",
              "      <td>2.377652</td>\n",
              "    </tr>\n",
              "    <tr>\n",
              "      <th>humidity</th>\n",
              "      <td>26.922840</td>\n",
              "      <td>7.387377</td>\n",
              "    </tr>\n",
              "    <tr>\n",
              "      <th>dew_point</th>\n",
              "      <td>9.117913</td>\n",
              "      <td>3.040921</td>\n",
              "    </tr>\n",
              "    <tr>\n",
              "      <th>wind_speed</th>\n",
              "      <td>3.265144</td>\n",
              "      <td>1.376257</td>\n",
              "    </tr>\n",
              "    <tr>\n",
              "      <th>wind_deg</th>\n",
              "      <td>229.993216</td>\n",
              "      <td>114.098695</td>\n",
              "    </tr>\n",
              "  </tbody>\n",
              "</table>\n",
              "</div>"
            ],
            "text/plain": [
              "                        mean          std\n",
              "gps_altitude_m   2517.323840   662.227477\n",
              "speed_km/s         49.909959    15.911543\n",
              "climb_m             0.020289     2.137364\n",
              "climb_m(delta)      0.555285    36.422674\n",
              "climb_rate_m/s      0.019902     2.085613\n",
              "bearing           144.972853    90.390344\n",
              "delta_bearing       9.953033    13.094734\n",
              "glide_ratio         7.455160     5.867421\n",
              "elapsed_time    13586.935183  8038.541703\n",
              "temp               30.936434     3.494949\n",
              "pressure         1007.325421     2.377652\n",
              "humidity           26.922840     7.387377\n",
              "dew_point           9.117913     3.040921\n",
              "wind_speed          3.265144     1.376257\n",
              "wind_deg          229.993216   114.098695"
            ]
          },
          "execution_count": 15,
          "metadata": {},
          "output_type": "execute_result"
        }
      ],
      "source": [
        "train_features = train_dataset.copy()\n",
        "test_features = test_dataset.copy()\n",
        "\n",
        "# train_labels = train_features.pop(\"climb_rate_m/s\")\n",
        "# test_labels = test_features.pop(\"climb_rate_m/s\")\n",
        "\n",
        "train_dataset.describe().transpose()[['mean', 'std']]"
      ]
    },
    {
      "cell_type": "code",
      "execution_count": 16,
      "metadata": {
        "id": "JlC5ooJrgjQF"
      },
      "outputs": [
        {
          "name": "stdout",
          "output_type": "stream",
          "text": [
            "[[ 2517.324    49.91      0.02      0.555     0.02    144.973     9.953\n",
            "      7.455 13586.936    30.936  1007.325    26.923     9.118     3.265\n",
            "    229.993]]\n"
          ]
        }
      ],
      "source": [
        "normalizer = tf.keras.layers.Normalization(axis=-1)\n",
        "normalizer.adapt(np.array(train_features))\n",
        "print(normalizer.mean.numpy())"
      ]
    },
    {
      "cell_type": "code",
      "execution_count": 17,
      "metadata": {
        "id": "2l7zFL_XWIRu"
      },
      "outputs": [
        {
          "name": "stdout",
          "output_type": "stream",
          "text": [
            "First example: [[ 2829.      47.79     1.      11.       1.     192.      12.      13.28\n",
            "  22226.      31.96  1005.      30.      12.23     3.74     8.  ]]\n",
            "\n",
            "Normalized: [[ 0.47 -0.13  0.46  0.29  0.47  0.52  0.16  0.99  1.07  0.29 -0.98  0.42\n",
            "   1.02  0.35 -1.95]]\n"
          ]
        }
      ],
      "source": [
        "first = np.array(train_features[:1])\n",
        "\n",
        "with np.printoptions(precision=2, suppress=True):\n",
        "  print('First example:', first)\n",
        "  print()\n",
        "  print('Normalized:', normalizer(first).numpy())"
      ]
    },
    {
      "cell_type": "code",
      "execution_count": 18,
      "metadata": {
        "id": "1gJAy0fKs1TS"
      },
      "outputs": [
        {
          "name": "stderr",
          "output_type": "stream",
          "text": [
            "/Users/serkan/Documents/Projeler/Paragliding_Flight_Analyses/.venv/lib/python3.11/site-packages/keras/src/layers/preprocessing/tf_data_layer.py:19: UserWarning: Do not pass an `input_shape`/`input_dim` argument to a layer. When using Sequential models, prefer using an `Input(shape)` object as the first layer in the model instead.\n",
            "  super().__init__(**kwargs)\n"
          ]
        },
        {
          "data": {
            "text/html": [
              "<pre style=\"white-space:pre;overflow-x:auto;line-height:normal;font-family:Menlo,'DejaVu Sans Mono',consolas,'Courier New',monospace\"><span style=\"font-weight: bold\">Model: \"sequential_1\"</span>\n",
              "</pre>\n"
            ],
            "text/plain": [
              "\u001b[1mModel: \"sequential_1\"\u001b[0m\n"
            ]
          },
          "metadata": {},
          "output_type": "display_data"
        },
        {
          "data": {
            "text/html": [
              "<pre style=\"white-space:pre;overflow-x:auto;line-height:normal;font-family:Menlo,'DejaVu Sans Mono',consolas,'Courier New',monospace\">┏━━━━━━━━━━━━━━━━━━━━━━━━━━━━━━━━━┳━━━━━━━━━━━━━━━━━━━━━━━━┳━━━━━━━━━━━━━━━┓\n",
              "┃<span style=\"font-weight: bold\"> Layer (type)                    </span>┃<span style=\"font-weight: bold\"> Output Shape           </span>┃<span style=\"font-weight: bold\">       Param # </span>┃\n",
              "┡━━━━━━━━━━━━━━━━━━━━━━━━━━━━━━━━━╇━━━━━━━━━━━━━━━━━━━━━━━━╇━━━━━━━━━━━━━━━┩\n",
              "│ normalization_3 (<span style=\"color: #0087ff; text-decoration-color: #0087ff\">Normalization</span>) │ (<span style=\"color: #00d7ff; text-decoration-color: #00d7ff\">None</span>, <span style=\"color: #00af00; text-decoration-color: #00af00\">1</span>)              │             <span style=\"color: #00af00; text-decoration-color: #00af00\">3</span> │\n",
              "├─────────────────────────────────┼────────────────────────┼───────────────┤\n",
              "│ dense_1 (<span style=\"color: #0087ff; text-decoration-color: #0087ff\">Dense</span>)                 │ (<span style=\"color: #00d7ff; text-decoration-color: #00d7ff\">None</span>, <span style=\"color: #00af00; text-decoration-color: #00af00\">1</span>)              │             <span style=\"color: #00af00; text-decoration-color: #00af00\">2</span> │\n",
              "└─────────────────────────────────┴────────────────────────┴───────────────┘\n",
              "</pre>\n"
            ],
            "text/plain": [
              "┏━━━━━━━━━━━━━━━━━━━━━━━━━━━━━━━━━┳━━━━━━━━━━━━━━━━━━━━━━━━┳━━━━━━━━━━━━━━━┓\n",
              "┃\u001b[1m \u001b[0m\u001b[1mLayer (type)                   \u001b[0m\u001b[1m \u001b[0m┃\u001b[1m \u001b[0m\u001b[1mOutput Shape          \u001b[0m\u001b[1m \u001b[0m┃\u001b[1m \u001b[0m\u001b[1m      Param #\u001b[0m\u001b[1m \u001b[0m┃\n",
              "┡━━━━━━━━━━━━━━━━━━━━━━━━━━━━━━━━━╇━━━━━━━━━━━━━━━━━━━━━━━━╇━━━━━━━━━━━━━━━┩\n",
              "│ normalization_3 (\u001b[38;5;33mNormalization\u001b[0m) │ (\u001b[38;5;45mNone\u001b[0m, \u001b[38;5;34m1\u001b[0m)              │             \u001b[38;5;34m3\u001b[0m │\n",
              "├─────────────────────────────────┼────────────────────────┼───────────────┤\n",
              "│ dense_1 (\u001b[38;5;33mDense\u001b[0m)                 │ (\u001b[38;5;45mNone\u001b[0m, \u001b[38;5;34m1\u001b[0m)              │             \u001b[38;5;34m2\u001b[0m │\n",
              "└─────────────────────────────────┴────────────────────────┴───────────────┘\n"
            ]
          },
          "metadata": {},
          "output_type": "display_data"
        },
        {
          "data": {
            "text/html": [
              "<pre style=\"white-space:pre;overflow-x:auto;line-height:normal;font-family:Menlo,'DejaVu Sans Mono',consolas,'Courier New',monospace\"><span style=\"font-weight: bold\"> Total params: </span><span style=\"color: #00af00; text-decoration-color: #00af00\">5</span> (24.00 B)\n",
              "</pre>\n"
            ],
            "text/plain": [
              "\u001b[1m Total params: \u001b[0m\u001b[38;5;34m5\u001b[0m (24.00 B)\n"
            ]
          },
          "metadata": {},
          "output_type": "display_data"
        },
        {
          "data": {
            "text/html": [
              "<pre style=\"white-space:pre;overflow-x:auto;line-height:normal;font-family:Menlo,'DejaVu Sans Mono',consolas,'Courier New',monospace\"><span style=\"font-weight: bold\"> Trainable params: </span><span style=\"color: #00af00; text-decoration-color: #00af00\">2</span> (8.00 B)\n",
              "</pre>\n"
            ],
            "text/plain": [
              "\u001b[1m Trainable params: \u001b[0m\u001b[38;5;34m2\u001b[0m (8.00 B)\n"
            ]
          },
          "metadata": {},
          "output_type": "display_data"
        },
        {
          "data": {
            "text/html": [
              "<pre style=\"white-space:pre;overflow-x:auto;line-height:normal;font-family:Menlo,'DejaVu Sans Mono',consolas,'Courier New',monospace\"><span style=\"font-weight: bold\"> Non-trainable params: </span><span style=\"color: #00af00; text-decoration-color: #00af00\">3</span> (16.00 B)\n",
              "</pre>\n"
            ],
            "text/plain": [
              "\u001b[1m Non-trainable params: \u001b[0m\u001b[38;5;34m3\u001b[0m (16.00 B)\n"
            ]
          },
          "metadata": {},
          "output_type": "display_data"
        }
      ],
      "source": [
        "vario = np.array(train_features[\"climb_rate_m/s\"])\n",
        "\n",
        "vario_normalizer = layers.Normalization(input_shape=[1,], axis=None)\n",
        "vario_normalizer.adapt(vario)\n",
        "vario_model = tf.keras.Sequential([\n",
        "    vario_normalizer,\n",
        "    layers.Dense(units=1)\n",
        "])\n",
        "\n",
        "vario_model.summary()"
      ]
    },
    {
      "cell_type": "code",
      "execution_count": 19,
      "metadata": {
        "id": "UfV1HS6bns-s"
      },
      "outputs": [
        {
          "name": "stdout",
          "output_type": "stream",
          "text": [
            "\u001b[1m1/1\u001b[0m \u001b[32m━━━━━━━━━━━━━━━━━━━━\u001b[0m\u001b[37m\u001b[0m \u001b[1m0s\u001b[0m 63ms/step\n"
          ]
        },
        {
          "data": {
            "text/plain": [
              "array([[ 0.272],\n",
              "       [-0.006],\n",
              "       [ 1.382],\n",
              "       [ 0.549],\n",
              "       [ 1.382],\n",
              "       [-0.561],\n",
              "       [-0.006],\n",
              "       [-0.006],\n",
              "       [-0.006],\n",
              "       [-0.838]], dtype=float32)"
            ]
          },
          "execution_count": 19,
          "metadata": {},
          "output_type": "execute_result"
        }
      ],
      "source": [
        "vario_model.predict(vario[:10])"
      ]
    },
    {
      "cell_type": "code",
      "execution_count": 20,
      "metadata": {
        "id": "JxA_3lpOm-SK"
      },
      "outputs": [],
      "source": [
        "vario_model.compile(\n",
        "    optimizer=tf.keras.optimizers.Adam(learning_rate=0.1),\n",
        "    loss='mean_absolute_error')"
      ]
    },
    {
      "cell_type": "code",
      "execution_count": 21,
      "metadata": {
        "id": "-iSrNy59nRAp"
      },
      "outputs": [
        {
          "name": "stdout",
          "output_type": "stream",
          "text": [
            "CPU times: user 2min 5s, sys: 20.1 s, total: 2min 25s\n",
            "Wall time: 1min 41s\n"
          ]
        },
        {
          "data": {
            "application/vnd.microsoft.datawrangler.viewer.v0+json": {
              "columns": [
                {
                  "name": "index",
                  "rawType": "int64",
                  "type": "integer"
                },
                {
                  "name": "loss",
                  "rawType": "float64",
                  "type": "float"
                },
                {
                  "name": "val_loss",
                  "rawType": "float64",
                  "type": "float"
                },
                {
                  "name": "epoch",
                  "rawType": "int64",
                  "type": "integer"
                }
              ],
              "conversionMethod": "pd.DataFrame",
              "ref": "51b61611-2a3a-44cd-ae46-fcaeac60c9cc",
              "rows": [
                [
                  "5",
                  "0.013049951754510403",
                  "0.009027688764035702",
                  "5"
                ],
                [
                  "6",
                  "0.01337411068379879",
                  "0.022029316052794456",
                  "6"
                ],
                [
                  "7",
                  "0.013458763249218464",
                  "0.012914247810840607",
                  "7"
                ],
                [
                  "8",
                  "0.013157390989363194",
                  "0.002142473356798291",
                  "8"
                ],
                [
                  "9",
                  "0.013377988710999489",
                  "0.01648387871682644",
                  "9"
                ]
              ],
              "shape": {
                "columns": 3,
                "rows": 5
              }
            },
            "text/html": [
              "<div>\n",
              "<style scoped>\n",
              "    .dataframe tbody tr th:only-of-type {\n",
              "        vertical-align: middle;\n",
              "    }\n",
              "\n",
              "    .dataframe tbody tr th {\n",
              "        vertical-align: top;\n",
              "    }\n",
              "\n",
              "    .dataframe thead th {\n",
              "        text-align: right;\n",
              "    }\n",
              "</style>\n",
              "<table border=\"1\" class=\"dataframe\">\n",
              "  <thead>\n",
              "    <tr style=\"text-align: right;\">\n",
              "      <th></th>\n",
              "      <th>loss</th>\n",
              "      <th>val_loss</th>\n",
              "      <th>epoch</th>\n",
              "    </tr>\n",
              "  </thead>\n",
              "  <tbody>\n",
              "    <tr>\n",
              "      <th>5</th>\n",
              "      <td>0.013050</td>\n",
              "      <td>0.009028</td>\n",
              "      <td>5</td>\n",
              "    </tr>\n",
              "    <tr>\n",
              "      <th>6</th>\n",
              "      <td>0.013374</td>\n",
              "      <td>0.022029</td>\n",
              "      <td>6</td>\n",
              "    </tr>\n",
              "    <tr>\n",
              "      <th>7</th>\n",
              "      <td>0.013459</td>\n",
              "      <td>0.012914</td>\n",
              "      <td>7</td>\n",
              "    </tr>\n",
              "    <tr>\n",
              "      <th>8</th>\n",
              "      <td>0.013157</td>\n",
              "      <td>0.002142</td>\n",
              "      <td>8</td>\n",
              "    </tr>\n",
              "    <tr>\n",
              "      <th>9</th>\n",
              "      <td>0.013378</td>\n",
              "      <td>0.016484</td>\n",
              "      <td>9</td>\n",
              "    </tr>\n",
              "  </tbody>\n",
              "</table>\n",
              "</div>"
            ],
            "text/plain": [
              "       loss  val_loss  epoch\n",
              "5  0.013050  0.009028      5\n",
              "6  0.013374  0.022029      6\n",
              "7  0.013459  0.012914      7\n",
              "8  0.013157  0.002142      8\n",
              "9  0.013378  0.016484      9"
            ]
          },
          "execution_count": 21,
          "metadata": {},
          "output_type": "execute_result"
        }
      ],
      "source": [
        "%%time\n",
        "history = vario_model.fit(\n",
        "    train_features[\"climb_rate_m/s\"],\n",
        "    train_labels,\n",
        "    epochs=10,\n",
        "    # Suppress logging.\n",
        "    verbose=0,\n",
        "    # Calculate validation results on 20% of the training data.\n",
        "    validation_split = 0.2)\n",
        "\n",
        "hist = pd.DataFrame(history.history)\n",
        "hist['epoch'] = history.epoch\n",
        "hist.tail()"
      ]
    },
    {
      "cell_type": "code",
      "execution_count": 23,
      "metadata": {
        "id": "9E54UoZunqhc"
      },
      "outputs": [
        {
          "data": {
            "image/png": "[encoded data removed]",
            "text/plain": [
              "<Figure size 640x480 with 1 Axes>"
            ]
          },
          "metadata": {},
          "output_type": "display_data"
        }
      ],
      "source": [
        "def plot_loss(history):\n",
        "  plt.plot(history.history['loss'], label='loss')\n",
        "  plt.plot(history.history['val_loss'], label='val_loss')\n",
        "  plt.ylim([0, 10])\n",
        "  plt.xlabel('Epoch')\n",
        "  plt.ylabel('Error [MPG]')\n",
        "  plt.legend()\n",
        "  plt.grid(True)\n",
        "  \n",
        "plot_loss(history)"
      ]
    },
    {
      "cell_type": "markdown",
      "metadata": {
        "id": "CMNrt8X2ebXd"
      },
      "source": [
        "Collect the results on the test set for later:"
      ]
    },
    {
      "cell_type": "code",
      "execution_count": 24,
      "metadata": {
        "id": "kDZ8EvNYrDtx"
      },
      "outputs": [],
      "source": [
        "test_results = {}\n",
        "\n",
        "test_results['vario_model'] = vario_model.evaluate(\n",
        "    test_features['climb_rate_m/s'],\n",
        "    test_labels, verbose=0)"
      ]
    },
    {
      "cell_type": "code",
      "execution_count": 25,
      "metadata": {
        "id": "xDS2JEtOn9Jn"
      },
      "outputs": [
        {
          "name": "stdout",
          "output_type": "stream",
          "text": [
            "\u001b[1m8/8\u001b[0m \u001b[32m━━━━━━━━━━━━━━━━━━━━\u001b[0m\u001b[37m\u001b[0m \u001b[1m0s\u001b[0m 3ms/step \n"
          ]
        }
      ],
      "source": [
        "x = tf.linspace(0.0, 250, 251)\n",
        "y = vario_model.predict(x)"
      ]
    },
    {
      "cell_type": "code",
      "execution_count": 26,
      "metadata": {
        "id": "rttFCTU8czsI"
      },
      "outputs": [
        {
          "data": {
            "image/png": "[encoded data removed]",
            "text/plain": [
              "<Figure size 640x480 with 1 Axes>"
            ]
          },
          "metadata": {},
          "output_type": "display_data"
        }
      ],
      "source": [
        "def plot_vario(x, y):\n",
        "  plt.scatter(train_features['climb_rate_m/s'], train_labels, label='Data')\n",
        "  plt.plot(x, y, color='k', label='Predictions')\n",
        "  plt.xlabel('Horsepower')\n",
        "  plt.ylabel('MPG')\n",
        "  plt.legend()\n",
        "\n",
        "plot_vario(x, y)"
      ]
    },
    {
      "cell_type": "code",
      "execution_count": 27,
      "metadata": {
        "id": "ssnVcKg7oMe6"
      },
      "outputs": [],
      "source": [
        "linear_model = tf.keras.Sequential([\n",
        "    normalizer,\n",
        "    layers.Dense(units=1)\n",
        "])"
      ]
    },
    {
      "cell_type": "code",
      "execution_count": 28,
      "metadata": {
        "id": "DynfJV18WiuT"
      },
      "outputs": [
        {
          "name": "stdout",
          "output_type": "stream",
          "text": [
            "WARNING:tensorflow:5 out of the last 11 calls to <function TensorFlowTrainer.make_predict_function.<locals>.one_step_on_data_distributed at 0x356582020> triggered tf.function retracing. Tracing is expensive and the excessive number of tracings could be due to (1) creating @tf.function repeatedly in a loop, (2) passing tensors with different shapes, (3) passing Python objects instead of tensors. For (1), please define your @tf.function outside of the loop. For (2), @tf.function has reduce_retracing=True option that can avoid unnecessary retracing. For (3), please refer to https://www.tensorflow.org/guide/function#controlling_retracing and https://www.tensorflow.org/api_docs/python/tf/function for  more details.\n",
            "\u001b[1m1/1\u001b[0m \u001b[32m━━━━━━━━━━━━━━━━━━━━\u001b[0m\u001b[37m\u001b[0m \u001b[1m0s\u001b[0m 56ms/step\n"
          ]
        },
        {
          "data": {
            "text/plain": [
              "array([[-0.079],\n",
              "       [-3.889],\n",
              "       [ 0.535],\n",
              "       [-0.103],\n",
              "       [-0.771],\n",
              "       [ 0.699],\n",
              "       [-1.824],\n",
              "       [-4.642],\n",
              "       [-0.166],\n",
              "       [-0.599]], dtype=float32)"
            ]
          },
          "execution_count": 28,
          "metadata": {},
          "output_type": "execute_result"
        }
      ],
      "source": [
        "linear_model.predict(train_features[:10])"
      ]
    },
    {
      "cell_type": "code",
      "execution_count": 29,
      "metadata": {
        "id": "DwJ4Fq0RXBQf"
      },
      "outputs": [
        {
          "data": {
            "text/plain": [
              "<Variable path=sequential_2/dense_2/kernel, shape=(15, 1), dtype=float32, value=[[-0.263]\n",
              " [ 0.544]\n",
              " [ 0.035]\n",
              " [-0.185]\n",
              " [-0.091]\n",
              " [-0.459]\n",
              " [-0.28 ]\n",
              " [ 0.522]\n",
              " [ 0.437]\n",
              " [-0.463]\n",
              " [-0.456]\n",
              " [-0.413]\n",
              " [-0.175]\n",
              " [ 0.087]\n",
              " [ 0.256]]>"
            ]
          },
          "execution_count": 29,
          "metadata": {},
          "output_type": "execute_result"
        }
      ],
      "source": [
        "linear_model.layers[1].kernel"
      ]
    },
    {
      "cell_type": "code",
      "execution_count": 30,
      "metadata": {
        "id": "A0Sv_Ybr0szp"
      },
      "outputs": [],
      "source": [
        "linear_model.compile(\n",
        "    optimizer=tf.keras.optimizers.Adam(learning_rate=0.1),\n",
        "    loss='mean_absolute_error')"
      ]
    },
    {
      "cell_type": "code",
      "execution_count": 31,
      "metadata": {
        "id": "EZoOYORvoTSe"
      },
      "outputs": [
        {
          "name": "stdout",
          "output_type": "stream",
          "text": [
            "CPU times: user 2min 8s, sys: 19.5 s, total: 2min 27s\n",
            "Wall time: 1min 43s\n"
          ]
        }
      ],
      "source": [
        "%%time\n",
        "history = linear_model.fit(\n",
        "    train_features,\n",
        "    train_labels,\n",
        "    epochs=10,\n",
        "    # Suppress logging.\n",
        "    verbose=0,\n",
        "    # Calculate validation results on 20% of the training data.\n",
        "    validation_split = 0.2)"
      ]
    },
    {
      "cell_type": "code",
      "execution_count": 46,
      "metadata": {
        "id": "4sWO3W0koYgu"
      },
      "outputs": [
        {
          "data": {
            "image/png": "[encoded data removed]",
            "text/plain": [
              "<Figure size 640x480 with 1 Axes>"
            ]
          },
          "metadata": {},
          "output_type": "display_data"
        }
      ],
      "source": [
        "plot_loss(history)"
      ]
    },
    {
      "cell_type": "code",
      "execution_count": 47,
      "metadata": {
        "id": "jNC3D1DGsGgK"
      },
      "outputs": [],
      "source": [
        "test_results['linear_model'] = linear_model.evaluate(\n",
        "    test_features, test_labels, verbose=0)"
      ]
    },
    {
      "cell_type": "code",
      "execution_count": 48,
      "metadata": {
        "id": "c26juK7ZG8j-"
      },
      "outputs": [],
      "source": [
        "def build_and_compile_model(norm):\n",
        "  model = keras.Sequential([\n",
        "      norm,\n",
        "      layers.Dense(64, activation='relu'),\n",
        "      layers.Dense(64, activation='relu'),\n",
        "      layers.Dense(1)\n",
        "  ])\n",
        "\n",
        "  model.compile(loss='mean_absolute_error',\n",
        "                optimizer=tf.keras.optimizers.Adam(0.001))\n",
        "  return model"
      ]
    },
    {
      "cell_type": "code",
      "execution_count": 49,
      "metadata": {
        "id": "cGbPb-PHGbhs"
      },
      "outputs": [],
      "source": [
        "dnn_vario_model = build_and_compile_model(vario_normalizer)"
      ]
    },
    {
      "cell_type": "code",
      "execution_count": 50,
      "metadata": {
        "id": "ReAD0n6MsFK-"
      },
      "outputs": [
        {
          "data": {
            "text/html": [
              "<pre style=\"white-space:pre;overflow-x:auto;line-height:normal;font-family:Menlo,'DejaVu Sans Mono',consolas,'Courier New',monospace\"><span style=\"font-weight: bold\">Model: \"sequential_4\"</span>\n",
              "</pre>\n"
            ],
            "text/plain": [
              "\u001b[1mModel: \"sequential_4\"\u001b[0m\n"
            ]
          },
          "metadata": {},
          "output_type": "display_data"
        },
        {
          "data": {
            "text/html": [
              "<pre style=\"white-space:pre;overflow-x:auto;line-height:normal;font-family:Menlo,'DejaVu Sans Mono',consolas,'Courier New',monospace\">┏━━━━━━━━━━━━━━━━━━━━━━━━━━━━━━━━━┳━━━━━━━━━━━━━━━━━━━━━━━━┳━━━━━━━━━━━━━━━┓\n",
              "┃<span style=\"font-weight: bold\"> Layer (type)                    </span>┃<span style=\"font-weight: bold\"> Output Shape           </span>┃<span style=\"font-weight: bold\">       Param # </span>┃\n",
              "┡━━━━━━━━━━━━━━━━━━━━━━━━━━━━━━━━━╇━━━━━━━━━━━━━━━━━━━━━━━━╇━━━━━━━━━━━━━━━┩\n",
              "│ normalization_3 (<span style=\"color: #0087ff; text-decoration-color: #0087ff\">Normalization</span>) │ (<span style=\"color: #00d7ff; text-decoration-color: #00d7ff\">None</span>, <span style=\"color: #00af00; text-decoration-color: #00af00\">1</span>)              │             <span style=\"color: #00af00; text-decoration-color: #00af00\">3</span> │\n",
              "├─────────────────────────────────┼────────────────────────┼───────────────┤\n",
              "│ dense_4 (<span style=\"color: #0087ff; text-decoration-color: #0087ff\">Dense</span>)                 │ (<span style=\"color: #00d7ff; text-decoration-color: #00d7ff\">None</span>, <span style=\"color: #00af00; text-decoration-color: #00af00\">64</span>)             │           <span style=\"color: #00af00; text-decoration-color: #00af00\">128</span> │\n",
              "├─────────────────────────────────┼────────────────────────┼───────────────┤\n",
              "│ dense_5 (<span style=\"color: #0087ff; text-decoration-color: #0087ff\">Dense</span>)                 │ (<span style=\"color: #00d7ff; text-decoration-color: #00d7ff\">None</span>, <span style=\"color: #00af00; text-decoration-color: #00af00\">64</span>)             │         <span style=\"color: #00af00; text-decoration-color: #00af00\">4,160</span> │\n",
              "├─────────────────────────────────┼────────────────────────┼───────────────┤\n",
              "│ dense_6 (<span style=\"color: #0087ff; text-decoration-color: #0087ff\">Dense</span>)                 │ (<span style=\"color: #00d7ff; text-decoration-color: #00d7ff\">None</span>, <span style=\"color: #00af00; text-decoration-color: #00af00\">1</span>)              │            <span style=\"color: #00af00; text-decoration-color: #00af00\">65</span> │\n",
              "└─────────────────────────────────┴────────────────────────┴───────────────┘\n",
              "</pre>\n"
            ],
            "text/plain": [
              "┏━━━━━━━━━━━━━━━━━━━━━━━━━━━━━━━━━┳━━━━━━━━━━━━━━━━━━━━━━━━┳━━━━━━━━━━━━━━━┓\n",
              "┃\u001b[1m \u001b[0m\u001b[1mLayer (type)                   \u001b[0m\u001b[1m \u001b[0m┃\u001b[1m \u001b[0m\u001b[1mOutput Shape          \u001b[0m\u001b[1m \u001b[0m┃\u001b[1m \u001b[0m\u001b[1m      Param #\u001b[0m\u001b[1m \u001b[0m┃\n",
              "┡━━━━━━━━━━━━━━━━━━━━━━━━━━━━━━━━━╇━━━━━━━━━━━━━━━━━━━━━━━━╇━━━━━━━━━━━━━━━┩\n",
              "│ normalization_3 (\u001b[38;5;33mNormalization\u001b[0m) │ (\u001b[38;5;45mNone\u001b[0m, \u001b[38;5;34m1\u001b[0m)              │             \u001b[38;5;34m3\u001b[0m │\n",
              "├─────────────────────────────────┼────────────────────────┼───────────────┤\n",
              "│ dense_4 (\u001b[38;5;33mDense\u001b[0m)                 │ (\u001b[38;5;45mNone\u001b[0m, \u001b[38;5;34m64\u001b[0m)             │           \u001b[38;5;34m128\u001b[0m │\n",
              "├─────────────────────────────────┼────────────────────────┼───────────────┤\n",
              "│ dense_5 (\u001b[38;5;33mDense\u001b[0m)                 │ (\u001b[38;5;45mNone\u001b[0m, \u001b[38;5;34m64\u001b[0m)             │         \u001b[38;5;34m4,160\u001b[0m │\n",
              "├─────────────────────────────────┼────────────────────────┼───────────────┤\n",
              "│ dense_6 (\u001b[38;5;33mDense\u001b[0m)                 │ (\u001b[38;5;45mNone\u001b[0m, \u001b[38;5;34m1\u001b[0m)              │            \u001b[38;5;34m65\u001b[0m │\n",
              "└─────────────────────────────────┴────────────────────────┴───────────────┘\n"
            ]
          },
          "metadata": {},
          "output_type": "display_data"
        },
        {
          "data": {
            "text/html": [
              "<pre style=\"white-space:pre;overflow-x:auto;line-height:normal;font-family:Menlo,'DejaVu Sans Mono',consolas,'Courier New',monospace\"><span style=\"font-weight: bold\"> Total params: </span><span style=\"color: #00af00; text-decoration-color: #00af00\">4,356</span> (17.02 KB)\n",
              "</pre>\n"
            ],
            "text/plain": [
              "\u001b[1m Total params: \u001b[0m\u001b[38;5;34m4,356\u001b[0m (17.02 KB)\n"
            ]
          },
          "metadata": {},
          "output_type": "display_data"
        },
        {
          "data": {
            "text/html": [
              "<pre style=\"white-space:pre;overflow-x:auto;line-height:normal;font-family:Menlo,'DejaVu Sans Mono',consolas,'Courier New',monospace\"><span style=\"font-weight: bold\"> Trainable params: </span><span style=\"color: #00af00; text-decoration-color: #00af00\">4,353</span> (17.00 KB)\n",
              "</pre>\n"
            ],
            "text/plain": [
              "\u001b[1m Trainable params: \u001b[0m\u001b[38;5;34m4,353\u001b[0m (17.00 KB)\n"
            ]
          },
          "metadata": {},
          "output_type": "display_data"
        },
        {
          "data": {
            "text/html": [
              "<pre style=\"white-space:pre;overflow-x:auto;line-height:normal;font-family:Menlo,'DejaVu Sans Mono',consolas,'Courier New',monospace\"><span style=\"font-weight: bold\"> Non-trainable params: </span><span style=\"color: #00af00; text-decoration-color: #00af00\">3</span> (16.00 B)\n",
              "</pre>\n"
            ],
            "text/plain": [
              "\u001b[1m Non-trainable params: \u001b[0m\u001b[38;5;34m3\u001b[0m (16.00 B)\n"
            ]
          },
          "metadata": {},
          "output_type": "display_data"
        }
      ],
      "source": [
        "dnn_vario_model.summary()"
      ]
    },
    {
      "cell_type": "markdown",
      "metadata": {
        "id": "0-qWCsh6DlyH"
      },
      "source": [
        "Train the model with Keras `Model.fit`:"
      ]
    },
    {
      "cell_type": "code",
      "execution_count": 52,
      "metadata": {
        "id": "sD7qHCmNIOY0"
      },
      "outputs": [
        {
          "name": "stdout",
          "output_type": "stream",
          "text": [
            "CPU times: user 17.2 s, sys: 2.32 s, total: 19.5 s\n",
            "Wall time: 13.8 s\n"
          ]
        }
      ],
      "source": [
        "%%time\n",
        "history = dnn_vario_model.fit(\n",
        "    train_features['climb_rate_m/s'],\n",
        "    train_labels,\n",
        "    validation_split=0.2,\n",
        "    verbose=0, epochs=10)"
      ]
    },
    {
      "cell_type": "markdown",
      "metadata": {
        "id": "dArGGxHxcKjN"
      },
      "source": [
        "This model does slightly better than the linear single-input `horsepower_model`:"
      ]
    },
    {
      "cell_type": "code",
      "execution_count": 53,
      "metadata": {
        "id": "NcF6UWjdCU8T"
      },
      "outputs": [
        {
          "data": {
            "image/png": "[encoded data removed]",
            "text/plain": [
              "<Figure size 640x480 with 1 Axes>"
            ]
          },
          "metadata": {},
          "output_type": "display_data"
        }
      ],
      "source": [
        "plot_loss(history)"
      ]
    },
    {
      "cell_type": "markdown",
      "metadata": {
        "id": "TG1snlpR2QCK"
      },
      "source": [
        "If you plot the predictions as a function of `'Horsepower'`, you should notice how this model takes advantage of the nonlinearity provided by the hidden layers:"
      ]
    },
    {
      "cell_type": "code",
      "execution_count": 54,
      "metadata": {
        "id": "hPF53Rem14NS"
      },
      "outputs": [
        {
          "name": "stdout",
          "output_type": "stream",
          "text": [
            "\u001b[1m8/8\u001b[0m \u001b[32m━━━━━━━━━━━━━━━━━━━━\u001b[0m\u001b[37m\u001b[0m \u001b[1m0s\u001b[0m 3ms/step \n"
          ]
        }
      ],
      "source": [
        "x = tf.linspace(0.0, 250, 251)\n",
        "y = dnn_vario_model.predict(x)"
      ]
    },
    {
      "cell_type": "code",
      "execution_count": 55,
      "metadata": {
        "id": "rsf9rD8I17Wq"
      },
      "outputs": [
        {
          "data": {
            "image/png": "[encoded data removed]",
            "text/plain": [
              "<Figure size 640x480 with 1 Axes>"
            ]
          },
          "metadata": {},
          "output_type": "display_data"
        }
      ],
      "source": [
        "plot_vario(x, y)"
      ]
    },
    {
      "cell_type": "markdown",
      "metadata": {
        "id": "WxCJKIUpe4io"
      },
      "source": [
        "Collect the results on the test set for later:"
      ]
    },
    {
      "cell_type": "code",
      "execution_count": 57,
      "metadata": {
        "id": "bJjM0dU52XtN"
      },
      "outputs": [],
      "source": [
        "test_results['dnn_vario_model'] = dnn_vario_model.evaluate(\n",
        "    test_features['climb_rate_m/s'], test_labels,\n",
        "    verbose=0)"
      ]
    },
    {
      "cell_type": "code",
      "execution_count": 58,
      "metadata": {
        "id": "c0mhscXh2k36"
      },
      "outputs": [
        {
          "data": {
            "text/html": [
              "<pre style=\"white-space:pre;overflow-x:auto;line-height:normal;font-family:Menlo,'DejaVu Sans Mono',consolas,'Courier New',monospace\"><span style=\"font-weight: bold\">Model: \"sequential_5\"</span>\n",
              "</pre>\n"
            ],
            "text/plain": [
              "\u001b[1mModel: \"sequential_5\"\u001b[0m\n"
            ]
          },
          "metadata": {},
          "output_type": "display_data"
        },
        {
          "data": {
            "text/html": [
              "<pre style=\"white-space:pre;overflow-x:auto;line-height:normal;font-family:Menlo,'DejaVu Sans Mono',consolas,'Courier New',monospace\">┏━━━━━━━━━━━━━━━━━━━━━━━━━━━━━━━━━┳━━━━━━━━━━━━━━━━━━━━━━━━┳━━━━━━━━━━━━━━━┓\n",
              "┃<span style=\"font-weight: bold\"> Layer (type)                    </span>┃<span style=\"font-weight: bold\"> Output Shape           </span>┃<span style=\"font-weight: bold\">       Param # </span>┃\n",
              "┡━━━━━━━━━━━━━━━━━━━━━━━━━━━━━━━━━╇━━━━━━━━━━━━━━━━━━━━━━━━╇━━━━━━━━━━━━━━━┩\n",
              "│ normalization_2 (<span style=\"color: #0087ff; text-decoration-color: #0087ff\">Normalization</span>) │ (<span style=\"color: #00af00; text-decoration-color: #00af00\">10</span>, <span style=\"color: #00af00; text-decoration-color: #00af00\">15</span>)               │            <span style=\"color: #00af00; text-decoration-color: #00af00\">31</span> │\n",
              "├─────────────────────────────────┼────────────────────────┼───────────────┤\n",
              "│ dense_7 (<span style=\"color: #0087ff; text-decoration-color: #0087ff\">Dense</span>)                 │ ?                      │   <span style=\"color: #00af00; text-decoration-color: #00af00\">0</span> (unbuilt) │\n",
              "├─────────────────────────────────┼────────────────────────┼───────────────┤\n",
              "│ dense_8 (<span style=\"color: #0087ff; text-decoration-color: #0087ff\">Dense</span>)                 │ ?                      │   <span style=\"color: #00af00; text-decoration-color: #00af00\">0</span> (unbuilt) │\n",
              "├─────────────────────────────────┼────────────────────────┼───────────────┤\n",
              "│ dense_9 (<span style=\"color: #0087ff; text-decoration-color: #0087ff\">Dense</span>)                 │ ?                      │   <span style=\"color: #00af00; text-decoration-color: #00af00\">0</span> (unbuilt) │\n",
              "└─────────────────────────────────┴────────────────────────┴───────────────┘\n",
              "</pre>\n"
            ],
            "text/plain": [
              "┏━━━━━━━━━━━━━━━━━━━━━━━━━━━━━━━━━┳━━━━━━━━━━━━━━━━━━━━━━━━┳━━━━━━━━━━━━━━━┓\n",
              "┃\u001b[1m \u001b[0m\u001b[1mLayer (type)                   \u001b[0m\u001b[1m \u001b[0m┃\u001b[1m \u001b[0m\u001b[1mOutput Shape          \u001b[0m\u001b[1m \u001b[0m┃\u001b[1m \u001b[0m\u001b[1m      Param #\u001b[0m\u001b[1m \u001b[0m┃\n",
              "┡━━━━━━━━━━━━━━━━━━━━━━━━━━━━━━━━━╇━━━━━━━━━━━━━━━━━━━━━━━━╇━━━━━━━━━━━━━━━┩\n",
              "│ normalization_2 (\u001b[38;5;33mNormalization\u001b[0m) │ (\u001b[38;5;34m10\u001b[0m, \u001b[38;5;34m15\u001b[0m)               │            \u001b[38;5;34m31\u001b[0m │\n",
              "├─────────────────────────────────┼────────────────────────┼───────────────┤\n",
              "│ dense_7 (\u001b[38;5;33mDense\u001b[0m)                 │ ?                      │   \u001b[38;5;34m0\u001b[0m (unbuilt) │\n",
              "├─────────────────────────────────┼────────────────────────┼───────────────┤\n",
              "│ dense_8 (\u001b[38;5;33mDense\u001b[0m)                 │ ?                      │   \u001b[38;5;34m0\u001b[0m (unbuilt) │\n",
              "├─────────────────────────────────┼────────────────────────┼───────────────┤\n",
              "│ dense_9 (\u001b[38;5;33mDense\u001b[0m)                 │ ?                      │   \u001b[38;5;34m0\u001b[0m (unbuilt) │\n",
              "└─────────────────────────────────┴────────────────────────┴───────────────┘\n"
            ]
          },
          "metadata": {},
          "output_type": "display_data"
        },
        {
          "data": {
            "text/html": [
              "<pre style=\"white-space:pre;overflow-x:auto;line-height:normal;font-family:Menlo,'DejaVu Sans Mono',consolas,'Courier New',monospace\"><span style=\"font-weight: bold\"> Total params: </span><span style=\"color: #00af00; text-decoration-color: #00af00\">31</span> (128.00 B)\n",
              "</pre>\n"
            ],
            "text/plain": [
              "\u001b[1m Total params: \u001b[0m\u001b[38;5;34m31\u001b[0m (128.00 B)\n"
            ]
          },
          "metadata": {},
          "output_type": "display_data"
        },
        {
          "data": {
            "text/html": [
              "<pre style=\"white-space:pre;overflow-x:auto;line-height:normal;font-family:Menlo,'DejaVu Sans Mono',consolas,'Courier New',monospace\"><span style=\"font-weight: bold\"> Trainable params: </span><span style=\"color: #00af00; text-decoration-color: #00af00\">0</span> (0.00 B)\n",
              "</pre>\n"
            ],
            "text/plain": [
              "\u001b[1m Trainable params: \u001b[0m\u001b[38;5;34m0\u001b[0m (0.00 B)\n"
            ]
          },
          "metadata": {},
          "output_type": "display_data"
        },
        {
          "data": {
            "text/html": [
              "<pre style=\"white-space:pre;overflow-x:auto;line-height:normal;font-family:Menlo,'DejaVu Sans Mono',consolas,'Courier New',monospace\"><span style=\"font-weight: bold\"> Non-trainable params: </span><span style=\"color: #00af00; text-decoration-color: #00af00\">31</span> (128.00 B)\n",
              "</pre>\n"
            ],
            "text/plain": [
              "\u001b[1m Non-trainable params: \u001b[0m\u001b[38;5;34m31\u001b[0m (128.00 B)\n"
            ]
          },
          "metadata": {},
          "output_type": "display_data"
        }
      ],
      "source": [
        "dnn_model = build_and_compile_model(normalizer)\n",
        "dnn_model.summary()"
      ]
    },
    {
      "cell_type": "code",
      "execution_count": 59,
      "metadata": {
        "id": "CXDENACl2tuW"
      },
      "outputs": [
        {
          "name": "stdout",
          "output_type": "stream",
          "text": [
            "CPU times: user 17.6 s, sys: 2.38 s, total: 20 s\n",
            "Wall time: 14.4 s\n"
          ]
        }
      ],
      "source": [
        "%%time\n",
        "history = dnn_model.fit(\n",
        "    train_features,\n",
        "    train_labels,\n",
        "    validation_split=0.2,\n",
        "    verbose=0, epochs=10)"
      ]
    },
    {
      "cell_type": "code",
      "execution_count": 60,
      "metadata": {
        "id": "-9Dbj0fX23RQ"
      },
      "outputs": [
        {
          "data": {
            "image/png": "[encoded data removed]",
            "text/plain": [
              "<Figure size 640x480 with 1 Axes>"
            ]
          },
          "metadata": {},
          "output_type": "display_data"
        }
      ],
      "source": [
        "plot_loss(history)"
      ]
    },
    {
      "cell_type": "code",
      "execution_count": 61,
      "metadata": {
        "id": "-bZIa96W3c7K"
      },
      "outputs": [],
      "source": [
        "test_results['dnn_model'] = dnn_model.evaluate(test_features, test_labels, verbose=0)"
      ]
    },
    {
      "cell_type": "code",
      "execution_count": 62,
      "metadata": {
        "id": "e5_ooufM5iH2"
      },
      "outputs": [
        {
          "data": {
            "application/vnd.microsoft.datawrangler.viewer.v0+json": {
              "columns": [
                {
                  "name": "index",
                  "rawType": "object",
                  "type": "string"
                },
                {
                  "name": "Mean absolute error [MPG]",
                  "rawType": "float64",
                  "type": "float"
                }
              ],
              "conversionMethod": "pd.DataFrame",
              "ref": "229b627d-5bf8-440c-9f43-9e2a7b5b476d",
              "rows": [
                [
                  "vario_model",
                  "0.28404390811920166"
                ],
                [
                  "linear_model",
                  "0.32700130343437195"
                ],
                [
                  "dnn_vario_model",
                  "0.13452650606632233"
                ],
                [
                  "dnn_model",
                  "0.002509101526811719"
                ]
              ],
              "shape": {
                "columns": 1,
                "rows": 4
              }
            },
            "text/html": [
              "<div>\n",
              "<style scoped>\n",
              "    .dataframe tbody tr th:only-of-type {\n",
              "        vertical-align: middle;\n",
              "    }\n",
              "\n",
              "    .dataframe tbody tr th {\n",
              "        vertical-align: top;\n",
              "    }\n",
              "\n",
              "    .dataframe thead th {\n",
              "        text-align: right;\n",
              "    }\n",
              "</style>\n",
              "<table border=\"1\" class=\"dataframe\">\n",
              "  <thead>\n",
              "    <tr style=\"text-align: right;\">\n",
              "      <th></th>\n",
              "      <th>Mean absolute error [MPG]</th>\n",
              "    </tr>\n",
              "  </thead>\n",
              "  <tbody>\n",
              "    <tr>\n",
              "      <th>vario_model</th>\n",
              "      <td>0.284044</td>\n",
              "    </tr>\n",
              "    <tr>\n",
              "      <th>linear_model</th>\n",
              "      <td>0.327001</td>\n",
              "    </tr>\n",
              "    <tr>\n",
              "      <th>dnn_vario_model</th>\n",
              "      <td>0.134527</td>\n",
              "    </tr>\n",
              "    <tr>\n",
              "      <th>dnn_model</th>\n",
              "      <td>0.002509</td>\n",
              "    </tr>\n",
              "  </tbody>\n",
              "</table>\n",
              "</div>"
            ],
            "text/plain": [
              "                 Mean absolute error [MPG]\n",
              "vario_model                       0.284044\n",
              "linear_model                      0.327001\n",
              "dnn_vario_model                   0.134527\n",
              "dnn_model                         0.002509"
            ]
          },
          "execution_count": 62,
          "metadata": {},
          "output_type": "execute_result"
        }
      ],
      "source": [
        "pd.DataFrame(test_results, index=['Mean absolute error [MPG]']).T"
      ]
    },
    {
      "cell_type": "code",
      "execution_count": 63,
      "metadata": {
        "id": "Xe7RXH3N3CWU"
      },
      "outputs": [
        {
          "name": "stdout",
          "output_type": "stream",
          "text": [
            "\u001b[1m1088/1088\u001b[0m \u001b[32m━━━━━━━━━━━━━━━━━━━━\u001b[0m\u001b[37m\u001b[0m \u001b[1m0s\u001b[0m 224us/step\n"
          ]
        },
        {
          "data": {
            "image/png": "[encoded data removed]",
            "text/plain": [
              "<Figure size 640x480 with 1 Axes>"
            ]
          },
          "metadata": {},
          "output_type": "display_data"
        }
      ],
      "source": [
        "test_predictions = dnn_model.predict(test_features).flatten()\n",
        "\n",
        "a = plt.axes(aspect='equal')\n",
        "plt.scatter(test_labels, test_predictions)\n",
        "plt.xlabel('True Values [MPG]')\n",
        "plt.ylabel('Predictions [MPG]')\n",
        "lims = [0, 50]\n",
        "plt.xlim(lims)\n",
        "plt.ylim(lims)\n",
        "_ = plt.plot(lims, lims)\n"
      ]
    },
    {
      "cell_type": "markdown",
      "metadata": {
        "id": "19wyogbOSU5t"
      },
      "source": [
        "It appears that the model predicts reasonably well.\n",
        "\n",
        "Now, check the error distribution:"
      ]
    },
    {
      "cell_type": "code",
      "execution_count": 64,
      "metadata": {
        "id": "f-OHX4DiXd8x"
      },
      "outputs": [
        {
          "data": {
            "image/png": "[encoded data removed]",
            "text/plain": [
              "<Figure size 640x480 with 1 Axes>"
            ]
          },
          "metadata": {},
          "output_type": "display_data"
        }
      ],
      "source": [
        "error = test_predictions - test_labels\n",
        "plt.hist(error, bins=25)\n",
        "plt.xlabel('Prediction Error [MPG]')\n",
        "_ = plt.ylabel('Count')"
      ]
    },
    {
      "cell_type": "markdown",
      "metadata": {
        "id": "KSyaHUfDT-mZ"
      },
      "source": [
        "If you're happy with the model, save it for later use with `Model.save`:"
      ]
    },
    {
      "cell_type": "code",
      "execution_count": 65,
      "metadata": {
        "id": "4-WwLlmfT-mb"
      },
      "outputs": [],
      "source": [
        "dnn_model.save('dnn_model.keras')"
      ]
    },
    {
      "cell_type": "code",
      "execution_count": 66,
      "metadata": {
        "id": "dyyyj2zVT-mf"
      },
      "outputs": [],
      "source": [
        "reloaded = tf.keras.models.load_model('dnn_model.keras')\n",
        "\n",
        "test_results['reloaded'] = reloaded.evaluate(\n",
        "    test_features, test_labels, verbose=0)"
      ]
    },
    {
      "cell_type": "code",
      "execution_count": 67,
      "metadata": {
        "id": "f_GchJ2tg-2o"
      },
      "outputs": [
        {
          "data": {
            "application/vnd.microsoft.datawrangler.viewer.v0+json": {
              "columns": [
                {
                  "name": "index",
                  "rawType": "object",
                  "type": "string"
                },
                {
                  "name": "Mean absolute error [MPG]",
                  "rawType": "float64",
                  "type": "float"
                }
              ],
              "conversionMethod": "pd.DataFrame",
              "ref": "e8f114f9-eec1-4e14-b1ed-a370ffa2b109",
              "rows": [
                [
                  "vario_model",
                  "0.28404390811920166"
                ],
                [
                  "linear_model",
                  "0.32700130343437195"
                ],
                [
                  "dnn_vario_model",
                  "0.13452650606632233"
                ],
                [
                  "dnn_model",
                  "0.002509101526811719"
                ],
                [
                  "reloaded",
                  "0.002509101526811719"
                ]
              ],
              "shape": {
                "columns": 1,
                "rows": 5
              }
            },
            "text/html": [
              "<div>\n",
              "<style scoped>\n",
              "    .dataframe tbody tr th:only-of-type {\n",
              "        vertical-align: middle;\n",
              "    }\n",
              "\n",
              "    .dataframe tbody tr th {\n",
              "        vertical-align: top;\n",
              "    }\n",
              "\n",
              "    .dataframe thead th {\n",
              "        text-align: right;\n",
              "    }\n",
              "</style>\n",
              "<table border=\"1\" class=\"dataframe\">\n",
              "  <thead>\n",
              "    <tr style=\"text-align: right;\">\n",
              "      <th></th>\n",
              "      <th>Mean absolute error [MPG]</th>\n",
              "    </tr>\n",
              "  </thead>\n",
              "  <tbody>\n",
              "    <tr>\n",
              "      <th>vario_model</th>\n",
              "      <td>0.284044</td>\n",
              "    </tr>\n",
              "    <tr>\n",
              "      <th>linear_model</th>\n",
              "      <td>0.327001</td>\n",
              "    </tr>\n",
              "    <tr>\n",
              "      <th>dnn_vario_model</th>\n",
              "      <td>0.134527</td>\n",
              "    </tr>\n",
              "    <tr>\n",
              "      <th>dnn_model</th>\n",
              "      <td>0.002509</td>\n",
              "    </tr>\n",
              "    <tr>\n",
              "      <th>reloaded</th>\n",
              "      <td>0.002509</td>\n",
              "    </tr>\n",
              "  </tbody>\n",
              "</table>\n",
              "</div>"
            ],
            "text/plain": [
              "                 Mean absolute error [MPG]\n",
              "vario_model                       0.284044\n",
              "linear_model                      0.327001\n",
              "dnn_vario_model                   0.134527\n",
              "dnn_model                         0.002509\n",
              "reloaded                          0.002509"
            ]
          },
          "execution_count": 67,
          "metadata": {},
          "output_type": "execute_result"
        }
      ],
      "source": [
        "pd.DataFrame(test_results, index=['Mean absolute error [MPG]']).T"
      ]
    }
  ],
  "metadata": {
    "colab": {
      "collapsed_sections": [],
      "name": "regression.ipynb",
      "toc_visible": true
    },
    "kernelspec": {
      "display_name": ".venv",
      "language": "python",
      "name": "python3"
    },
    "language_info": {
      "codemirror_mode": {
        "name": "ipython",
        "version": 3
      },
      "file_extension": ".py",
      "mimetype": "text/x-python",
      "name": "python",
      "nbconvert_exporter": "python",
      "pygments_lexer": "ipython3",
      "version": "3.11.3"
    }
  },
  "nbformat": 4,
  "nbformat_minor": 0
}
