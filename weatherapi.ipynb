{
 "cells": [
  {
   "cell_type": "code",
   "execution_count": null,
   "metadata": {},
   "outputs": [],
   "source": [
    "\n",
    "# https://api.openweathermap.org/data/3.0/onecall/timemachine?lat=40.031417&lon=32.328500&dt=1586468027&appid=6ae29fbef2ea44ba3b7994e0fa77e51e"
   ]
  }
 ],
 "metadata": {
  "language_info": {
   "name": "python"
  }
 },
 "nbformat": 4,
 "nbformat_minor": 2
}
